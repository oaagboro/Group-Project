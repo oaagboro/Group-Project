{
 "cells": [
  {
   "cell_type": "code",
   "execution_count": 1,
   "metadata": {},
   "outputs": [],
   "source": [
    "import numpy as np\n",
    "import matplotlib.pyplot as plt\n",
    "import pandas as pd"
   ]
  },
  {
   "cell_type": "code",
   "execution_count": 207,
   "metadata": {},
   "outputs": [],
   "source": [
    "df = pd.read_csv('./data/latimes-place-totals.csv')"
   ]
  },
  {
   "cell_type": "code",
   "execution_count": 88,
   "metadata": {},
   "outputs": [
    {
     "name": "stdout",
     "output_type": "stream",
     "text": [
      "<class 'pandas.core.frame.DataFrame'>\n",
      "RangeIndex: 167270 entries, 0 to 167269\n",
      "Data columns (total 8 columns):\n",
      " #   Column           Non-Null Count   Dtype  \n",
      "---  ------           --------------   -----  \n",
      " 0   date             167270 non-null  object \n",
      " 1   county           167270 non-null  object \n",
      " 2   fips             165673 non-null  float64\n",
      " 3   place            167270 non-null  object \n",
      " 4   confirmed_cases  167270 non-null  int64  \n",
      " 5   note             5176 non-null    object \n",
      " 6   x                164796 non-null  float64\n",
      " 7   y                164796 non-null  float64\n",
      "dtypes: float64(3), int64(1), object(4)\n",
      "memory usage: 10.2+ MB\n"
     ]
    }
   ],
   "source": [
    "df.info()"
   ]
  },
  {
   "cell_type": "code",
   "execution_count": 87,
   "metadata": {},
   "outputs": [
    {
     "data": {
      "text/plain": [
       "x    2474\n",
       "y    2474\n",
       "dtype: int64"
      ]
     },
     "execution_count": 87,
     "metadata": {},
     "output_type": "execute_result"
    }
   ],
   "source": [
    "df[['x', 'y']].isna().sum()"
   ]
  },
  {
   "cell_type": "code",
   "execution_count": 90,
   "metadata": {},
   "outputs": [
    {
     "data": {
      "text/plain": [
       "x    0\n",
       "y    0\n",
       "dtype: int64"
      ]
     },
     "execution_count": 90,
     "metadata": {},
     "output_type": "execute_result"
    }
   ],
   "source": [
    "# drop these\n",
    "df = df.dropna(subset = ['x', 'y'])\n",
    "df[['x', 'y']].isna().sum()"
   ]
  },
  {
   "cell_type": "code",
   "execution_count": 144,
   "metadata": {},
   "outputs": [
    {
     "data": {
      "text/html": [
       "<div>\n",
       "<style scoped>\n",
       "    .dataframe tbody tr th:only-of-type {\n",
       "        vertical-align: middle;\n",
       "    }\n",
       "\n",
       "    .dataframe tbody tr th {\n",
       "        vertical-align: top;\n",
       "    }\n",
       "\n",
       "    .dataframe thead th {\n",
       "        text-align: right;\n",
       "    }\n",
       "</style>\n",
       "<table border=\"1\" class=\"dataframe\">\n",
       "  <thead>\n",
       "    <tr style=\"text-align: right;\">\n",
       "      <th></th>\n",
       "      <th>x</th>\n",
       "      <th>y</th>\n",
       "    </tr>\n",
       "  </thead>\n",
       "  <tbody>\n",
       "    <tr>\n",
       "      <th>0</th>\n",
       "      <td>-122.274444</td>\n",
       "      <td>37.756111</td>\n",
       "    </tr>\n",
       "    <tr>\n",
       "      <th>1</th>\n",
       "      <td>-122.297778</td>\n",
       "      <td>37.886944</td>\n",
       "    </tr>\n",
       "    <tr>\n",
       "      <th>2</th>\n",
       "      <td>-122.272778</td>\n",
       "      <td>37.871667</td>\n",
       "    </tr>\n",
       "    <tr>\n",
       "      <th>3</th>\n",
       "      <td>-121.935833</td>\n",
       "      <td>37.702222</td>\n",
       "    </tr>\n",
       "    <tr>\n",
       "      <th>4</th>\n",
       "      <td>-122.285278</td>\n",
       "      <td>37.831389</td>\n",
       "    </tr>\n",
       "  </tbody>\n",
       "</table>\n",
       "</div>"
      ],
      "text/plain": [
       "            x          y\n",
       "0 -122.274444  37.756111\n",
       "1 -122.297778  37.886944\n",
       "2 -122.272778  37.871667\n",
       "3 -121.935833  37.702222\n",
       "4 -122.285278  37.831389"
      ]
     },
     "execution_count": 144,
     "metadata": {},
     "output_type": "execute_result"
    }
   ],
   "source": [
    "df_x_y"
   ]
  },
  {
   "cell_type": "code",
   "execution_count": 145,
   "metadata": {},
   "outputs": [
    {
     "data": {
      "text/plain": [
       "<matplotlib.collections.PathCollection at 0x7fa4271f1310>"
      ]
     },
     "execution_count": 145,
     "metadata": {},
     "output_type": "execute_result"
    },
    {
     "data": {
      "image/png": "[encoded data removed]",
      "text/plain": [
       "<Figure size 432x432 with 1 Axes>"
      ]
     },
     "metadata": {
      "needs_background": "light"
     },
     "output_type": "display_data"
    }
   ],
   "source": [
    "df_x_y = df[['x', 'y']][:10]\n",
    "plt.figure(figsize=(6, 6));\n",
    "plt.scatter(df_x_y['x'], df_x_y['y'], c = df_x_y.index)"
   ]
  },
  {
   "cell_type": "markdown",
   "metadata": {},
   "source": [
    "### Is the target point within range?\n",
    "- The 'range' is whatever is in the ellipse shown below, with the major axis representing the distance from your start and ending points\n",
    "<center>\n",
    " <img src=\"./pics/Ellipse.png\" alt=\"drawing\" width=\"400\"/>\n",
    "</center>\n",
    "- In this ellipse, the perimeter represents the points at which your path has the same length.\n",
    "<center>\n",
    " <img src=\"./pics/p1_ellipse.png\" alt=\"drawing\" width=\"400\"/>\n",
    " <img src=\"./pics/p2_ellipse.png\" alt=\"drawing\" width=\"400\"/>\n",
    "</center>"
   ]
  },
  {
   "cell_type": "code",
   "execution_count": 40,
   "metadata": {},
   "outputs": [],
   "source": [
    "# given starting point, ending point, and target point\n",
    "start_coords = (1, 5)\n",
    "end_coords = (4, 2)\n",
    "target_point = (1, 3)\n",
    "max_length = 1.25"
   ]
  },
  {
   "cell_type": "markdown",
   "metadata": {},
   "source": [
    "# NEED TO ROTATE THIS ELLIPSE\n",
    "- where (xp, yp) are the point coordinates and (x0, y0) is the center of the ellipse\n",
    "- where a is the minor axis and b is the major axis"
   ]
  },
  {
   "cell_type": "markdown",
   "metadata": {},
   "source": [
    "<center>\n",
    " <img src=\"./pics/ellipse_eq.png\" alt=\"drawing\" width=\"800\"/>\n",
    "</center>"
   ]
  },
  {
   "cell_type": "code",
   "execution_count": 233,
   "metadata": {},
   "outputs": [],
   "source": [
    "def in_ellipse(start, end, target, max_distance_increase):\n",
    "    \n",
    "    x_target = target[0]\n",
    "    y_target = target[1]\n",
    "    \n",
    "    # midpoint on the line connecting the start and stop\n",
    "    x_midpoint = (start[0] + end[0]) / 2\n",
    "    y_midpoint = (start[1] + end[1]) / 2\n",
    "    midpoint = (x_midpoint, y_midpoint)\n",
    "    \n",
    "    #change in x and y for the stop and start coords\n",
    "    delta_x = end[0] - start[0]\n",
    "    delta_y = end[1] - start[1]\n",
    "\n",
    "    #distance between start and stop\n",
    "    d = np.sqrt((delta_x)**2 + (delta_y)**2)\n",
    "    \n",
    "    #major and minor axis based on distance between two points and the max distance increase\n",
    "    major_axis = d\n",
    "    minor_axis = d * np.sqrt(max_distance_increase**2 - 1)\n",
    "\n",
    "    #for the ellipse, we need the angle of the line (the line connecting start and stop points) and the x axis\n",
    "    line_angle_radians = np.arctan(delta_y / delta_x)\n",
    "    line_angle = np.degrees(line_angle_radians)\n",
    "    \n",
    "    #now for the ellipse equation:\n",
    "    alpha = line_angle_radians\n",
    "    #component 1:\n",
    "    component_1 = ((np.cos(line_angle) * (x_target - x_midpoint)) + (np.sin(line_angle) * (y_target - y_midpoint)))**2 / (minor_axis ** 2)\n",
    "    #component 2:\n",
    "    component_2 = ((np.sin(line_angle) * (x_target - x_midpoint)) - (np.cos(line_angle) * (y_target - y_midpoint)))**2 / (major_axis ** 2)\n",
    "    \n",
    "    ellipse_eq = component_1 + component_2\n",
    "    \n",
    "    if ellipse_eq <= 1:\n",
    "        return True\n",
    "    else:\n",
    "        return False"
   ]
  },
  {
   "cell_type": "code",
   "execution_count": 188,
   "metadata": {},
   "outputs": [],
   "source": [
    "def in_ellipse_2(start, end, target, max_distance_increase):\n",
    "    # create x and y designations\n",
    "    x1 = start[0]\n",
    "    y1 = start[1]\n",
    "    x2 = end[0]\n",
    "    y2 = end[1]\n",
    "    x_target = target[0]\n",
    "    y_target = target[1]\n",
    "\n",
    "    # how long is this trip with no stops? (length of line)\n",
    "    d = np.sqrt((x1 - x2)**2 + (y1 - y2)**2)\n",
    "\n",
    "    # what is the midpoint between start and end points?\n",
    "    x_midpoint = (x1 + x2) / 2\n",
    "    y_midpoint = (y1 + y2) / 2\n",
    "    m = (x_midpoint, y_midpoint)\n",
    "\n",
    "    # how much longer are you willing to increase your trip?\n",
    "    max_d = max_distance_increase * d\n",
    "    \n",
    "    # ellipse equation components:\n",
    "    semi_major_axis = d/2\n",
    "    semi_minor_axis = (d * np.sqrt(max_distance_increase**2 - 1))/2\n",
    "    \n",
    "    component_1 = (x_target - x_midpoint)**2 / semi_major_axis**2\n",
    "    component_2 = (y_target - y_midpoint)**2 / semi_minor_axis**2\n",
    "    \n",
    "    # is the target point in this ellipse region?\n",
    "    region_eq = component_1 + component_2\n",
    "    \n",
    "    if region_eq <= 1:\n",
    "        return True\n",
    "    else:\n",
    "        return False"
   ]
  },
  {
   "cell_type": "code",
   "execution_count": 191,
   "metadata": {},
   "outputs": [
    {
     "data": {
      "text/plain": [
       "True"
      ]
     },
     "execution_count": 191,
     "metadata": {},
     "output_type": "execute_result"
    }
   ],
   "source": [
    "in_ellipse(start = start_coords, end = end_coords, target = target_point, max_distance_increase = max_length)"
   ]
  },
  {
   "cell_type": "code",
   "execution_count": 192,
   "metadata": {},
   "outputs": [],
   "source": [
    "# If it's in the ellipse, how long is your journey?\n",
    "def trip_length(start, end, target):\n",
    "    # create x and y designations\n",
    "    x1 = start[0]\n",
    "    y1 = start[1]\n",
    "    x2 = end[0]\n",
    "    y2 = end[1]\n",
    "    x_target = target[0]\n",
    "    y_target = target[1]\n",
    "    \n",
    "    # distance from start to target\n",
    "    start_target = np.sqrt((x1 - x_target)**2 + (y1 - y_target)**2)\n",
    "    \n",
    "    #distance from target to end\n",
    "    target_end = np.sqrt((x2 - x_target)**2 + (y2 - y_target)**2)\n",
    "    \n",
    "    return start_target + target_end"
   ]
  },
  {
   "cell_type": "code",
   "execution_count": 193,
   "metadata": {},
   "outputs": [
    {
     "data": {
      "text/plain": [
       "5.16227766016838"
      ]
     },
     "execution_count": 193,
     "metadata": {},
     "output_type": "execute_result"
    }
   ],
   "source": [
    "trip_length(start = start_coords, end = end_coords, target = target_point)"
   ]
  },
  {
   "cell_type": "code",
   "execution_count": 194,
   "metadata": {},
   "outputs": [],
   "source": [
    "# What's the ratio of your new journey vs if you hadn't stopped at all?\n",
    "def trip_ratio(start, end, target):\n",
    "    # distance without stop\n",
    "    d = np.sqrt((x1 - x2)**2 + (y1 - y2)**2)\n",
    "    \n",
    "    #distance with stop\n",
    "    new_journey = trip_length(start, end, target)\n",
    "    \n",
    "    return new_journey / d"
   ]
  },
  {
   "cell_type": "code",
   "execution_count": 195,
   "metadata": {},
   "outputs": [
    {
     "data": {
      "text/plain": [
       "1.2167605132909618"
      ]
     },
     "execution_count": 195,
     "metadata": {},
     "output_type": "execute_result"
    }
   ],
   "source": [
    "trip_ratio(start = start_coords, end = end_coords, target = target_point)"
   ]
  },
  {
   "cell_type": "markdown",
   "metadata": {},
   "source": [
    "### Try with list of coordinates"
   ]
  },
  {
   "cell_type": "code",
   "execution_count": 196,
   "metadata": {},
   "outputs": [
    {
     "name": "stdout",
     "output_type": "stream",
     "text": [
      "[(1, 1), (2, 2), (3, 3)]\n"
     ]
    }
   ],
   "source": [
    "x_list = [1, 2, 3]\n",
    "y_list = [1, 2, 3]\n",
    "\n",
    "coordinate_list = []\n",
    "for x in range(len(x_list)):\n",
    "    a, b = x_list[x], y_list[x]\n",
    "    coordinate_list.append((a, b))\n",
    "    \n",
    "print(coordinate_list)"
   ]
  },
  {
   "cell_type": "code",
   "execution_count": 197,
   "metadata": {},
   "outputs": [
    {
     "name": "stdout",
     "output_type": "stream",
     "text": [
      "1.6881650340819936\n",
      "1.2167605132909618\n",
      "1.0000000000000002\n"
     ]
    }
   ],
   "source": [
    "for x in coordinate_list:\n",
    "    if in_ellipse(start = start_coords, end = end_coords, target = x, max_distance_increase = 1.25) == True:\n",
    "        print(trip_ratio(start = start_coords, end = end_coords, target = x))\n",
    "    else:\n",
    "        print('not in range')"
   ]
  },
  {
   "cell_type": "markdown",
   "metadata": {},
   "source": [
    "### Visualize this example"
   ]
  },
  {
   "cell_type": "code",
   "execution_count": 198,
   "metadata": {},
   "outputs": [
    {
     "name": "stdout",
     "output_type": "stream",
     "text": [
      "(1, 5) (4, 2)\n"
     ]
    }
   ],
   "source": [
    "print((start_coords), (end_coords))"
   ]
  },
  {
   "cell_type": "code",
   "execution_count": 199,
   "metadata": {},
   "outputs": [
    {
     "data": {
      "image/png": "[encoded data removed]",
      "text/plain": [
       "<Figure size 432x288 with 1 Axes>"
      ]
     },
     "metadata": {
      "needs_background": "light"
     },
     "output_type": "display_data"
    },
    {
     "data": {
      "text/plain": [
       "-45.0"
      ]
     },
     "execution_count": 199,
     "metadata": {},
     "output_type": "execute_result"
    }
   ],
   "source": [
    "def start_end_line(start, end):\n",
    "    slope = (start[1] - end[1]) / (start[0] - end[0])\n",
    "    b = start[1] - (slope * start[0])\n",
    "    \n",
    "    x = np.linspace(start[0], end[0])\n",
    "    y = slope * x + b\n",
    "    return (x, y)\n",
    "\n",
    "start_end_line(start_coords, end_coords)\n",
    "\n",
    "plt.plot(start_end_line(start_coords, end_coords)[0], start_end_line(start_coords, end_coords)[1], '-r')\n",
    "plt.title('Example')\n",
    "\n",
    "x_midpoint = (start_coords[0] + end_coords[0]) / 2\n",
    "y_midpoint = (start_coords[1] + end_coords[1]) / 2\n",
    "midpoint = (x_midpoint, y_midpoint)\n",
    "midpoint\n",
    "\n",
    "delta_x = end_coords[0] - start_coords[0]\n",
    "delta_y = end_coords[1] - start_coords[1]\n",
    "\n",
    "d = np.sqrt((delta_x)**2 + (delta_y)**2)\n",
    "\n",
    "max_distance_increase = 1.15\n",
    "h = semi_minor_axis = d * np.sqrt(max_distance_increase**2 - 1)\n",
    "\n",
    "line_angle = np.degrees(np.arctan(delta_y / delta_x))\n",
    "\n",
    "# Now for the ellipse plot\n",
    "# https://nickcharlton.net/posts/drawing-animating-shapes-matplotlib.html\n",
    "ellipse = Ellipse(xy = midpoint, width = d, height = h, angle = line_angle, alpha = .1)\n",
    "plt.gca().add_patch(ellipse)\n",
    "\n",
    "plt.axis('scaled')\n",
    "plt.show()\n",
    "\n",
    "line_angle\n",
    "#print(delta_x, delta_y)"
   ]
  },
  {
   "cell_type": "code",
   "execution_count": null,
   "metadata": {},
   "outputs": [],
   "source": []
  },
  {
   "cell_type": "code",
   "execution_count": 106,
   "metadata": {},
   "outputs": [],
   "source": [
    "from matplotlib.patches import Ellipse"
   ]
  },
  {
   "cell_type": "code",
   "execution_count": null,
   "metadata": {},
   "outputs": [],
   "source": []
  },
  {
   "cell_type": "code",
   "execution_count": null,
   "metadata": {},
   "outputs": [],
   "source": []
  },
  {
   "cell_type": "code",
   "execution_count": null,
   "metadata": {},
   "outputs": [],
   "source": []
  },
  {
   "cell_type": "code",
   "execution_count": null,
   "metadata": {},
   "outputs": [],
   "source": []
  },
  {
   "cell_type": "code",
   "execution_count": null,
   "metadata": {},
   "outputs": [],
   "source": []
  },
  {
   "cell_type": "code",
   "execution_count": null,
   "metadata": {},
   "outputs": [],
   "source": []
  },
  {
   "cell_type": "markdown",
   "metadata": {},
   "source": [
    "### Function for dataframe of coordinates\n",
    "- Given a dataframe of coordinates, determine if these are in the ellipse range of some start and stop point\n",
    "    - Only keep the rows that are in range\n",
    "- For this pruned dataframe, create two new columns:\n",
    "    - Trip length\n",
    "    - Trip ratio"
   ]
  },
  {
   "cell_type": "code",
   "execution_count": 223,
   "metadata": {},
   "outputs": [],
   "source": [
    "def places_in_range_df(start, stop, max_distance_increase, coordinate_df):\n",
    "    # assuming we have a clean df (no NaN values)\n",
    "    \n",
    "    # only keep x and y coordinate columns\n",
    "    df = coordinate_df[['x', 'y', 'ordinal_cat']]\n",
    "    \n",
    "    # make these columns into lists\n",
    "    x_list = df['x'].tolist()\n",
    "    y_list = df['y'].tolist()\n",
    "    \n",
    "    # create list of coordinates as tuples\n",
    "    coordinate_list = []\n",
    "    for x in range(len(x_list)):\n",
    "        a, b = x_list[x], y_list[x]\n",
    "        coordinate_list.append((a, b))\n",
    "    \n",
    "    #create empty list that will be filled 'yes' if in range, and 'no' if not in range\n",
    "    in_range = []\n",
    "    #create empty list that will be filled with the trip ratio for the coordinates that are in range and NaN for not in range\n",
    "    trip_ratios = []\n",
    "    #create empty list that will be filled with the trip length for the coordinates that are in range and NaN for not in range\n",
    "    trip_lengths = []\n",
    "    \n",
    "    #loop through coordinate list\n",
    "    for x in coordinate_list:\n",
    "        # for each row / coordiante, determine if it's in range\n",
    "        if in_ellipse(start = start, end = stop, target = x, max_distance_increase = max_distance_increase) == True:\n",
    "            in_range.append('yes')\n",
    "            trip_ratios.append(trip_ratio(start = start, end = stop, target = x))\n",
    "            trip_lengths.append(trip_length(start = start, end = stop, target = x))\n",
    "        else:\n",
    "            in_range.append('no')\n",
    "            trip_ratios.append(None)\n",
    "            trip_lengths.append(None)\n",
    "        \n",
    "    df['in_range'] = in_range\n",
    "    df['trip_ratios'] = trip_ratios\n",
    "    df['trip_lengths'] = trip_lengths\n",
    "    return df"
   ]
  },
  {
   "cell_type": "code",
   "execution_count": 201,
   "metadata": {},
   "outputs": [],
   "source": [
    "in_range_example_df = places_in_range_df(start = (-121.935833, 37.702222), stop = (-122.297778, 37.886944), max_distance_increase = 1.25, coordinate_df = df_x_y)"
   ]
  },
  {
   "cell_type": "code",
   "execution_count": 202,
   "metadata": {},
   "outputs": [
    {
     "data": {
      "text/html": [
       "<div>\n",
       "<style scoped>\n",
       "    .dataframe tbody tr th:only-of-type {\n",
       "        vertical-align: middle;\n",
       "    }\n",
       "\n",
       "    .dataframe tbody tr th {\n",
       "        vertical-align: top;\n",
       "    }\n",
       "\n",
       "    .dataframe thead th {\n",
       "        text-align: right;\n",
       "    }\n",
       "</style>\n",
       "<table border=\"1\" class=\"dataframe\">\n",
       "  <thead>\n",
       "    <tr style=\"text-align: right;\">\n",
       "      <th></th>\n",
       "      <th>x</th>\n",
       "      <th>y</th>\n",
       "      <th>in_range</th>\n",
       "      <th>trip_ratios</th>\n",
       "      <th>trip_lengths</th>\n",
       "    </tr>\n",
       "  </thead>\n",
       "  <tbody>\n",
       "    <tr>\n",
       "      <th>0</th>\n",
       "      <td>-122.274444</td>\n",
       "      <td>37.756111</td>\n",
       "      <td>yes</td>\n",
       "      <td>0.112140</td>\n",
       "      <td>0.475770</td>\n",
       "    </tr>\n",
       "    <tr>\n",
       "      <th>1</th>\n",
       "      <td>-122.297778</td>\n",
       "      <td>37.886944</td>\n",
       "      <td>yes</td>\n",
       "      <td>0.095779</td>\n",
       "      <td>0.406357</td>\n",
       "    </tr>\n",
       "    <tr>\n",
       "      <th>2</th>\n",
       "      <td>-122.272778</td>\n",
       "      <td>37.871667</td>\n",
       "      <td>yes</td>\n",
       "      <td>0.095801</td>\n",
       "      <td>0.406450</td>\n",
       "    </tr>\n",
       "    <tr>\n",
       "      <th>3</th>\n",
       "      <td>-121.935833</td>\n",
       "      <td>37.702222</td>\n",
       "      <td>yes</td>\n",
       "      <td>0.095779</td>\n",
       "      <td>0.406357</td>\n",
       "    </tr>\n",
       "    <tr>\n",
       "      <th>4</th>\n",
       "      <td>-122.285278</td>\n",
       "      <td>37.831389</td>\n",
       "      <td>yes</td>\n",
       "      <td>0.101233</td>\n",
       "      <td>0.429497</td>\n",
       "    </tr>\n",
       "  </tbody>\n",
       "</table>\n",
       "</div>"
      ],
      "text/plain": [
       "            x          y in_range  trip_ratios  trip_lengths\n",
       "0 -122.274444  37.756111      yes     0.112140      0.475770\n",
       "1 -122.297778  37.886944      yes     0.095779      0.406357\n",
       "2 -122.272778  37.871667      yes     0.095801      0.406450\n",
       "3 -121.935833  37.702222      yes     0.095779      0.406357\n",
       "4 -122.285278  37.831389      yes     0.101233      0.429497"
      ]
     },
     "execution_count": 202,
     "metadata": {},
     "output_type": "execute_result"
    }
   ],
   "source": [
    "in_range_example_df.head()"
   ]
  },
  {
   "cell_type": "code",
   "execution_count": 209,
   "metadata": {},
   "outputs": [
    {
     "data": {
      "text/plain": [
       "'yesno'"
      ]
     },
     "execution_count": 209,
     "metadata": {},
     "output_type": "execute_result"
    }
   ],
   "source": [
    "in_range_example_df['in_range'].unique().sum()"
   ]
  },
  {
   "cell_type": "markdown",
   "metadata": {},
   "source": [
    "## Create Visualization function"
   ]
  },
  {
   "cell_type": "code",
   "execution_count": 234,
   "metadata": {},
   "outputs": [],
   "source": [
    "def full_viz(start, stop, max_distance_increase, coordinate_df):\n",
    "    # for visualizing the line connecting start and stop points\n",
    "    (x, y) = start_end_line(start, stop)\n",
    "    plt.plot(x, y, '-r')\n",
    "    \n",
    "    # midpoint on the line connecting the start and stop\n",
    "    x_midpoint = (start[0] + stop[0]) / 2\n",
    "    y_midpoint = (start[1] + stop[1]) / 2\n",
    "    midpoint = (x_midpoint, y_midpoint)\n",
    "    \n",
    "    #change in x and y for the stop and start coords\n",
    "    delta_x = stop[0] - start[0]\n",
    "    delta_y = stop[1] - start[1]\n",
    "\n",
    "    #distance between start and stop\n",
    "    d = np.sqrt((delta_x)**2 + (delta_y)**2)\n",
    "    \n",
    "    #major and minor axis based on distance between two points and the max distance increase\n",
    "    major_axis = d\n",
    "    minor_axis = d * np.sqrt(max_distance_increase**2 - 1)\n",
    "\n",
    "    #for plotting the ellipse, we need the angle of the line (the line connecting start and stop points) and the x axis\n",
    "    line_angle = np.degrees(np.arctan(delta_y / delta_x))\n",
    "\n",
    "    # Now for the ellipse plot\n",
    "    # https://nickcharlton.net/posts/drawing-animating-shapes-matplotlib.html\n",
    "    ellipse = Ellipse(xy = midpoint, width = major_axis, height = minor_axis, angle = line_angle, alpha = .1)\n",
    "    plt.gca().add_patch(ellipse)\n",
    "\n",
    "    plt.axis('scaled')\n",
    "    \n",
    "    #Now for visualizing which points are in the ellipse\n",
    "    df = places_in_range_df(start = start, stop = stop, max_distance_increase = max_distance_increase, coordinate_df = coordinate_df)\n",
    "    #map the in_range column to be numeric\n",
    "    df['in_range_numeric'] = df['in_range'].map({'yes': 1, 'no': 0})\n",
    "    \n",
    "    df_zero = df.loc[df['in_range_numeric'] == 0]\n",
    "    df_ones = df.loc[df['in_range_numeric'] == 1]\n",
    "    \n",
    "    plt.xlim(-124, -114)\n",
    "    plt.ylim(33, 42)\n",
    "    plt.scatter(df_zero['x'], df_zero['y'], marker = 'o', c = df_zero['ordinal_cat'])\n",
    "    plt.scatter(df_ones['x'], df_ones['y'], marker = \"^\", c = df_ones['ordinal_cat'])\n",
    "    \n",
    "    plt.show()"
   ]
  },
  {
   "cell_type": "code",
   "execution_count": 206,
   "metadata": {},
   "outputs": [
    {
     "data": {
      "image/png": "[encoded data removed]",
      "text/plain": [
       "<Figure size 432x288 with 1 Axes>"
      ]
     },
     "metadata": {
      "needs_background": "light"
     },
     "output_type": "display_data"
    }
   ],
   "source": [
    "full_viz(start = (-121.935833, 37.702222), stop = (-122.297778, 37.886944), max_distance_increase = 1.15, coordinate_df = df_x_y)"
   ]
  },
  {
   "cell_type": "code",
   "execution_count": 181,
   "metadata": {},
   "outputs": [
    {
     "data": {
      "text/html": [
       "<div>\n",
       "<style scoped>\n",
       "    .dataframe tbody tr th:only-of-type {\n",
       "        vertical-align: middle;\n",
       "    }\n",
       "\n",
       "    .dataframe tbody tr th {\n",
       "        vertical-align: top;\n",
       "    }\n",
       "\n",
       "    .dataframe thead th {\n",
       "        text-align: right;\n",
       "    }\n",
       "</style>\n",
       "<table border=\"1\" class=\"dataframe\">\n",
       "  <thead>\n",
       "    <tr style=\"text-align: right;\">\n",
       "      <th></th>\n",
       "      <th>x</th>\n",
       "      <th>y</th>\n",
       "    </tr>\n",
       "  </thead>\n",
       "  <tbody>\n",
       "    <tr>\n",
       "      <th>0</th>\n",
       "      <td>-122.274444</td>\n",
       "      <td>37.756111</td>\n",
       "    </tr>\n",
       "    <tr>\n",
       "      <th>1</th>\n",
       "      <td>-122.297778</td>\n",
       "      <td>37.886944</td>\n",
       "    </tr>\n",
       "    <tr>\n",
       "      <th>2</th>\n",
       "      <td>-122.272778</td>\n",
       "      <td>37.871667</td>\n",
       "    </tr>\n",
       "    <tr>\n",
       "      <th>3</th>\n",
       "      <td>-121.935833</td>\n",
       "      <td>37.702222</td>\n",
       "    </tr>\n",
       "    <tr>\n",
       "      <th>4</th>\n",
       "      <td>-122.285278</td>\n",
       "      <td>37.831389</td>\n",
       "    </tr>\n",
       "    <tr>\n",
       "      <th>5</th>\n",
       "      <td>-121.988611</td>\n",
       "      <td>37.548333</td>\n",
       "    </tr>\n",
       "    <tr>\n",
       "      <th>6</th>\n",
       "      <td>-122.080796</td>\n",
       "      <td>37.668820</td>\n",
       "    </tr>\n",
       "    <tr>\n",
       "      <th>8</th>\n",
       "      <td>-121.768056</td>\n",
       "      <td>37.681944</td>\n",
       "    </tr>\n",
       "    <tr>\n",
       "      <th>9</th>\n",
       "      <td>-122.033333</td>\n",
       "      <td>37.533333</td>\n",
       "    </tr>\n",
       "    <tr>\n",
       "      <th>10</th>\n",
       "      <td>-122.270833</td>\n",
       "      <td>37.804444</td>\n",
       "    </tr>\n",
       "  </tbody>\n",
       "</table>\n",
       "</div>"
      ],
      "text/plain": [
       "             x          y\n",
       "0  -122.274444  37.756111\n",
       "1  -122.297778  37.886944\n",
       "2  -122.272778  37.871667\n",
       "3  -121.935833  37.702222\n",
       "4  -122.285278  37.831389\n",
       "5  -121.988611  37.548333\n",
       "6  -122.080796  37.668820\n",
       "8  -121.768056  37.681944\n",
       "9  -122.033333  37.533333\n",
       "10 -122.270833  37.804444"
      ]
     },
     "execution_count": 181,
     "metadata": {},
     "output_type": "execute_result"
    }
   ],
   "source": [
    "df_x_y"
   ]
  },
  {
   "cell_type": "code",
   "execution_count": 215,
   "metadata": {},
   "outputs": [],
   "source": [
    "covid_df_a = pd.read_csv('./data/covid_with_alpha.csv')\n",
    "gas_df_a = pd.read_csv('./data/gas_stations_with_cat.csv')"
   ]
  },
  {
   "cell_type": "code",
   "execution_count": 216,
   "metadata": {},
   "outputs": [],
   "source": [
    "gas_df_b = gas_df_a.loc[gas_df_a['x'] != gas_df_a['x'].max()]"
   ]
  },
  {
   "cell_type": "code",
   "execution_count": 217,
   "metadata": {},
   "outputs": [
    {
     "data": {
      "text/html": [
       "<div>\n",
       "<style scoped>\n",
       "    .dataframe tbody tr th:only-of-type {\n",
       "        vertical-align: middle;\n",
       "    }\n",
       "\n",
       "    .dataframe tbody tr th {\n",
       "        vertical-align: top;\n",
       "    }\n",
       "\n",
       "    .dataframe thead th {\n",
       "        text-align: right;\n",
       "    }\n",
       "</style>\n",
       "<table border=\"1\" class=\"dataframe\">\n",
       "  <thead>\n",
       "    <tr style=\"text-align: right;\">\n",
       "      <th></th>\n",
       "      <th>name</th>\n",
       "      <th>x</th>\n",
       "      <th>y</th>\n",
       "      <th>county</th>\n",
       "      <th>ordinal_cat</th>\n",
       "    </tr>\n",
       "  </thead>\n",
       "  <tbody>\n",
       "    <tr>\n",
       "      <th>0</th>\n",
       "      <td>Circle K &amp; Minimart</td>\n",
       "      <td>-117.190777</td>\n",
       "      <td>34.057365</td>\n",
       "      <td>San Bernardino</td>\n",
       "      <td>1</td>\n",
       "    </tr>\n",
       "    <tr>\n",
       "      <th>1</th>\n",
       "      <td>NaN</td>\n",
       "      <td>-117.225609</td>\n",
       "      <td>34.048575</td>\n",
       "      <td>San Bernardino</td>\n",
       "      <td>3</td>\n",
       "    </tr>\n",
       "    <tr>\n",
       "      <th>2</th>\n",
       "      <td>NaN</td>\n",
       "      <td>-117.156299</td>\n",
       "      <td>34.041388</td>\n",
       "      <td>San Bernardino</td>\n",
       "      <td>1</td>\n",
       "    </tr>\n",
       "    <tr>\n",
       "      <th>3</th>\n",
       "      <td>Arco</td>\n",
       "      <td>-122.420268</td>\n",
       "      <td>37.768468</td>\n",
       "      <td>San Francisco</td>\n",
       "      <td>2</td>\n",
       "    </tr>\n",
       "    <tr>\n",
       "      <th>4</th>\n",
       "      <td>Valley Oil</td>\n",
       "      <td>-122.070127</td>\n",
       "      <td>37.381165</td>\n",
       "      <td>Santa Clara</td>\n",
       "      <td>3</td>\n",
       "    </tr>\n",
       "  </tbody>\n",
       "</table>\n",
       "</div>"
      ],
      "text/plain": [
       "                  name           x          y          county  ordinal_cat\n",
       "0  Circle K & Minimart -117.190777  34.057365  San Bernardino            1\n",
       "1                  NaN -117.225609  34.048575  San Bernardino            3\n",
       "2                  NaN -117.156299  34.041388  San Bernardino            1\n",
       "3                 Arco -122.420268  37.768468   San Francisco            2\n",
       "4           Valley Oil -122.070127  37.381165     Santa Clara            3"
      ]
     },
     "execution_count": 217,
     "metadata": {},
     "output_type": "execute_result"
    }
   ],
   "source": [
    "gas_df_b.head()"
   ]
  },
  {
   "cell_type": "code",
   "execution_count": 218,
   "metadata": {},
   "outputs": [
    {
     "data": {
      "text/plain": [
       "<matplotlib.collections.PathCollection at 0x7fa425e94df0>"
      ]
     },
     "execution_count": 218,
     "metadata": {},
     "output_type": "execute_result"
    },
    {
     "data": {
      "image/png": "[encoded data removed]",
      "text/plain": [
       "<Figure size 432x288 with 1 Axes>"
      ]
     },
     "metadata": {
      "needs_background": "light"
     },
     "output_type": "display_data"
    }
   ],
   "source": [
    "plt.scatter(gas_df_b['x'], gas_df_b['y'], c = gas_df_b['ordinal_cat'])"
   ]
  },
  {
   "cell_type": "code",
   "execution_count": 219,
   "metadata": {},
   "outputs": [
    {
     "data": {
      "text/plain": [
       "<matplotlib.collections.PathCollection at 0x7fa426653d90>"
      ]
     },
     "execution_count": 219,
     "metadata": {},
     "output_type": "execute_result"
    },
    {
     "data": {
      "image/png": "[encoded data removed]",
      "text/plain": [
       "<Figure size 432x288 with 1 Axes>"
      ]
     },
     "metadata": {
      "needs_background": "light"
     },
     "output_type": "display_data"
    }
   ],
   "source": [
    "plt.scatter(covid_df_a['x'], covid_df_a['y'], c = covid_df_a['ordinal_cat'])"
   ]
  },
  {
   "cell_type": "code",
   "execution_count": 237,
   "metadata": {},
   "outputs": [
    {
     "data": {
      "text/plain": [
       "array(['Sonoma', 'Plumas', 'Nevada', 'Riverside', 'Marin', 'Kern',\n",
       "       'Los Angeles', 'Calaveras', 'San Bernardino', 'Imperial', 'Lake',\n",
       "       'Tulare', 'Napa', 'San Mateo', 'San Francisco', 'San Diego',\n",
       "       'Ventura', 'Inyo', 'Mono', 'Fresno', 'San Luis Obispo', 'Amador',\n",
       "       'Del Norte', 'Long Beach', 'Orange', 'Alameda', 'Contra Costa',\n",
       "       'Siskiyou', 'Santa Clara', 'Santa Cruz', 'Yuba', 'Mendocino',\n",
       "       'Butte', 'Yolo', 'Sacramento', 'El Dorado', 'Merced', 'Shasta',\n",
       "       'Solano', 'Kings', 'Humboldt', 'San Joaquin', 'Stanislaus',\n",
       "       'Santa Barbara', 'Sutter', 'Placer', 'Madera', 'Monterey'],\n",
       "      dtype=object)"
      ]
     },
     "execution_count": 237,
     "metadata": {},
     "output_type": "execute_result"
    }
   ],
   "source": [
    "covid_df_a['county'].unique()"
   ]
  },
  {
   "cell_type": "code",
   "execution_count": 240,
   "metadata": {},
   "outputs": [
    {
     "data": {
      "text/plain": [
       "<matplotlib.collections.PathCollection at 0x7fa426910af0>"
      ]
     },
     "execution_count": 240,
     "metadata": {},
     "output_type": "execute_result"
    },
    {
     "data": {
      "image/png": "[encoded data removed]",
      "text/plain": [
       "<Figure size 864x864 with 1 Axes>"
      ]
     },
     "metadata": {
      "needs_background": "light"
     },
     "output_type": "display_data"
    }
   ],
   "source": [
    "plt.figure(figsize = (12, 12))\n",
    "df_example = covid_df_a.loc[covid_df_a['county'] == 'Los Angeles']\n",
    "plt.scatter(df_example['x'], df_example['y'], c = df_example['log_cases'])"
   ]
  },
  {
   "cell_type": "code",
   "execution_count": 242,
   "metadata": {},
   "outputs": [
    {
     "name": "stdout",
     "output_type": "stream",
     "text": [
      "Collecting hdbscan\n",
      "  Downloading hdbscan-0.8.26.tar.gz (4.7 MB)\n",
      "\u001b[K     |████████████████████████████████| 4.7 MB 2.1 MB/s eta 0:00:01\n",
      "\u001b[?25h  Installing build dependencies ... \u001b[?25ldone\n",
      "\u001b[?25h  Getting requirements to build wheel ... \u001b[?25ldone\n",
      "\u001b[?25h    Preparing wheel metadata ... \u001b[?25ldone\n",
      "\u001b[?25hRequirement already satisfied: cython>=0.27 in /Users/sophiascarano/opt/anaconda3/lib/python3.8/site-packages (from hdbscan) (0.29.17)\n",
      "Requirement already satisfied: numpy>=1.16.0 in /Users/sophiascarano/opt/anaconda3/lib/python3.8/site-packages (from hdbscan) (1.18.5)\n",
      "Requirement already satisfied: scipy>=0.9 in /Users/sophiascarano/opt/anaconda3/lib/python3.8/site-packages (from hdbscan) (1.5.0)\n",
      "Requirement already satisfied: scikit-learn>=0.17 in /Users/sophiascarano/opt/anaconda3/lib/python3.8/site-packages (from hdbscan) (0.23.1)\n",
      "Requirement already satisfied: six in /Users/sophiascarano/opt/anaconda3/lib/python3.8/site-packages (from hdbscan) (1.15.0)\n",
      "Requirement already satisfied: joblib in /Users/sophiascarano/opt/anaconda3/lib/python3.8/site-packages (from hdbscan) (0.16.0)\n",
      "Requirement already satisfied: threadpoolctl>=2.0.0 in /Users/sophiascarano/opt/anaconda3/lib/python3.8/site-packages (from scikit-learn>=0.17->hdbscan) (2.1.0)\n",
      "Building wheels for collected packages: hdbscan\n",
      "  Building wheel for hdbscan (PEP 517) ... \u001b[?25ldone\n",
      "\u001b[?25h  Created wheel for hdbscan: filename=hdbscan-0.8.26-cp38-cp38-macosx_10_9_x86_64.whl size=678986 sha256=2b9520250ed5ff783091babd7891b4f566841ef955755d1c943158ffec61b918\n",
      "  Stored in directory: /Users/sophiascarano/Library/Caches/pip/wheels/eb/81/cf/9a05377f03cf1b5b057841c6ba5deac8b9926630c6bcd423e5\n",
      "Successfully built hdbscan\n",
      "Installing collected packages: hdbscan\n",
      "Successfully installed hdbscan-0.8.26\n"
     ]
    }
   ],
   "source": [
    "!pip install hdbscan"
   ]
  },
  {
   "cell_type": "code",
   "execution_count": 243,
   "metadata": {},
   "outputs": [],
   "source": [
    "import hdbscan"
   ]
  },
  {
   "cell_type": "code",
   "execution_count": 246,
   "metadata": {},
   "outputs": [],
   "source": [
    "import numpy as np\n",
    "import matplotlib.pyplot as plt\n",
    "import seaborn as sns\n",
    "import sklearn.cluster as cluster\n",
    "import time\n",
    "%matplotlib inline\n",
    "sns.set_context('poster')\n",
    "sns.set_color_codes()\n",
    "plot_kwds = {'alpha' : 0.25, 's' : 80, 'linewidths':0}"
   ]
  },
  {
   "cell_type": "code",
   "execution_count": 247,
   "metadata": {},
   "outputs": [],
   "source": [
    "def plot_clusters(data, algorithm, args, kwds):\n",
    "    start_time = time.time()\n",
    "    labels = algorithm(*args, **kwds).fit_predict(data)\n",
    "    end_time = time.time()\n",
    "    palette = sns.color_palette('deep', np.unique(labels).max() + 1)\n",
    "    colors = [palette[x] if x >= 0 else (0.0, 0.0, 0.0) for x in labels]\n",
    "    plt.scatter(data.T[0], data.T[1], c=colors, **plot_kwds)\n",
    "    frame = plt.gca()\n",
    "    frame.axes.get_xaxis().set_visible(False)\n",
    "    frame.axes.get_yaxis().set_visible(False)\n",
    "    plt.title('Clusters found by {}'.format(str(algorithm.__name__)), fontsize=24)\n",
    "    plt.text(-0.5, 0.7, 'Clustering took {:.2f} s'.format(end_time - start_time), fontsize=14)"
   ]
  },
  {
   "cell_type": "code",
   "execution_count": 249,
   "metadata": {},
   "outputs": [
    {
     "data": {
      "text/html": [
       "<div>\n",
       "<style scoped>\n",
       "    .dataframe tbody tr th:only-of-type {\n",
       "        vertical-align: middle;\n",
       "    }\n",
       "\n",
       "    .dataframe tbody tr th {\n",
       "        vertical-align: top;\n",
       "    }\n",
       "\n",
       "    .dataframe thead th {\n",
       "        text-align: right;\n",
       "    }\n",
       "</style>\n",
       "<table border=\"1\" class=\"dataframe\">\n",
       "  <thead>\n",
       "    <tr style=\"text-align: right;\">\n",
       "      <th></th>\n",
       "      <th>date</th>\n",
       "      <th>county</th>\n",
       "      <th>fips</th>\n",
       "      <th>place</th>\n",
       "      <th>confirmed_cases</th>\n",
       "      <th>note</th>\n",
       "      <th>x</th>\n",
       "      <th>y</th>\n",
       "      <th>log_cases</th>\n",
       "      <th>category</th>\n",
       "      <th>ordinal_cat</th>\n",
       "      <th>alpha</th>\n",
       "    </tr>\n",
       "  </thead>\n",
       "  <tbody>\n",
       "    <tr>\n",
       "      <th>8</th>\n",
       "      <td>2020-03-25</td>\n",
       "      <td>Los Angeles</td>\n",
       "      <td>37.0</td>\n",
       "      <td>Athens</td>\n",
       "      <td>1</td>\n",
       "      <td>NaN</td>\n",
       "      <td>-118.303000</td>\n",
       "      <td>33.923480</td>\n",
       "      <td>0.000000</td>\n",
       "      <td>0</td>\n",
       "      <td>0</td>\n",
       "      <td>1212.881634</td>\n",
       "    </tr>\n",
       "    <tr>\n",
       "      <th>67</th>\n",
       "      <td>2020-10-25</td>\n",
       "      <td>Los Angeles</td>\n",
       "      <td>37.0</td>\n",
       "      <td>East Lancaster</td>\n",
       "      <td>2</td>\n",
       "      <td>NaN</td>\n",
       "      <td>-117.995982</td>\n",
       "      <td>34.667605</td>\n",
       "      <td>0.693147</td>\n",
       "      <td>0</td>\n",
       "      <td>0</td>\n",
       "      <td>136.217738</td>\n",
       "    </tr>\n",
       "    <tr>\n",
       "      <th>75</th>\n",
       "      <td>2020-03-25</td>\n",
       "      <td>Los Angeles</td>\n",
       "      <td>37.0</td>\n",
       "      <td>Pico</td>\n",
       "      <td>2</td>\n",
       "      <td>NaN</td>\n",
       "      <td>-118.379800</td>\n",
       "      <td>34.055700</td>\n",
       "      <td>0.693147</td>\n",
       "      <td>0</td>\n",
       "      <td>0</td>\n",
       "      <td>2205.811675</td>\n",
       "    </tr>\n",
       "    <tr>\n",
       "      <th>79</th>\n",
       "      <td>2020-10-25</td>\n",
       "      <td>Los Angeles</td>\n",
       "      <td>37.0</td>\n",
       "      <td>Angeles National Forest</td>\n",
       "      <td>2</td>\n",
       "      <td>NaN</td>\n",
       "      <td>-118.279007</td>\n",
       "      <td>34.275218</td>\n",
       "      <td>0.693147</td>\n",
       "      <td>0</td>\n",
       "      <td>0</td>\n",
       "      <td>453.300356</td>\n",
       "    </tr>\n",
       "    <tr>\n",
       "      <th>88</th>\n",
       "      <td>2020-03-16</td>\n",
       "      <td>Los Angeles</td>\n",
       "      <td>37.0</td>\n",
       "      <td>Santa Clarita and Stevenson Ranch</td>\n",
       "      <td>3</td>\n",
       "      <td>NaN</td>\n",
       "      <td>-118.520000</td>\n",
       "      <td>34.420000</td>\n",
       "      <td>1.098612</td>\n",
       "      <td>0</td>\n",
       "      <td>0</td>\n",
       "      <td>463.484220</td>\n",
       "    </tr>\n",
       "  </tbody>\n",
       "</table>\n",
       "</div>"
      ],
      "text/plain": [
       "          date       county  fips                              place  \\\n",
       "8   2020-03-25  Los Angeles  37.0                             Athens   \n",
       "67  2020-10-25  Los Angeles  37.0                     East Lancaster   \n",
       "75  2020-03-25  Los Angeles  37.0                               Pico   \n",
       "79  2020-10-25  Los Angeles  37.0            Angeles National Forest   \n",
       "88  2020-03-16  Los Angeles  37.0  Santa Clarita and Stevenson Ranch   \n",
       "\n",
       "    confirmed_cases note           x          y  log_cases  category  \\\n",
       "8                 1  NaN -118.303000  33.923480   0.000000         0   \n",
       "67                2  NaN -117.995982  34.667605   0.693147         0   \n",
       "75                2  NaN -118.379800  34.055700   0.693147         0   \n",
       "79                2  NaN -118.279007  34.275218   0.693147         0   \n",
       "88                3  NaN -118.520000  34.420000   1.098612         0   \n",
       "\n",
       "    ordinal_cat        alpha  \n",
       "8             0  1212.881634  \n",
       "67            0   136.217738  \n",
       "75            0  2205.811675  \n",
       "79            0   453.300356  \n",
       "88            0   463.484220  "
      ]
     },
     "execution_count": 249,
     "metadata": {},
     "output_type": "execute_result"
    }
   ],
   "source": [
    "df_example.head()"
   ]
  },
  {
   "cell_type": "code",
   "execution_count": 252,
   "metadata": {},
   "outputs": [
    {
     "ename": "KeyError",
     "evalue": "0",
     "output_type": "error",
     "traceback": [
      "\u001b[0;31m---------------------------------------------------------------------------\u001b[0m",
      "\u001b[0;31mKeyError\u001b[0m                                  Traceback (most recent call last)",
      "\u001b[0;32m~/opt/anaconda3/lib/python3.8/site-packages/pandas/core/indexes/base.py\u001b[0m in \u001b[0;36mget_loc\u001b[0;34m(self, key, method, tolerance)\u001b[0m\n\u001b[1;32m   2645\u001b[0m             \u001b[0;32mtry\u001b[0m\u001b[0;34m:\u001b[0m\u001b[0;34m\u001b[0m\u001b[0;34m\u001b[0m\u001b[0m\n\u001b[0;32m-> 2646\u001b[0;31m                 \u001b[0;32mreturn\u001b[0m \u001b[0mself\u001b[0m\u001b[0;34m.\u001b[0m\u001b[0m_engine\u001b[0m\u001b[0;34m.\u001b[0m\u001b[0mget_loc\u001b[0m\u001b[0;34m(\u001b[0m\u001b[0mkey\u001b[0m\u001b[0;34m)\u001b[0m\u001b[0;34m\u001b[0m\u001b[0;34m\u001b[0m\u001b[0m\n\u001b[0m\u001b[1;32m   2647\u001b[0m             \u001b[0;32mexcept\u001b[0m \u001b[0mKeyError\u001b[0m\u001b[0;34m:\u001b[0m\u001b[0;34m\u001b[0m\u001b[0;34m\u001b[0m\u001b[0m\n",
      "\u001b[0;32mpandas/_libs/index.pyx\u001b[0m in \u001b[0;36mpandas._libs.index.IndexEngine.get_loc\u001b[0;34m()\u001b[0m\n",
      "\u001b[0;32mpandas/_libs/index.pyx\u001b[0m in \u001b[0;36mpandas._libs.index.IndexEngine.get_loc\u001b[0;34m()\u001b[0m\n",
      "\u001b[0;32mpandas/_libs/hashtable_class_helper.pxi\u001b[0m in \u001b[0;36mpandas._libs.hashtable.Int64HashTable.get_item\u001b[0;34m()\u001b[0m\n",
      "\u001b[0;32mpandas/_libs/hashtable_class_helper.pxi\u001b[0m in \u001b[0;36mpandas._libs.hashtable.Int64HashTable.get_item\u001b[0;34m()\u001b[0m\n",
      "\u001b[0;31mKeyError\u001b[0m: 0",
      "\nDuring handling of the above exception, another exception occurred:\n",
      "\u001b[0;31mKeyError\u001b[0m                                  Traceback (most recent call last)",
      "\u001b[0;32m<ipython-input-252-cb20ff2b1572>\u001b[0m in \u001b[0;36m<module>\u001b[0;34m\u001b[0m\n\u001b[1;32m      1\u001b[0m \u001b[0mdata\u001b[0m \u001b[0;34m=\u001b[0m \u001b[0mdf_example\u001b[0m\u001b[0;34m[\u001b[0m\u001b[0;34m[\u001b[0m\u001b[0;34m'ordinal_cat'\u001b[0m\u001b[0;34m]\u001b[0m\u001b[0;34m]\u001b[0m\u001b[0;34m\u001b[0m\u001b[0;34m\u001b[0m\u001b[0m\n\u001b[0;32m----> 2\u001b[0;31m \u001b[0mplot_clusters\u001b[0m\u001b[0;34m(\u001b[0m\u001b[0mdata\u001b[0m\u001b[0;34m,\u001b[0m \u001b[0mhdbscan\u001b[0m\u001b[0;34m.\u001b[0m\u001b[0mHDBSCAN\u001b[0m\u001b[0;34m,\u001b[0m \u001b[0;34m(\u001b[0m\u001b[0;34m)\u001b[0m\u001b[0;34m,\u001b[0m \u001b[0;34m{\u001b[0m\u001b[0;34m'min_cluster_size'\u001b[0m\u001b[0;34m:\u001b[0m\u001b[0;36m2\u001b[0m\u001b[0;34m}\u001b[0m\u001b[0;34m)\u001b[0m\u001b[0;34m\u001b[0m\u001b[0;34m\u001b[0m\u001b[0m\n\u001b[0m",
      "\u001b[0;32m<ipython-input-247-00a3c856fe9f>\u001b[0m in \u001b[0;36mplot_clusters\u001b[0;34m(data, algorithm, args, kwds)\u001b[0m\n\u001b[1;32m      5\u001b[0m     \u001b[0mpalette\u001b[0m \u001b[0;34m=\u001b[0m \u001b[0msns\u001b[0m\u001b[0;34m.\u001b[0m\u001b[0mcolor_palette\u001b[0m\u001b[0;34m(\u001b[0m\u001b[0;34m'deep'\u001b[0m\u001b[0;34m,\u001b[0m \u001b[0mnp\u001b[0m\u001b[0;34m.\u001b[0m\u001b[0munique\u001b[0m\u001b[0;34m(\u001b[0m\u001b[0mlabels\u001b[0m\u001b[0;34m)\u001b[0m\u001b[0;34m.\u001b[0m\u001b[0mmax\u001b[0m\u001b[0;34m(\u001b[0m\u001b[0;34m)\u001b[0m \u001b[0;34m+\u001b[0m \u001b[0;36m1\u001b[0m\u001b[0;34m)\u001b[0m\u001b[0;34m\u001b[0m\u001b[0;34m\u001b[0m\u001b[0m\n\u001b[1;32m      6\u001b[0m     \u001b[0mcolors\u001b[0m \u001b[0;34m=\u001b[0m \u001b[0;34m[\u001b[0m\u001b[0mpalette\u001b[0m\u001b[0;34m[\u001b[0m\u001b[0mx\u001b[0m\u001b[0;34m]\u001b[0m \u001b[0;32mif\u001b[0m \u001b[0mx\u001b[0m \u001b[0;34m>=\u001b[0m \u001b[0;36m0\u001b[0m \u001b[0;32melse\u001b[0m \u001b[0;34m(\u001b[0m\u001b[0;36m0.0\u001b[0m\u001b[0;34m,\u001b[0m \u001b[0;36m0.0\u001b[0m\u001b[0;34m,\u001b[0m \u001b[0;36m0.0\u001b[0m\u001b[0;34m)\u001b[0m \u001b[0;32mfor\u001b[0m \u001b[0mx\u001b[0m \u001b[0;32min\u001b[0m \u001b[0mlabels\u001b[0m\u001b[0;34m]\u001b[0m\u001b[0;34m\u001b[0m\u001b[0;34m\u001b[0m\u001b[0m\n\u001b[0;32m----> 7\u001b[0;31m     \u001b[0mplt\u001b[0m\u001b[0;34m.\u001b[0m\u001b[0mscatter\u001b[0m\u001b[0;34m(\u001b[0m\u001b[0mdata\u001b[0m\u001b[0;34m.\u001b[0m\u001b[0mT\u001b[0m\u001b[0;34m[\u001b[0m\u001b[0;36m0\u001b[0m\u001b[0;34m]\u001b[0m\u001b[0;34m,\u001b[0m \u001b[0mdata\u001b[0m\u001b[0;34m.\u001b[0m\u001b[0mT\u001b[0m\u001b[0;34m[\u001b[0m\u001b[0;36m1\u001b[0m\u001b[0;34m]\u001b[0m\u001b[0;34m,\u001b[0m \u001b[0mc\u001b[0m\u001b[0;34m=\u001b[0m\u001b[0mcolors\u001b[0m\u001b[0;34m,\u001b[0m \u001b[0;34m**\u001b[0m\u001b[0mplot_kwds\u001b[0m\u001b[0;34m)\u001b[0m\u001b[0;34m\u001b[0m\u001b[0;34m\u001b[0m\u001b[0m\n\u001b[0m\u001b[1;32m      8\u001b[0m     \u001b[0mframe\u001b[0m \u001b[0;34m=\u001b[0m \u001b[0mplt\u001b[0m\u001b[0;34m.\u001b[0m\u001b[0mgca\u001b[0m\u001b[0;34m(\u001b[0m\u001b[0;34m)\u001b[0m\u001b[0;34m\u001b[0m\u001b[0;34m\u001b[0m\u001b[0m\n\u001b[1;32m      9\u001b[0m     \u001b[0mframe\u001b[0m\u001b[0;34m.\u001b[0m\u001b[0maxes\u001b[0m\u001b[0;34m.\u001b[0m\u001b[0mget_xaxis\u001b[0m\u001b[0;34m(\u001b[0m\u001b[0;34m)\u001b[0m\u001b[0;34m.\u001b[0m\u001b[0mset_visible\u001b[0m\u001b[0;34m(\u001b[0m\u001b[0;32mFalse\u001b[0m\u001b[0;34m)\u001b[0m\u001b[0;34m\u001b[0m\u001b[0;34m\u001b[0m\u001b[0m\n",
      "\u001b[0;32m~/opt/anaconda3/lib/python3.8/site-packages/pandas/core/frame.py\u001b[0m in \u001b[0;36m__getitem__\u001b[0;34m(self, key)\u001b[0m\n\u001b[1;32m   2798\u001b[0m             \u001b[0;32mif\u001b[0m \u001b[0mself\u001b[0m\u001b[0;34m.\u001b[0m\u001b[0mcolumns\u001b[0m\u001b[0;34m.\u001b[0m\u001b[0mnlevels\u001b[0m \u001b[0;34m>\u001b[0m \u001b[0;36m1\u001b[0m\u001b[0;34m:\u001b[0m\u001b[0;34m\u001b[0m\u001b[0;34m\u001b[0m\u001b[0m\n\u001b[1;32m   2799\u001b[0m                 \u001b[0;32mreturn\u001b[0m \u001b[0mself\u001b[0m\u001b[0;34m.\u001b[0m\u001b[0m_getitem_multilevel\u001b[0m\u001b[0;34m(\u001b[0m\u001b[0mkey\u001b[0m\u001b[0;34m)\u001b[0m\u001b[0;34m\u001b[0m\u001b[0;34m\u001b[0m\u001b[0m\n\u001b[0;32m-> 2800\u001b[0;31m             \u001b[0mindexer\u001b[0m \u001b[0;34m=\u001b[0m \u001b[0mself\u001b[0m\u001b[0;34m.\u001b[0m\u001b[0mcolumns\u001b[0m\u001b[0;34m.\u001b[0m\u001b[0mget_loc\u001b[0m\u001b[0;34m(\u001b[0m\u001b[0mkey\u001b[0m\u001b[0;34m)\u001b[0m\u001b[0;34m\u001b[0m\u001b[0;34m\u001b[0m\u001b[0m\n\u001b[0m\u001b[1;32m   2801\u001b[0m             \u001b[0;32mif\u001b[0m \u001b[0mis_integer\u001b[0m\u001b[0;34m(\u001b[0m\u001b[0mindexer\u001b[0m\u001b[0;34m)\u001b[0m\u001b[0;34m:\u001b[0m\u001b[0;34m\u001b[0m\u001b[0;34m\u001b[0m\u001b[0m\n\u001b[1;32m   2802\u001b[0m                 \u001b[0mindexer\u001b[0m \u001b[0;34m=\u001b[0m \u001b[0;34m[\u001b[0m\u001b[0mindexer\u001b[0m\u001b[0;34m]\u001b[0m\u001b[0;34m\u001b[0m\u001b[0;34m\u001b[0m\u001b[0m\n",
      "\u001b[0;32m~/opt/anaconda3/lib/python3.8/site-packages/pandas/core/indexes/base.py\u001b[0m in \u001b[0;36mget_loc\u001b[0;34m(self, key, method, tolerance)\u001b[0m\n\u001b[1;32m   2646\u001b[0m                 \u001b[0;32mreturn\u001b[0m \u001b[0mself\u001b[0m\u001b[0;34m.\u001b[0m\u001b[0m_engine\u001b[0m\u001b[0;34m.\u001b[0m\u001b[0mget_loc\u001b[0m\u001b[0;34m(\u001b[0m\u001b[0mkey\u001b[0m\u001b[0;34m)\u001b[0m\u001b[0;34m\u001b[0m\u001b[0;34m\u001b[0m\u001b[0m\n\u001b[1;32m   2647\u001b[0m             \u001b[0;32mexcept\u001b[0m \u001b[0mKeyError\u001b[0m\u001b[0;34m:\u001b[0m\u001b[0;34m\u001b[0m\u001b[0;34m\u001b[0m\u001b[0m\n\u001b[0;32m-> 2648\u001b[0;31m                 \u001b[0;32mreturn\u001b[0m \u001b[0mself\u001b[0m\u001b[0;34m.\u001b[0m\u001b[0m_engine\u001b[0m\u001b[0;34m.\u001b[0m\u001b[0mget_loc\u001b[0m\u001b[0;34m(\u001b[0m\u001b[0mself\u001b[0m\u001b[0;34m.\u001b[0m\u001b[0m_maybe_cast_indexer\u001b[0m\u001b[0;34m(\u001b[0m\u001b[0mkey\u001b[0m\u001b[0;34m)\u001b[0m\u001b[0;34m)\u001b[0m\u001b[0;34m\u001b[0m\u001b[0;34m\u001b[0m\u001b[0m\n\u001b[0m\u001b[1;32m   2649\u001b[0m         \u001b[0mindexer\u001b[0m \u001b[0;34m=\u001b[0m \u001b[0mself\u001b[0m\u001b[0;34m.\u001b[0m\u001b[0mget_indexer\u001b[0m\u001b[0;34m(\u001b[0m\u001b[0;34m[\u001b[0m\u001b[0mkey\u001b[0m\u001b[0;34m]\u001b[0m\u001b[0;34m,\u001b[0m \u001b[0mmethod\u001b[0m\u001b[0;34m=\u001b[0m\u001b[0mmethod\u001b[0m\u001b[0;34m,\u001b[0m \u001b[0mtolerance\u001b[0m\u001b[0;34m=\u001b[0m\u001b[0mtolerance\u001b[0m\u001b[0;34m)\u001b[0m\u001b[0;34m\u001b[0m\u001b[0;34m\u001b[0m\u001b[0m\n\u001b[1;32m   2650\u001b[0m         \u001b[0;32mif\u001b[0m \u001b[0mindexer\u001b[0m\u001b[0;34m.\u001b[0m\u001b[0mndim\u001b[0m \u001b[0;34m>\u001b[0m \u001b[0;36m1\u001b[0m \u001b[0;32mor\u001b[0m \u001b[0mindexer\u001b[0m\u001b[0;34m.\u001b[0m\u001b[0msize\u001b[0m \u001b[0;34m>\u001b[0m \u001b[0;36m1\u001b[0m\u001b[0;34m:\u001b[0m\u001b[0;34m\u001b[0m\u001b[0;34m\u001b[0m\u001b[0m\n",
      "\u001b[0;32mpandas/_libs/index.pyx\u001b[0m in \u001b[0;36mpandas._libs.index.IndexEngine.get_loc\u001b[0;34m()\u001b[0m\n",
      "\u001b[0;32mpandas/_libs/index.pyx\u001b[0m in \u001b[0;36mpandas._libs.index.IndexEngine.get_loc\u001b[0;34m()\u001b[0m\n",
      "\u001b[0;32mpandas/_libs/hashtable_class_helper.pxi\u001b[0m in \u001b[0;36mpandas._libs.hashtable.Int64HashTable.get_item\u001b[0;34m()\u001b[0m\n",
      "\u001b[0;32mpandas/_libs/hashtable_class_helper.pxi\u001b[0m in \u001b[0;36mpandas._libs.hashtable.Int64HashTable.get_item\u001b[0;34m()\u001b[0m\n",
      "\u001b[0;31mKeyError\u001b[0m: 0"
     ]
    }
   ],
   "source": [
    "data = df_example[['ordinal_cat']]\n",
    "plot_clusters(data, hdbscan.HDBSCAN, (), {'min_cluster_size':2})"
   ]
  },
  {
   "cell_type": "code",
   "execution_count": null,
   "metadata": {},
   "outputs": [],
   "source": []
  },
  {
   "cell_type": "code",
   "execution_count": null,
   "metadata": {},
   "outputs": [],
   "source": []
  },
  {
   "cell_type": "code",
   "execution_count": 235,
   "metadata": {},
   "outputs": [
    {
     "name": "stderr",
     "output_type": "stream",
     "text": [
      "<ipython-input-223-5609ca077c31>:36: SettingWithCopyWarning: \n",
      "A value is trying to be set on a copy of a slice from a DataFrame.\n",
      "Try using .loc[row_indexer,col_indexer] = value instead\n",
      "\n",
      "See the caveats in the documentation: https://pandas.pydata.org/pandas-docs/stable/user_guide/indexing.html#returning-a-view-versus-a-copy\n",
      "  df['in_range'] = in_range\n"
     ]
    },
    {
     "data": {
      "image/png": "[encoded data removed]",
      "text/plain": [
       "<Figure size 432x288 with 1 Axes>"
      ]
     },
     "metadata": {
      "needs_background": "light"
     },
     "output_type": "display_data"
    }
   ],
   "source": [
    "# let's see which gas stations we should go to if we're driving from San Fransisco to Lake Tahoe\n",
    "start_point = (-122.4783, 37.8199)\n",
    "end_point = (-120.0324, 39.0968)\n",
    "\n",
    "full_viz(start = start_point, stop = end_point, max_distance_increase = 1.15, coordinate_df = gas_df_b)"
   ]
  },
  {
   "cell_type": "code",
   "execution_count": null,
   "metadata": {},
   "outputs": [],
   "source": []
  },
  {
   "cell_type": "code",
   "execution_count": null,
   "metadata": {},
   "outputs": [],
   "source": []
  },
  {
   "cell_type": "code",
   "execution_count": null,
   "metadata": {},
   "outputs": [],
   "source": [
    "def start_end_line(start, end):\n",
    "    slope = (start[1] - end[1]) / (start[0] - end[0])\n",
    "    b = start[1] - (slope * start[0])\n",
    "    \n",
    "    x = np.linspace(start[0], end[0])\n",
    "    y = slope * x + b\n",
    "    return (x, y)\n",
    "\n",
    "start_end_line(start_coords, end_coords)\n",
    "\n",
    "plt.plot(start_end_line(start_coords, end_coords)[0], start_end_line(start_coords, end_coords)[1], '-r')\n",
    "plt.title('Example')\n",
    "\n",
    "x_midpoint = (start_coords[0] + end_coords[0]) / 2\n",
    "y_midpoint = (start_coords[1] + end_coords[1]) / 2\n",
    "midpoint = (x_midpoint, y_midpoint)\n",
    "midpoint\n",
    "\n",
    "delta_x = end_coords[0] - start_coords[0]\n",
    "delta_y = end_coords[1] - start_coords[1]\n",
    "\n",
    "d = np.sqrt((delta_x)**2 + (delta_y)**2)\n",
    "\n",
    "max_distance_increase = 1.25\n",
    "h = semi_minor_axis = d * np.sqrt(max_distance_increase**2 - 1)\n",
    "\n",
    "line_angle = np.degrees(np.arctan(delta_y / delta_x))\n",
    "\n",
    "# Now for the ellipse plot\n",
    "# https://nickcharlton.net/posts/drawing-animating-shapes-matplotlib.html\n",
    "ellipse = Ellipse(xy = midpoint, width = d, height = h, angle = line_angle, alpha = .1)\n",
    "plt.gca().add_patch(ellipse)\n",
    "\n",
    "plt.axis('scaled')\n",
    "plt.show()\n",
    "\n",
    "line_angle\n",
    "#print(delta_x, delta_y)"
   ]
  },
  {
   "cell_type": "code",
   "execution_count": null,
   "metadata": {},
   "outputs": [],
   "source": []
  },
  {
   "cell_type": "code",
   "execution_count": null,
   "metadata": {},
   "outputs": [],
   "source": []
  },
  {
   "cell_type": "code",
   "execution_count": null,
   "metadata": {},
   "outputs": [],
   "source": []
  },
  {
   "cell_type": "code",
   "execution_count": null,
   "metadata": {},
   "outputs": [],
   "source": []
  },
  {
   "cell_type": "code",
   "execution_count": null,
   "metadata": {},
   "outputs": [],
   "source": [
    "def places_in_range_df(start, stop, max_distance_increase, coordinate_df):\n",
    "    # assuming we have a clean df (no NaN values)\n",
    "    \n",
    "    # only keep x and y coordinate columns\n",
    "    df = coordinate_df[['x', 'y']]\n",
    "    \n",
    "    # make these columns into lists\n",
    "    x_list = df['x'].tolist()\n",
    "    y_list = df['y'].tolist()\n",
    "    \n",
    "    # create list of coordinates as tuples\n",
    "    coordinate_list = []\n",
    "    for x in range(len(x_list)):\n",
    "        a, b = x_list[x], y_list[x]\n",
    "        coordinate_list.append((a, b))\n",
    "    \n",
    "    #create empty list that will be filled with the coordinates that are in range\n",
    "    in_range = []\n",
    "    #create empty list that will be filled with the trip ratio for the coordinates that are in range\n",
    "    trip_ratios = []\n",
    "    #create empty list that will be filled with the trip length for the coordinates that are in range\n",
    "    trip_lengths = []\n",
    "    \n",
    "    #loop through coordinate list\n",
    "    for x in coordinate_list:\n",
    "        # for each row / coordiante, determine if it's in range\n",
    "        if in_ellipse(start = start, end = end, target = x, max_distance_increase = max_distance_increase) == True:\n",
    "            in_range.append(x)\n",
    "            #trip_ratios.append(trip_ratio(start = start_coords, end = end_coords, target = x))\n",
    "            #trip_length.append(trip_length(start = start_coords, end = end_coords, target = x))\n",
    "        else:\n",
    "            pass\n",
    "        \n",
    "    \n",
    "    return in_range"
   ]
  },
  {
   "cell_type": "code",
   "execution_count": 85,
   "metadata": {},
   "outputs": [
    {
     "data": {
      "text/plain": [
       "list"
      ]
     },
     "execution_count": 85,
     "metadata": {},
     "output_type": "execute_result"
    }
   ],
   "source": [
    "df1 = df[['x', 'y']]\n",
    "df1_x_list = df1['x'].tolist()\n",
    "type(df1_x_list)"
   ]
  },
  {
   "cell_type": "code",
   "execution_count": null,
   "metadata": {},
   "outputs": [],
   "source": []
  },
  {
   "cell_type": "code",
   "execution_count": null,
   "metadata": {},
   "outputs": [],
   "source": [
    "# make sure the target point is within the bounded square\n",
    "if x2 > x1:\n",
    "    if x1 <= x_target <= x2:\n",
    "        pass\n",
    "    else:\n",
    "        print('your target is not within the boundary')"
   ]
  },
  {
   "cell_type": "code",
   "execution_count": null,
   "metadata": {},
   "outputs": [],
   "source": [
    "## Visualize what's above\n",
    "\n",
    "x1 = 2\n",
    "y1 = -1\n",
    "x2 = 3\n",
    "y2 = -3\n",
    "\n",
    "def line_eq(x1, y1, x2, y2):\n",
    "    slope = (y1 - y2) / (x1 - x2)\n",
    "    b = y1 - (slope * x1)\n",
    "    return (slope, b)\n",
    "    \n",
    "    \n",
    "x_graph = np.linspace(x1, x2)\n",
    "y_graph = (line_eq(x1, y1, x2, y2)[0] * x_graph) + line_eq(x1, y1, x2, y2)[1]\n",
    "\n",
    "plt.plot(x_graph, y_graph, '-r')\n",
    "plt.title('Example')"
   ]
  }
 ],
 "metadata": {
  "kernelspec": {
   "display_name": "Python 3",
   "language": "python",
   "name": "python3"
  },
  "language_info": {
   "codemirror_mode": {
    "name": "ipython",
    "version": 3
   },
   "file_extension": ".py",
   "mimetype": "text/x-python",
   "name": "python",
   "nbconvert_exporter": "python",
   "pygments_lexer": "ipython3",
   "version": "3.8.3"
  }
 },
 "nbformat": 4,
 "nbformat_minor": 4
}
