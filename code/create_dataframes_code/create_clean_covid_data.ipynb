{
 "cells": [
  {
   "cell_type": "markdown",
   "metadata": {},
   "source": [
    "# Overview:\n",
    "Here, we will be using the covid classification"
   ]
  },
  {
   "cell_type": "code",
   "execution_count": 154,
   "metadata": {},
   "outputs": [],
   "source": [
    "import numpy as np\n",
    "import matplotlib.pyplot as plt\n",
    "import pandas as pd\n",
    "\n",
    "import operator\n",
    "from functools import reduce"
   ]
  },
  {
   "cell_type": "code",
   "execution_count": 103,
   "metadata": {},
   "outputs": [
    {
     "data": {
      "text/html": [
       "<div>\n",
       "<style scoped>\n",
       "    .dataframe tbody tr th:only-of-type {\n",
       "        vertical-align: middle;\n",
       "    }\n",
       "\n",
       "    .dataframe tbody tr th {\n",
       "        vertical-align: top;\n",
       "    }\n",
       "\n",
       "    .dataframe thead th {\n",
       "        text-align: right;\n",
       "    }\n",
       "</style>\n",
       "<table border=\"1\" class=\"dataframe\">\n",
       "  <thead>\n",
       "    <tr style=\"text-align: right;\">\n",
       "      <th></th>\n",
       "      <th>date</th>\n",
       "      <th>county</th>\n",
       "      <th>fips</th>\n",
       "      <th>place</th>\n",
       "      <th>confirmed_cases</th>\n",
       "      <th>note</th>\n",
       "      <th>x</th>\n",
       "      <th>y</th>\n",
       "    </tr>\n",
       "  </thead>\n",
       "  <tbody>\n",
       "    <tr>\n",
       "      <th>0</th>\n",
       "      <td>2020-10-25</td>\n",
       "      <td>Alameda</td>\n",
       "      <td>1.0</td>\n",
       "      <td>Alameda</td>\n",
       "      <td>456</td>\n",
       "      <td>NaN</td>\n",
       "      <td>-122.274444</td>\n",
       "      <td>37.756111</td>\n",
       "    </tr>\n",
       "    <tr>\n",
       "      <th>1</th>\n",
       "      <td>2020-10-25</td>\n",
       "      <td>Alameda</td>\n",
       "      <td>1.0</td>\n",
       "      <td>Albany</td>\n",
       "      <td>63</td>\n",
       "      <td>NaN</td>\n",
       "      <td>-122.297778</td>\n",
       "      <td>37.886944</td>\n",
       "    </tr>\n",
       "    <tr>\n",
       "      <th>2</th>\n",
       "      <td>2020-10-25</td>\n",
       "      <td>Alameda</td>\n",
       "      <td>1.0</td>\n",
       "      <td>Berkeley</td>\n",
       "      <td>749</td>\n",
       "      <td>NaN</td>\n",
       "      <td>-122.272778</td>\n",
       "      <td>37.871667</td>\n",
       "    </tr>\n",
       "    <tr>\n",
       "      <th>3</th>\n",
       "      <td>2020-10-25</td>\n",
       "      <td>Alameda</td>\n",
       "      <td>1.0</td>\n",
       "      <td>Dublin</td>\n",
       "      <td>320</td>\n",
       "      <td>NaN</td>\n",
       "      <td>-121.935833</td>\n",
       "      <td>37.702222</td>\n",
       "    </tr>\n",
       "    <tr>\n",
       "      <th>4</th>\n",
       "      <td>2020-10-25</td>\n",
       "      <td>Alameda</td>\n",
       "      <td>1.0</td>\n",
       "      <td>Emeryville</td>\n",
       "      <td>102</td>\n",
       "      <td>NaN</td>\n",
       "      <td>-122.285278</td>\n",
       "      <td>37.831389</td>\n",
       "    </tr>\n",
       "  </tbody>\n",
       "</table>\n",
       "</div>"
      ],
      "text/plain": [
       "         date   county  fips       place  confirmed_cases note           x  \\\n",
       "0  2020-10-25  Alameda   1.0     Alameda              456  NaN -122.274444   \n",
       "1  2020-10-25  Alameda   1.0      Albany               63  NaN -122.297778   \n",
       "2  2020-10-25  Alameda   1.0    Berkeley              749  NaN -122.272778   \n",
       "3  2020-10-25  Alameda   1.0      Dublin              320  NaN -121.935833   \n",
       "4  2020-10-25  Alameda   1.0  Emeryville              102  NaN -122.285278   \n",
       "\n",
       "           y  \n",
       "0  37.756111  \n",
       "1  37.886944  \n",
       "2  37.871667  \n",
       "3  37.702222  \n",
       "4  37.831389  "
      ]
     },
     "execution_count": 103,
     "metadata": {},
     "output_type": "execute_result"
    }
   ],
   "source": [
    "covid_df = pd.read_csv('./data/latimes-place-totals.csv')\n",
    "covid_df['place'].nunique()\n",
    "covid_df.head()"
   ]
  },
  {
   "cell_type": "code",
   "execution_count": 110,
   "metadata": {},
   "outputs": [],
   "source": [
    "covid_df['date'] = pd.to_datetime(covid_df['date'])"
   ]
  },
  {
   "cell_type": "code",
   "execution_count": 112,
   "metadata": {},
   "outputs": [
    {
     "data": {
      "text/plain": [
       "0          True\n",
       "1          True\n",
       "2          True\n",
       "3          True\n",
       "4          True\n",
       "          ...  \n",
       "167265    False\n",
       "167266    False\n",
       "167267    False\n",
       "167268    False\n",
       "167269    False\n",
       "Name: date, Length: 167270, dtype: bool"
      ]
     },
     "execution_count": 112,
     "metadata": {},
     "output_type": "execute_result"
    }
   ],
   "source": [
    "months = [8, 9, 10]\n",
    "covid_df['date'].dt.month.isin(months)"
   ]
  },
  {
   "cell_type": "code",
   "execution_count": null,
   "metadata": {},
   "outputs": [],
   "source": []
  },
  {
   "cell_type": "code",
   "execution_count": 105,
   "metadata": {},
   "outputs": [
    {
     "name": "stdout",
     "output_type": "stream",
     "text": [
      "<class 'pandas.core.frame.DataFrame'>\n",
      "RangeIndex: 167270 entries, 0 to 167269\n",
      "Data columns (total 8 columns):\n",
      " #   Column           Non-Null Count   Dtype         \n",
      "---  ------           --------------   -----         \n",
      " 0   date             167270 non-null  datetime64[ns]\n",
      " 1   county           167270 non-null  object        \n",
      " 2   fips             165673 non-null  float64       \n",
      " 3   place            167270 non-null  object        \n",
      " 4   confirmed_cases  167270 non-null  int64         \n",
      " 5   note             5176 non-null    object        \n",
      " 6   x                164796 non-null  float64       \n",
      " 7   y                164796 non-null  float64       \n",
      "dtypes: datetime64[ns](1), float64(3), int64(1), object(3)\n",
      "memory usage: 10.2+ MB\n"
     ]
    }
   ],
   "source": [
    "covid_df.info()"
   ]
  },
  {
   "cell_type": "markdown",
   "metadata": {},
   "source": [
    "# Create usable covid case dataframe\n",
    "### Make sure that each place is represented only once."
   ]
  },
  {
   "cell_type": "markdown",
   "metadata": {},
   "source": [
    "### Need to automate this"
   ]
  },
  {
   "cell_type": "code",
   "execution_count": 114,
   "metadata": {},
   "outputs": [],
   "source": [
    "def get_latest_data(months, days, df):\n",
    "    start_month = months[0]\n",
    "    end_month = months[-1]\n",
    "    \n",
    "    df['date'] = pd.to_datetime(df['date'])\n",
    "    # start with full dataframe\n",
    "    df_total = df[df['date'].dt.month.isin(months) & df['date'].dt.day.isin(days)]\n",
    "    \n",
    "    #want to go backwards in time\n",
    "    df = pd.DataFrame()\n",
    "    places_list = []\n",
    "    \n",
    "    #for most recent month\n",
    "    for x in range(1, len(months)+1):\n",
    "        current_month = months[-x]\n",
    "        df_this_month = df_total.loc[df_total['date'].dt.month == current_month]\n",
    "        \n",
    "        #for most recent day\n",
    "        for i in range(1, len(days)+1):\n",
    "            current_day = days[-i]\n",
    "            df_this_day = df_this_month.loc[df_this_month['date'].dt.day == current_day]\n",
    "            \n",
    "            # only keep rows that have places that aren't represented yet\n",
    "            df_not_listed_yet = df_this_day[df_this_day['place'].isin(places_list) == False]\n",
    "            \n",
    "            df = df.append(df_not_listed_yet)\n",
    "            places_list = df['place'].to_list()\n",
    "                \n",
    "    \n",
    "    return df"
   ]
  },
  {
   "cell_type": "code",
   "execution_count": 126,
   "metadata": {},
   "outputs": [
    {
     "data": {
      "text/html": [
       "<div>\n",
       "<style scoped>\n",
       "    .dataframe tbody tr th:only-of-type {\n",
       "        vertical-align: middle;\n",
       "    }\n",
       "\n",
       "    .dataframe tbody tr th {\n",
       "        vertical-align: top;\n",
       "    }\n",
       "\n",
       "    .dataframe thead th {\n",
       "        text-align: right;\n",
       "    }\n",
       "</style>\n",
       "<table border=\"1\" class=\"dataframe\">\n",
       "  <thead>\n",
       "    <tr style=\"text-align: right;\">\n",
       "      <th></th>\n",
       "      <th>date</th>\n",
       "      <th>county</th>\n",
       "      <th>fips</th>\n",
       "      <th>place</th>\n",
       "      <th>confirmed_cases</th>\n",
       "      <th>note</th>\n",
       "      <th>x</th>\n",
       "      <th>y</th>\n",
       "    </tr>\n",
       "  </thead>\n",
       "  <tbody>\n",
       "    <tr>\n",
       "      <th>0</th>\n",
       "      <td>2020-10-25</td>\n",
       "      <td>Alameda</td>\n",
       "      <td>1.0</td>\n",
       "      <td>Alameda</td>\n",
       "      <td>456</td>\n",
       "      <td>NaN</td>\n",
       "      <td>-122.274444</td>\n",
       "      <td>37.756111</td>\n",
       "    </tr>\n",
       "    <tr>\n",
       "      <th>1</th>\n",
       "      <td>2020-10-25</td>\n",
       "      <td>Alameda</td>\n",
       "      <td>1.0</td>\n",
       "      <td>Albany</td>\n",
       "      <td>63</td>\n",
       "      <td>NaN</td>\n",
       "      <td>-122.297778</td>\n",
       "      <td>37.886944</td>\n",
       "    </tr>\n",
       "    <tr>\n",
       "      <th>2</th>\n",
       "      <td>2020-10-25</td>\n",
       "      <td>Alameda</td>\n",
       "      <td>1.0</td>\n",
       "      <td>Berkeley</td>\n",
       "      <td>749</td>\n",
       "      <td>NaN</td>\n",
       "      <td>-122.272778</td>\n",
       "      <td>37.871667</td>\n",
       "    </tr>\n",
       "    <tr>\n",
       "      <th>3</th>\n",
       "      <td>2020-10-25</td>\n",
       "      <td>Alameda</td>\n",
       "      <td>1.0</td>\n",
       "      <td>Dublin</td>\n",
       "      <td>320</td>\n",
       "      <td>NaN</td>\n",
       "      <td>-121.935833</td>\n",
       "      <td>37.702222</td>\n",
       "    </tr>\n",
       "    <tr>\n",
       "      <th>4</th>\n",
       "      <td>2020-10-25</td>\n",
       "      <td>Alameda</td>\n",
       "      <td>1.0</td>\n",
       "      <td>Emeryville</td>\n",
       "      <td>102</td>\n",
       "      <td>NaN</td>\n",
       "      <td>-122.285278</td>\n",
       "      <td>37.831389</td>\n",
       "    </tr>\n",
       "  </tbody>\n",
       "</table>\n",
       "</div>"
      ],
      "text/plain": [
       "        date   county  fips       place  confirmed_cases note           x  \\\n",
       "0 2020-10-25  Alameda   1.0     Alameda              456  NaN -122.274444   \n",
       "1 2020-10-25  Alameda   1.0      Albany               63  NaN -122.297778   \n",
       "2 2020-10-25  Alameda   1.0    Berkeley              749  NaN -122.272778   \n",
       "3 2020-10-25  Alameda   1.0      Dublin              320  NaN -121.935833   \n",
       "4 2020-10-25  Alameda   1.0  Emeryville              102  NaN -122.285278   \n",
       "\n",
       "           y  \n",
       "0  37.756111  \n",
       "1  37.886944  \n",
       "2  37.871667  \n",
       "3  37.702222  \n",
       "4  37.831389  "
      ]
     },
     "execution_count": 126,
     "metadata": {},
     "output_type": "execute_result"
    }
   ],
   "source": [
    "covid_df = pd.read_csv('./data/latimes-place-totals.csv')\n",
    "real_df = get_latest_data(months = list(range(3, 11)), days = list(range(1, 26)), df = covid_df)\n",
    "\n",
    "real_df.dropna(subset = ['x', 'y'], inplace = True)\n",
    "real_df.head()"
   ]
  },
  {
   "cell_type": "code",
   "execution_count": 135,
   "metadata": {},
   "outputs": [
    {
     "name": "stdout",
     "output_type": "stream",
     "text": [
      "<class 'pandas.core.frame.DataFrame'>\n",
      "Int64Index: 1205 entries, 0 to 167255\n",
      "Data columns (total 9 columns):\n",
      " #   Column           Non-Null Count  Dtype         \n",
      "---  ------           --------------  -----         \n",
      " 0   date             1205 non-null   datetime64[ns]\n",
      " 1   county           1205 non-null   object        \n",
      " 2   fips             1192 non-null   float64       \n",
      " 3   place            1205 non-null   object        \n",
      " 4   confirmed_cases  1205 non-null   int64         \n",
      " 5   note             40 non-null     object        \n",
      " 6   x                1205 non-null   float64       \n",
      " 7   y                1205 non-null   float64       \n",
      " 8   log_cases        1205 non-null   float64       \n",
      "dtypes: datetime64[ns](1), float64(4), int64(1), object(3)\n",
      "memory usage: 94.1+ KB\n"
     ]
    }
   ],
   "source": [
    "real_df.info()"
   ]
  },
  {
   "cell_type": "code",
   "execution_count": 128,
   "metadata": {},
   "outputs": [],
   "source": [
    "# find outliers and eliminate\n",
    "real_df = real_df.loc[real_df['x'] != real_df['x'].max()]"
   ]
  },
  {
   "cell_type": "code",
   "execution_count": 279,
   "metadata": {},
   "outputs": [
    {
     "data": {
      "text/plain": [
       "<matplotlib.collections.PathCollection at 0x7fe03b6ee250>"
      ]
     },
     "execution_count": 279,
     "metadata": {},
     "output_type": "execute_result"
    },
    {
     "data": {
      "image/png": "[encoded data removed]",
      "text/plain": [
       "<Figure size 864x864 with 1 Axes>"
      ]
     },
     "metadata": {
      "needs_background": "light"
     },
     "output_type": "display_data"
    }
   ],
   "source": [
    "plt.figure(figsize=(12, 12))\n",
    "plt.scatter(real_df['x'], real_df['y'], c = real_df['confirmed_cases'], alpha = .3)"
   ]
  },
  {
   "cell_type": "code",
   "execution_count": 132,
   "metadata": {},
   "outputs": [
    {
     "data": {
      "text/plain": [
       "(array([1.116e+03, 6.600e+01, 1.100e+01, 3.000e+00, 4.000e+00, 1.000e+00,\n",
       "        2.000e+00, 1.000e+00, 0.000e+00, 1.000e+00]),\n",
       " array([1.00000e+00, 2.36530e+03, 4.72960e+03, 7.09390e+03, 9.45820e+03,\n",
       "        1.18225e+04, 1.41868e+04, 1.65511e+04, 1.89154e+04, 2.12797e+04,\n",
       "        2.36440e+04]),\n",
       " <a list of 10 Patch objects>)"
      ]
     },
     "execution_count": 132,
     "metadata": {},
     "output_type": "execute_result"
    },
    {
     "data": {
      "image/png": "[encoded data removed]",
      "text/plain": [
       "<Figure size 432x288 with 1 Axes>"
      ]
     },
     "metadata": {
      "needs_background": "light"
     },
     "output_type": "display_data"
    }
   ],
   "source": [
    "plt.hist(real_df['confirmed_cases'])"
   ]
  },
  {
   "cell_type": "code",
   "execution_count": 133,
   "metadata": {},
   "outputs": [],
   "source": [
    "real_df['log_cases'] = np.log(real_df['confirmed_cases'])"
   ]
  },
  {
   "cell_type": "code",
   "execution_count": 212,
   "metadata": {},
   "outputs": [
    {
     "data": {
      "image/png": "[encoded data removed]",
      "text/plain": [
       "<Figure size 432x288 with 1 Axes>"
      ]
     },
     "metadata": {
      "needs_background": "light"
     },
     "output_type": "display_data"
    }
   ],
   "source": [
    "# get number in each bin\n",
    "(n, bins, patches) = plt.hist(real_df['log_cases'], bins=5, label='hst')\n",
    "\n",
    "plt.show()"
   ]
  },
  {
   "cell_type": "code",
   "execution_count": 213,
   "metadata": {},
   "outputs": [
    {
     "name": "stdout",
     "output_type": "stream",
     "text": [
      "[151. 250. 379. 363.  62.]\n"
     ]
    }
   ],
   "source": [
    "print(n)"
   ]
  },
  {
   "cell_type": "code",
   "execution_count": 214,
   "metadata": {},
   "outputs": [],
   "source": [
    "real_df.sort_values(by = 'log_cases', inplace = True)"
   ]
  },
  {
   "cell_type": "code",
   "execution_count": 215,
   "metadata": {},
   "outputs": [
    {
     "data": {
      "text/plain": [
       "1205"
      ]
     },
     "execution_count": 215,
     "metadata": {},
     "output_type": "execute_result"
    }
   ],
   "source": [
    "# instantiate empty list\n",
    "bin_num = []\n",
    "for x in range(len(n)):\n",
    "    lis = [x]\n",
    "    bin_num.append(lis * int(n[x]))\n",
    "\n",
    "bins = reduce(operator.concat, bin_num)\n",
    "len(bins)"
   ]
  },
  {
   "cell_type": "code",
   "execution_count": 216,
   "metadata": {},
   "outputs": [],
   "source": [
    "real_df['category'] =  bins"
   ]
  },
  {
   "cell_type": "code",
   "execution_count": 217,
   "metadata": {},
   "outputs": [
    {
     "data": {
      "text/html": [
       "<div>\n",
       "<style scoped>\n",
       "    .dataframe tbody tr th:only-of-type {\n",
       "        vertical-align: middle;\n",
       "    }\n",
       "\n",
       "    .dataframe tbody tr th {\n",
       "        vertical-align: top;\n",
       "    }\n",
       "\n",
       "    .dataframe thead th {\n",
       "        text-align: right;\n",
       "    }\n",
       "</style>\n",
       "<table border=\"1\" class=\"dataframe\">\n",
       "  <thead>\n",
       "    <tr style=\"text-align: right;\">\n",
       "      <th></th>\n",
       "      <th>date</th>\n",
       "      <th>county</th>\n",
       "      <th>fips</th>\n",
       "      <th>place</th>\n",
       "      <th>confirmed_cases</th>\n",
       "      <th>note</th>\n",
       "      <th>x</th>\n",
       "      <th>y</th>\n",
       "      <th>log_cases</th>\n",
       "      <th>category</th>\n",
       "    </tr>\n",
       "  </thead>\n",
       "  <tbody>\n",
       "    <tr>\n",
       "      <th>253</th>\n",
       "      <td>2020-10-25</td>\n",
       "      <td>Los Angeles</td>\n",
       "      <td>37.0</td>\n",
       "      <td>Long Beach</td>\n",
       "      <td>13013</td>\n",
       "      <td>NaN</td>\n",
       "      <td>-118.161014</td>\n",
       "      <td>33.805559</td>\n",
       "      <td>9.473704</td>\n",
       "      <td>4</td>\n",
       "    </tr>\n",
       "    <tr>\n",
       "      <th>2013</th>\n",
       "      <td>2020-10-23</td>\n",
       "      <td>Sacramento</td>\n",
       "      <td>67.0</td>\n",
       "      <td>Sacramento</td>\n",
       "      <td>14476</td>\n",
       "      <td>NaN</td>\n",
       "      <td>-121.494444</td>\n",
       "      <td>38.581667</td>\n",
       "      <td>9.580247</td>\n",
       "      <td>4</td>\n",
       "    </tr>\n",
       "    <tr>\n",
       "      <th>637</th>\n",
       "      <td>2020-10-25</td>\n",
       "      <td>Santa Clara</td>\n",
       "      <td>85.0</td>\n",
       "      <td>San Jose</td>\n",
       "      <td>15817</td>\n",
       "      <td>NaN</td>\n",
       "      <td>-121.900000</td>\n",
       "      <td>37.333333</td>\n",
       "      <td>9.668841</td>\n",
       "      <td>4</td>\n",
       "    </tr>\n",
       "    <tr>\n",
       "      <th>1353</th>\n",
       "      <td>2020-10-23</td>\n",
       "      <td>Fresno</td>\n",
       "      <td>19.0</td>\n",
       "      <td>Fresno</td>\n",
       "      <td>17052</td>\n",
       "      <td>NaN</td>\n",
       "      <td>-119.766667</td>\n",
       "      <td>36.750000</td>\n",
       "      <td>9.744023</td>\n",
       "      <td>4</td>\n",
       "    </tr>\n",
       "    <tr>\n",
       "      <th>590</th>\n",
       "      <td>2020-10-25</td>\n",
       "      <td>San Diego</td>\n",
       "      <td>73.0</td>\n",
       "      <td>San Diego</td>\n",
       "      <td>23644</td>\n",
       "      <td>NaN</td>\n",
       "      <td>-117.148962</td>\n",
       "      <td>32.692470</td>\n",
       "      <td>10.070865</td>\n",
       "      <td>4</td>\n",
       "    </tr>\n",
       "  </tbody>\n",
       "</table>\n",
       "</div>"
      ],
      "text/plain": [
       "           date       county  fips       place  confirmed_cases note  \\\n",
       "253  2020-10-25  Los Angeles  37.0  Long Beach            13013  NaN   \n",
       "2013 2020-10-23   Sacramento  67.0  Sacramento            14476  NaN   \n",
       "637  2020-10-25  Santa Clara  85.0    San Jose            15817  NaN   \n",
       "1353 2020-10-23       Fresno  19.0      Fresno            17052  NaN   \n",
       "590  2020-10-25    San Diego  73.0   San Diego            23644  NaN   \n",
       "\n",
       "               x          y  log_cases  category  \n",
       "253  -118.161014  33.805559   9.473704         4  \n",
       "2013 -121.494444  38.581667   9.580247         4  \n",
       "637  -121.900000  37.333333   9.668841         4  \n",
       "1353 -119.766667  36.750000   9.744023         4  \n",
       "590  -117.148962  32.692470  10.070865         4  "
      ]
     },
     "execution_count": 217,
     "metadata": {},
     "output_type": "execute_result"
    }
   ],
   "source": [
    "real_df.tail()"
   ]
  },
  {
   "cell_type": "code",
   "execution_count": 232,
   "metadata": {},
   "outputs": [],
   "source": [
    "from pandas.api.types import CategoricalDtype"
   ]
  },
  {
   "cell_type": "code",
   "execution_count": 255,
   "metadata": {},
   "outputs": [],
   "source": [
    "bin_values = list(range(10))\n",
    "cat_type = CategoricalDtype(categories=bin_values, ordered = True)\n",
    "\n",
    "real_df['ordinal_cat'] = real_df['category'].astype(cat_type)\n",
    "#real_df['ordinal_cat'] = pd.Categorical(real_df['category'], ordered =True, categories = bins)"
   ]
  },
  {
   "cell_type": "code",
   "execution_count": null,
   "metadata": {},
   "outputs": [],
   "source": []
  },
  {
   "cell_type": "code",
   "execution_count": 273,
   "metadata": {},
   "outputs": [
    {
     "data": {
      "text/html": [
       "<div>\n",
       "<style scoped>\n",
       "    .dataframe tbody tr th:only-of-type {\n",
       "        vertical-align: middle;\n",
       "    }\n",
       "\n",
       "    .dataframe tbody tr th {\n",
       "        vertical-align: top;\n",
       "    }\n",
       "\n",
       "    .dataframe thead th {\n",
       "        text-align: right;\n",
       "    }\n",
       "</style>\n",
       "<table border=\"1\" class=\"dataframe\">\n",
       "  <thead>\n",
       "    <tr style=\"text-align: right;\">\n",
       "      <th></th>\n",
       "      <th>date</th>\n",
       "      <th>county</th>\n",
       "      <th>fips</th>\n",
       "      <th>place</th>\n",
       "      <th>confirmed_cases</th>\n",
       "      <th>note</th>\n",
       "      <th>x</th>\n",
       "      <th>y</th>\n",
       "      <th>log_cases</th>\n",
       "      <th>category</th>\n",
       "      <th>ordinal_cat</th>\n",
       "    </tr>\n",
       "  </thead>\n",
       "  <tbody>\n",
       "    <tr>\n",
       "      <th>253</th>\n",
       "      <td>2020-10-25</td>\n",
       "      <td>Los Angeles</td>\n",
       "      <td>37.0</td>\n",
       "      <td>Long Beach</td>\n",
       "      <td>13013</td>\n",
       "      <td>NaN</td>\n",
       "      <td>-118.161014</td>\n",
       "      <td>33.805559</td>\n",
       "      <td>9.473704</td>\n",
       "      <td>4</td>\n",
       "      <td>4</td>\n",
       "    </tr>\n",
       "    <tr>\n",
       "      <th>2013</th>\n",
       "      <td>2020-10-23</td>\n",
       "      <td>Sacramento</td>\n",
       "      <td>67.0</td>\n",
       "      <td>Sacramento</td>\n",
       "      <td>14476</td>\n",
       "      <td>NaN</td>\n",
       "      <td>-121.494444</td>\n",
       "      <td>38.581667</td>\n",
       "      <td>9.580247</td>\n",
       "      <td>4</td>\n",
       "      <td>4</td>\n",
       "    </tr>\n",
       "    <tr>\n",
       "      <th>637</th>\n",
       "      <td>2020-10-25</td>\n",
       "      <td>Santa Clara</td>\n",
       "      <td>85.0</td>\n",
       "      <td>San Jose</td>\n",
       "      <td>15817</td>\n",
       "      <td>NaN</td>\n",
       "      <td>-121.900000</td>\n",
       "      <td>37.333333</td>\n",
       "      <td>9.668841</td>\n",
       "      <td>4</td>\n",
       "      <td>4</td>\n",
       "    </tr>\n",
       "    <tr>\n",
       "      <th>1353</th>\n",
       "      <td>2020-10-23</td>\n",
       "      <td>Fresno</td>\n",
       "      <td>19.0</td>\n",
       "      <td>Fresno</td>\n",
       "      <td>17052</td>\n",
       "      <td>NaN</td>\n",
       "      <td>-119.766667</td>\n",
       "      <td>36.750000</td>\n",
       "      <td>9.744023</td>\n",
       "      <td>4</td>\n",
       "      <td>4</td>\n",
       "    </tr>\n",
       "    <tr>\n",
       "      <th>590</th>\n",
       "      <td>2020-10-25</td>\n",
       "      <td>San Diego</td>\n",
       "      <td>73.0</td>\n",
       "      <td>San Diego</td>\n",
       "      <td>23644</td>\n",
       "      <td>NaN</td>\n",
       "      <td>-117.148962</td>\n",
       "      <td>32.692470</td>\n",
       "      <td>10.070865</td>\n",
       "      <td>4</td>\n",
       "      <td>4</td>\n",
       "    </tr>\n",
       "  </tbody>\n",
       "</table>\n",
       "</div>"
      ],
      "text/plain": [
       "           date       county  fips       place  confirmed_cases note  \\\n",
       "253  2020-10-25  Los Angeles  37.0  Long Beach            13013  NaN   \n",
       "2013 2020-10-23   Sacramento  67.0  Sacramento            14476  NaN   \n",
       "637  2020-10-25  Santa Clara  85.0    San Jose            15817  NaN   \n",
       "1353 2020-10-23       Fresno  19.0      Fresno            17052  NaN   \n",
       "590  2020-10-25    San Diego  73.0   San Diego            23644  NaN   \n",
       "\n",
       "               x          y  log_cases  category ordinal_cat  \n",
       "253  -118.161014  33.805559   9.473704         4           4  \n",
       "2013 -121.494444  38.581667   9.580247         4           4  \n",
       "637  -121.900000  37.333333   9.668841         4           4  \n",
       "1353 -119.766667  36.750000   9.744023         4           4  \n",
       "590  -117.148962  32.692470  10.070865         4           4  "
      ]
     },
     "execution_count": 273,
     "metadata": {},
     "output_type": "execute_result"
    }
   ],
   "source": [
    "real_df.tail()"
   ]
  },
  {
   "cell_type": "code",
   "execution_count": 271,
   "metadata": {},
   "outputs": [],
   "source": [
    "real_df.to_csv('./data/clean_covid_data.csv', index = False)"
   ]
  },
  {
   "cell_type": "markdown",
   "metadata": {},
   "source": [
    "# NOTE: For the updated version of the rest of this, look at Shiffraw's branch\n",
    "## Draft Models\n",
    "- for train/test/split, will need to stratify!!! if possible."
   ]
  },
  {
   "cell_type": "code",
   "execution_count": 160,
   "metadata": {},
   "outputs": [],
   "source": [
    "#Imports\n",
    "%matplotlib inline\n",
    "import numpy as mp\n",
    "import pandas as pd\n",
    "import matplotlib.pyplot as plt\n",
    "import seaborn as sns\n",
    "\n",
    "from sklearn.model_selection import cross_val_score, train_test_split, GridSearchCV\n",
    "from sklearn.preprocessing import StandardScaler\n",
    "from sklearn.datasets import load_iris\n",
    "from sklearn.neighbors import KNeighborsClassifier"
   ]
  },
  {
   "cell_type": "markdown",
   "metadata": {},
   "source": [
    "#### Create X and y"
   ]
  },
  {
   "cell_type": "code",
   "execution_count": 257,
   "metadata": {},
   "outputs": [],
   "source": [
    "X = real_df[['x', 'y']]\n",
    "y = real_df['ordinal_cat']"
   ]
  },
  {
   "cell_type": "code",
   "execution_count": 258,
   "metadata": {},
   "outputs": [],
   "source": [
    "X_train, X_test, y_train, y_test = train_test_split(X, y, random_state = 22)#, stratify = y)"
   ]
  },
  {
   "cell_type": "code",
   "execution_count": 259,
   "metadata": {},
   "outputs": [],
   "source": [
    "sscaler = StandardScaler()\n",
    "X_train_scaled = sscaler.fit_transform(X_train)\n",
    "X_test_scaled = sscaler.transform(X_test)"
   ]
  },
  {
   "cell_type": "code",
   "execution_count": 260,
   "metadata": {},
   "outputs": [
    {
     "data": {
      "text/plain": [
       "0.38741721854304634"
      ]
     },
     "execution_count": 260,
     "metadata": {},
     "output_type": "execute_result"
    }
   ],
   "source": [
    "knn = KNeighborsClassifier(n_neighbors = 3)\n",
    "knn.fit(X_train_scaled, y_train)\n",
    "knn.score(X_test_scaled, y_test)"
   ]
  },
  {
   "cell_type": "code",
   "execution_count": 261,
   "metadata": {},
   "outputs": [
    {
     "data": {
      "text/plain": [
       "array([[0.        , 0.33333333, 0.66666667, 0.        , 0.        ],\n",
       "       [0.        , 0.33333333, 0.66666667, 0.        , 0.        ],\n",
       "       [0.        , 0.33333333, 0.66666667, 0.        , 0.        ],\n",
       "       ...,\n",
       "       [0.        , 0.33333333, 0.66666667, 0.        , 0.        ],\n",
       "       [0.        , 0.33333333, 0.66666667, 0.        , 0.        ],\n",
       "       [0.        , 0.33333333, 0.66666667, 0.        , 0.        ]])"
      ]
     },
     "execution_count": 261,
     "metadata": {},
     "output_type": "execute_result"
    }
   ],
   "source": [
    "knn.predict_proba(X_test)"
   ]
  },
  {
   "cell_type": "markdown",
   "metadata": {},
   "source": [
    "### Well that was gross.\n",
    "# Let's try Random Forests"
   ]
  },
  {
   "cell_type": "code",
   "execution_count": 175,
   "metadata": {},
   "outputs": [],
   "source": [
    "import pandas as pd\n",
    "import numpy as np\n",
    "from sklearn.model_selection import GridSearchCV, train_test_split, cross_val_score\n",
    "from sklearn.ensemble import RandomForestClassifier, ExtraTreesClassifier"
   ]
  },
  {
   "cell_type": "code",
   "execution_count": 262,
   "metadata": {},
   "outputs": [],
   "source": [
    "forest = RandomForestClassifier() "
   ]
  },
  {
   "cell_type": "code",
   "execution_count": 263,
   "metadata": {},
   "outputs": [
    {
     "data": {
      "text/plain": [
       "0.3576795580110497"
      ]
     },
     "execution_count": 263,
     "metadata": {},
     "output_type": "execute_result"
    }
   ],
   "source": [
    "cross_val_score(forest, X_train, y_train, cv = 5).mean()"
   ]
  },
  {
   "cell_type": "code",
   "execution_count": 222,
   "metadata": {},
   "outputs": [],
   "source": [
    "params = {\n",
    "    'n_estimators': [100, 200, 500, 1000], #how many decision trees are under the hood\n",
    "    'max_depth': [2, 5, 7],\n",
    "    'min_samples_split': [1, 2, 3],\n",
    "    'min_samples_leaf': [1, 2]\n",
    "}\n",
    "forest = RandomForestClassifier()\n",
    "grid = GridSearchCV(forest, param_grid = params, cv = 5, n_jobs = -1)"
   ]
  },
  {
   "cell_type": "code",
   "execution_count": 223,
   "metadata": {},
   "outputs": [
    {
     "data": {
      "text/plain": [
       "GridSearchCV(cv=5, estimator=RandomForestClassifier(), n_jobs=-1,\n",
       "             param_grid={'max_depth': [2, 5, 7], 'min_samples_leaf': [1, 2],\n",
       "                         'min_samples_split': [1, 2, 3],\n",
       "                         'n_estimators': [100, 200, 500, 1000]})"
      ]
     },
     "execution_count": 223,
     "metadata": {},
     "output_type": "execute_result"
    }
   ],
   "source": [
    "grid.fit(X_train, y_train)"
   ]
  },
  {
   "cell_type": "code",
   "execution_count": 224,
   "metadata": {},
   "outputs": [
    {
     "data": {
      "text/plain": [
       "0.39403973509933776"
      ]
     },
     "execution_count": 224,
     "metadata": {},
     "output_type": "execute_result"
    }
   ],
   "source": [
    "grid.score(X_test, y_test)"
   ]
  },
  {
   "cell_type": "code",
   "execution_count": 225,
   "metadata": {},
   "outputs": [
    {
     "data": {
      "text/plain": [
       "{'max_depth': 5,\n",
       " 'min_samples_leaf': 2,\n",
       " 'min_samples_split': 2,\n",
       " 'n_estimators': 500}"
      ]
     },
     "execution_count": 225,
     "metadata": {},
     "output_type": "execute_result"
    }
   ],
   "source": [
    "grid.best_params_"
   ]
  },
  {
   "cell_type": "code",
   "execution_count": 234,
   "metadata": {},
   "outputs": [],
   "source": [
    "gas_df = pd.read_csv('./data/gas_stations.csv')"
   ]
  },
  {
   "cell_type": "code",
   "execution_count": 235,
   "metadata": {},
   "outputs": [
    {
     "data": {
      "text/html": [
       "<div>\n",
       "<style scoped>\n",
       "    .dataframe tbody tr th:only-of-type {\n",
       "        vertical-align: middle;\n",
       "    }\n",
       "\n",
       "    .dataframe tbody tr th {\n",
       "        vertical-align: top;\n",
       "    }\n",
       "\n",
       "    .dataframe thead th {\n",
       "        text-align: right;\n",
       "    }\n",
       "</style>\n",
       "<table border=\"1\" class=\"dataframe\">\n",
       "  <thead>\n",
       "    <tr style=\"text-align: right;\">\n",
       "      <th></th>\n",
       "      <th>name</th>\n",
       "      <th>longitude</th>\n",
       "      <th>latitude</th>\n",
       "    </tr>\n",
       "  </thead>\n",
       "  <tbody>\n",
       "    <tr>\n",
       "      <th>0</th>\n",
       "      <td>Circle K &amp; Minimart</td>\n",
       "      <td>-117.190777</td>\n",
       "      <td>34.057365</td>\n",
       "    </tr>\n",
       "    <tr>\n",
       "      <th>1</th>\n",
       "      <td>NaN</td>\n",
       "      <td>-117.225609</td>\n",
       "      <td>34.048575</td>\n",
       "    </tr>\n",
       "    <tr>\n",
       "      <th>2</th>\n",
       "      <td>NaN</td>\n",
       "      <td>-117.156299</td>\n",
       "      <td>34.041388</td>\n",
       "    </tr>\n",
       "    <tr>\n",
       "      <th>3</th>\n",
       "      <td>Arco</td>\n",
       "      <td>-122.420268</td>\n",
       "      <td>37.768468</td>\n",
       "    </tr>\n",
       "    <tr>\n",
       "      <th>4</th>\n",
       "      <td>Valley Oil</td>\n",
       "      <td>-122.070127</td>\n",
       "      <td>37.381165</td>\n",
       "    </tr>\n",
       "  </tbody>\n",
       "</table>\n",
       "</div>"
      ],
      "text/plain": [
       "                  name   longitude   latitude\n",
       "0  Circle K & Minimart -117.190777  34.057365\n",
       "1                  NaN -117.225609  34.048575\n",
       "2                  NaN -117.156299  34.041388\n",
       "3                 Arco -122.420268  37.768468\n",
       "4           Valley Oil -122.070127  37.381165"
      ]
     },
     "execution_count": 235,
     "metadata": {},
     "output_type": "execute_result"
    }
   ],
   "source": [
    "gas_df.head()"
   ]
  },
  {
   "cell_type": "code",
   "execution_count": 241,
   "metadata": {},
   "outputs": [],
   "source": [
    "X_gas = gas_df[['longitude', 'latitude']]"
   ]
  },
  {
   "cell_type": "code",
   "execution_count": 242,
   "metadata": {},
   "outputs": [],
   "source": [
    "# use random forest to predict category (y) for each data point\n",
    "y_gas = grid.predict(X_gas)"
   ]
  },
  {
   "cell_type": "code",
   "execution_count": 243,
   "metadata": {},
   "outputs": [],
   "source": [
    "gas_df['cat'] = y_gas"
   ]
  },
  {
   "cell_type": "code",
   "execution_count": 244,
   "metadata": {},
   "outputs": [
    {
     "data": {
      "text/html": [
       "<div>\n",
       "<style scoped>\n",
       "    .dataframe tbody tr th:only-of-type {\n",
       "        vertical-align: middle;\n",
       "    }\n",
       "\n",
       "    .dataframe tbody tr th {\n",
       "        vertical-align: top;\n",
       "    }\n",
       "\n",
       "    .dataframe thead th {\n",
       "        text-align: right;\n",
       "    }\n",
       "</style>\n",
       "<table border=\"1\" class=\"dataframe\">\n",
       "  <thead>\n",
       "    <tr style=\"text-align: right;\">\n",
       "      <th></th>\n",
       "      <th>name</th>\n",
       "      <th>longitude</th>\n",
       "      <th>latitude</th>\n",
       "      <th>cat</th>\n",
       "    </tr>\n",
       "  </thead>\n",
       "  <tbody>\n",
       "    <tr>\n",
       "      <th>0</th>\n",
       "      <td>Circle K &amp; Minimart</td>\n",
       "      <td>-117.190777</td>\n",
       "      <td>34.057365</td>\n",
       "      <td>3</td>\n",
       "    </tr>\n",
       "    <tr>\n",
       "      <th>1</th>\n",
       "      <td>NaN</td>\n",
       "      <td>-117.225609</td>\n",
       "      <td>34.048575</td>\n",
       "      <td>3</td>\n",
       "    </tr>\n",
       "    <tr>\n",
       "      <th>2</th>\n",
       "      <td>NaN</td>\n",
       "      <td>-117.156299</td>\n",
       "      <td>34.041388</td>\n",
       "      <td>3</td>\n",
       "    </tr>\n",
       "    <tr>\n",
       "      <th>3</th>\n",
       "      <td>Arco</td>\n",
       "      <td>-122.420268</td>\n",
       "      <td>37.768468</td>\n",
       "      <td>2</td>\n",
       "    </tr>\n",
       "    <tr>\n",
       "      <th>4</th>\n",
       "      <td>Valley Oil</td>\n",
       "      <td>-122.070127</td>\n",
       "      <td>37.381165</td>\n",
       "      <td>2</td>\n",
       "    </tr>\n",
       "  </tbody>\n",
       "</table>\n",
       "</div>"
      ],
      "text/plain": [
       "                  name   longitude   latitude  cat\n",
       "0  Circle K & Minimart -117.190777  34.057365    3\n",
       "1                  NaN -117.225609  34.048575    3\n",
       "2                  NaN -117.156299  34.041388    3\n",
       "3                 Arco -122.420268  37.768468    2\n",
       "4           Valley Oil -122.070127  37.381165    2"
      ]
     },
     "execution_count": 244,
     "metadata": {},
     "output_type": "execute_result"
    }
   ],
   "source": [
    "gas_df.head()"
   ]
  },
  {
   "cell_type": "code",
   "execution_count": null,
   "metadata": {},
   "outputs": [],
   "source": [
    "gas_df = gas\n",
    "real_df = real_df.loc[real_df['x'] != real_df['x'].max()]"
   ]
  },
  {
   "cell_type": "code",
   "execution_count": 245,
   "metadata": {
    "collapsed": true,
    "jupyter": {
     "outputs_hidden": true
    }
   },
   "outputs": [
    {
     "data": {
      "text/plain": [
       "<matplotlib.collections.PathCollection at 0x7fe03b43f490>"
      ]
     },
     "execution_count": 245,
     "metadata": {},
     "output_type": "execute_result"
    },
    {
     "data": {
      "image/png": "[encoded data removed]",
      "text/plain": [
       "<Figure size 432x288 with 1 Axes>"
      ]
     },
     "metadata": {
      "needs_background": "light"
     },
     "output_type": "display_data"
    }
   ],
   "source": [
    "plt.scatter(gas_df['longitude'], gas_df['latitude'], c = gas_df['cat'], alpha = .4)"
   ]
  },
  {
   "cell_type": "code",
   "execution_count": 247,
   "metadata": {},
   "outputs": [
    {
     "data": {
      "text/html": [
       "<div>\n",
       "<style scoped>\n",
       "    .dataframe tbody tr th:only-of-type {\n",
       "        vertical-align: middle;\n",
       "    }\n",
       "\n",
       "    .dataframe tbody tr th {\n",
       "        vertical-align: top;\n",
       "    }\n",
       "\n",
       "    .dataframe thead th {\n",
       "        text-align: right;\n",
       "    }\n",
       "</style>\n",
       "<table border=\"1\" class=\"dataframe\">\n",
       "  <thead>\n",
       "    <tr style=\"text-align: right;\">\n",
       "      <th></th>\n",
       "      <th>date</th>\n",
       "      <th>county</th>\n",
       "      <th>fips</th>\n",
       "      <th>place</th>\n",
       "      <th>confirmed_cases</th>\n",
       "      <th>note</th>\n",
       "      <th>x</th>\n",
       "      <th>y</th>\n",
       "    </tr>\n",
       "  </thead>\n",
       "  <tbody>\n",
       "    <tr>\n",
       "      <th>0</th>\n",
       "      <td>2020-10-25</td>\n",
       "      <td>Alameda</td>\n",
       "      <td>1.0</td>\n",
       "      <td>Alameda</td>\n",
       "      <td>456</td>\n",
       "      <td>NaN</td>\n",
       "      <td>-122.274444</td>\n",
       "      <td>37.756111</td>\n",
       "    </tr>\n",
       "    <tr>\n",
       "      <th>1</th>\n",
       "      <td>2020-10-25</td>\n",
       "      <td>Alameda</td>\n",
       "      <td>1.0</td>\n",
       "      <td>Albany</td>\n",
       "      <td>63</td>\n",
       "      <td>NaN</td>\n",
       "      <td>-122.297778</td>\n",
       "      <td>37.886944</td>\n",
       "    </tr>\n",
       "    <tr>\n",
       "      <th>2</th>\n",
       "      <td>2020-10-25</td>\n",
       "      <td>Alameda</td>\n",
       "      <td>1.0</td>\n",
       "      <td>Berkeley</td>\n",
       "      <td>749</td>\n",
       "      <td>NaN</td>\n",
       "      <td>-122.272778</td>\n",
       "      <td>37.871667</td>\n",
       "    </tr>\n",
       "    <tr>\n",
       "      <th>3</th>\n",
       "      <td>2020-10-25</td>\n",
       "      <td>Alameda</td>\n",
       "      <td>1.0</td>\n",
       "      <td>Dublin</td>\n",
       "      <td>320</td>\n",
       "      <td>NaN</td>\n",
       "      <td>-121.935833</td>\n",
       "      <td>37.702222</td>\n",
       "    </tr>\n",
       "    <tr>\n",
       "      <th>4</th>\n",
       "      <td>2020-10-25</td>\n",
       "      <td>Alameda</td>\n",
       "      <td>1.0</td>\n",
       "      <td>Emeryville</td>\n",
       "      <td>102</td>\n",
       "      <td>NaN</td>\n",
       "      <td>-122.285278</td>\n",
       "      <td>37.831389</td>\n",
       "    </tr>\n",
       "  </tbody>\n",
       "</table>\n",
       "</div>"
      ],
      "text/plain": [
       "        date   county  fips       place  confirmed_cases note           x  \\\n",
       "0 2020-10-25  Alameda   1.0     Alameda              456  NaN -122.274444   \n",
       "1 2020-10-25  Alameda   1.0      Albany               63  NaN -122.297778   \n",
       "2 2020-10-25  Alameda   1.0    Berkeley              749  NaN -122.272778   \n",
       "3 2020-10-25  Alameda   1.0      Dublin              320  NaN -121.935833   \n",
       "4 2020-10-25  Alameda   1.0  Emeryville              102  NaN -122.285278   \n",
       "\n",
       "           y  \n",
       "0  37.756111  \n",
       "1  37.886944  \n",
       "2  37.871667  \n",
       "3  37.702222  \n",
       "4  37.831389  "
      ]
     },
     "execution_count": 247,
     "metadata": {},
     "output_type": "execute_result"
    }
   ],
   "source": [
    "covid_df.head()"
   ]
  },
  {
   "cell_type": "markdown",
   "metadata": {},
   "source": [
    "# Let's try regression"
   ]
  },
  {
   "cell_type": "markdown",
   "metadata": {},
   "source": [
    "### KNN"
   ]
  },
  {
   "cell_type": "code",
   "execution_count": 264,
   "metadata": {},
   "outputs": [],
   "source": [
    "from sklearn.neighbors import KNeighborsRegressor"
   ]
  },
  {
   "cell_type": "code",
   "execution_count": 265,
   "metadata": {},
   "outputs": [
    {
     "data": {
      "text/html": [
       "<div>\n",
       "<style scoped>\n",
       "    .dataframe tbody tr th:only-of-type {\n",
       "        vertical-align: middle;\n",
       "    }\n",
       "\n",
       "    .dataframe tbody tr th {\n",
       "        vertical-align: top;\n",
       "    }\n",
       "\n",
       "    .dataframe thead th {\n",
       "        text-align: right;\n",
       "    }\n",
       "</style>\n",
       "<table border=\"1\" class=\"dataframe\">\n",
       "  <thead>\n",
       "    <tr style=\"text-align: right;\">\n",
       "      <th></th>\n",
       "      <th>date</th>\n",
       "      <th>county</th>\n",
       "      <th>fips</th>\n",
       "      <th>place</th>\n",
       "      <th>confirmed_cases</th>\n",
       "      <th>note</th>\n",
       "      <th>x</th>\n",
       "      <th>y</th>\n",
       "      <th>log_cases</th>\n",
       "      <th>category</th>\n",
       "      <th>ordinal_cat</th>\n",
       "    </tr>\n",
       "  </thead>\n",
       "  <tbody>\n",
       "    <tr>\n",
       "      <th>2254</th>\n",
       "      <td>2020-10-23</td>\n",
       "      <td>Sonoma</td>\n",
       "      <td>97.0</td>\n",
       "      <td>Bodega</td>\n",
       "      <td>1</td>\n",
       "      <td>10 or fewer</td>\n",
       "      <td>-122.973889</td>\n",
       "      <td>38.345278</td>\n",
       "      <td>0.0</td>\n",
       "      <td>0</td>\n",
       "      <td>0</td>\n",
       "    </tr>\n",
       "    <tr>\n",
       "      <th>97520</th>\n",
       "      <td>2020-07-02</td>\n",
       "      <td>Plumas</td>\n",
       "      <td>63.0</td>\n",
       "      <td>Indian Valley</td>\n",
       "      <td>1</td>\n",
       "      <td>NaN</td>\n",
       "      <td>-120.885787</td>\n",
       "      <td>40.081003</td>\n",
       "      <td>0.0</td>\n",
       "      <td>0</td>\n",
       "      <td>0</td>\n",
       "    </tr>\n",
       "    <tr>\n",
       "      <th>103854</th>\n",
       "      <td>2020-06-24</td>\n",
       "      <td>Nevada</td>\n",
       "      <td>57.0</td>\n",
       "      <td>95927</td>\n",
       "      <td>1</td>\n",
       "      <td>9 or fewer</td>\n",
       "      <td>-121.940086</td>\n",
       "      <td>39.809273</td>\n",
       "      <td>0.0</td>\n",
       "      <td>0</td>\n",
       "      <td>0</td>\n",
       "    </tr>\n",
       "    <tr>\n",
       "      <th>161198</th>\n",
       "      <td>2020-04-07</td>\n",
       "      <td>Riverside</td>\n",
       "      <td>65.0</td>\n",
       "      <td>Indio Hills</td>\n",
       "      <td>1</td>\n",
       "      <td>NaN</td>\n",
       "      <td>-116.231396</td>\n",
       "      <td>33.831128</td>\n",
       "      <td>0.0</td>\n",
       "      <td>0</td>\n",
       "      <td>0</td>\n",
       "    </tr>\n",
       "    <tr>\n",
       "      <th>1809</th>\n",
       "      <td>2020-10-23</td>\n",
       "      <td>Marin</td>\n",
       "      <td>41.0</td>\n",
       "      <td>Inverness</td>\n",
       "      <td>1</td>\n",
       "      <td>9 or fewer</td>\n",
       "      <td>-122.857675</td>\n",
       "      <td>38.101176</td>\n",
       "      <td>0.0</td>\n",
       "      <td>0</td>\n",
       "      <td>0</td>\n",
       "    </tr>\n",
       "  </tbody>\n",
       "</table>\n",
       "</div>"
      ],
      "text/plain": [
       "             date     county  fips          place  confirmed_cases  \\\n",
       "2254   2020-10-23     Sonoma  97.0         Bodega                1   \n",
       "97520  2020-07-02     Plumas  63.0  Indian Valley                1   \n",
       "103854 2020-06-24     Nevada  57.0          95927                1   \n",
       "161198 2020-04-07  Riverside  65.0    Indio Hills                1   \n",
       "1809   2020-10-23      Marin  41.0      Inverness                1   \n",
       "\n",
       "               note           x          y  log_cases  category ordinal_cat  \n",
       "2254    10 or fewer -122.973889  38.345278        0.0         0           0  \n",
       "97520           NaN -120.885787  40.081003        0.0         0           0  \n",
       "103854   9 or fewer -121.940086  39.809273        0.0         0           0  \n",
       "161198          NaN -116.231396  33.831128        0.0         0           0  \n",
       "1809     9 or fewer -122.857675  38.101176        0.0         0           0  "
      ]
     },
     "execution_count": 265,
     "metadata": {},
     "output_type": "execute_result"
    }
   ],
   "source": [
    "real_df.head()"
   ]
  },
  {
   "cell_type": "code",
   "execution_count": 266,
   "metadata": {},
   "outputs": [],
   "source": [
    "X = real_df[['x', 'y']]\n",
    "y = real_df['log_cases']"
   ]
  },
  {
   "cell_type": "code",
   "execution_count": 267,
   "metadata": {},
   "outputs": [],
   "source": [
    "X_train, X_test, y_train, y_test = train_test_split(X, y, random_state = 22)#, stratify = y)"
   ]
  },
  {
   "cell_type": "code",
   "execution_count": 268,
   "metadata": {},
   "outputs": [],
   "source": [
    "sscaler = StandardScaler()\n",
    "X_train_scaled = sscaler.fit_transform(X_train)\n",
    "X_test_scaled = sscaler.transform(X_test)"
   ]
  },
  {
   "cell_type": "code",
   "execution_count": 269,
   "metadata": {},
   "outputs": [
    {
     "data": {
      "text/plain": [
       "0.28977573584602145"
      ]
     },
     "execution_count": 269,
     "metadata": {},
     "output_type": "execute_result"
    }
   ],
   "source": [
    "knn = KNeighborsRegressor()\n",
    "knn.fit(X_train_scaled, y_train)\n",
    "knn.score(X_test_scaled, y_test)"
   ]
  },
  {
   "cell_type": "markdown",
   "metadata": {},
   "source": [
    "### Logistic"
   ]
  },
  {
   "cell_type": "code",
   "execution_count": 274,
   "metadata": {},
   "outputs": [],
   "source": [
    "from sklearn.linear_model import LinearRegression, LogisticRegression"
   ]
  },
  {
   "cell_type": "code",
   "execution_count": 275,
   "metadata": {},
   "outputs": [],
   "source": [
    "clf = LogisticRegression()"
   ]
  },
  {
   "cell_type": "code",
   "execution_count": 276,
   "metadata": {},
   "outputs": [
    {
     "ename": "ValueError",
     "evalue": "Unknown label type: 'continuous'",
     "output_type": "error",
     "traceback": [
      "\u001b[0;31m---------------------------------------------------------------------------\u001b[0m",
      "\u001b[0;31mValueError\u001b[0m                                Traceback (most recent call last)",
      "\u001b[0;32m<ipython-input-276-4f66baab8f93>\u001b[0m in \u001b[0;36m<module>\u001b[0;34m\u001b[0m\n\u001b[0;32m----> 1\u001b[0;31m \u001b[0mclf\u001b[0m\u001b[0;34m.\u001b[0m\u001b[0mfit\u001b[0m\u001b[0;34m(\u001b[0m\u001b[0mX_train\u001b[0m\u001b[0;34m,\u001b[0m \u001b[0my_train\u001b[0m\u001b[0;34m)\u001b[0m\u001b[0;34m\u001b[0m\u001b[0;34m\u001b[0m\u001b[0m\n\u001b[0m",
      "\u001b[0;32m~/opt/anaconda3/lib/python3.8/site-packages/sklearn/linear_model/_logistic.py\u001b[0m in \u001b[0;36mfit\u001b[0;34m(self, X, y, sample_weight)\u001b[0m\n\u001b[1;32m   1343\u001b[0m                                    \u001b[0morder\u001b[0m\u001b[0;34m=\u001b[0m\u001b[0;34m\"C\"\u001b[0m\u001b[0;34m,\u001b[0m\u001b[0;34m\u001b[0m\u001b[0;34m\u001b[0m\u001b[0m\n\u001b[1;32m   1344\u001b[0m                                    accept_large_sparse=solver != 'liblinear')\n\u001b[0;32m-> 1345\u001b[0;31m         \u001b[0mcheck_classification_targets\u001b[0m\u001b[0;34m(\u001b[0m\u001b[0my\u001b[0m\u001b[0;34m)\u001b[0m\u001b[0;34m\u001b[0m\u001b[0;34m\u001b[0m\u001b[0m\n\u001b[0m\u001b[1;32m   1346\u001b[0m         \u001b[0mself\u001b[0m\u001b[0;34m.\u001b[0m\u001b[0mclasses_\u001b[0m \u001b[0;34m=\u001b[0m \u001b[0mnp\u001b[0m\u001b[0;34m.\u001b[0m\u001b[0munique\u001b[0m\u001b[0;34m(\u001b[0m\u001b[0my\u001b[0m\u001b[0;34m)\u001b[0m\u001b[0;34m\u001b[0m\u001b[0;34m\u001b[0m\u001b[0m\n\u001b[1;32m   1347\u001b[0m \u001b[0;34m\u001b[0m\u001b[0m\n",
      "\u001b[0;32m~/opt/anaconda3/lib/python3.8/site-packages/sklearn/utils/multiclass.py\u001b[0m in \u001b[0;36mcheck_classification_targets\u001b[0;34m(y)\u001b[0m\n\u001b[1;32m    170\u001b[0m     if y_type not in ['binary', 'multiclass', 'multiclass-multioutput',\n\u001b[1;32m    171\u001b[0m                       'multilabel-indicator', 'multilabel-sequences']:\n\u001b[0;32m--> 172\u001b[0;31m         \u001b[0;32mraise\u001b[0m \u001b[0mValueError\u001b[0m\u001b[0;34m(\u001b[0m\u001b[0;34m\"Unknown label type: %r\"\u001b[0m \u001b[0;34m%\u001b[0m \u001b[0my_type\u001b[0m\u001b[0;34m)\u001b[0m\u001b[0;34m\u001b[0m\u001b[0;34m\u001b[0m\u001b[0m\n\u001b[0m\u001b[1;32m    173\u001b[0m \u001b[0;34m\u001b[0m\u001b[0m\n\u001b[1;32m    174\u001b[0m \u001b[0;34m\u001b[0m\u001b[0m\n",
      "\u001b[0;31mValueError\u001b[0m: Unknown label type: 'continuous'"
     ]
    }
   ],
   "source": [
    "clf.fit(X_train, y_train)"
   ]
  },
  {
   "cell_type": "code",
   "execution_count": null,
   "metadata": {},
   "outputs": [],
   "source": []
  }
 ],
 "metadata": {
  "kernelspec": {
   "display_name": "Python 3",
   "language": "python",
   "name": "python3"
  },
  "language_info": {
   "codemirror_mode": {
    "name": "ipython",
    "version": 3
   },
   "file_extension": ".py",
   "mimetype": "text/x-python",
   "name": "python",
   "nbconvert_exporter": "python",
   "pygments_lexer": "ipython3",
   "version": "3.8.3"
  }
 },
 "nbformat": 4,
 "nbformat_minor": 4
}
