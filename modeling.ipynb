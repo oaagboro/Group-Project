{
 "cells": [
  {
   "cell_type": "code",
   "execution_count": 55,
   "metadata": {},
   "outputs": [],
   "source": [
    "#import pandas and numpy libraries \n",
    "import pandas as pd\n",
    "import numpy as np \n",
    "\n",
    "#import preproscessing implementations\n",
    "from sklearn.preprocessing import OneHotEncoder\n",
    "from sklearn.impute import SimpleImputer\n",
    "from sklearn.compose import make_column_selector\n",
    "from sklearn.compose import make_column_transformer\n",
    "\n",
    "from sklearn.decomposition import PCA\n",
    "\n",
    "from sklearn.model_selection import train_test_split\n",
    "\n",
    "\n",
    "from sklearn.pipeline import make_pipeline\n",
    "\n",
    "#models predictive models \n",
    "from sklearn import svm\n",
    "from sklearn.linear_model import LogisticRegression\n",
    "from sklearn.naive_bayes import BernoulliNB, MultinomialNB\n",
    "from sklearn.ensemble import GradientBoostingClassifier, AdaBoostClassifier\n",
    "from sklearn.svm import SVC \n",
    "from sklearn.model_selection import GridSearchCV"
   ]
  },
  {
   "cell_type": "code",
   "execution_count": 68,
   "metadata": {},
   "outputs": [
    {
     "name": "stdout",
     "output_type": "stream",
     "text": [
      "Collecting pandas_ml\n",
      "  Downloading pandas_ml-0.6.1-py3-none-any.whl (100 kB)\n",
      "\u001b[K     |████████████████████████████████| 100 kB 562 kB/s ta 0:00:01\n",
      "\u001b[?25hCollecting enum34\n",
      "  Downloading enum34-1.1.10-py3-none-any.whl (11 kB)\n",
      "Requirement already satisfied: pandas>=0.19.0 in /Users/shiffraw/opt/anaconda3/lib/python3.8/site-packages (from pandas_ml) (1.0.5)\n",
      "Requirement already satisfied: pytz>=2017.2 in /Users/shiffraw/opt/anaconda3/lib/python3.8/site-packages (from pandas>=0.19.0->pandas_ml) (2020.1)\n",
      "Requirement already satisfied: python-dateutil>=2.6.1 in /Users/shiffraw/opt/anaconda3/lib/python3.8/site-packages (from pandas>=0.19.0->pandas_ml) (2.8.1)\n",
      "Requirement already satisfied: numpy>=1.13.3 in /Users/shiffraw/opt/anaconda3/lib/python3.8/site-packages (from pandas>=0.19.0->pandas_ml) (1.18.5)\n",
      "Requirement already satisfied: six>=1.5 in /Users/shiffraw/opt/anaconda3/lib/python3.8/site-packages (from python-dateutil>=2.6.1->pandas>=0.19.0->pandas_ml) (1.15.0)\n",
      "Installing collected packages: enum34, pandas-ml\n",
      "Successfully installed enum34-1.1.10 pandas-ml-0.6.1\n",
      "Note: you may need to restart the kernel to use updated packages.\n"
     ]
    }
   ],
   "source": [
    "pip install pandas_ml"
   ]
  },
  {
   "cell_type": "code",
   "execution_count": 2,
   "metadata": {},
   "outputs": [],
   "source": [
    "df = pd.read_csv(\"./clean_covid_data.csv\") # read in dataframe"
   ]
  },
  {
   "cell_type": "code",
   "execution_count": 3,
   "metadata": {},
   "outputs": [
    {
     "data": {
      "text/html": [
       "<div>\n",
       "<style scoped>\n",
       "    .dataframe tbody tr th:only-of-type {\n",
       "        vertical-align: middle;\n",
       "    }\n",
       "\n",
       "    .dataframe tbody tr th {\n",
       "        vertical-align: top;\n",
       "    }\n",
       "\n",
       "    .dataframe thead th {\n",
       "        text-align: right;\n",
       "    }\n",
       "</style>\n",
       "<table border=\"1\" class=\"dataframe\">\n",
       "  <thead>\n",
       "    <tr style=\"text-align: right;\">\n",
       "      <th></th>\n",
       "      <th>date</th>\n",
       "      <th>county</th>\n",
       "      <th>fips</th>\n",
       "      <th>place</th>\n",
       "      <th>confirmed_cases</th>\n",
       "      <th>note</th>\n",
       "      <th>x</th>\n",
       "      <th>y</th>\n",
       "      <th>log_cases</th>\n",
       "      <th>category</th>\n",
       "      <th>ordinal_cat</th>\n",
       "    </tr>\n",
       "  </thead>\n",
       "  <tbody>\n",
       "    <tr>\n",
       "      <th>0</th>\n",
       "      <td>2020-10-23</td>\n",
       "      <td>Sonoma</td>\n",
       "      <td>97.0</td>\n",
       "      <td>Bodega</td>\n",
       "      <td>1</td>\n",
       "      <td>10 or fewer</td>\n",
       "      <td>-122.973889</td>\n",
       "      <td>38.345278</td>\n",
       "      <td>0.0</td>\n",
       "      <td>0</td>\n",
       "      <td>0</td>\n",
       "    </tr>\n",
       "    <tr>\n",
       "      <th>1</th>\n",
       "      <td>2020-07-02</td>\n",
       "      <td>Plumas</td>\n",
       "      <td>63.0</td>\n",
       "      <td>Indian Valley</td>\n",
       "      <td>1</td>\n",
       "      <td>NaN</td>\n",
       "      <td>-120.885787</td>\n",
       "      <td>40.081003</td>\n",
       "      <td>0.0</td>\n",
       "      <td>0</td>\n",
       "      <td>0</td>\n",
       "    </tr>\n",
       "    <tr>\n",
       "      <th>2</th>\n",
       "      <td>2020-06-24</td>\n",
       "      <td>Nevada</td>\n",
       "      <td>57.0</td>\n",
       "      <td>95927</td>\n",
       "      <td>1</td>\n",
       "      <td>9 or fewer</td>\n",
       "      <td>-121.940086</td>\n",
       "      <td>39.809273</td>\n",
       "      <td>0.0</td>\n",
       "      <td>0</td>\n",
       "      <td>0</td>\n",
       "    </tr>\n",
       "    <tr>\n",
       "      <th>3</th>\n",
       "      <td>2020-04-07</td>\n",
       "      <td>Riverside</td>\n",
       "      <td>65.0</td>\n",
       "      <td>Indio Hills</td>\n",
       "      <td>1</td>\n",
       "      <td>NaN</td>\n",
       "      <td>-116.231396</td>\n",
       "      <td>33.831128</td>\n",
       "      <td>0.0</td>\n",
       "      <td>0</td>\n",
       "      <td>0</td>\n",
       "    </tr>\n",
       "    <tr>\n",
       "      <th>4</th>\n",
       "      <td>2020-10-23</td>\n",
       "      <td>Marin</td>\n",
       "      <td>41.0</td>\n",
       "      <td>Inverness</td>\n",
       "      <td>1</td>\n",
       "      <td>9 or fewer</td>\n",
       "      <td>-122.857675</td>\n",
       "      <td>38.101176</td>\n",
       "      <td>0.0</td>\n",
       "      <td>0</td>\n",
       "      <td>0</td>\n",
       "    </tr>\n",
       "    <tr>\n",
       "      <th>5</th>\n",
       "      <td>2020-07-02</td>\n",
       "      <td>Plumas</td>\n",
       "      <td>63.0</td>\n",
       "      <td>Chester/Lake Almanor</td>\n",
       "      <td>1</td>\n",
       "      <td>NaN</td>\n",
       "      <td>-121.234722</td>\n",
       "      <td>40.302500</td>\n",
       "      <td>0.0</td>\n",
       "      <td>0</td>\n",
       "      <td>0</td>\n",
       "    </tr>\n",
       "    <tr>\n",
       "      <th>6</th>\n",
       "      <td>2020-05-06</td>\n",
       "      <td>Kern</td>\n",
       "      <td>29.0</td>\n",
       "      <td>Maricopa</td>\n",
       "      <td>1</td>\n",
       "      <td>NaN</td>\n",
       "      <td>-119.400833</td>\n",
       "      <td>35.058889</td>\n",
       "      <td>0.0</td>\n",
       "      <td>0</td>\n",
       "      <td>0</td>\n",
       "    </tr>\n",
       "    <tr>\n",
       "      <th>7</th>\n",
       "      <td>2020-06-24</td>\n",
       "      <td>Nevada</td>\n",
       "      <td>57.0</td>\n",
       "      <td>95978</td>\n",
       "      <td>1</td>\n",
       "      <td>9 or fewer</td>\n",
       "      <td>-121.525915</td>\n",
       "      <td>39.906141</td>\n",
       "      <td>0.0</td>\n",
       "      <td>0</td>\n",
       "      <td>0</td>\n",
       "    </tr>\n",
       "    <tr>\n",
       "      <th>8</th>\n",
       "      <td>2020-03-25</td>\n",
       "      <td>Los Angeles</td>\n",
       "      <td>37.0</td>\n",
       "      <td>Athens</td>\n",
       "      <td>1</td>\n",
       "      <td>NaN</td>\n",
       "      <td>-118.303000</td>\n",
       "      <td>33.923480</td>\n",
       "      <td>0.0</td>\n",
       "      <td>0</td>\n",
       "      <td>0</td>\n",
       "    </tr>\n",
       "    <tr>\n",
       "      <th>9</th>\n",
       "      <td>2020-06-23</td>\n",
       "      <td>Calaveras</td>\n",
       "      <td>9.0</td>\n",
       "      <td>Angels Camp</td>\n",
       "      <td>1</td>\n",
       "      <td>NaN</td>\n",
       "      <td>-120.551979</td>\n",
       "      <td>38.074667</td>\n",
       "      <td>0.0</td>\n",
       "      <td>0</td>\n",
       "      <td>0</td>\n",
       "    </tr>\n",
       "  </tbody>\n",
       "</table>\n",
       "</div>"
      ],
      "text/plain": [
       "         date       county  fips                 place  confirmed_cases  \\\n",
       "0  2020-10-23       Sonoma  97.0                Bodega                1   \n",
       "1  2020-07-02       Plumas  63.0         Indian Valley                1   \n",
       "2  2020-06-24       Nevada  57.0                 95927                1   \n",
       "3  2020-04-07    Riverside  65.0           Indio Hills                1   \n",
       "4  2020-10-23        Marin  41.0             Inverness                1   \n",
       "5  2020-07-02       Plumas  63.0  Chester/Lake Almanor                1   \n",
       "6  2020-05-06         Kern  29.0              Maricopa                1   \n",
       "7  2020-06-24       Nevada  57.0                 95978                1   \n",
       "8  2020-03-25  Los Angeles  37.0                Athens                1   \n",
       "9  2020-06-23    Calaveras   9.0           Angels Camp                1   \n",
       "\n",
       "          note           x          y  log_cases  category  ordinal_cat  \n",
       "0  10 or fewer -122.973889  38.345278        0.0         0            0  \n",
       "1          NaN -120.885787  40.081003        0.0         0            0  \n",
       "2   9 or fewer -121.940086  39.809273        0.0         0            0  \n",
       "3          NaN -116.231396  33.831128        0.0         0            0  \n",
       "4   9 or fewer -122.857675  38.101176        0.0         0            0  \n",
       "5          NaN -121.234722  40.302500        0.0         0            0  \n",
       "6          NaN -119.400833  35.058889        0.0         0            0  \n",
       "7   9 or fewer -121.525915  39.906141        0.0         0            0  \n",
       "8          NaN -118.303000  33.923480        0.0         0            0  \n",
       "9          NaN -120.551979  38.074667        0.0         0            0  "
      ]
     },
     "execution_count": 3,
     "metadata": {},
     "output_type": "execute_result"
    }
   ],
   "source": [
    "df.head(10) # first 10 rows of dataframe "
   ]
  },
  {
   "cell_type": "code",
   "execution_count": 84,
   "metadata": {},
   "outputs": [
    {
     "data": {
      "text/plain": [
       "2    0.314523\n",
       "3    0.301245\n",
       "1    0.207469\n",
       "0    0.125311\n",
       "4    0.051452\n",
       "Name: category, dtype: float64"
      ]
     },
     "execution_count": 84,
     "metadata": {},
     "output_type": "execute_result"
    }
   ],
   "source": [
    "df.category.value_counts(normalize = True)"
   ]
  },
  {
   "cell_type": "markdown",
   "metadata": {},
   "source": [
    "I. Baseline Models that will only Incorporate Longitude and Lattitude in Feature Space"
   ]
  },
  {
   "cell_type": "markdown",
   "metadata": {},
   "source": [
    "I. a) Support Vector Machine"
   ]
  },
  {
   "cell_type": "code",
   "execution_count": 4,
   "metadata": {},
   "outputs": [],
   "source": [
    "X = df.iloc[:,6:8] # assign features\n",
    "y = df.category # assign output "
   ]
  },
  {
   "cell_type": "code",
   "execution_count": 10,
   "metadata": {},
   "outputs": [],
   "source": [
    "X_train, X_test, y_train, y_test = train_test_split(X,y,stratify = y  ,random_state = 42 ) # partion data into training and testing sets "
   ]
  },
  {
   "cell_type": "code",
   "execution_count": 11,
   "metadata": {},
   "outputs": [],
   "source": [
    "clf = svm.SVC() #instantiate Support Vector Machine "
   ]
  },
  {
   "cell_type": "code",
   "execution_count": 12,
   "metadata": {},
   "outputs": [
    {
     "data": {
      "text/plain": [
       "SVC()"
      ]
     },
     "execution_count": 12,
     "metadata": {},
     "output_type": "execute_result"
    }
   ],
   "source": [
    "clf.fit(X_train, y_train) # fit the training data "
   ]
  },
  {
   "cell_type": "code",
   "execution_count": 13,
   "metadata": {},
   "outputs": [
    {
     "data": {
      "text/plain": [
       "0.31118493909191586"
      ]
     },
     "execution_count": 13,
     "metadata": {},
     "output_type": "execute_result"
    }
   ],
   "source": [
    "clf.score(X_train, y_train) "
   ]
  },
  {
   "cell_type": "code",
   "execution_count": 14,
   "metadata": {},
   "outputs": [
    {
     "data": {
      "text/plain": [
       "0.32450331125827814"
      ]
     },
     "execution_count": 14,
     "metadata": {},
     "output_type": "execute_result"
    }
   ],
   "source": [
    "clf.score(X_test, y_test)"
   ]
  },
  {
   "cell_type": "code",
   "execution_count": 15,
   "metadata": {},
   "outputs": [],
   "source": [
    "from sklearn.metrics import confusion_matrix #import confusion matrix"
   ]
  },
  {
   "cell_type": "code",
   "execution_count": 16,
   "metadata": {},
   "outputs": [],
   "source": [
    "preds = clf.predict(X_test) # predictions"
   ]
  },
  {
   "cell_type": "code",
   "execution_count": 17,
   "metadata": {},
   "outputs": [],
   "source": [
    "confusion = confusion_matrix(y_test, preds)"
   ]
  },
  {
   "cell_type": "code",
   "execution_count": 18,
   "metadata": {},
   "outputs": [
    {
     "data": {
      "text/plain": [
       "array([[ 0,  0, 37,  0,  0],\n",
       "       [ 0,  0, 67,  0,  0],\n",
       "       [ 0,  0, 98,  0,  0],\n",
       "       [ 0,  0, 88,  0,  0],\n",
       "       [ 0,  0, 12,  0,  0]])"
      ]
     },
     "execution_count": 18,
     "metadata": {},
     "output_type": "execute_result"
    }
   ],
   "source": [
    "confusion # confusion matrix"
   ]
  },
  {
   "cell_type": "code",
   "execution_count": 31,
   "metadata": {},
   "outputs": [],
   "source": [
    "from sklearn.metrics import plot_confusion_matrix"
   ]
  },
  {
   "cell_type": "code",
   "execution_count": 34,
   "metadata": {},
   "outputs": [
    {
     "data": {
      "image/png": "[encoded data removed]",
      "text/plain": [
       "<Figure size 432x288 with 2 Axes>"
      ]
     },
     "metadata": {
      "needs_background": "light"
     },
     "output_type": "display_data"
    }
   ],
   "source": [
    "plot_confusion_matrix(clf, X_test, y_test);"
   ]
  },
  {
   "cell_type": "code",
   "execution_count": 29,
   "metadata": {},
   "outputs": [
    {
     "name": "stdout",
     "output_type": "stream",
     "text": [
      "\n",
      "Accuracy: 0.32\n",
      "\n",
      "Micro Precision: 0.32\n",
      "Micro Recall: 0.32\n",
      "Micro F1-score: 0.32\n",
      "\n",
      "Macro Precision: 0.06\n",
      "Macro Recall: 0.20\n",
      "Macro F1-score: 0.10\n",
      "\n",
      "Weighted Precision: 0.11\n",
      "Weighted Recall: 0.32\n",
      "Weighted F1-score: 0.16\n",
      "\n",
      "Classification Report\n",
      "\n",
      "              precision    recall  f1-score   support\n",
      "\n",
      "     Class 1       0.00      0.00      0.00        37\n",
      "     Class 2       0.00      0.00      0.00        67\n",
      "     Class 3       0.32      1.00      0.49        98\n",
      "     Class 4       0.00      0.00      0.00        88\n",
      "     Class 5       0.00      0.00      0.00        12\n",
      "\n",
      "    accuracy                           0.32       302\n",
      "   macro avg       0.06      0.20      0.10       302\n",
      "weighted avg       0.11      0.32      0.16       302\n",
      "\n"
     ]
    },
    {
     "name": "stderr",
     "output_type": "stream",
     "text": [
      "/Users/shiffraw/opt/anaconda3/lib/python3.8/site-packages/sklearn/metrics/_classification.py:1221: UndefinedMetricWarning: Precision and F-score are ill-defined and being set to 0.0 in labels with no predicted samples. Use `zero_division` parameter to control this behavior.\n",
      "  _warn_prf(average, modifier, msg_start, len(result))\n"
     ]
    }
   ],
   "source": [
    "from sklearn.metrics import accuracy_score, precision_score, recall_score, f1_score\n",
    "print('\\nAccuracy: {:.2f}\\n'.format(accuracy_score(y_test, preds)))\n",
    "\n",
    "print('Micro Precision: {:.2f}'.format(precision_score(y_test, preds, average='micro')))\n",
    "print('Micro Recall: {:.2f}'.format(recall_score(y_test, preds, average='micro')))\n",
    "print('Micro F1-score: {:.2f}\\n'.format(f1_score(y_test,preds, average='micro')))\n",
    "\n",
    "print('Macro Precision: {:.2f}'.format(precision_score(y_test, preds, average='macro')))\n",
    "print('Macro Recall: {:.2f}'.format(recall_score(y_test, preds, average='macro')))\n",
    "print('Macro F1-score: {:.2f}\\n'.format(f1_score(y_test, preds, average='macro')))\n",
    "\n",
    "print('Weighted Precision: {:.2f}'.format(precision_score(y_test, preds, average='weighted')))\n",
    "print('Weighted Recall: {:.2f}'.format(recall_score(y_test, preds, average='weighted')))\n",
    "print('Weighted F1-score: {:.2f}'.format(f1_score(y_test, preds, average='weighted')))\n",
    "\n",
    "from sklearn.metrics import classification_report\n",
    "print('\\nClassification Report\\n')\n",
    "print(classification_report(y_test, preds, target_names=['Class 1', 'Class 2', 'Class 3', 'Class 4', 'Class 5']))\n",
    "\n",
    "# metrics "
   ]
  },
  {
   "cell_type": "markdown",
   "metadata": {},
   "source": [
    "Baseline model is poor because it only predicts for Class 3"
   ]
  },
  {
   "cell_type": "code",
   "execution_count": null,
   "metadata": {},
   "outputs": [],
   "source": [
    "I. b) Logistic Regression without Categorical Features #logisitc regression "
   ]
  },
  {
   "cell_type": "code",
   "execution_count": 109,
   "metadata": {},
   "outputs": [],
   "source": [
    "logisticr = LogisticRegression(solver = \"newton-cg\",max_iter= 500, penalty = \"l2\", C = 0.0001, verbose = 3) #newton solveer"
   ]
  },
  {
   "cell_type": "code",
   "execution_count": 40,
   "metadata": {},
   "outputs": [
    {
     "data": {
      "text/plain": [
       "LogisticRegression(max_iter=300)"
      ]
     },
     "execution_count": 40,
     "metadata": {},
     "output_type": "execute_result"
    }
   ],
   "source": [
    "logisticr.fit(X_train, y_train)"
   ]
  },
  {
   "cell_type": "code",
   "execution_count": 41,
   "metadata": {},
   "outputs": [
    {
     "data": {
      "text/plain": [
       "0.327796234772979"
      ]
     },
     "execution_count": 41,
     "metadata": {},
     "output_type": "execute_result"
    }
   ],
   "source": [
    "logisticr.score(X_train, y_train)"
   ]
  },
  {
   "cell_type": "code",
   "execution_count": 42,
   "metadata": {},
   "outputs": [
    {
     "data": {
      "text/plain": [
       "0.3708609271523179"
      ]
     },
     "execution_count": 42,
     "metadata": {},
     "output_type": "execute_result"
    }
   ],
   "source": [
    "logisticr.score(X_test, y_test)"
   ]
  },
  {
   "cell_type": "markdown",
   "metadata": {},
   "source": [
    "II. Predictive Models that incorporates County, Longitude, and Latitude Features"
   ]
  },
  {
   "cell_type": "markdown",
   "metadata": {},
   "source": [
    "II. a) Logistic Regression"
   ]
  },
  {
   "cell_type": "code",
   "execution_count": 43,
   "metadata": {},
   "outputs": [],
   "source": [
    "enc = OneHotEncoder(handle_unknown='ignore') # instantiate one hot encoder "
   ]
  },
  {
   "cell_type": "code",
   "execution_count": 44,
   "metadata": {},
   "outputs": [],
   "source": [
    "county = pd.DataFrame(df.county)"
   ]
  },
  {
   "cell_type": "code",
   "execution_count": 48,
   "metadata": {},
   "outputs": [],
   "source": [
    "county = pd.DataFrame(enc.fit_transform(county).toarray()) # one hot encoding the categorical features"
   ]
  },
  {
   "cell_type": "code",
   "execution_count": 51,
   "metadata": {},
   "outputs": [],
   "source": [
    "X = df.iloc[:,6:8]\n",
    "X = pd.concat([X,county], axis = 1)\n",
    "y = df[\"category\"]"
   ]
  },
  {
   "cell_type": "code",
   "execution_count": 52,
   "metadata": {},
   "outputs": [],
   "source": [
    "X_train, X_test, y_train, y_test = train_test_split(X,y, stratify = y,random_state = 42 )# partition training and testing data "
   ]
  },
  {
   "cell_type": "code",
   "execution_count": 110,
   "metadata": {},
   "outputs": [
    {
     "name": "stderr",
     "output_type": "stream",
     "text": [
      "[Parallel(n_jobs=1)]: Using backend SequentialBackend with 1 concurrent workers.\n",
      "[Parallel(n_jobs=1)]: Done   1 out of   1 | elapsed:    0.1s remaining:    0.0s\n",
      "[Parallel(n_jobs=1)]: Done   1 out of   1 | elapsed:    0.1s finished\n"
     ]
    },
    {
     "data": {
      "text/plain": [
       "0.3067552602436323"
      ]
     },
     "execution_count": 110,
     "metadata": {},
     "output_type": "execute_result"
    }
   ],
   "source": [
    "logisticr.fit(X_train, y_train)\n",
    "\n",
    "logisticr.score(X_train, y_train)"
   ]
  },
  {
   "cell_type": "code",
   "execution_count": 111,
   "metadata": {},
   "outputs": [
    {
     "data": {
      "text/plain": [
       "0.32450331125827814"
      ]
     },
     "execution_count": 111,
     "metadata": {},
     "output_type": "execute_result"
    }
   ],
   "source": [
    "logisticr.score(X_test, y_test)"
   ]
  },
  {
   "cell_type": "code",
   "execution_count": 112,
   "metadata": {},
   "outputs": [],
   "source": [
    "preds1 = logisticr.predict(X_test) # assign predictions "
   ]
  },
  {
   "cell_type": "code",
   "execution_count": 114,
   "metadata": {},
   "outputs": [
    {
     "data": {
      "text/plain": [
       "array([[ 0,  0, 34,  4,  0],\n",
       "       [ 0,  0, 54,  9,  0],\n",
       "       [ 0,  0, 79, 16,  0],\n",
       "       [ 0,  0, 72, 19,  0],\n",
       "       [ 0,  0, 13,  2,  0]])"
      ]
     },
     "execution_count": 114,
     "metadata": {},
     "output_type": "execute_result"
    }
   ],
   "source": [
    "confusion = confusion_matrix(y_test, preds1)\n",
    "confusion"
   ]
  },
  {
   "cell_type": "code",
   "execution_count": 116,
   "metadata": {},
   "outputs": [
    {
     "data": {
      "image/png": "[encoded data removed]",
      "text/plain": [
       "<Figure size 432x288 with 2 Axes>"
      ]
     },
     "metadata": {
      "needs_background": "light"
     },
     "output_type": "display_data"
    }
   ],
   "source": [
    "plot_confusion_matrix(logisticr, X_test, y_test);"
   ]
  },
  {
   "cell_type": "code",
   "execution_count": 151,
   "metadata": {},
   "outputs": [
    {
     "name": "stdout",
     "output_type": "stream",
     "text": [
      "\n",
      "Accuracy: 0.35\n",
      "\n",
      "Micro Precision: 0.35\n",
      "Micro Recall: 0.35\n",
      "Micro F1-score: 0.35\n",
      "\n",
      "Macro Precision: 0.15\n",
      "Macro Recall: 0.22\n",
      "Macro F1-score: 0.16\n",
      "\n",
      "Weighted Precision: 0.22\n",
      "Weighted Recall: 0.35\n",
      "Weighted F1-score: 0.24\n",
      "\n",
      "Classification Report\n",
      "\n",
      "              precision    recall  f1-score   support\n",
      "\n",
      "     Class 1       0.00      0.00      0.00        37\n",
      "     Class 2       0.00      0.00      0.00        67\n",
      "     Class 3       0.35      0.90      0.50        98\n",
      "     Class 4       0.38      0.22      0.28        88\n",
      "     Class 5       0.00      0.00      0.00        12\n",
      "\n",
      "    accuracy                           0.35       302\n",
      "   macro avg       0.15      0.22      0.16       302\n",
      "weighted avg       0.22      0.35      0.24       302\n",
      "\n"
     ]
    },
    {
     "name": "stderr",
     "output_type": "stream",
     "text": [
      "/Users/shiffraw/opt/anaconda3/lib/python3.8/site-packages/sklearn/metrics/_classification.py:1221: UndefinedMetricWarning: Precision is ill-defined and being set to 0.0 in labels with no predicted samples. Use `zero_division` parameter to control this behavior.\n",
      "  _warn_prf(average, modifier, msg_start, len(result))\n",
      "/Users/shiffraw/opt/anaconda3/lib/python3.8/site-packages/sklearn/metrics/_classification.py:1221: UndefinedMetricWarning: Precision and F-score are ill-defined and being set to 0.0 in labels with no predicted samples. Use `zero_division` parameter to control this behavior.\n",
      "  _warn_prf(average, modifier, msg_start, len(result))\n"
     ]
    }
   ],
   "source": [
    "\n",
    "print('\\nAccuracy: {:.2f}\\n'.format(accuracy_score(y_test, preds1)))\n",
    "\n",
    "print('Micro Precision: {:.2f}'.format(precision_score(y_test, preds1, average='micro')))\n",
    "print('Micro Recall: {:.2f}'.format(recall_score(y_test, preds1, average='micro')))\n",
    "print('Micro F1-score: {:.2f}\\n'.format(f1_score(y_test,preds1, average='micro')))\n",
    "\n",
    "print('Macro Precision: {:.2f}'.format(precision_score(y_test, preds1, average='macro')))\n",
    "print('Macro Recall: {:.2f}'.format(recall_score(y_test, preds1, average='macro')))\n",
    "print('Macro F1-score: {:.2f}\\n'.format(f1_score(y_test, preds1, average='macro')))\n",
    "\n",
    "print('Weighted Precision: {:.2f}'.format(precision_score(y_test, preds1, average='weighted')))\n",
    "print('Weighted Recall: {:.2f}'.format(recall_score(y_test, preds1, average='weighted')))\n",
    "print('Weighted F1-score: {:.2f}'.format(f1_score(y_test, preds1, average='weighted')))\n",
    "\n",
    "from sklearn.metrics import classification_report\n",
    "print('\\nClassification Report\\n')\n",
    "print(classification_report(y_test, preds1, target_names=['Class 1', 'Class 2', 'Class 3', 'Class 4', 'Class 5']))"
   ]
  },
  {
   "cell_type": "markdown",
   "metadata": {},
   "source": [
    "III. a)Random Forests "
   ]
  },
  {
   "cell_type": "code",
   "execution_count": 119,
   "metadata": {},
   "outputs": [],
   "source": [
    "from sklearn.ensemble import RandomForestClassifier"
   ]
  },
  {
   "cell_type": "code",
   "execution_count": 141,
   "metadata": {},
   "outputs": [],
   "source": [
    "X_train, X_test, y_train, y_test = train_test_split(X,y, random_state = 42 ) # train test split "
   ]
  },
  {
   "cell_type": "code",
   "execution_count": 142,
   "metadata": {},
   "outputs": [],
   "source": [
    "rforest = RandomForestClassifier(max_depth=5, random_state=0, criterion='gini')"
   ]
  },
  {
   "cell_type": "code",
   "execution_count": 143,
   "metadata": {},
   "outputs": [
    {
     "data": {
      "text/plain": [
       "RandomForestClassifier(max_depth=5, random_state=0)"
      ]
     },
     "execution_count": 143,
     "metadata": {},
     "output_type": "execute_result"
    }
   ],
   "source": [
    "rforest.fit(X_train, y_train)"
   ]
  },
  {
   "cell_type": "code",
   "execution_count": 144,
   "metadata": {},
   "outputs": [
    {
     "data": {
      "text/plain": [
       "0.5149501661129569"
      ]
     },
     "execution_count": 144,
     "metadata": {},
     "output_type": "execute_result"
    }
   ],
   "source": [
    "rforest.score(X_train, y_train)"
   ]
  },
  {
   "cell_type": "code",
   "execution_count": 145,
   "metadata": {},
   "outputs": [
    {
     "data": {
      "text/plain": [
       "0.40728476821192056"
      ]
     },
     "execution_count": 145,
     "metadata": {},
     "output_type": "execute_result"
    }
   ],
   "source": [
    "rforest.score(X_test, y_test)"
   ]
  },
  {
   "cell_type": "code",
   "execution_count": 146,
   "metadata": {},
   "outputs": [],
   "source": [
    "preds2 = rforest.predict(X_test)"
   ]
  },
  {
   "cell_type": "code",
   "execution_count": 170,
   "metadata": {},
   "outputs": [
    {
     "data": {
      "text/plain": [
       "array([[ 6,  6, 12, 13,  0],\n",
       "       [ 0,  6, 31, 30,  0],\n",
       "       [ 1,  8, 51, 38,  0],\n",
       "       [ 0,  3, 25, 60,  0],\n",
       "       [ 0,  0,  3,  9,  0]])"
      ]
     },
     "execution_count": 170,
     "metadata": {},
     "output_type": "execute_result"
    }
   ],
   "source": [
    "confusion = confusion_matrix(y_test, preds2)\n",
    "confusion"
   ]
  },
  {
   "cell_type": "code",
   "execution_count": 171,
   "metadata": {},
   "outputs": [
    {
     "data": {
      "image/png": "[encoded data removed]",
      "text/plain": [
       "<Figure size 432x288 with 2 Axes>"
      ]
     },
     "metadata": {
      "needs_background": "light"
     },
     "output_type": "display_data"
    }
   ],
   "source": [
    "plot_confusion_matrix(rforest, X_test, y_test);"
   ]
  },
  {
   "cell_type": "code",
   "execution_count": 152,
   "metadata": {},
   "outputs": [
    {
     "name": "stdout",
     "output_type": "stream",
     "text": [
      "\n",
      "Accuracy: 0.32\n",
      "\n",
      "Micro Precision: 0.41\n",
      "Micro Recall: 0.41\n",
      "Micro F1-score: 0.41\n",
      "\n",
      "Macro Precision: 0.39\n",
      "Macro Recall: 0.29\n",
      "Macro F1-score: 0.27\n",
      "\n",
      "Weighted Precision: 0.42\n",
      "Weighted Recall: 0.41\n",
      "Weighted F1-score: 0.36\n",
      "\n",
      "Classification Report\n",
      "\n",
      "              precision    recall  f1-score   support\n",
      "\n",
      "     Class 1       0.86      0.16      0.27        37\n",
      "     Class 2       0.26      0.09      0.13        67\n",
      "     Class 3       0.42      0.52      0.46        98\n",
      "     Class 4       0.40      0.68      0.50        88\n",
      "     Class 5       0.00      0.00      0.00        12\n",
      "\n",
      "    accuracy                           0.41       302\n",
      "   macro avg       0.39      0.29      0.27       302\n",
      "weighted avg       0.42      0.41      0.36       302\n",
      "\n"
     ]
    }
   ],
   "source": [
    "print('\\nAccuracy: {:.2f}\\n'.format(accuracy_score(y_test, preds)))\n",
    "\n",
    "print('Micro Precision: {:.2f}'.format(precision_score(y_test, preds2, average='micro')))\n",
    "print('Micro Recall: {:.2f}'.format(recall_score(y_test, preds2, average='micro')))\n",
    "print('Micro F1-score: {:.2f}\\n'.format(f1_score(y_test,preds2, average='micro')))\n",
    "\n",
    "print('Macro Precision: {:.2f}'.format(precision_score(y_test, preds2, average='macro')))\n",
    "print('Macro Recall: {:.2f}'.format(recall_score(y_test, preds2, average='macro')))\n",
    "print('Macro F1-score: {:.2f}\\n'.format(f1_score(y_test, preds2, average='macro')))\n",
    "\n",
    "print('Weighted Precision: {:.2f}'.format(precision_score(y_test, preds2, average='weighted')))\n",
    "print('Weighted Recall: {:.2f}'.format(recall_score(y_test, preds2, average='weighted')))\n",
    "print('Weighted F1-score: {:.2f}'.format(f1_score(y_test, preds2, average='weighted')))\n",
    "\n",
    "from sklearn.metrics import classification_report\n",
    "print('\\nClassification Report\\n')\n",
    "print(classification_report(y_test, preds2, target_names=['Class 1', 'Class 2', 'Class 3', 'Class 4', 'Class 5']))"
   ]
  },
  {
   "cell_type": "markdown",
   "metadata": {},
   "source": [
    "IV. ADABOOST "
   ]
  },
  {
   "cell_type": "code",
   "execution_count": 165,
   "metadata": {},
   "outputs": [],
   "source": [
    "ada = AdaBoostClassifier(n_estimators=150, random_state=0) #instantiating ADA boost modell "
   ]
  },
  {
   "cell_type": "code",
   "execution_count": 166,
   "metadata": {},
   "outputs": [
    {
     "data": {
      "text/plain": [
       "AdaBoostClassifier(n_estimators=150, random_state=0)"
      ]
     },
     "execution_count": 166,
     "metadata": {},
     "output_type": "execute_result"
    }
   ],
   "source": [
    "ada.fit(X_train, y_train)"
   ]
  },
  {
   "cell_type": "code",
   "execution_count": 167,
   "metadata": {},
   "outputs": [
    {
     "data": {
      "text/plain": [
       "0.4318936877076412"
      ]
     },
     "execution_count": 167,
     "metadata": {},
     "output_type": "execute_result"
    }
   ],
   "source": [
    "ada.score(X_train, y_train)"
   ]
  },
  {
   "cell_type": "code",
   "execution_count": 168,
   "metadata": {},
   "outputs": [
    {
     "data": {
      "text/plain": [
       "0.36423841059602646"
      ]
     },
     "execution_count": 168,
     "metadata": {},
     "output_type": "execute_result"
    }
   ],
   "source": [
    "ada.score(X_test, y_test)"
   ]
  },
  {
   "cell_type": "code",
   "execution_count": 169,
   "metadata": {},
   "outputs": [],
   "source": [
    "preds3 = ada.predict(X_test)"
   ]
  },
  {
   "cell_type": "code",
   "execution_count": 172,
   "metadata": {},
   "outputs": [
    {
     "data": {
      "text/plain": [
       "array([[ 8, 16,  1, 11,  1],\n",
       "       [ 2, 10, 19, 35,  1],\n",
       "       [ 6,  9, 34, 48,  1],\n",
       "       [ 2,  3, 26, 57,  0],\n",
       "       [ 1,  0,  2,  8,  1]])"
      ]
     },
     "execution_count": 172,
     "metadata": {},
     "output_type": "execute_result"
    }
   ],
   "source": [
    "confusion = confusion_matrix(y_test, preds3)\n",
    "confusion"
   ]
  },
  {
   "cell_type": "code",
   "execution_count": 174,
   "metadata": {},
   "outputs": [
    {
     "data": {
      "image/png": "[encoded data removed]",
      "text/plain": [
       "<Figure size 432x288 with 2 Axes>"
      ]
     },
     "metadata": {
      "needs_background": "light"
     },
     "output_type": "display_data"
    }
   ],
   "source": [
    "plot_confusion_matrix(ada, X_test, y_test);"
   ]
  },
  {
   "cell_type": "code",
   "execution_count": 177,
   "metadata": {},
   "outputs": [
    {
     "data": {
      "text/plain": [
       "array([[0.20572948, 0.20765755, 0.20841755, 0.21132775, 0.16686766],\n",
       "       [0.19655191, 0.20129332, 0.20079664, 0.20172757, 0.19963056],\n",
       "       [0.20149126, 0.20114444, 0.20221578, 0.1998865 , 0.19526203],\n",
       "       ...,\n",
       "       [0.18382184, 0.20349643, 0.20478755, 0.20476786, 0.20312632],\n",
       "       [0.20476247, 0.20328997, 0.20478794, 0.2023791 , 0.18478052],\n",
       "       [0.18712495, 0.20266263, 0.20439096, 0.20440346, 0.201418  ]])"
      ]
     },
     "execution_count": 177,
     "metadata": {},
     "output_type": "execute_result"
    }
   ],
   "source": [
    "ada.predict_proba(X_test)"
   ]
  },
  {
   "cell_type": "code",
   "execution_count": 178,
   "metadata": {},
   "outputs": [
    {
     "name": "stdout",
     "output_type": "stream",
     "text": [
      "\n",
      "Accuracy: 0.36\n",
      "\n",
      "Micro Precision: 0.36\n",
      "Micro Recall: 0.36\n",
      "Micro F1-score: 0.36\n",
      "\n",
      "Macro Precision: 0.34\n",
      "Macro Recall: 0.29\n",
      "Macro F1-score: 0.29\n",
      "\n",
      "Weighted Precision: 0.36\n",
      "Weighted Recall: 0.36\n",
      "Weighted F1-score: 0.34\n",
      "\n",
      "Classification Report\n",
      "\n",
      "              precision    recall  f1-score   support\n",
      "\n",
      "     Class 1       0.42      0.22      0.29        37\n",
      "     Class 2       0.26      0.15      0.19        67\n",
      "     Class 3       0.41      0.35      0.38        98\n",
      "     Class 4       0.36      0.65      0.46        88\n",
      "     Class 5       0.25      0.08      0.12        12\n",
      "\n",
      "    accuracy                           0.36       302\n",
      "   macro avg       0.34      0.29      0.29       302\n",
      "weighted avg       0.36      0.36      0.34       302\n",
      "\n"
     ]
    }
   ],
   "source": [
    "print('\\nAccuracy: {:.2f}\\n'.format(accuracy_score(y_test, preds3)))\n",
    "\n",
    "print('Micro Precision: {:.2f}'.format(precision_score(y_test, preds3, average='micro')))\n",
    "print('Micro Recall: {:.2f}'.format(recall_score(y_test, preds3, average='micro')))\n",
    "print('Micro F1-score: {:.2f}\\n'.format(f1_score(y_test,preds3, average='micro')))\n",
    "\n",
    "print('Macro Precision: {:.2f}'.format(precision_score(y_test, preds3, average='macro')))\n",
    "print('Macro Recall: {:.2f}'.format(recall_score(y_test, preds3, average='macro')))\n",
    "print('Macro F1-score: {:.2f}\\n'.format(f1_score(y_test, preds3, average='macro')))\n",
    "\n",
    "print('Weighted Precision: {:.2f}'.format(precision_score(y_test, preds3, average='weighted')))\n",
    "print('Weighted Recall: {:.2f}'.format(recall_score(y_test, preds3, average='weighted')))\n",
    "print('Weighted F1-score: {:.2f}'.format(f1_score(y_test, preds3, average='weighted')))\n",
    "\n",
    "from sklearn.metrics import classification_report\n",
    "print('\\nClassification Report\\n')\n",
    "print(classification_report(y_test, preds3, target_names=['Class 1', 'Class 2', 'Class 3', 'Class 4', 'Class 5']))"
   ]
  },
  {
   "cell_type": "markdown",
   "metadata": {},
   "source": [
    "V. Support Vector Machine"
   ]
  },
  {
   "cell_type": "code",
   "execution_count": 180,
   "metadata": {},
   "outputs": [],
   "source": [
    "pipe = make_pipeline(PCA(random_state = 42),svm.SVC()  )"
   ]
  },
  {
   "cell_type": "code",
   "execution_count": 179,
   "metadata": {},
   "outputs": [],
   "source": [
    "supportv  =  svm.SVC()  # instantiating support vector machine "
   ]
  },
  {
   "cell_type": "code",
   "execution_count": 181,
   "metadata": {},
   "outputs": [
    {
     "data": {
      "text/plain": [
       "Pipeline(steps=[('pca', PCA(random_state=42)), ('svc', SVC())])"
      ]
     },
     "execution_count": 181,
     "metadata": {},
     "output_type": "execute_result"
    }
   ],
   "source": [
    "pipe.fit(X_train, y_train)"
   ]
  },
  {
   "cell_type": "code",
   "execution_count": 182,
   "metadata": {},
   "outputs": [
    {
     "data": {
      "text/plain": [
       "0.42857142857142855"
      ]
     },
     "execution_count": 182,
     "metadata": {},
     "output_type": "execute_result"
    }
   ],
   "source": [
    "pipe.score(X_train, y_train)"
   ]
  },
  {
   "cell_type": "code",
   "execution_count": 183,
   "metadata": {},
   "outputs": [
    {
     "data": {
      "text/plain": [
       "0.3708609271523179"
      ]
     },
     "execution_count": 183,
     "metadata": {},
     "output_type": "execute_result"
    }
   ],
   "source": [
    "pipe.score(X_test, y_test)"
   ]
  },
  {
   "cell_type": "code",
   "execution_count": 185,
   "metadata": {},
   "outputs": [],
   "source": [
    "preds4 = pipe.predict(X_test)"
   ]
  },
  {
   "cell_type": "code",
   "execution_count": 186,
   "metadata": {},
   "outputs": [
    {
     "data": {
      "text/plain": [
       "array([[ 5, 10,  7, 15,  0],\n",
       "       [ 4, 11, 15, 37,  0],\n",
       "       [ 8, 17, 23, 50,  0],\n",
       "       [ 0,  3, 12, 73,  0],\n",
       "       [ 0,  2,  2,  8,  0]])"
      ]
     },
     "execution_count": 186,
     "metadata": {},
     "output_type": "execute_result"
    }
   ],
   "source": [
    "confusion = confusion_matrix(y_test, preds4)\n",
    "confusion"
   ]
  },
  {
   "cell_type": "code",
   "execution_count": 188,
   "metadata": {},
   "outputs": [
    {
     "data": {
      "image/png": "[encoded data removed]",
      "text/plain": [
       "<Figure size 432x288 with 2 Axes>"
      ]
     },
     "metadata": {
      "needs_background": "light"
     },
     "output_type": "display_data"
    }
   ],
   "source": [
    "plot_confusion_matrix(pipe, X_test, y_test);"
   ]
  },
  {
   "cell_type": "code",
   "execution_count": 57,
   "metadata": {},
   "outputs": [],
   "source": [
    "pca = PCA(random_state = 42)"
   ]
  },
  {
   "cell_type": "code",
   "execution_count": 60,
   "metadata": {},
   "outputs": [],
   "source": [
    "imp_mode = SimpleImputer(strategy=\"most_frequent\", add_indicator=True)#impute \n",
    "ohe = OneHotEncoder(handle_unknown='ignore') "
   ]
  },
  {
   "cell_type": "code",
   "execution_count": 61,
   "metadata": {},
   "outputs": [],
   "source": [
    "cat_cols = make_column_selector(dtype_exclude='number') "
   ]
  },
  {
   "cell_type": "code",
   "execution_count": 62,
   "metadata": {},
   "outputs": [],
   "source": [
    "preprocessor = make_column_transformer(\n",
    "   \n",
    "    (make_pipeline(imp_mode, ohe), cat_cols)\n",
    ")"
   ]
  },
  {
   "cell_type": "code",
   "execution_count": 63,
   "metadata": {},
   "outputs": [],
   "source": [
    "pipe =  make_pipeline(preprocessor,pca ,LogisticRegression())"
   ]
  },
  {
   "cell_type": "code",
   "execution_count": 79,
   "metadata": {},
   "outputs": [],
   "source": [
    "param_grid =  {\n",
    "     'penalty' : ['l1', 'l2'],\n",
    "    'C' : np.logspace(-4, 4, 20),\n",
    "    'solver' : ['liblinear']}  \n",
    "  "
   ]
  },
  {
   "cell_type": "code",
   "execution_count": 82,
   "metadata": {},
   "outputs": [],
   "source": [
    "grid = GridSearchCV(LogisticRegression(), param_grid, verbose = 3)"
   ]
  },
  {
   "cell_type": "code",
   "execution_count": 83,
   "metadata": {
    "collapsed": true,
    "jupyter": {
     "outputs_hidden": true
    }
   },
   "outputs": [
    {
     "name": "stdout",
     "output_type": "stream",
     "text": [
      "Fitting 5 folds for each of 40 candidates, totalling 200 fits\n",
      "[CV] C=0.0001, penalty=l1, solver=liblinear ..........................\n",
      "[CV]  C=0.0001, penalty=l1, solver=liblinear, score=0.315, total=   0.0s\n",
      "[CV] C=0.0001, penalty=l1, solver=liblinear ..........................\n",
      "[CV]  C=0.0001, penalty=l1, solver=liblinear, score=0.315, total=   0.0s\n",
      "[CV] C=0.0001, penalty=l1, solver=liblinear ..........................\n",
      "[CV]  C=0.0001, penalty=l1, solver=liblinear, score=0.315, total=   0.0s\n",
      "[CV] C=0.0001, penalty=l1, solver=liblinear ..........................\n",
      "[CV]  C=0.0001, penalty=l1, solver=liblinear, score=0.317, total=   0.0s\n",
      "[CV] C=0.0001, penalty=l1, solver=liblinear ..........................\n",
      "[CV]  C=0.0001, penalty=l1, solver=liblinear, score=0.311, total=   0.0s\n",
      "[CV] C=0.0001, penalty=l2, solver=liblinear ..........................\n",
      "[CV]  C=0.0001, penalty=l2, solver=liblinear, score=0.315, total=   0.0s\n",
      "[CV] C=0.0001, penalty=l2, solver=liblinear ..........................\n",
      "[CV]  C=0.0001, penalty=l2, solver=liblinear, score=0.315, total=   0.0s\n",
      "[CV] C=0.0001, penalty=l2, solver=liblinear ..........................\n",
      "[CV]  C=0.0001, penalty=l2, solver=liblinear, score=0.315, total=   0.0s\n",
      "[CV] C=0.0001, penalty=l2, solver=liblinear ..........................\n",
      "[CV]  C=0.0001, penalty=l2, solver=liblinear, score=0.317, total=   0.0s\n",
      "[CV] C=0.0001, penalty=l2, solver=liblinear ..........................\n",
      "[CV]  C=0.0001, penalty=l2, solver=liblinear, score=0.311, total=   0.0s\n",
      "[CV] C=0.00026366508987303583, penalty=l1, solver=liblinear ..........\n",
      "[CV]  C=0.00026366508987303583, penalty=l1, solver=liblinear, score=0.315, total=   0.0s\n",
      "[CV] C=0.00026366508987303583, penalty=l1, solver=liblinear ..........\n"
     ]
    },
    {
     "name": "stderr",
     "output_type": "stream",
     "text": [
      "[Parallel(n_jobs=1)]: Using backend SequentialBackend with 1 concurrent workers.\n",
      "[Parallel(n_jobs=1)]: Done   1 out of   1 | elapsed:    0.0s remaining:    0.0s\n",
      "[Parallel(n_jobs=1)]: Done   2 out of   2 | elapsed:    0.0s remaining:    0.0s\n"
     ]
    },
    {
     "name": "stdout",
     "output_type": "stream",
     "text": [
      "[CV]  C=0.00026366508987303583, penalty=l1, solver=liblinear, score=0.315, total=   0.0s\n",
      "[CV] C=0.00026366508987303583, penalty=l1, solver=liblinear ..........\n",
      "[CV]  C=0.00026366508987303583, penalty=l1, solver=liblinear, score=0.315, total=   0.0s\n",
      "[CV] C=0.00026366508987303583, penalty=l1, solver=liblinear ..........\n",
      "[CV]  C=0.00026366508987303583, penalty=l1, solver=liblinear, score=0.317, total=   0.0s\n",
      "[CV] C=0.00026366508987303583, penalty=l1, solver=liblinear ..........\n",
      "[CV]  C=0.00026366508987303583, penalty=l1, solver=liblinear, score=0.311, total=   0.0s\n",
      "[CV] C=0.00026366508987303583, penalty=l2, solver=liblinear ..........\n",
      "[CV]  C=0.00026366508987303583, penalty=l2, solver=liblinear, score=0.315, total=   0.0s\n",
      "[CV] C=0.00026366508987303583, penalty=l2, solver=liblinear ..........\n",
      "[CV]  C=0.00026366508987303583, penalty=l2, solver=liblinear, score=0.315, total=   0.0s\n",
      "[CV] C=0.00026366508987303583, penalty=l2, solver=liblinear ..........\n",
      "[CV]  C=0.00026366508987303583, penalty=l2, solver=liblinear, score=0.315, total=   0.0s\n",
      "[CV] C=0.00026366508987303583, penalty=l2, solver=liblinear ..........\n",
      "[CV]  C=0.00026366508987303583, penalty=l2, solver=liblinear, score=0.317, total=   0.0s\n",
      "[CV] C=0.00026366508987303583, penalty=l2, solver=liblinear ..........\n",
      "[CV]  C=0.00026366508987303583, penalty=l2, solver=liblinear, score=0.311, total=   0.0s\n",
      "[CV] C=0.0006951927961775605, penalty=l1, solver=liblinear ...........\n",
      "[CV]  C=0.0006951927961775605, penalty=l1, solver=liblinear, score=0.315, total=   0.0s\n",
      "[CV] C=0.0006951927961775605, penalty=l1, solver=liblinear ...........\n",
      "[CV]  C=0.0006951927961775605, penalty=l1, solver=liblinear, score=0.315, total=   0.0s\n",
      "[CV] C=0.0006951927961775605, penalty=l1, solver=liblinear ...........\n",
      "[CV]  C=0.0006951927961775605, penalty=l1, solver=liblinear, score=0.315, total=   0.0s\n",
      "[CV] C=0.0006951927961775605, penalty=l1, solver=liblinear ...........\n",
      "[CV]  C=0.0006951927961775605, penalty=l1, solver=liblinear, score=0.317, total=   0.0s\n",
      "[CV] C=0.0006951927961775605, penalty=l1, solver=liblinear ...........\n",
      "[CV]  C=0.0006951927961775605, penalty=l1, solver=liblinear, score=0.311, total=   0.0s\n",
      "[CV] C=0.0006951927961775605, penalty=l2, solver=liblinear ...........\n",
      "[CV]  C=0.0006951927961775605, penalty=l2, solver=liblinear, score=0.337, total=   0.0s\n",
      "[CV] C=0.0006951927961775605, penalty=l2, solver=liblinear ...........\n",
      "[CV]  C=0.0006951927961775605, penalty=l2, solver=liblinear, score=0.304, total=   0.0s\n",
      "[CV] C=0.0006951927961775605, penalty=l2, solver=liblinear ...........\n",
      "[CV]  C=0.0006951927961775605, penalty=l2, solver=liblinear, score=0.365, total=   0.0s\n",
      "[CV] C=0.0006951927961775605, penalty=l2, solver=liblinear ...........\n",
      "[CV]  C=0.0006951927961775605, penalty=l2, solver=liblinear, score=0.306, total=   0.0s\n",
      "[CV] C=0.0006951927961775605, penalty=l2, solver=liblinear ...........\n",
      "[CV]  C=0.0006951927961775605, penalty=l2, solver=liblinear, score=0.350, total=   0.0s\n",
      "[CV] C=0.0018329807108324356, penalty=l1, solver=liblinear ...........\n",
      "[CV]  C=0.0018329807108324356, penalty=l1, solver=liblinear, score=0.315, total=   0.0s\n",
      "[CV] C=0.0018329807108324356, penalty=l1, solver=liblinear ...........\n",
      "[CV]  C=0.0018329807108324356, penalty=l1, solver=liblinear, score=0.315, total=   0.0s\n",
      "[CV] C=0.0018329807108324356, penalty=l1, solver=liblinear ...........\n",
      "[CV]  C=0.0018329807108324356, penalty=l1, solver=liblinear, score=0.315, total=   0.0s\n",
      "[CV] C=0.0018329807108324356, penalty=l1, solver=liblinear ...........\n",
      "[CV]  C=0.0018329807108324356, penalty=l1, solver=liblinear, score=0.317, total=   0.0s\n",
      "[CV] C=0.0018329807108324356, penalty=l1, solver=liblinear ...........\n",
      "[CV]  C=0.0018329807108324356, penalty=l1, solver=liblinear, score=0.311, total=   0.0s\n",
      "[CV] C=0.0018329807108324356, penalty=l2, solver=liblinear ...........\n",
      "[CV]  C=0.0018329807108324356, penalty=l2, solver=liblinear, score=0.343, total=   0.0s\n",
      "[CV] C=0.0018329807108324356, penalty=l2, solver=liblinear ...........\n",
      "[CV]  C=0.0018329807108324356, penalty=l2, solver=liblinear, score=0.392, total=   0.0s\n",
      "[CV] C=0.0018329807108324356, penalty=l2, solver=liblinear ...........\n",
      "[CV]  C=0.0018329807108324356, penalty=l2, solver=liblinear, score=0.348, total=   0.0s\n",
      "[CV] C=0.0018329807108324356, penalty=l2, solver=liblinear ...........\n",
      "[CV]  C=0.0018329807108324356, penalty=l2, solver=liblinear, score=0.322, total=   0.0s\n",
      "[CV] C=0.0018329807108324356, penalty=l2, solver=liblinear ...........\n",
      "[CV]  C=0.0018329807108324356, penalty=l2, solver=liblinear, score=0.361, total=   0.0s\n",
      "[CV] C=0.004832930238571752, penalty=l1, solver=liblinear ............\n",
      "[CV]  C=0.004832930238571752, penalty=l1, solver=liblinear, score=0.315, total=   0.0s\n",
      "[CV] C=0.004832930238571752, penalty=l1, solver=liblinear ............\n",
      "[CV]  C=0.004832930238571752, penalty=l1, solver=liblinear, score=0.315, total=   0.0s\n",
      "[CV] C=0.004832930238571752, penalty=l1, solver=liblinear ............\n",
      "[CV]  C=0.004832930238571752, penalty=l1, solver=liblinear, score=0.315, total=   0.0s\n",
      "[CV] C=0.004832930238571752, penalty=l1, solver=liblinear ............\n",
      "[CV]  C=0.004832930238571752, penalty=l1, solver=liblinear, score=0.317, total=   0.0s\n",
      "[CV] C=0.004832930238571752, penalty=l1, solver=liblinear ............\n",
      "[CV]  C=0.004832930238571752, penalty=l1, solver=liblinear, score=0.311, total=   0.0s\n",
      "[CV] C=0.004832930238571752, penalty=l2, solver=liblinear ............\n",
      "[CV]  C=0.004832930238571752, penalty=l2, solver=liblinear, score=0.365, total=   0.0s\n",
      "[CV] C=0.004832930238571752, penalty=l2, solver=liblinear ............\n",
      "[CV]  C=0.004832930238571752, penalty=l2, solver=liblinear, score=0.392, total=   0.0s\n",
      "[CV] C=0.004832930238571752, penalty=l2, solver=liblinear ............\n",
      "[CV]  C=0.004832930238571752, penalty=l2, solver=liblinear, score=0.326, total=   0.0s\n",
      "[CV] C=0.004832930238571752, penalty=l2, solver=liblinear ............\n",
      "[CV]  C=0.004832930238571752, penalty=l2, solver=liblinear, score=0.333, total=   0.0s\n",
      "[CV] C=0.004832930238571752, penalty=l2, solver=liblinear ............\n",
      "[CV]  C=0.004832930238571752, penalty=l2, solver=liblinear, score=0.367, total=   0.0s\n",
      "[CV] C=0.012742749857031334, penalty=l1, solver=liblinear ............\n",
      "[CV]  C=0.012742749857031334, penalty=l1, solver=liblinear, score=0.315, total=   0.0s\n",
      "[CV] C=0.012742749857031334, penalty=l1, solver=liblinear ............\n",
      "[CV]  C=0.012742749857031334, penalty=l1, solver=liblinear, score=0.315, total=   0.0s\n",
      "[CV] C=0.012742749857031334, penalty=l1, solver=liblinear ............\n",
      "[CV]  C=0.012742749857031334, penalty=l1, solver=liblinear, score=0.315, total=   0.0s\n",
      "[CV] C=0.012742749857031334, penalty=l1, solver=liblinear ............\n",
      "[CV]  C=0.012742749857031334, penalty=l1, solver=liblinear, score=0.317, total=   0.0s\n",
      "[CV] C=0.012742749857031334, penalty=l1, solver=liblinear ............\n",
      "[CV]  C=0.012742749857031334, penalty=l1, solver=liblinear, score=0.311, total=   0.0s\n",
      "[CV] C=0.012742749857031334, penalty=l2, solver=liblinear ............\n",
      "[CV]  C=0.012742749857031334, penalty=l2, solver=liblinear, score=0.359, total=   0.0s\n",
      "[CV] C=0.012742749857031334, penalty=l2, solver=liblinear ............\n",
      "[CV]  C=0.012742749857031334, penalty=l2, solver=liblinear, score=0.398, total=   0.0s\n",
      "[CV] C=0.012742749857031334, penalty=l2, solver=liblinear ............\n",
      "[CV]  C=0.012742749857031334, penalty=l2, solver=liblinear, score=0.326, total=   0.0s\n",
      "[CV] C=0.012742749857031334, penalty=l2, solver=liblinear ............\n"
     ]
    },
    {
     "name": "stderr",
     "output_type": "stream",
     "text": [
      "/Users/shiffraw/opt/anaconda3/lib/python3.8/site-packages/sklearn/svm/_base.py:976: ConvergenceWarning: Liblinear failed to converge, increase the number of iterations.\n",
      "  warnings.warn(\"Liblinear failed to converge, increase \"\n",
      "/Users/shiffraw/opt/anaconda3/lib/python3.8/site-packages/sklearn/svm/_base.py:976: ConvergenceWarning: Liblinear failed to converge, increase the number of iterations.\n",
      "  warnings.warn(\"Liblinear failed to converge, increase \"\n",
      "/Users/shiffraw/opt/anaconda3/lib/python3.8/site-packages/sklearn/svm/_base.py:976: ConvergenceWarning: Liblinear failed to converge, increase the number of iterations.\n",
      "  warnings.warn(\"Liblinear failed to converge, increase \"\n"
     ]
    },
    {
     "name": "stdout",
     "output_type": "stream",
     "text": [
      "[CV]  C=0.012742749857031334, penalty=l2, solver=liblinear, score=0.344, total=   0.0s\n",
      "[CV] C=0.012742749857031334, penalty=l2, solver=liblinear ............\n",
      "[CV]  C=0.012742749857031334, penalty=l2, solver=liblinear, score=0.372, total=   0.0s\n",
      "[CV] C=0.03359818286283781, penalty=l1, solver=liblinear .............\n",
      "[CV]  C=0.03359818286283781, penalty=l1, solver=liblinear, score=0.348, total=   0.0s\n",
      "[CV] C=0.03359818286283781, penalty=l1, solver=liblinear .............\n",
      "[CV]  C=0.03359818286283781, penalty=l1, solver=liblinear, score=0.315, total=   0.0s\n",
      "[CV] C=0.03359818286283781, penalty=l1, solver=liblinear .............\n",
      "[CV]  C=0.03359818286283781, penalty=l1, solver=liblinear, score=0.370, total=   0.0s\n",
      "[CV] C=0.03359818286283781, penalty=l1, solver=liblinear .............\n",
      "[CV]  C=0.03359818286283781, penalty=l1, solver=liblinear, score=0.322, total=   0.0s\n",
      "[CV] C=0.03359818286283781, penalty=l1, solver=liblinear .............\n"
     ]
    },
    {
     "name": "stderr",
     "output_type": "stream",
     "text": [
      "/Users/shiffraw/opt/anaconda3/lib/python3.8/site-packages/sklearn/svm/_base.py:976: ConvergenceWarning: Liblinear failed to converge, increase the number of iterations.\n",
      "  warnings.warn(\"Liblinear failed to converge, increase \"\n",
      "/Users/shiffraw/opt/anaconda3/lib/python3.8/site-packages/sklearn/svm/_base.py:976: ConvergenceWarning: Liblinear failed to converge, increase the number of iterations.\n",
      "  warnings.warn(\"Liblinear failed to converge, increase \"\n",
      "/Users/shiffraw/opt/anaconda3/lib/python3.8/site-packages/sklearn/svm/_base.py:976: ConvergenceWarning: Liblinear failed to converge, increase the number of iterations.\n",
      "  warnings.warn(\"Liblinear failed to converge, increase \"\n"
     ]
    },
    {
     "name": "stdout",
     "output_type": "stream",
     "text": [
      "[CV]  C=0.03359818286283781, penalty=l1, solver=liblinear, score=0.328, total=   0.0s\n",
      "[CV] C=0.03359818286283781, penalty=l2, solver=liblinear .............\n",
      "[CV]  C=0.03359818286283781, penalty=l2, solver=liblinear, score=0.337, total=   0.0s\n",
      "[CV] C=0.03359818286283781, penalty=l2, solver=liblinear .............\n",
      "[CV]  C=0.03359818286283781, penalty=l2, solver=liblinear, score=0.387, total=   0.0s\n",
      "[CV] C=0.03359818286283781, penalty=l2, solver=liblinear .............\n",
      "[CV]  C=0.03359818286283781, penalty=l2, solver=liblinear, score=0.331, total=   0.0s\n",
      "[CV] C=0.03359818286283781, penalty=l2, solver=liblinear .............\n",
      "[CV]  C=0.03359818286283781, penalty=l2, solver=liblinear, score=0.328, total=   0.0s\n",
      "[CV] C=0.03359818286283781, penalty=l2, solver=liblinear .............\n",
      "[CV]  C=0.03359818286283781, penalty=l2, solver=liblinear, score=0.372, total=   0.0s\n",
      "[CV] C=0.08858667904100823, penalty=l1, solver=liblinear .............\n",
      "[CV]  C=0.08858667904100823, penalty=l1, solver=liblinear, score=0.337, total=   0.1s\n",
      "[CV] C=0.08858667904100823, penalty=l1, solver=liblinear .............\n"
     ]
    },
    {
     "name": "stderr",
     "output_type": "stream",
     "text": [
      "/Users/shiffraw/opt/anaconda3/lib/python3.8/site-packages/sklearn/svm/_base.py:976: ConvergenceWarning: Liblinear failed to converge, increase the number of iterations.\n",
      "  warnings.warn(\"Liblinear failed to converge, increase \"\n",
      "/Users/shiffraw/opt/anaconda3/lib/python3.8/site-packages/sklearn/svm/_base.py:976: ConvergenceWarning: Liblinear failed to converge, increase the number of iterations.\n",
      "  warnings.warn(\"Liblinear failed to converge, increase \"\n",
      "/Users/shiffraw/opt/anaconda3/lib/python3.8/site-packages/sklearn/svm/_base.py:976: ConvergenceWarning: Liblinear failed to converge, increase the number of iterations.\n",
      "  warnings.warn(\"Liblinear failed to converge, increase \"\n",
      "/Users/shiffraw/opt/anaconda3/lib/python3.8/site-packages/sklearn/svm/_base.py:976: ConvergenceWarning: Liblinear failed to converge, increase the number of iterations.\n",
      "  warnings.warn(\"Liblinear failed to converge, increase \"\n",
      "/Users/shiffraw/opt/anaconda3/lib/python3.8/site-packages/sklearn/svm/_base.py:976: ConvergenceWarning: Liblinear failed to converge, increase the number of iterations.\n",
      "  warnings.warn(\"Liblinear failed to converge, increase \"\n"
     ]
    },
    {
     "name": "stdout",
     "output_type": "stream",
     "text": [
      "[CV]  C=0.08858667904100823, penalty=l1, solver=liblinear, score=0.381, total=   0.0s\n",
      "[CV] C=0.08858667904100823, penalty=l1, solver=liblinear .............\n",
      "[CV]  C=0.08858667904100823, penalty=l1, solver=liblinear, score=0.320, total=   0.1s\n",
      "[CV] C=0.08858667904100823, penalty=l1, solver=liblinear .............\n",
      "[CV]  C=0.08858667904100823, penalty=l1, solver=liblinear, score=0.306, total=   0.1s\n",
      "[CV] C=0.08858667904100823, penalty=l1, solver=liblinear .............\n",
      "[CV]  C=0.08858667904100823, penalty=l1, solver=liblinear, score=0.339, total=   0.1s\n",
      "[CV] C=0.08858667904100823, penalty=l2, solver=liblinear .............\n",
      "[CV]  C=0.08858667904100823, penalty=l2, solver=liblinear, score=0.331, total=   0.0s\n",
      "[CV] C=0.08858667904100823, penalty=l2, solver=liblinear .............\n",
      "[CV]  C=0.08858667904100823, penalty=l2, solver=liblinear, score=0.387, total=   0.0s\n",
      "[CV] C=0.08858667904100823, penalty=l2, solver=liblinear .............\n",
      "[CV]  C=0.08858667904100823, penalty=l2, solver=liblinear, score=0.337, total=   0.0s\n",
      "[CV] C=0.08858667904100823, penalty=l2, solver=liblinear .............\n",
      "[CV]  C=0.08858667904100823, penalty=l2, solver=liblinear, score=0.317, total=   0.0s\n",
      "[CV] C=0.08858667904100823, penalty=l2, solver=liblinear .............\n",
      "[CV]  C=0.08858667904100823, penalty=l2, solver=liblinear, score=0.372, total=   0.0s\n",
      "[CV] C=0.23357214690901212, penalty=l1, solver=liblinear .............\n"
     ]
    },
    {
     "name": "stderr",
     "output_type": "stream",
     "text": [
      "/Users/shiffraw/opt/anaconda3/lib/python3.8/site-packages/sklearn/svm/_base.py:976: ConvergenceWarning: Liblinear failed to converge, increase the number of iterations.\n",
      "  warnings.warn(\"Liblinear failed to converge, increase \"\n",
      "/Users/shiffraw/opt/anaconda3/lib/python3.8/site-packages/sklearn/svm/_base.py:976: ConvergenceWarning: Liblinear failed to converge, increase the number of iterations.\n",
      "  warnings.warn(\"Liblinear failed to converge, increase \"\n"
     ]
    },
    {
     "name": "stdout",
     "output_type": "stream",
     "text": [
      "[CV]  C=0.23357214690901212, penalty=l1, solver=liblinear, score=0.343, total=   0.1s\n",
      "[CV] C=0.23357214690901212, penalty=l1, solver=liblinear .............\n",
      "[CV]  C=0.23357214690901212, penalty=l1, solver=liblinear, score=0.392, total=   0.1s\n",
      "[CV] C=0.23357214690901212, penalty=l1, solver=liblinear .............\n"
     ]
    },
    {
     "name": "stderr",
     "output_type": "stream",
     "text": [
      "/Users/shiffraw/opt/anaconda3/lib/python3.8/site-packages/sklearn/svm/_base.py:976: ConvergenceWarning: Liblinear failed to converge, increase the number of iterations.\n",
      "  warnings.warn(\"Liblinear failed to converge, increase \"\n",
      "/Users/shiffraw/opt/anaconda3/lib/python3.8/site-packages/sklearn/svm/_base.py:976: ConvergenceWarning: Liblinear failed to converge, increase the number of iterations.\n",
      "  warnings.warn(\"Liblinear failed to converge, increase \"\n"
     ]
    },
    {
     "name": "stdout",
     "output_type": "stream",
     "text": [
      "[CV]  C=0.23357214690901212, penalty=l1, solver=liblinear, score=0.315, total=   0.1s\n",
      "[CV] C=0.23357214690901212, penalty=l1, solver=liblinear .............\n",
      "[CV]  C=0.23357214690901212, penalty=l1, solver=liblinear, score=0.328, total=   0.2s\n",
      "[CV] C=0.23357214690901212, penalty=l1, solver=liblinear .............\n"
     ]
    },
    {
     "name": "stderr",
     "output_type": "stream",
     "text": [
      "/Users/shiffraw/opt/anaconda3/lib/python3.8/site-packages/sklearn/svm/_base.py:976: ConvergenceWarning: Liblinear failed to converge, increase the number of iterations.\n",
      "  warnings.warn(\"Liblinear failed to converge, increase \"\n"
     ]
    },
    {
     "name": "stdout",
     "output_type": "stream",
     "text": [
      "[CV]  C=0.23357214690901212, penalty=l1, solver=liblinear, score=0.361, total=   0.2s\n",
      "[CV] C=0.23357214690901212, penalty=l2, solver=liblinear .............\n",
      "[CV]  C=0.23357214690901212, penalty=l2, solver=liblinear, score=0.320, total=   0.0s\n",
      "[CV] C=0.23357214690901212, penalty=l2, solver=liblinear .............\n",
      "[CV]  C=0.23357214690901212, penalty=l2, solver=liblinear, score=0.337, total=   0.0s\n",
      "[CV] C=0.23357214690901212, penalty=l2, solver=liblinear .............\n",
      "[CV]  C=0.23357214690901212, penalty=l2, solver=liblinear, score=0.354, total=   0.0s\n",
      "[CV] C=0.23357214690901212, penalty=l2, solver=liblinear .............\n",
      "[CV]  C=0.23357214690901212, penalty=l2, solver=liblinear, score=0.311, total=   0.0s\n",
      "[CV] C=0.23357214690901212, penalty=l2, solver=liblinear .............\n",
      "[CV]  C=0.23357214690901212, penalty=l2, solver=liblinear, score=0.350, total=   0.0s\n",
      "[CV] C=0.615848211066026, penalty=l1, solver=liblinear ...............\n"
     ]
    },
    {
     "name": "stderr",
     "output_type": "stream",
     "text": [
      "/Users/shiffraw/opt/anaconda3/lib/python3.8/site-packages/sklearn/svm/_base.py:976: ConvergenceWarning: Liblinear failed to converge, increase the number of iterations.\n",
      "  warnings.warn(\"Liblinear failed to converge, increase \"\n"
     ]
    },
    {
     "name": "stdout",
     "output_type": "stream",
     "text": [
      "[CV]  C=0.615848211066026, penalty=l1, solver=liblinear, score=0.276, total=   1.0s\n",
      "[CV] C=0.615848211066026, penalty=l1, solver=liblinear ...............\n"
     ]
    },
    {
     "name": "stderr",
     "output_type": "stream",
     "text": [
      "/Users/shiffraw/opt/anaconda3/lib/python3.8/site-packages/sklearn/svm/_base.py:976: ConvergenceWarning: Liblinear failed to converge, increase the number of iterations.\n",
      "  warnings.warn(\"Liblinear failed to converge, increase \"\n"
     ]
    },
    {
     "name": "stdout",
     "output_type": "stream",
     "text": [
      "[CV]  C=0.615848211066026, penalty=l1, solver=liblinear, score=0.354, total=   1.1s\n",
      "[CV] C=0.615848211066026, penalty=l1, solver=liblinear ...............\n"
     ]
    },
    {
     "name": "stderr",
     "output_type": "stream",
     "text": [
      "/Users/shiffraw/opt/anaconda3/lib/python3.8/site-packages/sklearn/svm/_base.py:976: ConvergenceWarning: Liblinear failed to converge, increase the number of iterations.\n",
      "  warnings.warn(\"Liblinear failed to converge, increase \"\n"
     ]
    },
    {
     "name": "stdout",
     "output_type": "stream",
     "text": [
      "[CV]  C=0.615848211066026, penalty=l1, solver=liblinear, score=0.337, total=   0.8s\n",
      "[CV] C=0.615848211066026, penalty=l1, solver=liblinear ...............\n"
     ]
    },
    {
     "name": "stderr",
     "output_type": "stream",
     "text": [
      "/Users/shiffraw/opt/anaconda3/lib/python3.8/site-packages/sklearn/svm/_base.py:976: ConvergenceWarning: Liblinear failed to converge, increase the number of iterations.\n",
      "  warnings.warn(\"Liblinear failed to converge, increase \"\n"
     ]
    },
    {
     "name": "stdout",
     "output_type": "stream",
     "text": [
      "[CV]  C=0.615848211066026, penalty=l1, solver=liblinear, score=0.311, total=   2.6s\n",
      "[CV] C=0.615848211066026, penalty=l1, solver=liblinear ...............\n"
     ]
    },
    {
     "name": "stderr",
     "output_type": "stream",
     "text": [
      "/Users/shiffraw/opt/anaconda3/lib/python3.8/site-packages/sklearn/svm/_base.py:976: ConvergenceWarning: Liblinear failed to converge, increase the number of iterations.\n",
      "  warnings.warn(\"Liblinear failed to converge, increase \"\n"
     ]
    },
    {
     "name": "stdout",
     "output_type": "stream",
     "text": [
      "[CV]  C=0.615848211066026, penalty=l1, solver=liblinear, score=0.344, total=   1.8s\n",
      "[CV] C=0.615848211066026, penalty=l2, solver=liblinear ...............\n",
      "[CV]  C=0.615848211066026, penalty=l2, solver=liblinear, score=0.315, total=   0.1s\n",
      "[CV] C=0.615848211066026, penalty=l2, solver=liblinear ...............\n",
      "[CV]  C=0.615848211066026, penalty=l2, solver=liblinear, score=0.326, total=   0.0s\n",
      "[CV] C=0.615848211066026, penalty=l2, solver=liblinear ...............\n",
      "[CV]  C=0.615848211066026, penalty=l2, solver=liblinear, score=0.354, total=   0.0s\n",
      "[CV] C=0.615848211066026, penalty=l2, solver=liblinear ...............\n",
      "[CV]  C=0.615848211066026, penalty=l2, solver=liblinear, score=0.333, total=   0.1s\n",
      "[CV] C=0.615848211066026, penalty=l2, solver=liblinear ...............\n",
      "[CV]  C=0.615848211066026, penalty=l2, solver=liblinear, score=0.350, total=   0.1s\n",
      "[CV] C=1.623776739188721, penalty=l1, solver=liblinear ...............\n"
     ]
    },
    {
     "name": "stderr",
     "output_type": "stream",
     "text": [
      "/Users/shiffraw/opt/anaconda3/lib/python3.8/site-packages/sklearn/svm/_base.py:976: ConvergenceWarning: Liblinear failed to converge, increase the number of iterations.\n",
      "  warnings.warn(\"Liblinear failed to converge, increase \"\n"
     ]
    },
    {
     "name": "stdout",
     "output_type": "stream",
     "text": [
      "[CV]  C=1.623776739188721, penalty=l1, solver=liblinear, score=0.309, total=  10.1s\n",
      "[CV] C=1.623776739188721, penalty=l1, solver=liblinear ...............\n"
     ]
    },
    {
     "name": "stderr",
     "output_type": "stream",
     "text": [
      "/Users/shiffraw/opt/anaconda3/lib/python3.8/site-packages/sklearn/svm/_base.py:976: ConvergenceWarning: Liblinear failed to converge, increase the number of iterations.\n",
      "  warnings.warn(\"Liblinear failed to converge, increase \"\n"
     ]
    },
    {
     "name": "stdout",
     "output_type": "stream",
     "text": [
      "[CV]  C=1.623776739188721, penalty=l1, solver=liblinear, score=0.331, total=   8.1s\n",
      "[CV] C=1.623776739188721, penalty=l1, solver=liblinear ...............\n"
     ]
    },
    {
     "name": "stderr",
     "output_type": "stream",
     "text": [
      "/Users/shiffraw/opt/anaconda3/lib/python3.8/site-packages/sklearn/svm/_base.py:976: ConvergenceWarning: Liblinear failed to converge, increase the number of iterations.\n",
      "  warnings.warn(\"Liblinear failed to converge, increase \"\n"
     ]
    },
    {
     "name": "stdout",
     "output_type": "stream",
     "text": [
      "[CV]  C=1.623776739188721, penalty=l1, solver=liblinear, score=0.343, total=   6.9s\n",
      "[CV] C=1.623776739188721, penalty=l1, solver=liblinear ...............\n"
     ]
    },
    {
     "name": "stderr",
     "output_type": "stream",
     "text": [
      "/Users/shiffraw/opt/anaconda3/lib/python3.8/site-packages/sklearn/svm/_base.py:976: ConvergenceWarning: Liblinear failed to converge, increase the number of iterations.\n",
      "  warnings.warn(\"Liblinear failed to converge, increase \"\n"
     ]
    },
    {
     "name": "stdout",
     "output_type": "stream",
     "text": [
      "[CV]  C=1.623776739188721, penalty=l1, solver=liblinear, score=0.339, total=   5.6s\n",
      "[CV] C=1.623776739188721, penalty=l1, solver=liblinear ...............\n"
     ]
    },
    {
     "name": "stderr",
     "output_type": "stream",
     "text": [
      "/Users/shiffraw/opt/anaconda3/lib/python3.8/site-packages/sklearn/svm/_base.py:976: ConvergenceWarning: Liblinear failed to converge, increase the number of iterations.\n",
      "  warnings.warn(\"Liblinear failed to converge, increase \"\n"
     ]
    },
    {
     "name": "stdout",
     "output_type": "stream",
     "text": [
      "[CV]  C=1.623776739188721, penalty=l1, solver=liblinear, score=0.361, total=   4.6s\n",
      "[CV] C=1.623776739188721, penalty=l2, solver=liblinear ...............\n",
      "[CV]  C=1.623776739188721, penalty=l2, solver=liblinear, score=0.315, total=   0.0s\n",
      "[CV] C=1.623776739188721, penalty=l2, solver=liblinear ...............\n",
      "[CV]  C=1.623776739188721, penalty=l2, solver=liblinear, score=0.326, total=   0.0s\n",
      "[CV] C=1.623776739188721, penalty=l2, solver=liblinear ...............\n",
      "[CV]  C=1.623776739188721, penalty=l2, solver=liblinear, score=0.359, total=   0.0s\n",
      "[CV] C=1.623776739188721, penalty=l2, solver=liblinear ...............\n",
      "[CV]  C=1.623776739188721, penalty=l2, solver=liblinear, score=0.328, total=   0.0s\n",
      "[CV] C=1.623776739188721, penalty=l2, solver=liblinear ...............\n",
      "[CV]  C=1.623776739188721, penalty=l2, solver=liblinear, score=0.350, total=   0.0s\n",
      "[CV] C=4.281332398719396, penalty=l1, solver=liblinear ...............\n"
     ]
    },
    {
     "name": "stderr",
     "output_type": "stream",
     "text": [
      "/Users/shiffraw/opt/anaconda3/lib/python3.8/site-packages/sklearn/svm/_base.py:976: ConvergenceWarning: Liblinear failed to converge, increase the number of iterations.\n",
      "  warnings.warn(\"Liblinear failed to converge, increase \"\n"
     ]
    },
    {
     "name": "stdout",
     "output_type": "stream",
     "text": [
      "[CV]  C=4.281332398719396, penalty=l1, solver=liblinear, score=0.315, total=  11.5s\n",
      "[CV] C=4.281332398719396, penalty=l1, solver=liblinear ...............\n"
     ]
    },
    {
     "name": "stderr",
     "output_type": "stream",
     "text": [
      "/Users/shiffraw/opt/anaconda3/lib/python3.8/site-packages/sklearn/svm/_base.py:976: ConvergenceWarning: Liblinear failed to converge, increase the number of iterations.\n",
      "  warnings.warn(\"Liblinear failed to converge, increase \"\n"
     ]
    },
    {
     "name": "stdout",
     "output_type": "stream",
     "text": [
      "[CV]  C=4.281332398719396, penalty=l1, solver=liblinear, score=0.354, total=   8.9s\n",
      "[CV] C=4.281332398719396, penalty=l1, solver=liblinear ...............\n"
     ]
    },
    {
     "name": "stderr",
     "output_type": "stream",
     "text": [
      "/Users/shiffraw/opt/anaconda3/lib/python3.8/site-packages/sklearn/svm/_base.py:976: ConvergenceWarning: Liblinear failed to converge, increase the number of iterations.\n",
      "  warnings.warn(\"Liblinear failed to converge, increase \"\n"
     ]
    },
    {
     "name": "stdout",
     "output_type": "stream",
     "text": [
      "[CV]  C=4.281332398719396, penalty=l1, solver=liblinear, score=0.331, total=  10.4s\n",
      "[CV] C=4.281332398719396, penalty=l1, solver=liblinear ...............\n"
     ]
    },
    {
     "name": "stderr",
     "output_type": "stream",
     "text": [
      "/Users/shiffraw/opt/anaconda3/lib/python3.8/site-packages/sklearn/svm/_base.py:976: ConvergenceWarning: Liblinear failed to converge, increase the number of iterations.\n",
      "  warnings.warn(\"Liblinear failed to converge, increase \"\n"
     ]
    },
    {
     "name": "stdout",
     "output_type": "stream",
     "text": [
      "[CV]  C=4.281332398719396, penalty=l1, solver=liblinear, score=0.344, total=   8.8s\n",
      "[CV] C=4.281332398719396, penalty=l1, solver=liblinear ...............\n"
     ]
    },
    {
     "name": "stderr",
     "output_type": "stream",
     "text": [
      "/Users/shiffraw/opt/anaconda3/lib/python3.8/site-packages/sklearn/svm/_base.py:976: ConvergenceWarning: Liblinear failed to converge, increase the number of iterations.\n",
      "  warnings.warn(\"Liblinear failed to converge, increase \"\n"
     ]
    },
    {
     "name": "stdout",
     "output_type": "stream",
     "text": [
      "[CV]  C=4.281332398719396, penalty=l1, solver=liblinear, score=0.361, total=  11.2s\n",
      "[CV] C=4.281332398719396, penalty=l2, solver=liblinear ...............\n",
      "[CV]  C=4.281332398719396, penalty=l2, solver=liblinear, score=0.304, total=   0.0s\n",
      "[CV] C=4.281332398719396, penalty=l2, solver=liblinear ...............\n",
      "[CV]  C=4.281332398719396, penalty=l2, solver=liblinear, score=0.331, total=   0.0s\n",
      "[CV] C=4.281332398719396, penalty=l2, solver=liblinear ...............\n",
      "[CV]  C=4.281332398719396, penalty=l2, solver=liblinear, score=0.359, total=   0.0s\n",
      "[CV] C=4.281332398719396, penalty=l2, solver=liblinear ...............\n",
      "[CV]  C=4.281332398719396, penalty=l2, solver=liblinear, score=0.328, total=   0.0s\n",
      "[CV] C=4.281332398719396, penalty=l2, solver=liblinear ...............\n",
      "[CV]  C=4.281332398719396, penalty=l2, solver=liblinear, score=0.367, total=   0.0s\n",
      "[CV] C=11.288378916846883, penalty=l1, solver=liblinear ..............\n"
     ]
    },
    {
     "name": "stderr",
     "output_type": "stream",
     "text": [
      "/Users/shiffraw/opt/anaconda3/lib/python3.8/site-packages/sklearn/svm/_base.py:976: ConvergenceWarning: Liblinear failed to converge, increase the number of iterations.\n",
      "  warnings.warn(\"Liblinear failed to converge, increase \"\n"
     ]
    },
    {
     "name": "stdout",
     "output_type": "stream",
     "text": [
      "[CV]  C=11.288378916846883, penalty=l1, solver=liblinear, score=0.309, total=  14.6s\n",
      "[CV] C=11.288378916846883, penalty=l1, solver=liblinear ..............\n"
     ]
    },
    {
     "name": "stderr",
     "output_type": "stream",
     "text": [
      "/Users/shiffraw/opt/anaconda3/lib/python3.8/site-packages/sklearn/svm/_base.py:976: ConvergenceWarning: Liblinear failed to converge, increase the number of iterations.\n",
      "  warnings.warn(\"Liblinear failed to converge, increase \"\n"
     ]
    },
    {
     "name": "stdout",
     "output_type": "stream",
     "text": [
      "[CV]  C=11.288378916846883, penalty=l1, solver=liblinear, score=0.331, total=  11.1s\n",
      "[CV] C=11.288378916846883, penalty=l1, solver=liblinear ..............\n"
     ]
    },
    {
     "name": "stderr",
     "output_type": "stream",
     "text": [
      "/Users/shiffraw/opt/anaconda3/lib/python3.8/site-packages/sklearn/svm/_base.py:976: ConvergenceWarning: Liblinear failed to converge, increase the number of iterations.\n",
      "  warnings.warn(\"Liblinear failed to converge, increase \"\n"
     ]
    },
    {
     "name": "stdout",
     "output_type": "stream",
     "text": [
      "[CV]  C=11.288378916846883, penalty=l1, solver=liblinear, score=0.348, total=  14.9s\n",
      "[CV] C=11.288378916846883, penalty=l1, solver=liblinear ..............\n"
     ]
    },
    {
     "name": "stderr",
     "output_type": "stream",
     "text": [
      "/Users/shiffraw/opt/anaconda3/lib/python3.8/site-packages/sklearn/svm/_base.py:976: ConvergenceWarning: Liblinear failed to converge, increase the number of iterations.\n",
      "  warnings.warn(\"Liblinear failed to converge, increase \"\n"
     ]
    },
    {
     "name": "stdout",
     "output_type": "stream",
     "text": [
      "[CV]  C=11.288378916846883, penalty=l1, solver=liblinear, score=0.344, total=  11.5s\n",
      "[CV] C=11.288378916846883, penalty=l1, solver=liblinear ..............\n"
     ]
    },
    {
     "name": "stderr",
     "output_type": "stream",
     "text": [
      "/Users/shiffraw/opt/anaconda3/lib/python3.8/site-packages/sklearn/svm/_base.py:976: ConvergenceWarning: Liblinear failed to converge, increase the number of iterations.\n",
      "  warnings.warn(\"Liblinear failed to converge, increase \"\n"
     ]
    },
    {
     "name": "stdout",
     "output_type": "stream",
     "text": [
      "[CV]  C=11.288378916846883, penalty=l1, solver=liblinear, score=0.356, total=  11.5s\n",
      "[CV] C=11.288378916846883, penalty=l2, solver=liblinear ..............\n",
      "[CV]  C=11.288378916846883, penalty=l2, solver=liblinear, score=0.309, total=   0.0s\n",
      "[CV] C=11.288378916846883, penalty=l2, solver=liblinear ..............\n",
      "[CV]  C=11.288378916846883, penalty=l2, solver=liblinear, score=0.337, total=   0.0s\n",
      "[CV] C=11.288378916846883, penalty=l2, solver=liblinear ..............\n",
      "[CV]  C=11.288378916846883, penalty=l2, solver=liblinear, score=0.359, total=   0.0s\n",
      "[CV] C=11.288378916846883, penalty=l2, solver=liblinear ..............\n",
      "[CV]  C=11.288378916846883, penalty=l2, solver=liblinear, score=0.339, total=   0.0s\n",
      "[CV] C=11.288378916846883, penalty=l2, solver=liblinear ..............\n",
      "[CV]  C=11.288378916846883, penalty=l2, solver=liblinear, score=0.356, total=   0.0s\n",
      "[CV] C=29.763514416313132, penalty=l1, solver=liblinear ..............\n"
     ]
    },
    {
     "name": "stderr",
     "output_type": "stream",
     "text": [
      "/Users/shiffraw/opt/anaconda3/lib/python3.8/site-packages/sklearn/svm/_base.py:976: ConvergenceWarning: Liblinear failed to converge, increase the number of iterations.\n",
      "  warnings.warn(\"Liblinear failed to converge, increase \"\n"
     ]
    },
    {
     "name": "stdout",
     "output_type": "stream",
     "text": [
      "[CV]  C=29.763514416313132, penalty=l1, solver=liblinear, score=0.309, total=  17.1s\n",
      "[CV] C=29.763514416313132, penalty=l1, solver=liblinear ..............\n"
     ]
    },
    {
     "name": "stderr",
     "output_type": "stream",
     "text": [
      "/Users/shiffraw/opt/anaconda3/lib/python3.8/site-packages/sklearn/svm/_base.py:976: ConvergenceWarning: Liblinear failed to converge, increase the number of iterations.\n",
      "  warnings.warn(\"Liblinear failed to converge, increase \"\n"
     ]
    },
    {
     "name": "stdout",
     "output_type": "stream",
     "text": [
      "[CV]  C=29.763514416313132, penalty=l1, solver=liblinear, score=0.326, total=  16.4s\n",
      "[CV] C=29.763514416313132, penalty=l1, solver=liblinear ..............\n"
     ]
    },
    {
     "name": "stderr",
     "output_type": "stream",
     "text": [
      "/Users/shiffraw/opt/anaconda3/lib/python3.8/site-packages/sklearn/svm/_base.py:976: ConvergenceWarning: Liblinear failed to converge, increase the number of iterations.\n",
      "  warnings.warn(\"Liblinear failed to converge, increase \"\n"
     ]
    },
    {
     "name": "stdout",
     "output_type": "stream",
     "text": [
      "[CV]  C=29.763514416313132, penalty=l1, solver=liblinear, score=0.354, total=  18.4s\n",
      "[CV] C=29.763514416313132, penalty=l1, solver=liblinear ..............\n"
     ]
    },
    {
     "name": "stderr",
     "output_type": "stream",
     "text": [
      "/Users/shiffraw/opt/anaconda3/lib/python3.8/site-packages/sklearn/svm/_base.py:976: ConvergenceWarning: Liblinear failed to converge, increase the number of iterations.\n",
      "  warnings.warn(\"Liblinear failed to converge, increase \"\n"
     ]
    },
    {
     "name": "stdout",
     "output_type": "stream",
     "text": [
      "[CV]  C=29.763514416313132, penalty=l1, solver=liblinear, score=0.333, total=  14.5s\n",
      "[CV] C=29.763514416313132, penalty=l1, solver=liblinear ..............\n"
     ]
    },
    {
     "name": "stderr",
     "output_type": "stream",
     "text": [
      "/Users/shiffraw/opt/anaconda3/lib/python3.8/site-packages/sklearn/svm/_base.py:976: ConvergenceWarning: Liblinear failed to converge, increase the number of iterations.\n",
      "  warnings.warn(\"Liblinear failed to converge, increase \"\n"
     ]
    },
    {
     "name": "stdout",
     "output_type": "stream",
     "text": [
      "[CV]  C=29.763514416313132, penalty=l1, solver=liblinear, score=0.356, total=  11.5s\n",
      "[CV] C=29.763514416313132, penalty=l2, solver=liblinear ..............\n",
      "[CV]  C=29.763514416313132, penalty=l2, solver=liblinear, score=0.304, total=   0.0s\n",
      "[CV] C=29.763514416313132, penalty=l2, solver=liblinear ..............\n",
      "[CV]  C=29.763514416313132, penalty=l2, solver=liblinear, score=0.337, total=   0.0s\n",
      "[CV] C=29.763514416313132, penalty=l2, solver=liblinear ..............\n",
      "[CV]  C=29.763514416313132, penalty=l2, solver=liblinear, score=0.337, total=   0.0s\n",
      "[CV] C=29.763514416313132, penalty=l2, solver=liblinear ..............\n",
      "[CV]  C=29.763514416313132, penalty=l2, solver=liblinear, score=0.356, total=   0.0s\n",
      "[CV] C=29.763514416313132, penalty=l2, solver=liblinear ..............\n",
      "[CV]  C=29.763514416313132, penalty=l2, solver=liblinear, score=0.350, total=   0.0s\n",
      "[CV] C=78.47599703514607, penalty=l1, solver=liblinear ...............\n"
     ]
    },
    {
     "name": "stderr",
     "output_type": "stream",
     "text": [
      "/Users/shiffraw/opt/anaconda3/lib/python3.8/site-packages/sklearn/svm/_base.py:976: ConvergenceWarning: Liblinear failed to converge, increase the number of iterations.\n",
      "  warnings.warn(\"Liblinear failed to converge, increase \"\n"
     ]
    },
    {
     "name": "stdout",
     "output_type": "stream",
     "text": [
      "[CV]  C=78.47599703514607, penalty=l1, solver=liblinear, score=0.309, total=  16.4s\n",
      "[CV] C=78.47599703514607, penalty=l1, solver=liblinear ...............\n"
     ]
    },
    {
     "name": "stderr",
     "output_type": "stream",
     "text": [
      "/Users/shiffraw/opt/anaconda3/lib/python3.8/site-packages/sklearn/svm/_base.py:976: ConvergenceWarning: Liblinear failed to converge, increase the number of iterations.\n",
      "  warnings.warn(\"Liblinear failed to converge, increase \"\n"
     ]
    },
    {
     "name": "stdout",
     "output_type": "stream",
     "text": [
      "[CV]  C=78.47599703514607, penalty=l1, solver=liblinear, score=0.326, total=  17.2s\n",
      "[CV] C=78.47599703514607, penalty=l1, solver=liblinear ...............\n"
     ]
    },
    {
     "name": "stderr",
     "output_type": "stream",
     "text": [
      "/Users/shiffraw/opt/anaconda3/lib/python3.8/site-packages/sklearn/svm/_base.py:976: ConvergenceWarning: Liblinear failed to converge, increase the number of iterations.\n",
      "  warnings.warn(\"Liblinear failed to converge, increase \"\n"
     ]
    },
    {
     "name": "stdout",
     "output_type": "stream",
     "text": [
      "[CV]  C=78.47599703514607, penalty=l1, solver=liblinear, score=0.348, total=  16.1s\n",
      "[CV] C=78.47599703514607, penalty=l1, solver=liblinear ...............\n"
     ]
    },
    {
     "name": "stderr",
     "output_type": "stream",
     "text": [
      "/Users/shiffraw/opt/anaconda3/lib/python3.8/site-packages/sklearn/svm/_base.py:976: ConvergenceWarning: Liblinear failed to converge, increase the number of iterations.\n",
      "  warnings.warn(\"Liblinear failed to converge, increase \"\n"
     ]
    },
    {
     "name": "stdout",
     "output_type": "stream",
     "text": [
      "[CV]  C=78.47599703514607, penalty=l1, solver=liblinear, score=0.328, total=  12.7s\n",
      "[CV] C=78.47599703514607, penalty=l1, solver=liblinear ...............\n"
     ]
    },
    {
     "name": "stderr",
     "output_type": "stream",
     "text": [
      "/Users/shiffraw/opt/anaconda3/lib/python3.8/site-packages/sklearn/svm/_base.py:976: ConvergenceWarning: Liblinear failed to converge, increase the number of iterations.\n",
      "  warnings.warn(\"Liblinear failed to converge, increase \"\n"
     ]
    },
    {
     "name": "stdout",
     "output_type": "stream",
     "text": [
      "[CV]  C=78.47599703514607, penalty=l1, solver=liblinear, score=0.350, total=  16.8s\n",
      "[CV] C=78.47599703514607, penalty=l2, solver=liblinear ...............\n",
      "[CV]  C=78.47599703514607, penalty=l2, solver=liblinear, score=0.304, total=   0.0s\n",
      "[CV] C=78.47599703514607, penalty=l2, solver=liblinear ...............\n",
      "[CV]  C=78.47599703514607, penalty=l2, solver=liblinear, score=0.331, total=   0.0s\n",
      "[CV] C=78.47599703514607, penalty=l2, solver=liblinear ...............\n",
      "[CV]  C=78.47599703514607, penalty=l2, solver=liblinear, score=0.348, total=   0.0s\n",
      "[CV] C=78.47599703514607, penalty=l2, solver=liblinear ...............\n",
      "[CV]  C=78.47599703514607, penalty=l2, solver=liblinear, score=0.356, total=   0.0s\n",
      "[CV] C=78.47599703514607, penalty=l2, solver=liblinear ...............\n",
      "[CV]  C=78.47599703514607, penalty=l2, solver=liblinear, score=0.344, total=   0.1s\n",
      "[CV] C=206.913808111479, penalty=l1, solver=liblinear ................\n"
     ]
    },
    {
     "name": "stderr",
     "output_type": "stream",
     "text": [
      "/Users/shiffraw/opt/anaconda3/lib/python3.8/site-packages/sklearn/svm/_base.py:976: ConvergenceWarning: Liblinear failed to converge, increase the number of iterations.\n",
      "  warnings.warn(\"Liblinear failed to converge, increase \"\n"
     ]
    },
    {
     "name": "stdout",
     "output_type": "stream",
     "text": [
      "[CV]  C=206.913808111479, penalty=l1, solver=liblinear, score=0.309, total=  15.3s\n",
      "[CV] C=206.913808111479, penalty=l1, solver=liblinear ................\n"
     ]
    },
    {
     "name": "stderr",
     "output_type": "stream",
     "text": [
      "/Users/shiffraw/opt/anaconda3/lib/python3.8/site-packages/sklearn/svm/_base.py:976: ConvergenceWarning: Liblinear failed to converge, increase the number of iterations.\n",
      "  warnings.warn(\"Liblinear failed to converge, increase \"\n"
     ]
    },
    {
     "name": "stdout",
     "output_type": "stream",
     "text": [
      "[CV]  C=206.913808111479, penalty=l1, solver=liblinear, score=0.331, total=  16.9s\n",
      "[CV] C=206.913808111479, penalty=l1, solver=liblinear ................\n"
     ]
    },
    {
     "name": "stderr",
     "output_type": "stream",
     "text": [
      "/Users/shiffraw/opt/anaconda3/lib/python3.8/site-packages/sklearn/svm/_base.py:976: ConvergenceWarning: Liblinear failed to converge, increase the number of iterations.\n",
      "  warnings.warn(\"Liblinear failed to converge, increase \"\n"
     ]
    },
    {
     "name": "stdout",
     "output_type": "stream",
     "text": [
      "[CV]  C=206.913808111479, penalty=l1, solver=liblinear, score=0.359, total=  16.2s\n",
      "[CV] C=206.913808111479, penalty=l1, solver=liblinear ................\n"
     ]
    },
    {
     "name": "stderr",
     "output_type": "stream",
     "text": [
      "/Users/shiffraw/opt/anaconda3/lib/python3.8/site-packages/sklearn/svm/_base.py:976: ConvergenceWarning: Liblinear failed to converge, increase the number of iterations.\n",
      "  warnings.warn(\"Liblinear failed to converge, increase \"\n"
     ]
    },
    {
     "name": "stdout",
     "output_type": "stream",
     "text": [
      "[CV]  C=206.913808111479, penalty=l1, solver=liblinear, score=0.333, total=  15.5s\n",
      "[CV] C=206.913808111479, penalty=l1, solver=liblinear ................\n"
     ]
    },
    {
     "name": "stderr",
     "output_type": "stream",
     "text": [
      "/Users/shiffraw/opt/anaconda3/lib/python3.8/site-packages/sklearn/svm/_base.py:976: ConvergenceWarning: Liblinear failed to converge, increase the number of iterations.\n",
      "  warnings.warn(\"Liblinear failed to converge, increase \"\n"
     ]
    },
    {
     "name": "stdout",
     "output_type": "stream",
     "text": [
      "[CV]  C=206.913808111479, penalty=l1, solver=liblinear, score=0.350, total=  16.9s\n",
      "[CV] C=206.913808111479, penalty=l2, solver=liblinear ................\n",
      "[CV]  C=206.913808111479, penalty=l2, solver=liblinear, score=0.304, total=   0.1s\n",
      "[CV] C=206.913808111479, penalty=l2, solver=liblinear ................\n",
      "[CV]  C=206.913808111479, penalty=l2, solver=liblinear, score=0.320, total=   0.1s\n",
      "[CV] C=206.913808111479, penalty=l2, solver=liblinear ................\n",
      "[CV]  C=206.913808111479, penalty=l2, solver=liblinear, score=0.343, total=   0.1s\n",
      "[CV] C=206.913808111479, penalty=l2, solver=liblinear ................\n",
      "[CV]  C=206.913808111479, penalty=l2, solver=liblinear, score=0.356, total=   0.1s\n",
      "[CV] C=206.913808111479, penalty=l2, solver=liblinear ................\n",
      "[CV]  C=206.913808111479, penalty=l2, solver=liblinear, score=0.339, total=   0.1s\n",
      "[CV] C=545.5594781168514, penalty=l1, solver=liblinear ...............\n"
     ]
    },
    {
     "name": "stderr",
     "output_type": "stream",
     "text": [
      "/Users/shiffraw/opt/anaconda3/lib/python3.8/site-packages/sklearn/svm/_base.py:976: ConvergenceWarning: Liblinear failed to converge, increase the number of iterations.\n",
      "  warnings.warn(\"Liblinear failed to converge, increase \"\n"
     ]
    },
    {
     "name": "stdout",
     "output_type": "stream",
     "text": [
      "[CV]  C=545.5594781168514, penalty=l1, solver=liblinear, score=0.315, total=  16.8s\n",
      "[CV] C=545.5594781168514, penalty=l1, solver=liblinear ...............\n"
     ]
    },
    {
     "name": "stderr",
     "output_type": "stream",
     "text": [
      "/Users/shiffraw/opt/anaconda3/lib/python3.8/site-packages/sklearn/svm/_base.py:976: ConvergenceWarning: Liblinear failed to converge, increase the number of iterations.\n",
      "  warnings.warn(\"Liblinear failed to converge, increase \"\n"
     ]
    },
    {
     "name": "stdout",
     "output_type": "stream",
     "text": [
      "[CV]  C=545.5594781168514, penalty=l1, solver=liblinear, score=0.331, total=  18.3s\n",
      "[CV] C=545.5594781168514, penalty=l1, solver=liblinear ...............\n"
     ]
    },
    {
     "name": "stderr",
     "output_type": "stream",
     "text": [
      "/Users/shiffraw/opt/anaconda3/lib/python3.8/site-packages/sklearn/svm/_base.py:976: ConvergenceWarning: Liblinear failed to converge, increase the number of iterations.\n",
      "  warnings.warn(\"Liblinear failed to converge, increase \"\n"
     ]
    },
    {
     "name": "stdout",
     "output_type": "stream",
     "text": [
      "[CV]  C=545.5594781168514, penalty=l1, solver=liblinear, score=0.348, total=  18.1s\n",
      "[CV] C=545.5594781168514, penalty=l1, solver=liblinear ...............\n"
     ]
    },
    {
     "name": "stderr",
     "output_type": "stream",
     "text": [
      "/Users/shiffraw/opt/anaconda3/lib/python3.8/site-packages/sklearn/svm/_base.py:976: ConvergenceWarning: Liblinear failed to converge, increase the number of iterations.\n",
      "  warnings.warn(\"Liblinear failed to converge, increase \"\n"
     ]
    },
    {
     "name": "stdout",
     "output_type": "stream",
     "text": [
      "[CV]  C=545.5594781168514, penalty=l1, solver=liblinear, score=0.344, total=  14.4s\n",
      "[CV] C=545.5594781168514, penalty=l1, solver=liblinear ...............\n"
     ]
    },
    {
     "name": "stderr",
     "output_type": "stream",
     "text": [
      "/Users/shiffraw/opt/anaconda3/lib/python3.8/site-packages/sklearn/svm/_base.py:976: ConvergenceWarning: Liblinear failed to converge, increase the number of iterations.\n",
      "  warnings.warn(\"Liblinear failed to converge, increase \"\n"
     ]
    },
    {
     "name": "stdout",
     "output_type": "stream",
     "text": [
      "[CV]  C=545.5594781168514, penalty=l1, solver=liblinear, score=0.344, total=  15.9s\n",
      "[CV] C=545.5594781168514, penalty=l2, solver=liblinear ...............\n",
      "[CV]  C=545.5594781168514, penalty=l2, solver=liblinear, score=0.298, total=   0.0s\n",
      "[CV] C=545.5594781168514, penalty=l2, solver=liblinear ...............\n",
      "[CV]  C=545.5594781168514, penalty=l2, solver=liblinear, score=0.315, total=   0.0s\n",
      "[CV] C=545.5594781168514, penalty=l2, solver=liblinear ...............\n",
      "[CV]  C=545.5594781168514, penalty=l2, solver=liblinear, score=0.337, total=   0.0s\n",
      "[CV] C=545.5594781168514, penalty=l2, solver=liblinear ...............\n",
      "[CV]  C=545.5594781168514, penalty=l2, solver=liblinear, score=0.361, total=   0.0s\n",
      "[CV] C=545.5594781168514, penalty=l2, solver=liblinear ...............\n",
      "[CV]  C=545.5594781168514, penalty=l2, solver=liblinear, score=0.333, total=   0.1s\n",
      "[CV] C=1438.44988828766, penalty=l1, solver=liblinear ................\n"
     ]
    },
    {
     "name": "stderr",
     "output_type": "stream",
     "text": [
      "/Users/shiffraw/opt/anaconda3/lib/python3.8/site-packages/sklearn/svm/_base.py:976: ConvergenceWarning: Liblinear failed to converge, increase the number of iterations.\n",
      "  warnings.warn(\"Liblinear failed to converge, increase \"\n"
     ]
    },
    {
     "name": "stdout",
     "output_type": "stream",
     "text": [
      "[CV]  C=1438.44988828766, penalty=l1, solver=liblinear, score=0.309, total=  21.9s\n",
      "[CV] C=1438.44988828766, penalty=l1, solver=liblinear ................\n"
     ]
    },
    {
     "name": "stderr",
     "output_type": "stream",
     "text": [
      "/Users/shiffraw/opt/anaconda3/lib/python3.8/site-packages/sklearn/svm/_base.py:976: ConvergenceWarning: Liblinear failed to converge, increase the number of iterations.\n",
      "  warnings.warn(\"Liblinear failed to converge, increase \"\n"
     ]
    },
    {
     "name": "stdout",
     "output_type": "stream",
     "text": [
      "[CV]  C=1438.44988828766, penalty=l1, solver=liblinear, score=0.337, total=  15.8s\n",
      "[CV] C=1438.44988828766, penalty=l1, solver=liblinear ................\n"
     ]
    },
    {
     "name": "stderr",
     "output_type": "stream",
     "text": [
      "/Users/shiffraw/opt/anaconda3/lib/python3.8/site-packages/sklearn/svm/_base.py:976: ConvergenceWarning: Liblinear failed to converge, increase the number of iterations.\n",
      "  warnings.warn(\"Liblinear failed to converge, increase \"\n"
     ]
    },
    {
     "name": "stdout",
     "output_type": "stream",
     "text": [
      "[CV]  C=1438.44988828766, penalty=l1, solver=liblinear, score=0.348, total=  19.0s\n",
      "[CV] C=1438.44988828766, penalty=l1, solver=liblinear ................\n"
     ]
    },
    {
     "name": "stderr",
     "output_type": "stream",
     "text": [
      "/Users/shiffraw/opt/anaconda3/lib/python3.8/site-packages/sklearn/svm/_base.py:976: ConvergenceWarning: Liblinear failed to converge, increase the number of iterations.\n",
      "  warnings.warn(\"Liblinear failed to converge, increase \"\n"
     ]
    },
    {
     "name": "stdout",
     "output_type": "stream",
     "text": [
      "[CV]  C=1438.44988828766, penalty=l1, solver=liblinear, score=0.339, total=  18.6s\n",
      "[CV] C=1438.44988828766, penalty=l1, solver=liblinear ................\n"
     ]
    },
    {
     "name": "stderr",
     "output_type": "stream",
     "text": [
      "/Users/shiffraw/opt/anaconda3/lib/python3.8/site-packages/sklearn/svm/_base.py:976: ConvergenceWarning: Liblinear failed to converge, increase the number of iterations.\n",
      "  warnings.warn(\"Liblinear failed to converge, increase \"\n"
     ]
    },
    {
     "name": "stdout",
     "output_type": "stream",
     "text": [
      "[CV]  C=1438.44988828766, penalty=l1, solver=liblinear, score=0.344, total=  17.1s\n",
      "[CV] C=1438.44988828766, penalty=l2, solver=liblinear ................\n",
      "[CV]  C=1438.44988828766, penalty=l2, solver=liblinear, score=0.304, total=   0.1s\n",
      "[CV] C=1438.44988828766, penalty=l2, solver=liblinear ................\n",
      "[CV]  C=1438.44988828766, penalty=l2, solver=liblinear, score=0.326, total=   0.1s\n",
      "[CV] C=1438.44988828766, penalty=l2, solver=liblinear ................\n",
      "[CV]  C=1438.44988828766, penalty=l2, solver=liblinear, score=0.337, total=   0.1s\n",
      "[CV] C=1438.44988828766, penalty=l2, solver=liblinear ................\n",
      "[CV]  C=1438.44988828766, penalty=l2, solver=liblinear, score=0.344, total=   0.0s\n",
      "[CV] C=1438.44988828766, penalty=l2, solver=liblinear ................\n",
      "[CV]  C=1438.44988828766, penalty=l2, solver=liblinear, score=0.328, total=   0.1s\n",
      "[CV] C=3792.690190732246, penalty=l1, solver=liblinear ...............\n"
     ]
    },
    {
     "name": "stderr",
     "output_type": "stream",
     "text": [
      "/Users/shiffraw/opt/anaconda3/lib/python3.8/site-packages/sklearn/svm/_base.py:976: ConvergenceWarning: Liblinear failed to converge, increase the number of iterations.\n",
      "  warnings.warn(\"Liblinear failed to converge, increase \"\n"
     ]
    },
    {
     "name": "stdout",
     "output_type": "stream",
     "text": [
      "[CV]  C=3792.690190732246, penalty=l1, solver=liblinear, score=0.309, total=  19.5s\n",
      "[CV] C=3792.690190732246, penalty=l1, solver=liblinear ...............\n"
     ]
    },
    {
     "name": "stderr",
     "output_type": "stream",
     "text": [
      "/Users/shiffraw/opt/anaconda3/lib/python3.8/site-packages/sklearn/svm/_base.py:976: ConvergenceWarning: Liblinear failed to converge, increase the number of iterations.\n",
      "  warnings.warn(\"Liblinear failed to converge, increase \"\n"
     ]
    },
    {
     "name": "stdout",
     "output_type": "stream",
     "text": [
      "[CV]  C=3792.690190732246, penalty=l1, solver=liblinear, score=0.348, total=  17.9s\n",
      "[CV] C=3792.690190732246, penalty=l1, solver=liblinear ...............\n"
     ]
    },
    {
     "name": "stderr",
     "output_type": "stream",
     "text": [
      "/Users/shiffraw/opt/anaconda3/lib/python3.8/site-packages/sklearn/svm/_base.py:976: ConvergenceWarning: Liblinear failed to converge, increase the number of iterations.\n",
      "  warnings.warn(\"Liblinear failed to converge, increase \"\n"
     ]
    },
    {
     "name": "stdout",
     "output_type": "stream",
     "text": [
      "[CV]  C=3792.690190732246, penalty=l1, solver=liblinear, score=0.348, total=  19.3s\n",
      "[CV] C=3792.690190732246, penalty=l1, solver=liblinear ...............\n"
     ]
    },
    {
     "name": "stderr",
     "output_type": "stream",
     "text": [
      "/Users/shiffraw/opt/anaconda3/lib/python3.8/site-packages/sklearn/svm/_base.py:976: ConvergenceWarning: Liblinear failed to converge, increase the number of iterations.\n",
      "  warnings.warn(\"Liblinear failed to converge, increase \"\n"
     ]
    },
    {
     "name": "stdout",
     "output_type": "stream",
     "text": [
      "[CV]  C=3792.690190732246, penalty=l1, solver=liblinear, score=0.333, total=  17.3s\n",
      "[CV] C=3792.690190732246, penalty=l1, solver=liblinear ...............\n"
     ]
    },
    {
     "name": "stderr",
     "output_type": "stream",
     "text": [
      "/Users/shiffraw/opt/anaconda3/lib/python3.8/site-packages/sklearn/svm/_base.py:976: ConvergenceWarning: Liblinear failed to converge, increase the number of iterations.\n",
      "  warnings.warn(\"Liblinear failed to converge, increase \"\n"
     ]
    },
    {
     "name": "stdout",
     "output_type": "stream",
     "text": [
      "[CV]  C=3792.690190732246, penalty=l1, solver=liblinear, score=0.339, total=  19.8s\n",
      "[CV] C=3792.690190732246, penalty=l2, solver=liblinear ...............\n",
      "[CV]  C=3792.690190732246, penalty=l2, solver=liblinear, score=0.304, total=   0.0s\n",
      "[CV] C=3792.690190732246, penalty=l2, solver=liblinear ...............\n",
      "[CV]  C=3792.690190732246, penalty=l2, solver=liblinear, score=0.326, total=   0.1s\n",
      "[CV] C=3792.690190732246, penalty=l2, solver=liblinear ...............\n",
      "[CV]  C=3792.690190732246, penalty=l2, solver=liblinear, score=0.337, total=   0.1s\n",
      "[CV] C=3792.690190732246, penalty=l2, solver=liblinear ...............\n",
      "[CV]  C=3792.690190732246, penalty=l2, solver=liblinear, score=0.350, total=   0.0s\n",
      "[CV] C=3792.690190732246, penalty=l2, solver=liblinear ...............\n",
      "[CV]  C=3792.690190732246, penalty=l2, solver=liblinear, score=0.333, total=   0.1s\n",
      "[CV] C=10000.0, penalty=l1, solver=liblinear .........................\n"
     ]
    },
    {
     "name": "stderr",
     "output_type": "stream",
     "text": [
      "/Users/shiffraw/opt/anaconda3/lib/python3.8/site-packages/sklearn/svm/_base.py:976: ConvergenceWarning: Liblinear failed to converge, increase the number of iterations.\n",
      "  warnings.warn(\"Liblinear failed to converge, increase \"\n"
     ]
    },
    {
     "name": "stdout",
     "output_type": "stream",
     "text": [
      "[CV]  C=10000.0, penalty=l1, solver=liblinear, score=0.309, total=  22.2s\n",
      "[CV] C=10000.0, penalty=l1, solver=liblinear .........................\n"
     ]
    },
    {
     "name": "stderr",
     "output_type": "stream",
     "text": [
      "/Users/shiffraw/opt/anaconda3/lib/python3.8/site-packages/sklearn/svm/_base.py:976: ConvergenceWarning: Liblinear failed to converge, increase the number of iterations.\n",
      "  warnings.warn(\"Liblinear failed to converge, increase \"\n"
     ]
    },
    {
     "name": "stdout",
     "output_type": "stream",
     "text": [
      "[CV]  C=10000.0, penalty=l1, solver=liblinear, score=0.331, total=  19.9s\n",
      "[CV] C=10000.0, penalty=l1, solver=liblinear .........................\n"
     ]
    },
    {
     "name": "stderr",
     "output_type": "stream",
     "text": [
      "/Users/shiffraw/opt/anaconda3/lib/python3.8/site-packages/sklearn/svm/_base.py:976: ConvergenceWarning: Liblinear failed to converge, increase the number of iterations.\n",
      "  warnings.warn(\"Liblinear failed to converge, increase \"\n"
     ]
    },
    {
     "name": "stdout",
     "output_type": "stream",
     "text": [
      "[CV]  C=10000.0, penalty=l1, solver=liblinear, score=0.348, total=  22.5s\n",
      "[CV] C=10000.0, penalty=l1, solver=liblinear .........................\n"
     ]
    },
    {
     "name": "stderr",
     "output_type": "stream",
     "text": [
      "/Users/shiffraw/opt/anaconda3/lib/python3.8/site-packages/sklearn/svm/_base.py:976: ConvergenceWarning: Liblinear failed to converge, increase the number of iterations.\n",
      "  warnings.warn(\"Liblinear failed to converge, increase \"\n"
     ]
    },
    {
     "name": "stdout",
     "output_type": "stream",
     "text": [
      "[CV]  C=10000.0, penalty=l1, solver=liblinear, score=0.333, total=  22.1s\n",
      "[CV] C=10000.0, penalty=l1, solver=liblinear .........................\n"
     ]
    },
    {
     "name": "stderr",
     "output_type": "stream",
     "text": [
      "/Users/shiffraw/opt/anaconda3/lib/python3.8/site-packages/sklearn/svm/_base.py:976: ConvergenceWarning: Liblinear failed to converge, increase the number of iterations.\n",
      "  warnings.warn(\"Liblinear failed to converge, increase \"\n"
     ]
    },
    {
     "name": "stdout",
     "output_type": "stream",
     "text": [
      "[CV]  C=10000.0, penalty=l1, solver=liblinear, score=0.339, total=  18.5s\n",
      "[CV] C=10000.0, penalty=l2, solver=liblinear .........................\n",
      "[CV]  C=10000.0, penalty=l2, solver=liblinear, score=0.304, total=   0.0s\n",
      "[CV] C=10000.0, penalty=l2, solver=liblinear .........................\n",
      "[CV]  C=10000.0, penalty=l2, solver=liblinear, score=0.315, total=   0.0s\n",
      "[CV] C=10000.0, penalty=l2, solver=liblinear .........................\n",
      "[CV]  C=10000.0, penalty=l2, solver=liblinear, score=0.343, total=   0.0s\n",
      "[CV] C=10000.0, penalty=l2, solver=liblinear .........................\n",
      "[CV]  C=10000.0, penalty=l2, solver=liblinear, score=0.350, total=   0.0s\n",
      "[CV] C=10000.0, penalty=l2, solver=liblinear .........................\n",
      "[CV]  C=10000.0, penalty=l2, solver=liblinear, score=0.328, total=   0.1s\n"
     ]
    },
    {
     "name": "stderr",
     "output_type": "stream",
     "text": [
      "[Parallel(n_jobs=1)]: Done 200 out of 200 | elapsed: 12.9min finished\n"
     ]
    },
    {
     "data": {
      "text/plain": [
       "GridSearchCV(estimator=LogisticRegression(),\n",
       "             param_grid={'C': array([1.00000000e-04, 2.63665090e-04, 6.95192796e-04, 1.83298071e-03,\n",
       "       4.83293024e-03, 1.27427499e-02, 3.35981829e-02, 8.85866790e-02,\n",
       "       2.33572147e-01, 6.15848211e-01, 1.62377674e+00, 4.28133240e+00,\n",
       "       1.12883789e+01, 2.97635144e+01, 7.84759970e+01, 2.06913808e+02,\n",
       "       5.45559478e+02, 1.43844989e+03, 3.79269019e+03, 1.00000000e+04]),\n",
       "                         'penalty': ['l1', 'l2'], 'solver': ['liblinear']},\n",
       "             verbose=3)"
      ]
     },
     "execution_count": 83,
     "metadata": {},
     "output_type": "execute_result"
    }
   ],
   "source": [
    "grid.fit(X_train, y_train) "
   ]
  },
  {
   "cell_type": "code",
   "execution_count": 85,
   "metadata": {},
   "outputs": [
    {
     "data": {
      "text/plain": [
       "0.36323366555924697"
      ]
     },
     "execution_count": 85,
     "metadata": {},
     "output_type": "execute_result"
    }
   ],
   "source": [
    "grid.score(X_train, y_train)"
   ]
  },
  {
   "cell_type": "code",
   "execution_count": 87,
   "metadata": {},
   "outputs": [
    {
     "data": {
      "text/plain": [
       "0.3344370860927152"
      ]
     },
     "execution_count": 87,
     "metadata": {},
     "output_type": "execute_result"
    }
   ],
   "source": [
    "grid.score(X_test, y_test)"
   ]
  },
  {
   "cell_type": "code",
   "execution_count": 92,
   "metadata": {},
   "outputs": [
    {
     "name": "stdout",
     "output_type": "stream",
     "text": [
      "Best Penalty: l2\n",
      "Best C: 0.012742749857031334\n",
      "\n"
     ]
    },
    {
     "ename": "KeyError",
     "evalue": "'logistic_Reg'",
     "output_type": "error",
     "traceback": [
      "\u001b[0;31m---------------------------------------------------------------------------\u001b[0m",
      "\u001b[0;31mKeyError\u001b[0m                                  Traceback (most recent call last)",
      "\u001b[0;32m<ipython-input-92-039cd8c51d38>\u001b[0m in \u001b[0;36m<module>\u001b[0;34m\u001b[0m\n\u001b[1;32m      2\u001b[0m \u001b[0mprint\u001b[0m\u001b[0;34m(\u001b[0m\u001b[0;34m'Best C:'\u001b[0m\u001b[0;34m,\u001b[0m \u001b[0mgrid\u001b[0m\u001b[0;34m.\u001b[0m\u001b[0mbest_estimator_\u001b[0m\u001b[0;34m.\u001b[0m\u001b[0mget_params\u001b[0m\u001b[0;34m(\u001b[0m\u001b[0;34m)\u001b[0m\u001b[0;34m[\u001b[0m\u001b[0;34m'C'\u001b[0m\u001b[0;34m]\u001b[0m\u001b[0;34m)\u001b[0m\u001b[0;34m\u001b[0m\u001b[0;34m\u001b[0m\u001b[0m\n\u001b[1;32m      3\u001b[0m \u001b[0;34m\u001b[0m\u001b[0m\n\u001b[0;32m----> 4\u001b[0;31m \u001b[0mprint\u001b[0m\u001b[0;34m(\u001b[0m\u001b[0;34m)\u001b[0m\u001b[0;34m;\u001b[0m \u001b[0mprint\u001b[0m\u001b[0;34m(\u001b[0m\u001b[0mgrid\u001b[0m\u001b[0;34m.\u001b[0m\u001b[0mbest_estimator_\u001b[0m\u001b[0;34m.\u001b[0m\u001b[0mget_params\u001b[0m\u001b[0;34m(\u001b[0m\u001b[0;34m)\u001b[0m\u001b[0;34m[\u001b[0m\u001b[0;34m'logistic_Reg'\u001b[0m\u001b[0;34m]\u001b[0m\u001b[0;34m)\u001b[0m\u001b[0;34m\u001b[0m\u001b[0;34m\u001b[0m\u001b[0m\n\u001b[0m",
      "\u001b[0;31mKeyError\u001b[0m: 'logistic_Reg'"
     ]
    }
   ],
   "source": [
    "print('Best Penalty:', grid.best_estimator_.get_params()['penalty'])\n",
    "print('Best C:', grid.best_estimator_.get_params()['C'])\n",
    "\n",
    "print(); print(grid.best_estimator_.get_params()['logistic_Reg'])"
   ]
  },
  {
   "cell_type": "markdown",
   "metadata": {},
   "source": [
    "Support Vector Machine Grid Search"
   ]
  },
  {
   "cell_type": "code",
   "execution_count": 14,
   "metadata": {},
   "outputs": [],
   "source": [
    "imp_mode = SimpleImputer(strategy=\"most_frequent\", add_indicator=True)#impute \n",
    "ohe = OneHotEncoder(handle_unknown='ignore')\n",
    "\n",
    "cat_cols = make_column_selector(dtype_exclude='number') \n",
    "\n",
    "preprocessor = make_column_transformer(\n",
    "   \n",
    "    (make_pipeline(imp_mode, ohe), cat_cols)\n",
    ")\n",
    "\n",
    "pipe = pipe = make_pipeline(preprocessor, SVC())\n",
    "\n",
    "param_grid = {'C': [0.1, 1, 10,100],  \n",
    "              'gamma': [1, 0.1, 0.01, 0.001] \n",
    "              'kernel': ['rbf', 'sigmoid', 'linear', 'poly']}  \n",
    "  \n",
    "grid = GridSearch(SVC(), param_grid, verbose = 3)\n",
    "\n",
    "grid.fit(X_train, y_train) \n",
    "\n",
    "grid.score((X_train, y_train) )\n",
    "\n",
    "grid.score(X_test, y_test)"
   ]
  }
 ],
 "metadata": {
  "kernelspec": {
   "display_name": "Python 3",
   "language": "python",
   "name": "python3"
  },
  "language_info": {
   "codemirror_mode": {
    "name": "ipython",
    "version": 3
   },
   "file_extension": ".py",
   "mimetype": "text/x-python",
   "name": "python",
   "nbconvert_exporter": "python",
   "pygments_lexer": "ipython3",
   "version": "3.8.3"
  }
 },
 "nbformat": 4,
 "nbformat_minor": 4
}
