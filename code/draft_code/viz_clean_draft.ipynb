{
 "cells": [
  {
   "cell_type": "code",
   "execution_count": 1,
   "metadata": {},
   "outputs": [],
   "source": [
    "import numpy as np\n",
    "import matplotlib.pyplot as plt\n",
    "import pandas as pd\n",
    "\n",
    "from matplotlib.patches import Ellipse"
   ]
  },
  {
   "cell_type": "code",
   "execution_count": null,
   "metadata": {},
   "outputs": [],
   "source": []
  },
  {
   "cell_type": "markdown",
   "metadata": {},
   "source": [
    "### Is the target point within range?\n",
    "- The 'range' is whatever is in the ellipse shown below, with the major axis representing the distance from your start and ending points\n",
    "<center>\n",
    " <img src=\"./pics/Ellipse.png\" alt=\"drawing\" width=\"400\"/>\n",
    "</center>\n",
    "- In this ellipse, the perimeter represents the points at which your path has the same length.\n",
    "<center>\n",
    " <img src=\"./pics/p1_ellipse.png\" alt=\"drawing\" width=\"400\"/>\n",
    " <img src=\"./pics/p2_ellipse.png\" alt=\"drawing\" width=\"400\"/>\n",
    "</center>"
   ]
  },
  {
   "cell_type": "code",
   "execution_count": 2,
   "metadata": {},
   "outputs": [],
   "source": [
    "def start_end_line(start, end):\n",
    "    slope = (start[1] - end[1]) / (start[0] - end[0])\n",
    "    b = start[1] - (slope * start[0])\n",
    "    \n",
    "    x = np.linspace(start[0], end[0])\n",
    "    y = slope * x + b\n",
    "    return (x, y)"
   ]
  },
  {
   "cell_type": "markdown",
   "metadata": {},
   "source": [
    "- where (xp, yp) are the point coordinates and (x0, y0) is the center of the ellipse\n",
    "- where a is the minor axis and b is the major axis\n",
    "<center>\n",
    " <img src=\"./pics/ellipse_eq.png\" alt=\"drawing\" width=\"800\"/>\n",
    "</center>\n"
   ]
  },
  {
   "cell_type": "code",
   "execution_count": 424,
   "metadata": {},
   "outputs": [],
   "source": [
    "def rotate_point(point, center_of_rotation, angle_positive_counterclockwise_radians):\n",
    "    x_0 = point[0]\n",
    "    y_0 = point[1]\n",
    "    \n",
    "    x_c = center_of_rotation[0]\n",
    "    y_c = center_of_rotation[1]\n",
    "    \n",
    "    theta = angle_positive_counterclockwise_radians\n",
    "    \n",
    "    cos = np.cos(theta)\n",
    "    sin = np.sin(theta)\n",
    "    \n",
    "    x_1 = (cos * (x_0 - x_c)) - (sin * (y_0 - y_c)) + x_c\n",
    "    y_1 = (sin * (x_0 - x_c)) + (cos * (y_0 - y_c)) + y_c\n",
    "    \n",
    "    return (x_1, y_1)"
   ]
  },
  {
   "cell_type": "code",
   "execution_count": 428,
   "metadata": {},
   "outputs": [],
   "source": [
    "def angle_from_x_axis(start, stop):\n",
    "    delta_x = start[0] - stop[0]\n",
    "    delta_y = start[1] - stop[1]\n",
    "    theta = np.arctan(delta_y / delta_x)\n",
    "    return theta"
   ]
  },
  {
   "cell_type": "code",
   "execution_count": 440,
   "metadata": {},
   "outputs": [
    {
     "data": {
      "text/plain": [
       "-1.2300496827055136"
      ]
     },
     "execution_count": 440,
     "metadata": {},
     "output_type": "execute_result"
    }
   ],
   "source": [
    "angle_from_x_axis(start = la_coords, stop = tahoe_coords)# - (np.pi / 4)"
   ]
  },
  {
   "cell_type": "code",
   "execution_count": 441,
   "metadata": {},
   "outputs": [
    {
     "data": {
      "text/plain": [
       "(-3.041572526423193, 6.3834815396073346)"
      ]
     },
     "execution_count": 441,
     "metadata": {},
     "output_type": "execute_result"
    }
   ],
   "source": [
    "rotate_point(point = (5, 5), center_of_rotation = (0, 0), angle_positive_counterclockwise_radians = -angle_from_x_axis(start = la_coords, stop = tahoe_coords))"
   ]
  },
  {
   "cell_type": "code",
   "execution_count": 407,
   "metadata": {},
   "outputs": [],
   "source": [
    "def get_midpoint(start, stop):\n",
    "    delta_x = stop[0] + start[0]\n",
    "    delta_y = stop[1] + start[1]\n",
    "    \n",
    "    if delta_x == 0:\n",
    "        midpoint_x = start[0]\n",
    "    else:\n",
    "        midpoint_x = delta_x / 2\n",
    "    if delta_y == 0:\n",
    "        midpoint_y = start[1]\n",
    "    else:\n",
    "        midpoint_y = delta_y / 2\n",
    "        \n",
    "    return (midpoint_x, midpoint_y)"
   ]
  },
  {
   "cell_type": "code",
   "execution_count": 408,
   "metadata": {},
   "outputs": [
    {
     "data": {
      "text/plain": [
       "(-120.361, 35.936049999999994)"
      ]
     },
     "execution_count": 408,
     "metadata": {},
     "output_type": "execute_result"
    }
   ],
   "source": [
    "golden_gate_coords = (-122.4783, 37.8199)\n",
    "tahoe_coords = (-120.0324, 39.0968)\n",
    "la_coords = (-118.2437, 34.0522)\n",
    "\n",
    "get_midpoint(start = la_coords, stop = golden_gate_coords)"
   ]
  },
  {
   "cell_type": "code",
   "execution_count": 409,
   "metadata": {},
   "outputs": [
    {
     "data": {
      "text/plain": [
       "(0, 5.0)"
      ]
     },
     "execution_count": 409,
     "metadata": {},
     "output_type": "execute_result"
    }
   ],
   "source": [
    "get_midpoint(start = (0, 0), stop = (0, 10))"
   ]
  },
  {
   "cell_type": "code",
   "execution_count": 236,
   "metadata": {},
   "outputs": [
    {
     "data": {
      "text/plain": [
       "540"
      ]
     },
     "execution_count": 236,
     "metadata": {},
     "output_type": "execute_result"
    }
   ],
   "source": [
    "360+180"
   ]
  },
  {
   "cell_type": "code",
   "execution_count": null,
   "metadata": {},
   "outputs": [],
   "source": [
    "# figure out angle to rotate the plane\n",
    "    if delta_x == 0:\n",
    "        angle_radians = np.pi / 2\n",
    "    else:\n",
    "        angle_radians = np.arctan(delta_y / delta_x) # angle of line from x axis\n",
    "    angle_degrees = angle_radians * 180 / np.pi\n",
    "    \n",
    "    angle_of_rotation = (2 * np.pi) - angle_radians # need to rotate back to original coordinate plane"
   ]
  },
  {
   "cell_type": "code",
   "execution_count": 494,
   "metadata": {},
   "outputs": [],
   "source": [
    "def is_in_ellipse(start, stop, max_distance, df):\n",
    "    \n",
    "    midpoint = get_midpoint(start = start, stop = stop)\n",
    "    target_list = list(zip(df['x'], df['y']))\n",
    "    \n",
    "    \n",
    "    # transform all points so midpoint is centered\n",
    "    start_translated = (start[0] - midpoint[0], start[1] - midpoint[1])\n",
    "    stop_translated = (stop[0] - midpoint[0], stop[1] - midpoint[1])\n",
    "    \n",
    "    targets_translated = []\n",
    "    for x in range(len(target_list)):\n",
    "        target_translated = (target_list[x][0] - midpoint[0], target_list[x][1] - midpoint[1])\n",
    "        targets_translated.append(target_translated)\n",
    "    \n",
    "    \n",
    "    theta = angle_from_x_axis(start = start, stop = stop)\n",
    "    theta_degrees = theta * 180 / np.pi\n",
    "    start_rotated = rotate_point(point = start_translated, center_of_rotation = (0, 0), angle_positive_counterclockwise_radians = -theta)\n",
    "    stop_rotated = rotate_point(point = stop_translated, center_of_rotation = (0, 0), angle_positive_counterclockwise_radians = -theta)\n",
    "    \n",
    "    target_list_rotated = []\n",
    "    for x in range(len(targets_translated)):\n",
    "        target_point = targets_translated[x]\n",
    "        target_point_rotated = rotate_point(point = target_point, center_of_rotation = (0, 0), angle_positive_counterclockwise_radians = -theta)\n",
    "        target_list_rotated.append(target_point_rotated)\n",
    "    \n",
    "    # define the major an minor axis\n",
    "    delta_x_rotated = stop_rotated[0] - start_rotated[0]\n",
    "    delta_y_rotated = stop_rotated[1] - start_rotated[1] # should always be zero\n",
    "    \n",
    "    major_axis = delta_x_rotated * max_distance # a + b\n",
    "    minor_axis = major_axis * np.sqrt(max_distance**2 - 1) # formula below\n",
    "    \n",
    "    # see which points are in ellipse\n",
    "    in_ellipse = []\n",
    "    for x in range(len(target_list_rotated)):\n",
    "        x_target = target_list_rotated[x][0]\n",
    "        y_target = target_list_rotated[x][1]\n",
    "        \n",
    "        component1 = (x_target / (major_axis/2))**2\n",
    "        component2 = (y_target / (minor_axis/2))**2\n",
    "        \n",
    "        if component1 + component2 <= 1:\n",
    "            in_ellipse.append('1')\n",
    "        else:\n",
    "            in_ellipse.append('0')\n",
    "        #in_ellipse.append(str(component1 + component2))\n",
    "        #in_ellipse.append((x_target, y_target))\n",
    "    \n",
    "    mapped = [int(x) for x in in_ellipse]\n",
    "    \n",
    "    df['in_ellipse'] = mapped\n",
    "    \n",
    "    df_zeros = df.loc[df['in_ellipse'] == 0]\n",
    "    df_ones = df.loc[df['in_ellipse'] == 1]\n",
    "    \n",
    "    plt.figure(figsize=(12, 12))\n",
    "    ellipse = Ellipse(xy = get_midpoint(start, stop), width = major_axis, height = minor_axis, angle = theta_degrees, alpha = .4)\n",
    "    plt.gca().add_patch(ellipse)\n",
    "    plt.scatter(df_zeros['x'], df_zeros['y'], marker = 'o', c = df_zeros['rating'])\n",
    "    plt.scatter(df_ones['x'], df_ones['y'], marker = \"^\", c = df_ones['rating'])\n",
    "    plt.show()\n",
    "    \n",
    "    return theta_degrees\n"
   ]
  },
  {
   "cell_type": "code",
   "execution_count": 495,
   "metadata": {},
   "outputs": [
    {
     "data": {
      "image/png": "[encoded data removed]",
      "text/plain": [
       "<Figure size 864x864 with 1 Axes>"
      ]
     },
     "metadata": {
      "needs_background": "light"
     },
     "output_type": "display_data"
    },
    {
     "data": {
      "text/plain": [
       "27.5671398237739"
      ]
     },
     "execution_count": 495,
     "metadata": {},
     "output_type": "execute_result"
    }
   ],
   "source": [
    "is_in_ellipse(start = golden_gate_coords, stop = tahoe_coords, max_distance = 1.1, df = gas_df)"
   ]
  },
  {
   "cell_type": "code",
   "execution_count": null,
   "metadata": {},
   "outputs": [],
   "source": [
    "ellipse = Ellipse(xy = midpoint, width = major_axis, height = minor_axis, angle = line_angle, alpha = .8)\n",
    "    plt.gca().add_patch(ellipse)\n",
    "\n",
    "    plt.axis('scaled')\n",
    "    \n",
    "    #Now for visualizing which points are in the ellipse\n",
    "    df = places_in_range_df(start = start, stop = stop, max_distance_increase = max_distance_increase, coordinate_df = coordinate_df)\n",
    "    #map the in_range column to be numeric\n",
    "    df['in_range_numeric'] = df['in_range'].map({'yes': 1, 'no': 0})\n",
    "    \n",
    "    df_zero = df.loc[df['in_range_numeric'] == 0]\n",
    "    df_ones = df.loc[df['in_range_numeric'] == 1]\n",
    "    \n",
    "    plt.xlim(-124, -114)\n",
    "    plt.ylim(33, 42)\n",
    "    plt.scatter(df_zero['x'], df_zero['y'], marker = 'o', c = df_zero['ordinal_cat'])\n",
    "    plt.scatter(df_ones['x'], df_ones['y'], marker = \"^\", c = df_ones['ordinal_cat'])\n",
    "    \n",
    "    plt.show()"
   ]
  },
  {
   "cell_type": "code",
   "execution_count": 444,
   "metadata": {},
   "outputs": [
    {
     "data": {
      "text/plain": [
       "array([0, 1])"
      ]
     },
     "execution_count": 444,
     "metadata": {},
     "output_type": "execute_result"
    },
    {
     "data": {
      "image/png": "[encoded data removed]",
      "text/plain": [
       "<Figure size 432x288 with 1 Axes>"
      ]
     },
     "metadata": {
      "needs_background": "light"
     },
     "output_type": "display_data"
    }
   ],
   "source": [
    "df_plot = is_in_ellipse(start = la_coords, stop = tahoe_coords, max_distance = 1.1, df = gas_df)\n",
    "plt.scatter(x = df_plot['x'], y = df_plot['y'], c = df_plot['in_ellipse'])\n",
    "\n",
    "df_plot['in_ellipse'].unique()"
   ]
  },
  {
   "cell_type": "code",
   "execution_count": 403,
   "metadata": {
    "collapsed": true,
    "jupyter": {
     "outputs_hidden": true
    }
   },
   "outputs": [
    {
     "data": {
      "text/plain": [
       "[(-117.1907772, 34.0573651),\n",
       " (-117.2256087, 34.0485747),\n",
       " (-117.1562993, 34.0413876),\n",
       " (-122.420268, 37.7684682),\n",
       " (-122.0701271, 37.381165),\n",
       " (-118.2372374, 34.10327279999999),\n",
       " (-122.078426, 37.40606470000001),\n",
       " (-121.7879328, 37.6774981),\n",
       " (-121.7868756, 37.6777037),\n",
       " (-122.25037140000002, 37.8373034),\n",
       " (-122.2372221, 37.8407536),\n",
       " (-122.26154409999998, 37.8404305),\n",
       " (-122.27001509999998, 37.8394465),\n",
       " (-122.2701261, 37.84002520000001),\n",
       " (-122.2334503, 37.7755014),\n",
       " (-122.2097519, 37.82558579999999),\n",
       " (-122.2441212, 37.8579312),\n",
       " (-122.2467567, 37.84382),\n",
       " (-122.35037, 37.581745),\n",
       " (-122.3341399, 37.5803881),\n",
       " (-122.3634177, 37.5872485),\n",
       " (-122.3623912, 37.5876457),\n",
       " (-122.3371847, 37.578398),\n",
       " (-122.3627774, 37.5887203),\n",
       " (-121.8623645, 37.2210474),\n",
       " (-117.954905, 33.7165414),\n",
       " (-120.230955, 37.83851660000001),\n",
       " (-122.087399, 37.3731217),\n",
       " (-117.2158525, 32.8670766),\n",
       " (-117.2041575, 32.854825899999994),\n",
       " (-117.204072, 32.8543944),\n",
       " (-117.2049467, 32.8542675),\n",
       " (-117.1843763, 32.8227832),\n",
       " (-117.1950836, 32.8342381),\n",
       " (-117.1944828, 32.8342381),\n",
       " (-117.1950936, 32.8348112),\n",
       " (-121.6964249, 38.5510626),\n",
       " (-118.0903715, 34.0909625),\n",
       " (-122.3831517, 37.6003825),\n",
       " (-123.79055320000002, 40.0093833),\n",
       " (-122.30565, 37.55175300000001),\n",
       " (-117.2255432, 34.0635637),\n",
       " (-117.2264817, 34.065524700000005),\n",
       " (-117.2092079, 34.064672200000004),\n",
       " (-122.26640159999998, 37.8684979),\n",
       " (-121.7593854, 38.546829),\n",
       " (-117.1808061, 34.0623716),\n",
       " (-122.1518909, 37.4792248),\n",
       " (-123.2041124, 39.2662359),\n",
       " (-122.4243389, 37.764585),\n",
       " (-118.1429756, 33.8798779),\n",
       " (-118.0875412, 33.831782000000004),\n",
       " (-118.099086, 33.7423831),\n",
       " (-118.105936, 33.7467724),\n",
       " (-122.009687, 37.3382722),\n",
       " (-118.10544099999998, 33.887245),\n",
       " (-118.1249503, 33.8890904),\n",
       " (-122.4015096, 37.64050020000001),\n",
       " (-122.2668563, 37.8554553),\n",
       " (-122.260754, 37.8503278),\n",
       " (-122.244179, 37.7621609),\n",
       " (-122.241209, 37.76652650000001),\n",
       " (-121.87525929999998, 37.3268208),\n",
       " (-121.879584, 37.3411416),\n",
       " (-122.0887173, 37.3540568),\n",
       " (-123.2084302, 39.1913805),\n",
       " (-123.1993253, 39.151165),\n",
       " (-121.56941770000002, 37.0210099),\n",
       " (-117.9540019, 33.7158403),\n",
       " (-117.9549989, 33.7158375),\n",
       " (-122.031886, 37.35245070000001),\n",
       " (-121.56538, 37.0008405),\n",
       " (-121.8806386, 37.3406041),\n",
       " (-122.1177536, 37.3775792),\n",
       " (-121.557907, 36.984475),\n",
       " (-121.5561206, 36.9848483),\n",
       " (-122.3980556, 37.77980170000001),\n",
       " (-121.1694652, 38.8352662),\n",
       " (-121.1680404, 38.8359883),\n",
       " (-114.5956965, 34.8261727),\n",
       " (-122.2745283, 37.8852816),\n",
       " (-122.4729103, 37.7181761),\n",
       " (-122.4427831, 37.71778670000001),\n",
       " (-121.5749645, 37.0191388),\n",
       " (-121.402366, 36.8491189),\n",
       " (-121.6501727, 37.1248933),\n",
       " (-123.2085626, 39.1594319),\n",
       " (-120.8019829, 38.37833120000001),\n",
       " (-121.637068, 37.1306932),\n",
       " (-118.073949, 34.1030456),\n",
       " (-118.073091, 34.1034245),\n",
       " (-118.07328, 34.1225451),\n",
       " (-118.07297959999998, 34.1499462),\n",
       " (-121.6099513, 37.083717),\n",
       " (-121.6241447, 37.100976),\n",
       " (-121.6651215, 37.1445217),\n",
       " (-122.36066940000002, 37.58864370000001),\n",
       " (-122.3002441, 37.99210720000001),\n",
       " (-122.3115928, 37.9884083),\n",
       " (-122.2956627, 37.9791807),\n",
       " (-122.2833288, 37.9605327),\n",
       " (-122.3178499, 37.9644305),\n",
       " (-121.5819534, 37.0132212),\n",
       " (-122.317717, 37.98661170000001),\n",
       " (-122.3320017, 37.9786311),\n",
       " (-122.3250443, 37.9630804),\n",
       " (-122.3130014, 37.976607),\n",
       " (-122.365114, 37.5963082),\n",
       " (-122.1295901, 37.4544367),\n",
       " (-122.0227705, 37.566539),\n",
       " (-122.0261522, 37.5681989),\n",
       " (-119.1131946, 37.9472716),\n",
       " (-122.27894609999998, 37.8911539),\n",
       " (-122.3043584, 37.90218820000001),\n",
       " (-122.298693, 37.9016186),\n",
       " (-122.309519, 37.90094970000001),\n",
       " (-118.3182378, 34.177839299999995),\n",
       " (-122.2826185, 37.8023325),\n",
       " (-122.2754621, 37.8088829),\n",
       " (-118.0912003, 34.091421399999994),\n",
       " (-118.9173442, 34.395886600000004),\n",
       " (-118.9180341, 34.3958016),\n",
       " (-118.9115281, 34.39731010000001),\n",
       " (-118.9229522, 34.3958653),\n",
       " (-118.927553, 34.395178),\n",
       " (-122.7140874, 38.386672),\n",
       " (-122.71543490000002, 38.38744570000001),\n",
       " (-120.6787786, 39.291968),\n",
       " (-121.0759245, 38.9038182),\n",
       " (-122.4236096, 37.7403703),\n",
       " (-121.05986029999998, 38.91836970000001),\n",
       " (-117.1909435, 34.0631935),\n",
       " (-118.1168861, 33.8732434),\n",
       " (-117.8820081, 33.6662881),\n",
       " (-117.9074196, 33.6804508),\n",
       " (-117.9073767, 33.6798795),\n",
       " (-117.9081749, 33.67978660000001),\n",
       " (-117.8853357, 33.682168100000005),\n",
       " (-117.8859959, 33.682687),\n",
       " (-117.88602240000002, 33.6798397),\n",
       " (-122.2506126, 37.4294093),\n",
       " (-117.711324, 33.5268906),\n",
       " (-117.712213, 33.5265253),\n",
       " (-117.152859, 32.832383),\n",
       " (-118.07750159999998, 34.1032054),\n",
       " (-118.072831, 34.1300433),\n",
       " (-122.0682149, 37.3216867),\n",
       " (-118.0993656, 34.1031321),\n",
       " (-118.0737443, 34.1499369),\n",
       " (-121.0162696, 38.8872665),\n",
       " (-117.083441, 34.8518589),\n",
       " (-118.4219203, 34.2455629),\n",
       " (-119.025986, 35.2672774),\n",
       " (-122.3663721, 37.5844628),\n",
       " (-118.099333, 33.8325235),\n",
       " (-122.273378, 37.8730923),\n",
       " (-122.0751723, 37.3781204),\n",
       " (-121.7597078, 36.8741542),\n",
       " (-121.9567864, 36.9843969),\n",
       " (-121.95650249999998, 36.9825909),\n",
       " (-121.75382759999998, 36.9071679),\n",
       " (-121.753347, 36.90667379999999),\n",
       " (-121.7499138, 36.9043403),\n",
       " (-117.1807121, 34.0575158),\n",
       " (-122.4518447, 37.7815425),\n",
       " (-121.7341586, 38.5488231),\n",
       " (-122.0216947, 36.9797568),\n",
       " (-122.0110947, 36.9812589),\n",
       " (-121.9651116, 36.9808578),\n",
       " (-121.887701, 36.9745011),\n",
       " (-122.0357725, 36.9722889),\n",
       " (-122.0322076, 36.9760263),\n",
       " (-122.0431888, 36.9636595),\n",
       " (-122.045279, 36.9622061),\n",
       " (-120.8422758, 37.0566894),\n",
       " (-120.4775555, 37.0829258),\n",
       " (-120.1326253, 37.01874779999999),\n",
       " (-119.8846331, 36.8084557),\n",
       " (-119.8634415, 36.8087031),\n",
       " (-119.8621969, 36.8079334),\n",
       " (-120.07448329999998, 36.9761583),\n",
       " (-120.8399589, 37.0571945),\n",
       " (-122.1445583, 38.73624760000001),\n",
       " (-122.0234614, 36.9843708),\n",
       " (-122.02314479999998, 36.9835434),\n",
       " (-122.0043858, 36.98125020000001),\n",
       " (-122.0359603, 36.9847207),\n",
       " (-122.4984557, 37.7792862),\n",
       " (-122.0417144, 36.96469260000001),\n",
       " (-122.0431356, 36.9630144),\n",
       " (-122.7146201, 38.331753000000006),\n",
       " (-116.97258490000002, 33.8029936),\n",
       " (-117.0071117, 33.7478896),\n",
       " (-116.977713, 33.7477511),\n",
       " (-121.9761895, 37.2942537),\n",
       " (-121.9657264, 37.2945483),\n",
       " (-122.2897069, 37.8396119),\n",
       " (-122.0892764, 37.6313191),\n",
       " (-122.3084439, 37.9115425),\n",
       " (-122.3190269, 37.9256737),\n",
       " (-122.3193873, 37.92624910000001),\n",
       " (-121.80330829999998, 37.2374172),\n",
       " (-121.8033942, 37.2366382),\n",
       " (-121.8616305, 36.6040599),\n",
       " (-121.7501547, 36.7602868),\n",
       " (-121.73173590000002, 38.5401828),\n",
       " (-121.7380166, 38.5408685),\n",
       " (-122.458522, 37.7809712),\n",
       " (-122.467663, 37.7806252),\n",
       " (-122.0317856, 36.9863649),\n",
       " (-121.9895087, 36.9851604),\n",
       " (-121.9912244, 36.9792673),\n",
       " (-121.990012, 36.98499260000001),\n",
       " (-121.7237447, 37.7130588),\n",
       " (-121.72516670000002, 37.711389),\n",
       " (-121.7237294, 37.7174032),\n",
       " (-122.2944486, 37.8753686),\n",
       " (-122.2951245, 37.8682313),\n",
       " (-122.5033077, 37.5958635),\n",
       " (-122.48641809999998, 37.6139846),\n",
       " (-122.1958617, 37.4239446),\n",
       " (-122.3792687, 37.6045821),\n",
       " (-122.4775503, 37.6597649),\n",
       " (-121.7590362, 38.5603759),\n",
       " (-121.4056348, 38.4094884),\n",
       " (-122.6453578, 38.23421679999999),\n",
       " (-121.6665263, 36.7919869),\n",
       " (-121.6684403, 36.7914645),\n",
       " (-121.7499189, 36.9048143),\n",
       " (-122.025463, 37.0427054),\n",
       " (-122.0246677, 37.04308020000001),\n",
       " (-121.3134594, 38.7720282),\n",
       " (-122.2082123, 39.7520979),\n",
       " (-119.2206065, 34.19716470000001),\n",
       " (-119.2205828, 34.19802),\n",
       " (-121.4285517, 38.2257428),\n",
       " (-121.394186, 38.1150084),\n",
       " (-121.3939446, 38.1139743),\n",
       " (-121.2813162, 37.89638520000001),\n",
       " (-121.2767677, 37.854446),\n",
       " (-121.2876465, 37.82599520000001),\n",
       " (-121.2657681, 37.54037720000001),\n",
       " (-121.9399171, 37.293804),\n",
       " (-117.24046, 32.7975026),\n",
       " (-117.2405802, 32.7981591),\n",
       " (-121.9964963, 37.3871918),\n",
       " (-118.3176633, 34.098392100000005),\n",
       " (-117.1227178, 33.1309165),\n",
       " (-121.9085613, 36.9794556),\n",
       " (-121.9079824, 36.9798223),\n",
       " (-121.9360122, 36.9893427),\n",
       " (-121.912211, 36.9754955),\n",
       " (-117.1633923, 32.8322424),\n",
       " (-117.1641906, 32.8329925),\n",
       " (-116.7804301, 32.8416212),\n",
       " (-122.193075, 37.4029334),\n",
       " (-117.0564414, 33.9929959),\n",
       " (-117.0575829, 33.993615000000005),\n",
       " (-117.0569284, 33.9935429),\n",
       " (-117.0626914, 34.0043308),\n",
       " (-121.8737261, 37.3739373),\n",
       " (-121.87305659999998, 37.3745785),\n",
       " (-121.84306809999998, 37.3695588),\n",
       " (-121.8437814, 37.3702295),\n",
       " (-121.8263274, 37.35088820000001),\n",
       " (-121.8581834, 37.66908239999999),\n",
       " (-117.0315412, 32.660822499999995),\n",
       " (-117.0198475, 32.6718866),\n",
       " (-121.8906817, 37.2595325),\n",
       " (-121.897737, 37.25526970000001),\n",
       " (-117.185999, 32.8772278),\n",
       " (-118.26104209999998, 34.0430344),\n",
       " (-122.2074539, 37.823072),\n",
       " (-121.8824231, 39.7423375),\n",
       " (-121.8316199, 39.7243165),\n",
       " (-121.8223158, 39.7347461),\n",
       " (-121.7728477, 36.9350467),\n",
       " (-121.7739913, 36.9347665),\n",
       " (-121.7701646, 36.9318736),\n",
       " (-122.0322961, 37.259503),\n",
       " (-121.8964878, 37.657929),\n",
       " (-122.2014042, 37.4314894),\n",
       " (-118.8759938, 34.17880039999999),\n",
       " (-118.8756578, 34.1809404),\n",
       " (-118.8745876, 34.1868),\n",
       " (-121.9854845, 37.526043),\n",
       " (-122.240702, 37.7362794),\n",
       " (-122.0064486, 37.5270075),\n",
       " (-118.3299088, 34.1611268),\n",
       " (-121.95020929999998, 37.297537),\n",
       " (-121.9505952, 37.3012149),\n",
       " (-118.13480020000002, 34.0791597),\n",
       " (-121.3208976, 38.0106491),\n",
       " (-122.0259645, 37.043669),\n",
       " (-122.278244, 37.903173),\n",
       " (-122.00605, 37.0629373),\n",
       " (-122.0050994, 37.0627785),\n",
       " (-122.0691833, 37.0514394),\n",
       " (-121.9770795, 37.2862899),\n",
       " (-121.9770709, 37.2857163),\n",
       " (-117.5750482, 34.110954799999995),\n",
       " (-117.5753745, 34.1375491),\n",
       " (-117.57639, 34.139594200000005),\n",
       " (-122.0658412, 37.59788270000001),\n",
       " (-124.0890717, 40.8714601),\n",
       " (-124.0915993, 40.8823701),\n",
       " (-117.2643781, 33.0683306),\n",
       " (-117.2646151, 33.0672432),\n",
       " (-121.7276129, 36.5782687),\n",
       " (-121.6647894, 36.6453806),\n",
       " (-121.66662859999998, 36.7008158),\n",
       " (-121.6647317, 36.7215405),\n",
       " (-122.4909243, 37.6459113),\n",
       " (-120.1281314, 34.5991685),\n",
       " (-123.3451834, 39.3880889),\n",
       " (-123.4803931, 39.6861691),\n",
       " (-122.07360359999998, 37.05330220000001),\n",
       " (-122.0731142, 37.0531605),\n",
       " (-118.0188739, 34.15096079999999),\n",
       " (-118.9667338, 37.6483438),\n",
       " (-122.416194, 37.748534),\n",
       " (-123.8057927, 39.4305121),\n",
       " (-121.170948, 39.2020385),\n",
       " (-118.3675892, 34.2212475),\n",
       " (-118.158332, 34.0159862),\n",
       " (-117.3610794, 34.192142600000004),\n",
       " (-118.06398529999998, 33.9894323),\n",
       " (-118.0671935, 33.991730700000005),\n",
       " (-122.0094977, 37.0591238),\n",
       " (-122.0100552, 37.0593911),\n",
       " (-117.2337415, 33.571271),\n",
       " (-117.2078427, 33.5632828),\n",
       " (-117.9885981, 33.942150299999994),\n",
       " (-117.9326775, 33.938810100000005),\n",
       " (-124.1766584, 40.7939099),\n",
       " (-124.1839825, 40.7829689),\n",
       " (-124.1533504, 40.8050278),\n",
       " (-117.5852583, 34.0987791),\n",
       " (-121.9962006, 37.3963856),\n",
       " (-124.0877294, 40.8900821),\n",
       " (-124.0832852, 40.9048524),\n",
       " (-121.7858993, 38.5603732),\n",
       " (-118.0380973, 34.0358721),\n",
       " (-118.0381327, 34.0366255),\n",
       " (-122.0005615, 37.5329294),\n",
       " (-121.9986802, 37.5369734),\n",
       " (-118.455284, 35.7076899),\n",
       " (-117.4034719, 34.2238888),\n",
       " (-117.402612, 34.2240862),\n",
       " (-117.3604452, 34.1916076),\n",
       " (-122.06432240000002, 39.0243402),\n",
       " (-118.454754, 35.70836),\n",
       " (-121.9599259, 37.3606692),\n",
       " (-121.96207, 37.3618545),\n",
       " (-121.9592038, 37.3559874),\n",
       " (-117.2025748, 34.046303),\n",
       " (-122.170651, 37.7093073),\n",
       " (-124.10115259999998, 40.93434420000001),\n",
       " (-118.1232681, 34.0782779),\n",
       " (-118.1086787, 34.0796039),\n",
       " (-122.0133697, 37.5437281),\n",
       " (-118.09991709999998, 34.07949050000001),\n",
       " (-118.0734813, 34.0805516),\n",
       " (-118.0468226, 34.0770355),\n",
       " (-118.1527138, 34.1160705),\n",
       " (-118.1608601, 34.116040500000004),\n",
       " (-118.0000315, 34.0514289),\n",
       " (-117.9990788, 34.0514917),\n",
       " (-117.9752705, 34.0348258),\n",
       " (-118.218093, 33.824025),\n",
       " (-118.1498499, 34.111867700000005),\n",
       " (-118.17046, 34.0190321),\n",
       " (-118.1739212, 34.0444264),\n",
       " (-118.1727227, 34.059994399999994),\n",
       " (-122.2735539, 37.5233044),\n",
       " (-121.9321669, 37.286698),\n",
       " (-121.83827920000002, 38.0025562),\n",
       " (-122.2853781, 37.9959059),\n",
       " (-122.2621042, 38.02162979999999),\n",
       " (-117.6412359, 34.0958644),\n",
       " (-117.5929986, 34.1219656),\n",
       " (-117.5587626, 34.0741953),\n",
       " (-117.5507214, 34.0765628),\n",
       " (-117.5485293, 34.0776464),\n",
       " (-117.5458822, 34.076772600000005),\n",
       " (-118.1469155, 34.127818),\n",
       " (-118.131872, 34.169269),\n",
       " (-118.132893, 34.1574938),\n",
       " (-118.121091, 34.149778000000005),\n",
       " (-118.14698, 34.135474),\n",
       " (-122.4070736, 37.7643035),\n",
       " (-122.4077362, 37.7647445),\n",
       " (-118.2843133, 34.035402399999995),\n",
       " (-121.7840801, 37.99463239999999),\n",
       " (-117.5485383, 34.1069467),\n",
       " (-118.1809464, 34.1145924),\n",
       " (-117.071567, 32.621011),\n",
       " (-117.026958, 32.775004),\n",
       " (-117.0432544, 32.742952),\n",
       " (-117.039396, 32.551763),\n",
       " (-116.995368, 32.839026000000004),\n",
       " (-117.075989, 32.985316999999995),\n",
       " (-117.110955, 32.583582),\n",
       " (-117.202291, 33.01925),\n",
       " (-117.3379136, 33.1519427),\n",
       " (-117.365031, 33.204415999999995),\n",
       " (-116.765454, 32.835777),\n",
       " (-117.1524215, 32.9571173),\n",
       " (-117.3537542, 33.1952912),\n",
       " (-117.072048, 32.62022),\n",
       " (-117.091245, 32.603967),\n",
       " (-116.95058600000002, 32.80805),\n",
       " (-117.258633, 32.9957215),\n",
       " (-117.12118999999998, 32.917637),\n",
       " (-116.9180982, 32.81240089999999),\n",
       " (-117.250407, 32.979255),\n",
       " (-117.11287, 32.937727),\n",
       " (-117.23364, 32.951921),\n",
       " (-116.9833278, 32.8383276),\n",
       " (-117.033568, 32.781268),\n",
       " (-117.066189, 32.60718),\n",
       " (-117.0425133, 32.7422368),\n",
       " (-117.099057, 32.64020900000001),\n",
       " (-117.041508, 32.658108),\n",
       " (-117.1011793, 32.7534255),\n",
       " (-117.100501, 32.754676),\n",
       " (-117.046248, 32.628799),\n",
       " (-117.1933743, 33.1328524),\n",
       " (-117.149813, 32.713993),\n",
       " (-117.127294, 32.782955),\n",
       " (-116.959978, 32.807334999999995),\n",
       " (-116.93302450000002, 32.7924539),\n",
       " (-117.1975569, 33.150965),\n",
       " (-117.077427, 32.980427),\n",
       " (-117.0956258, 33.116879700000005),\n",
       " (-117.098098, 32.790141),\n",
       " (-117.38815990000002, 33.2086198),\n",
       " (-117.126258, 32.763587),\n",
       " (-117.123483, 32.748218),\n",
       " (-116.383379, 33.256133),\n",
       " (-117.099452, 32.75482),\n",
       " (-117.2377781, 32.9349214),\n",
       " (-117.28502659999998, 33.0479604),\n",
       " (-116.765482, 32.835189),\n",
       " (-117.111438, 33.014927),\n",
       " (-117.5441554, 33.8482269),\n",
       " (-117.1299037, 32.711918),\n",
       " (-117.024499, 32.614694),\n",
       " (-117.108249, 32.936757),\n",
       " (-117.2839392, 33.0485375),\n",
       " (-117.0627495, 32.9521417),\n",
       " (-116.918285, 32.811851000000004),\n",
       " (-116.95257420000002, 32.5692121),\n",
       " (-121.5511661, 39.1005241),\n",
       " (-121.2739512, 38.7443698),\n",
       " (-118.152366, 34.095561),\n",
       " (-117.1984694, 34.06976220000001),\n",
       " (-121.9037619, 37.5618131),\n",
       " (-122.2329639, 38.0774963),\n",
       " (-122.23386229999998, 38.0841895),\n",
       " (-116.2696749, 33.7068235),\n",
       " (-121.2910003, 38.7297243),\n",
       " (-121.2899909, 38.7297885),\n",
       " (-121.2747612, 38.7442442),\n",
       " (-121.6181506, 39.140904),\n",
       " (-117.1777703, 33.5559616),\n",
       " (-122.1464193, 39.1564464),\n",
       " (-122.1458185, 39.1555438),\n",
       " (-122.1612465, 39.1602026),\n",
       " (-118.1534394, 34.0316582),\n",
       " (-118.1541477, 34.031921000000004),\n",
       " (-118.2161906, 34.042928100000005),\n",
       " (-118.21217140000002, 34.0403747),\n",
       " (-118.2919862, 34.069252500000005),\n",
       " (-122.263522, 37.5180292),\n",
       " (-118.2987425, 34.0692174),\n",
       " (-118.2698071, 34.0667917),\n",
       " (-118.2675191, 34.0704341),\n",
       " (-118.262762, 34.0780532),\n",
       " (-118.2604912, 34.0819143),\n",
       " (-118.1603155, 34.00020720000001),\n",
       " (-118.23909209999998, 34.0202517),\n",
       " (-118.229574, 34.0259251),\n",
       " (-118.220036, 34.0729235),\n",
       " (-118.2171757, 34.07337879999999),\n",
       " (-118.212097, 34.0740022),\n",
       " (-118.208118, 34.0735207),\n",
       " (-118.207495, 34.0735162),\n",
       " (-118.1879442, 34.0859145),\n",
       " (-121.2940664, 38.7607875),\n",
       " (-121.3045055, 38.7742053),\n",
       " (-121.4016757, 36.8565064),\n",
       " (-121.3220692, 36.79054620000001),\n",
       " (-122.4529257, 37.72298710000001),\n",
       " (-118.199801, 34.106293),\n",
       " (-118.130579, 34.100907),\n",
       " (-118.396476, 33.916032),\n",
       " (-118.5558154, 34.0388953),\n",
       " (-118.5547532, 34.0389131),\n",
       " (-121.2588941, 38.7588611),\n",
       " (-121.2504925, 38.7516254),\n",
       " (-121.255216, 38.76157979999999),\n",
       " (-121.2663673, 38.7726779),\n",
       " (-121.2648449, 38.7730292),\n",
       " (-121.9928352, 37.9653295),\n",
       " (-118.470846, 34.025451600000004),\n",
       " (-118.4703015, 34.0250746),\n",
       " (-118.46961670000002, 34.02531079999999),\n",
       " (-121.271954, 38.80450250000001),\n",
       " (-121.2829778, 38.8109777),\n",
       " (-121.2813363, 38.7888409),\n",
       " (-118.1517731, 33.9236609),\n",
       " (-118.152402, 33.9239715),\n",
       " (-118.1521619, 33.9245078),\n",
       " (-118.143823, 33.935196399999995),\n",
       " (-118.1373564, 33.94281470000001),\n",
       " (-118.1279737, 33.9797975),\n",
       " (-118.1164445, 33.9672019),\n",
       " (-118.1236087, 33.9755145),\n",
       " (-118.1605421, 33.910874799999995),\n",
       " (-118.1682938, 33.8894853),\n",
       " (-118.2067984, 33.8889994),\n",
       " (-118.1933586, 33.888391),\n",
       " (-118.2196673, 33.888908),\n",
       " (-118.2504997, 33.8886133),\n",
       " (-122.4648289, 37.74050020000001),\n",
       " (-118.289607, 33.8416923),\n",
       " (-118.2914879, 33.87328660000001),\n",
       " (-118.2906301, 33.8318934),\n",
       " (-118.2899055, 33.8312533),\n",
       " (-118.290712, 33.8099169),\n",
       " (-121.3131507, 38.7958924),\n",
       " (-121.3146751, 38.7958529),\n",
       " (-122.29218590000002, 37.55437420000001),\n",
       " (-119.7888565, 34.4441534),\n",
       " (-119.7508228, 34.438269299999995),\n",
       " (-119.9000931, 34.433088399999995),\n",
       " (-119.758481, 34.4401579),\n",
       " (-119.7397863, 34.4402129),\n",
       " (-121.9574586, 37.381530700000006),\n",
       " (-121.9326897, 37.3725036),\n",
       " (-117.8293158, 34.11365670000001),\n",
       " (-117.8294153, 34.1289011),\n",
       " (-117.8294023, 34.1282691),\n",
       " (-121.2885672, 38.7850861),\n",
       " (-117.7946254, 34.12286470000001),\n",
       " (-117.206523, 32.8280005),\n",
       " (-122.0232071, 37.3348357),\n",
       " (-121.9658959, 37.53708020000001),\n",
       " (-117.1752394, 32.8340941),\n",
       " (-117.122514, 32.755645),\n",
       " (-117.12605829999998, 32.7556171),\n",
       " (-122.2442463, 37.8192124),\n",
       " (-122.2908563, 37.8513679),\n",
       " (-122.277937, 37.8259274),\n",
       " (-122.2952911, 37.8386541),\n",
       " (-121.2702017, 38.7489257),\n",
       " (-119.0093182, 34.21145670000001),\n",
       " (-119.0055792, 34.2166159),\n",
       " (-121.9610205, 37.2633894),\n",
       " (-117.9324126, 33.6279324),\n",
       " (-119.0186672, 34.231182000000004),\n",
       " (-117.9305748, 33.6173713),\n",
       " (-118.0628313, 33.7119792),\n",
       " (-118.121994, 33.7751055),\n",
       " (-121.8630164, 36.5963438),\n",
       " (-118.2031725, 33.8745344),\n",
       " (-118.1861502, 33.8809862),\n",
       " (-121.327342, 38.649438),\n",
       " (-118.1982942, 33.775566299999994),\n",
       " (-121.7923679, 36.6837821),\n",
       " (-118.1933586, 33.790155),\n",
       " (-118.1889372, 33.7895803),\n",
       " (-118.1978433, 33.7901403),\n",
       " (-121.330233, 38.648166),\n",
       " (-121.2688449, 38.6150645),\n",
       " (-121.2694536, 38.615804),\n",
       " (-122.4645136, 37.6637126),\n",
       " (-122.0348847, 37.61872260000001),\n",
       " (-118.0741563, 33.7206475),\n",
       " (-117.7849879, 33.5428122),\n",
       " (-124.1147309, 40.9565448),\n",
       " (-121.889072, 40.4923951),\n",
       " (-118.0812468, 34.0110129),\n",
       " (-118.1308157, 34.0369958),\n",
       " (-118.1338073, 34.0219969),\n",
       " (-118.1336001, 34.022556200000004),\n",
       " (-117.6670813, 33.682505400000004),\n",
       " (-122.2275375, 38.1238178),\n",
       " (-118.1226438, 34.06951160000001),\n",
       " (-118.1228341, 34.0858508),\n",
       " (-118.0820987, 34.0404232),\n",
       " (-118.0639483, 34.0520505),\n",
       " (-118.0646934, 34.0515189),\n",
       " (-118.0731015, 34.0986689),\n",
       " (-118.0651484, 34.0629899),\n",
       " (-119.0191135, 35.4216109),\n",
       " (-122.2539886, 37.8201843),\n",
       " (-122.2535419, 37.8194483),\n",
       " (-117.5752466, 34.0341814),\n",
       " (-117.5752129, 34.0328191),\n",
       " (-118.1255289, 33.87817570000001),\n",
       " (-118.1249898, 33.8781913),\n",
       " (-121.1081642, 38.64433070000001),\n",
       " (-123.3516143, 39.404429),\n",
       " (-123.3518111, 39.4038309),\n",
       " (-123.3548055, 39.4151079),\n",
       " (-123.3550201, 39.4185394),\n",
       " (-117.1036781, 32.8297697),\n",
       " (-118.2795535, 34.078332399999994),\n",
       " (-121.9952515, 37.3457515),\n",
       " (-122.3099753, 37.90088770000001),\n",
       " (-122.0146902, 37.3518388),\n",
       " (-117.6997168, 33.4671857),\n",
       " (-117.6462792, 33.563518200000004),\n",
       " (-117.6314802, 33.5831561),\n",
       " (-117.1233022, 32.7483149),\n",
       " (-122.4411575, 37.6185538),\n",
       " (-117.8753187, 33.6614957),\n",
       " (-117.7518202, 34.0732679),\n",
       " (-117.7526633, 34.072927),\n",
       " (-121.7516186, 36.760716),\n",
       " (-121.056527, 38.9229658),\n",
       " (-121.0562883, 38.9235899),\n",
       " (-118.0081842, 34.031120200000004),\n",
       " (-117.6916949, 33.6023925),\n",
       " (-117.7170088, 33.527280600000005),\n",
       " (-117.7237153, 33.5582926),\n",
       " (-117.7245455, 33.6100157),\n",
       " (-117.0664807, 33.068004200000004),\n",
       " (-118.09982820000002, 34.075125799999995),\n",
       " (-117.23099840000002, 32.9373868),\n",
       " (-117.4528207, 33.746399600000004),\n",
       " (-122.360277, 37.16562929999999),\n",
       " (-117.83775, 33.855871),\n",
       " (-117.8154952, 33.8531494),\n",
       " (-117.522421, 33.8360035),\n",
       " (-117.4867725, 33.77863660000001),\n",
       " (-114.6247154, 34.8511774),\n",
       " (-121.4215533, 36.8533105),\n",
       " (-122.5154627, 37.9389489),\n",
       " (-117.5398146, 33.8677808),\n",
       " (-117.247565, 32.7450916),\n",
       " (-117.3666472, 33.684039299999995),\n",
       " (-117.6629661, 33.49775089999999),\n",
       " (-124.0520752, 40.036551),\n",
       " (-119.1342533, 36.1368688),\n",
       " (-119.0535163, 35.8940378),\n",
       " (-118.4748244, 35.62643950000001),\n",
       " (-117.541085, 34.992464299999995),\n",
       " (-117.5374287, 34.9916674),\n",
       " (-117.4087682, 34.572340399999995),\n",
       " (-117.3982866, 34.5354214),\n",
       " (-117.3996667, 34.4104997),\n",
       " (-115.7201089, 33.660835799999994),\n",
       " (-117.178173, 33.5738112),\n",
       " (-114.6059148, 33.6081592),\n",
       " (-118.4072623, 33.7491363),\n",
       " (-117.0930052, 33.4819424),\n",
       " (-116.8864871, 34.9040694),\n",
       " (-119.0384916, 35.36824199999999),\n",
       " (-119.2662853, 35.8738985),\n",
       " (-119.3827751, 36.296585),\n",
       " (-119.4841589, 36.4457037),\n",
       " (-119.5165055, 36.4894029),\n",
       " (-121.294133, 37.8122423),\n",
       " (-118.0507293, 34.09883320000001),\n",
       " (-118.0485115, 34.0904634),\n",
       " (-118.0534304, 34.0745997),\n",
       " (-118.04200159999998, 34.068038),\n",
       " (-118.0494964, 34.0408761),\n",
       " (-118.0785747, 34.016654200000005),\n",
       " (-118.0842166, 34.001848100000004),\n",
       " (-118.0900256, 33.992506),\n",
       " (-121.6158371, 36.64674760000001),\n",
       " (-121.6280981, 36.66796110000001),\n",
       " (-118.126317, 33.9983562),\n",
       " (-118.1231668, 33.997035100000005),\n",
       " (-118.1242362, 33.9967604),\n",
       " (-118.5180594, 34.0276191),\n",
       " (-122.4637864, 37.66362279999999),\n",
       " (-122.4368182, 37.6301352),\n",
       " (-122.4363728, 37.6303304),\n",
       " (-118.743722, 34.0332138),\n",
       " (-118.843764, 34.0316858),\n",
       " (-121.7435557, 36.9363696),\n",
       " (-119.1602761, 34.1965346),\n",
       " (-119.1596353, 34.17374),\n",
       " (-121.788044, 36.94103970000001),\n",
       " (-119.157837, 34.2224569),\n",
       " (-122.2510011, 37.8276464),\n",
       " (-119.2609533, 34.272788500000004),\n",
       " (-119.24823899999998, 34.2732782),\n",
       " (-119.26678909999998, 34.2733888),\n",
       " (-118.2914678, 34.1007151),\n",
       " (-119.2943778, 34.2785003),\n",
       " (-118.0577893, 36.5841888),\n",
       " (-119.30008970000002, 34.400411600000005),\n",
       " (-119.300029, 34.3983342),\n",
       " (-119.2894544, 34.4226352),\n",
       " (-122.4287862, 37.6230403),\n",
       " (-116.6798033, 33.5546865),\n",
       " (-117.0871243, 33.3642103),\n",
       " (-118.1628772, 34.8639791),\n",
       " (-117.27566670000002, 33.1878613),\n",
       " (-117.4877757, 33.7746325),\n",
       " (-121.8467905, 37.4003521),\n",
       " (-121.7970997, 37.32458610000001),\n",
       " (-121.7922078, 37.3142808),\n",
       " (-121.9628889, 37.5099573),\n",
       " (-121.9627722, 37.5083902),\n",
       " (-117.2160868, 33.166413899999995),\n",
       " (-117.67029270000002, 35.6245014),\n",
       " (-117.3488605, 34.4699425),\n",
       " (-121.3811091, 36.9904901),\n",
       " (-118.3390286, 34.090323100000006),\n",
       " (-118.344445, 34.083200700000006),\n",
       " (-118.34429070000002, 34.0647105),\n",
       " (-118.3443337, 34.0764172),\n",
       " (-118.3437355, 34.075939500000004),\n",
       " (-117.6325069, 35.371712),\n",
       " (-118.3462397, 34.0574629),\n",
       " (-114.62406570000002, 34.850927899999995),\n",
       " (-121.532492, 38.6423703),\n",
       " (-117.3017915, 34.546229700000005),\n",
       " (-122.0544194, 37.5960692),\n",
       " (-118.44950559999998, 35.1426378),\n",
       " (-118.3968057, 34.150104),\n",
       " (-118.4136333, 35.1272922),\n",
       " (-118.4346717, 35.1302326),\n",
       " (-118.4462293, 35.1316787),\n",
       " (-118.4441017, 35.1313789),\n",
       " (-118.3938419, 34.1439396),\n",
       " (-118.40820349999998, 35.1255468),\n",
       " (-118.4526872, 35.1323033),\n",
       " (-117.121237, 32.7486859),\n",
       " (-121.2852131, 38.8508395),\n",
       " (-121.7691127, 36.2359309),\n",
       " (-117.2417008, 33.1456854),\n",
       " (-122.1831033, 37.7207644),\n",
       " (-118.1749705, 35.05782620000001),\n",
       " (-118.1729185, 35.0514223),\n",
       " (-118.1716602, 35.0474725),\n",
       " (-118.1777165, 35.067182700000004),\n",
       " (-118.1737649, 35.0544543),\n",
       " (-118.0062137, 35.2958928),\n",
       " (-122.4160945, 37.6287118),\n",
       " (-117.689087, 35.5942695),\n",
       " (-117.6742972, 35.6046899),\n",
       " (-121.8584765, 39.7309196),\n",
       " (-118.94505929999998, 34.821477),\n",
       " (-118.0466485, 34.062522200000004),\n",
       " (-118.0421249, 34.0625345),\n",
       " (-122.44452, 37.798587),\n",
       " (-122.4309646, 37.8007618),\n",
       " (-122.431458, 37.800661),\n",
       " (-122.4223977, 37.742133),\n",
       " (-116.0751616, 35.2646088),\n",
       " (-121.2717773, 38.729761),\n",
       " (-121.3085739, 38.7442197),\n",
       " (-118.1186898, 34.06232429999999),\n",
       " (-121.2651726, 38.78143529999999),\n",
       " (-116.2089767, 35.1326722),\n",
       " (-115.7440683, 34.55860870000001),\n",
       " (-117.1385517, 32.7555415),\n",
       " (-117.1391387, 32.755562),\n",
       " (-122.0118423, 37.5610557),\n",
       " (-122.0124283, 37.5605711),\n",
       " (-122.011577, 37.5601246),\n",
       " (-118.4429028, 33.9565385),\n",
       " (-121.3648969, 36.4502893),\n",
       " (-118.313201, 34.0983692),\n",
       " (-122.4719702, 37.7162023),\n",
       " (-121.88493259999998, 37.2284672),\n",
       " (-122.5183616, 37.9253994),\n",
       " (-122.51635559999998, 37.9295898),\n",
       " (-122.5228299, 37.925658),\n",
       " (-122.5209583, 37.945619),\n",
       " (-122.520049, 37.9452932),\n",
       " (-120.055866, 36.9547275),\n",
       " (-122.2452647, 37.8100468),\n",
       " (-121.3992661, 36.8532282),\n",
       " (-122.0902755, 37.0899446),\n",
       " (-121.9566804, 37.248405),\n",
       " (-121.9627423, 37.2352912),\n",
       " (-122.0643709, 37.6069005),\n",
       " (-122.0658567, 37.6084945),\n",
       " (-122.0446053, 37.62818529999999),\n",
       " (-122.0699495, 37.5902123),\n",
       " (-122.0702963, 37.5896437),\n",
       " (-118.145967, 33.997257299999994),\n",
       " (-118.3270118, 34.083079299999994),\n",
       " (-117.14049070000002, 33.5501123),\n",
       " (-117.141188, 33.551303999999995),\n",
       " (-121.8464093, 37.2502768),\n",
       " (-117.9079822, 34.1219693),\n",
       " (-117.9071523, 34.1212716),\n",
       " (-117.2133298, 33.1678843),\n",
       " (-122.1600633, 37.7134764),\n",
       " (-122.16207649999998, 37.71261060000001),\n",
       " (-121.2358616, 38.7904334),\n",
       " (-117.65989009999998, 33.8786029),\n",
       " (-117.659241, 33.878729799999995),\n",
       " (-122.078148, 37.6312518),\n",
       " (-122.07619979999998, 37.6315518),\n",
       " (-122.0976015, 37.6329027),\n",
       " (-122.0977716, 37.6335028),\n",
       " (-122.1016365, 37.6385399),\n",
       " (-121.3824502, 38.6905512),\n",
       " (-121.38238909999998, 38.6689823),\n",
       " (-121.3824927, 38.7037554),\n",
       " (-117.6802624, 34.0188194),\n",
       " (-122.198848, 37.7334999),\n",
       " (-121.8609491, 37.3042699),\n",
       " (-122.287783, 37.530541),\n",
       " (-122.2711024, 37.5173892),\n",
       " (-121.8064626, 36.6449389),\n",
       " (-121.7753829, 36.66471660000001),\n",
       " (-117.5925491, 34.0187781),\n",
       " (-117.5928668, 34.0195152),\n",
       " (-122.1799657, 37.7054224),\n",
       " (-117.5765819, 34.047732700000005),\n",
       " (-121.7844951, 36.6801163),\n",
       " (-121.9038571, 37.23234229999999),\n",
       " (-122.2769831, 37.5192008),\n",
       " (-121.7762363, 37.2269391),\n",
       " (-121.9565923, 38.53038170000001),\n",
       " (-122.2711158, 37.5182328),\n",
       " (-117.560983, 34.107069200000005),\n",
       " (-117.5494224, 34.1058479),\n",
       " (-117.5287215, 34.1059104),\n",
       " (-122.2667706, 37.5119067),\n",
       " (-117.6113283, 34.02941129999999),\n",
       " (-117.6280527, 34.0543378),\n",
       " (-117.6289266, 34.0795474),\n",
       " (-117.62895259999998, 34.0782874),\n",
       " (-121.8712577, 37.2297177),\n",
       " (-121.10212040000002, 35.5686945),\n",
       " (-116.2705034, 35.97496539999999),\n",
       " (-121.7712688, 36.83135720000001),\n",
       " (-116.82285159999998, 33.9322961),\n",
       " (-116.78028290000002, 33.918142),\n",
       " (-120.4469187, 34.8649076),\n",
       " (-116.8857713, 33.925668200000004),\n",
       " (-116.87418390000002, 33.9213033),\n",
       " (-116.7391586, 33.7585781),\n",
       " (-117.1584714, 33.4135702),\n",
       " (-122.2762693, 37.7770027),\n",
       " (-118.1729464, 34.05908220000001),\n",
       " (-122.0234531, 36.983486600000006),\n",
       " (-117.12761670000002, 33.19762539999999),\n",
       " (-120.4547561, 34.9310885),\n",
       " (-122.1392565, 37.6861277),\n",
       " (-122.1383321, 37.6829921),\n",
       " (-122.4024683, 37.7241659),\n",
       " (-122.3882905, 37.7426761),\n",
       " (-122.4018703, 37.72422750000001),\n",
       " (-122.3880795, 37.743115),\n",
       " (-122.4409983, 37.7169401),\n",
       " (-118.2386891, 34.0762089),\n",
       " (-119.1874575, 35.5311601),\n",
       " (-122.4057886, 37.732214),\n",
       " (-122.4061237, 37.7325383),\n",
       " (-117.932597, 33.9170657),\n",
       " (-117.8810319, 33.8183495),\n",
       " (-117.9085299, 33.8182945),\n",
       " (-117.9588991, 33.8588384),\n",
       " (-117.9596797, 33.858813899999994),\n",
       " (-121.327052, 38.6608794),\n",
       " (-121.3271835, 38.660282),\n",
       " (-122.1177969, 37.6659992),\n",
       " (-121.9035381, 37.6981951),\n",
       " (-117.1240369, 33.5920895),\n",
       " (-122.1825814, 37.7077341),\n",
       " (-117.251496, 33.3707132),\n",
       " (-117.20634579999998, 33.5678761),\n",
       " (-120.0247246, 36.9232221),\n",
       " (-118.3349262, 34.171625899999995),\n",
       " (-117.07670729999998, 33.7394623),\n",
       " (-117.1042332, 33.743222700000004),\n",
       " (-118.3303791, 34.10615429999999),\n",
       " (-117.1791991, 33.553931),\n",
       " (-117.1701418, 32.786084100000004),\n",
       " (-117.899661, 33.9160014),\n",
       " (-117.9095085, 33.89977460000001),\n",
       " (-117.2466814, 33.1670291),\n",
       " (-117.2316409, 33.2108899),\n",
       " (-117.2302081, 33.2108685),\n",
       " (-122.2699442, 37.7988557),\n",
       " (-117.2265353, 34.136065),\n",
       " (-117.1935993, 34.1361476),\n",
       " (-120.4184093, 34.864624),\n",
       " (-120.418479, 34.8653326),\n",
       " (-117.2181143, 33.7819811),\n",
       " (-117.2013544, 33.0968648),\n",
       " (-117.2008129, 33.5753689),\n",
       " (-122.2581936, 37.5119518),\n",
       " (-122.2580924, 37.5115363),\n",
       " (-117.1576562, 33.5559764),\n",
       " (-117.8694117, 33.9114198),\n",
       " (-122.0962332, 37.390518),\n",
       " (-120.6484148, 35.4630537),\n",
       " (-117.2431003, 33.9024117),\n",
       " (-117.9240736, 33.8794941),\n",
       " (-117.3991325, 34.5063378),\n",
       " (-117.2252192, 33.8450928),\n",
       " (-117.226606, 33.845097499999994),\n",
       " (-117.2255987, 33.8441017),\n",
       " (-122.297849, 37.83803320000001),\n",
       " (-122.2672494, 37.7947847),\n",
       " (-117.225715, 33.8815356),\n",
       " (-117.2257845, 33.8887536),\n",
       " (-117.3647104, 34.4707035),\n",
       " (-117.2615582, 33.91755429999999),\n",
       " (-117.3239877, 33.9158474),\n",
       " (-117.647398, 34.442975399999995),\n",
       " (-117.3463896, 34.5064218),\n",
       " (-117.3472025, 34.5063136),\n",
       " (-122.2619058, 37.50825820000001),\n",
       " (-121.3126618, 37.95390620000001),\n",
       " (-117.8995691, 33.9322583),\n",
       " (-117.3367328, 33.9760301),\n",
       " (-117.3401748, 33.975413700000004),\n",
       " (-117.5729742, 34.4266234),\n",
       " (-117.57225, 34.426037),\n",
       " (-117.3674283, 34.0374987),\n",
       " (-121.3640365, 38.6605893),\n",
       " (-121.36481940000002, 38.6608236),\n",
       " (-117.3132257, 34.0656792),\n",
       " (-117.3248691, 34.0666316),\n",
       " (-121.8562536, 36.5974297),\n",
       " (-117.340305, 33.9833054),\n",
       " (-121.5782037, 37.0250579),\n",
       " (-121.0026908, 37.252994),\n",
       " (-120.9978118, 37.2536731),\n",
       " (-117.1856604, 33.7147205),\n",
       " (-118.7618748, 34.144851700000004),\n",
       " (-117.2158932, 33.786923200000004),\n",
       " (-117.3842405, 34.427071999999995),\n",
       " (-117.385696, 34.4271402),\n",
       " (-117.0796846, 32.912661699999994),\n",
       " (-117.060555, 32.934322200000004),\n",
       " (-117.1456942, 32.9050395),\n",
       " (-117.322725, 34.0335652),\n",
       " (-117.0049286, 32.7732201),\n",
       " (-121.4458954, 35.8761251),\n",
       " (-117.2950462, 33.1788077),\n",
       " (-121.64350120000002, 36.88902279999999),\n",
       " (-121.910689, 37.7188977),\n",
       " (-121.9497088, 37.3837747),\n",
       " (-117.3986316, 34.4080881),\n",
       " (-117.1564348, 33.917723200000005),\n",
       " (-120.3743271, 38.8144532),\n",
       " (-117.167531, 33.6411088),\n",
       " (-121.2838262, 38.8105324),\n",
       " (-117.36398390000002, 34.470724600000004),\n",
       " (-117.3720679, 34.38341679999999),\n",
       " (-120.4161025, 34.9527097),\n",
       " (-120.4184989, 34.9527075),\n",
       " (-117.1822938, 34.0642903),\n",
       " (-121.2648503, 38.7954197),\n",
       " (-117.24187890000002, 32.7511327),\n",
       " (-121.2049253, 38.80623350000001),\n",
       " (-121.2048492, 38.8068715),\n",
       " (-119.7456077, 36.779276),\n",
       " (-117.2934154, 34.5364011),\n",
       " (-117.7865021, 33.863017),\n",
       " (-117.881428, 33.91042410000001),\n",
       " (-117.8805483, 33.9105421),\n",
       " (-117.8938485, 33.913762899999995),\n",
       " (-117.0706452, 33.070205300000005),\n",
       " (-117.1800394, 34.0575136),\n",
       " (-122.2117662, 39.5239026),\n",
       " (-121.8230757, 37.2799026),\n",
       " (-117.3664149, 33.8825792),\n",
       " (-122.297488, 37.886481),\n",
       " (-122.297626, 37.887031),\n",
       " (-117.4536703, 33.9348429),\n",
       " (-117.4544529, 33.943081799999995),\n",
       " (-122.3048361, 37.5519163),\n",
       " (-121.0122608, 37.674391),\n",
       " (-120.9387566, 37.7382281),\n",
       " (-120.9315283, 37.73789420000001),\n",
       " (-120.864949, 37.7590171),\n",
       " (-120.8601354, 37.7610559),\n",
       " (-120.8558597, 37.763112),\n",
       " (-120.8589635, 37.7616437),\n",
       " (-120.9190089, 37.74064420000001),\n",
       " (-121.1773966, 37.5611407),\n",
       " (-121.1278867, 37.470314),\n",
       " (-118.2822153, 33.960719399999995),\n",
       " (-118.2698663, 33.9598273),\n",
       " (-118.2699173, 33.960381299999995),\n",
       " (-121.9477192, 37.4901455),\n",
       " (-117.07389609999998, 32.6820977),\n",
       " (-117.1716808, 32.9071879),\n",
       " (-123.04376940000002, 38.3291133),\n",
       " (-122.7079458, 38.3287327),\n",
       " (-118.2378348, 34.04124520000001),\n",
       " (-117.0820088, 33.111342300000004),\n",
       " ...]"
      ]
     },
     "execution_count": 403,
     "metadata": {},
     "output_type": "execute_result"
    }
   ],
   "source": [
    "list(zip(gas_df['x'], gas_df['y']))"
   ]
  },
  {
   "cell_type": "code",
   "execution_count": 413,
   "metadata": {},
   "outputs": [
    {
     "data": {
      "text/plain": [
       "(-120.361, 35.936049999999994)"
      ]
     },
     "execution_count": 413,
     "metadata": {},
     "output_type": "execute_result"
    }
   ],
   "source": [
    "golden_gate_coords = (-122.4783, 37.8199)\n",
    "tahoe_coords = (-120.0324, 39.0968)\n",
    "la_coords = (-118.2437, 34.0522)\n",
    "\n",
    "get_midpoint(la_coords, golden_gate_coords)"
   ]
  },
  {
   "cell_type": "code",
   "execution_count": 402,
   "metadata": {},
   "outputs": [
    {
     "data": {
      "image/png": "[encoded data removed]",
      "text/plain": [
       "<Figure size 432x288 with 1 Axes>"
      ]
     },
     "metadata": {
      "needs_background": "light"
     },
     "output_type": "display_data"
    }
   ],
   "source": [
    "actual_angle = 315\n",
    "plotting_angle = 180-actual_angle\n",
    "\n",
    "ellipse = Ellipse(xy = get_midpoint(la_coords, golden_gate_coords), width = 4, height = 17, angle = plotting_angle, alpha = .4)\n",
    "plt.gca().add_patch(ellipse)\n",
    "plt.xlim(-10, 10)\n",
    "plt.ylim(-10, 10)\n",
    "plt.show()"
   ]
  },
  {
   "cell_type": "code",
   "execution_count": null,
   "metadata": {},
   "outputs": [],
   "source": [
    "#now that we have our dataframe, let's plot it\n",
    "x_test = df['x'].tolist()\n",
    "y_test = df['y'].tolist()\n",
    "\n",
    "mapped = [int(x) for x in in_ellipse]\n",
    "\n",
    "ellipse = Ellipse(xy = midpoint, width = minor_axis, height = major_axis, angle = angle_of_rotation, alpha = .4)\n",
    "plt.gca().add_patch(ellipse)\n",
    "plt.axis('scaled')\n",
    "#plt.scatter(x_test, y_test, marker = 'o', c = in_ellipse)\n",
    "plt.xlim(df['x'].min(), df['x'].max())\n",
    "plt.ylim(df['y'].min(), df['y'].max())\n",
    "plt.show()"
   ]
  },
  {
   "cell_type": "code",
   "execution_count": null,
   "metadata": {},
   "outputs": [],
   "source": []
  },
  {
   "cell_type": "code",
   "execution_count": null,
   "metadata": {},
   "outputs": [],
   "source": []
  },
  {
   "cell_type": "code",
   "execution_count": 286,
   "metadata": {},
   "outputs": [
    {
     "data": {
      "text/html": [
       "<div>\n",
       "<style scoped>\n",
       "    .dataframe tbody tr th:only-of-type {\n",
       "        vertical-align: middle;\n",
       "    }\n",
       "\n",
       "    .dataframe tbody tr th {\n",
       "        vertical-align: top;\n",
       "    }\n",
       "\n",
       "    .dataframe thead th {\n",
       "        text-align: right;\n",
       "    }\n",
       "</style>\n",
       "<table border=\"1\" class=\"dataframe\">\n",
       "  <thead>\n",
       "    <tr style=\"text-align: right;\">\n",
       "      <th></th>\n",
       "      <th>name</th>\n",
       "      <th>x</th>\n",
       "      <th>y</th>\n",
       "      <th>rating</th>\n",
       "    </tr>\n",
       "  </thead>\n",
       "  <tbody>\n",
       "    <tr>\n",
       "      <th>0</th>\n",
       "      <td>Circle K &amp; Minimart</td>\n",
       "      <td>-117.190777</td>\n",
       "      <td>34.057365</td>\n",
       "      <td>3</td>\n",
       "    </tr>\n",
       "    <tr>\n",
       "      <th>1</th>\n",
       "      <td>Unknown Name</td>\n",
       "      <td>-117.225609</td>\n",
       "      <td>34.048575</td>\n",
       "      <td>3</td>\n",
       "    </tr>\n",
       "    <tr>\n",
       "      <th>2</th>\n",
       "      <td>Unknown Name</td>\n",
       "      <td>-117.156299</td>\n",
       "      <td>34.041388</td>\n",
       "      <td>3</td>\n",
       "    </tr>\n",
       "    <tr>\n",
       "      <th>3</th>\n",
       "      <td>Arco</td>\n",
       "      <td>-122.420268</td>\n",
       "      <td>37.768468</td>\n",
       "      <td>2</td>\n",
       "    </tr>\n",
       "    <tr>\n",
       "      <th>4</th>\n",
       "      <td>Valley Oil</td>\n",
       "      <td>-122.070127</td>\n",
       "      <td>37.381165</td>\n",
       "      <td>3</td>\n",
       "    </tr>\n",
       "  </tbody>\n",
       "</table>\n",
       "</div>"
      ],
      "text/plain": [
       "                  name           x          y  rating\n",
       "0  Circle K & Minimart -117.190777  34.057365       3\n",
       "1         Unknown Name -117.225609  34.048575       3\n",
       "2         Unknown Name -117.156299  34.041388       3\n",
       "3                 Arco -122.420268  37.768468       2\n",
       "4           Valley Oil -122.070127  37.381165       3"
      ]
     },
     "execution_count": 286,
     "metadata": {},
     "output_type": "execute_result"
    }
   ],
   "source": [
    "gas_df = pd.read_csv('./data/from_shiff')\n",
    "gas_df = gas_df.loc[gas_df['x'] != gas_df['x'].max()]\n",
    "gas_df = gas_df[['name', 'x', 'y', '0']]\n",
    "gas_df.rename(columns = {'0': 'rating'}, inplace = True)\n",
    "gas_df.head()"
   ]
  },
  {
   "cell_type": "code",
   "execution_count": 292,
   "metadata": {},
   "outputs": [
    {
     "data": {
      "text/plain": [
       "2926"
      ]
     },
     "execution_count": 292,
     "metadata": {},
     "output_type": "execute_result"
    }
   ],
   "source": [
    "len(gas_df['y'].tolist())"
   ]
  },
  {
   "cell_type": "code",
   "execution_count": 287,
   "metadata": {},
   "outputs": [
    {
     "data": {
      "text/plain": [
       "<matplotlib.collections.PathCollection at 0x7f7f696e00a0>"
      ]
     },
     "execution_count": 287,
     "metadata": {},
     "output_type": "execute_result"
    },
    {
     "data": {
      "image/png": "[encoded data removed]",
      "text/plain": [
       "<Figure size 432x288 with 1 Axes>"
      ]
     },
     "metadata": {
      "needs_background": "light"
     },
     "output_type": "display_data"
    }
   ],
   "source": [
    "plt.scatter(x = gas_df['x'], y = gas_df['y'])"
   ]
  },
  {
   "cell_type": "code",
   "execution_count": 298,
   "metadata": {},
   "outputs": [],
   "source": [
    "golden_gate_coords = (-122.4783, -37.8199)\n",
    "tahoe_coords = (-120.0324, 39.0968)\n",
    "la_coords = (-118.2437, -34.0522)"
   ]
  },
  {
   "cell_type": "code",
   "execution_count": 305,
   "metadata": {},
   "outputs": [
    {
     "data": {
      "image/png": "[encoded data removed]",
      "text/plain": [
       "<Figure size 432x288 with 1 Axes>"
      ]
     },
     "metadata": {
      "needs_background": "light"
     },
     "output_type": "display_data"
    }
   ],
   "source": [
    "is_in_ellipse(start = la_coords, stop = tahoe_coords, max_distance = 1.15, df = gas_df)"
   ]
  },
  {
   "cell_type": "code",
   "execution_count": 267,
   "metadata": {},
   "outputs": [
    {
     "data": {
      "text/plain": [
       "-124.28758"
      ]
     },
     "execution_count": 267,
     "metadata": {},
     "output_type": "execute_result"
    }
   ],
   "source": [
    "gas_df['x'].min()"
   ]
  },
  {
   "cell_type": "code",
   "execution_count": null,
   "metadata": {},
   "outputs": [],
   "source": []
  },
  {
   "cell_type": "code",
   "execution_count": null,
   "metadata": {},
   "outputs": [],
   "source": []
  },
  {
   "cell_type": "code",
   "execution_count": 260,
   "metadata": {},
   "outputs": [
    {
     "data": {
      "text/plain": [
       "16.263455967290593"
      ]
     },
     "execution_count": 260,
     "metadata": {},
     "output_type": "execute_result"
    }
   ],
   "source": [
    "is_in_ellipse(start = (0, 0), stop = (10, 10), max_distance = 1.15, target_points = lis)"
   ]
  },
  {
   "cell_type": "code",
   "execution_count": null,
   "metadata": {},
   "outputs": [],
   "source": [
    "#https://www.mathopenref.com/ellipseaxes.html"
   ]
  },
  {
   "cell_type": "code",
   "execution_count": 253,
   "metadata": {},
   "outputs": [
    {
     "data": {
      "text/plain": [
       "19.183326093250876"
      ]
     },
     "execution_count": 253,
     "metadata": {},
     "output_type": "execute_result"
    }
   ],
   "source": [
    "2 * np.sqrt(42+50)"
   ]
  },
  {
   "cell_type": "code",
   "execution_count": 254,
   "metadata": {},
   "outputs": [
    {
     "data": {
      "text/plain": [
       "16.263455967290593"
      ]
     },
     "execution_count": 254,
     "metadata": {},
     "output_type": "execute_result"
    }
   ],
   "source": [
    "1.15 * np.sqrt(200)"
   ]
  },
  {
   "cell_type": "code",
   "execution_count": null,
   "metadata": {},
   "outputs": [],
   "source": [
    "target_points = list(zip(df['x'], df['y']))"
   ]
  },
  {
   "cell_type": "code",
   "execution_count": 220,
   "metadata": {},
   "outputs": [
    {
     "data": {
      "text/plain": [
       "[(1, 1), (2, 2), (3, 3), (4, 4)]"
      ]
     },
     "execution_count": 220,
     "metadata": {},
     "output_type": "execute_result"
    }
   ],
   "source": [
    "lis"
   ]
  },
  {
   "cell_type": "code",
   "execution_count": null,
   "metadata": {},
   "outputs": [],
   "source": []
  },
  {
   "cell_type": "code",
   "execution_count": null,
   "metadata": {},
   "outputs": [],
   "source": []
  },
  {
   "cell_type": "code",
   "execution_count": null,
   "metadata": {},
   "outputs": [],
   "source": []
  },
  {
   "cell_type": "code",
   "execution_count": null,
   "metadata": {},
   "outputs": [],
   "source": []
  },
  {
   "cell_type": "code",
   "execution_count": 163,
   "metadata": {},
   "outputs": [
    {
     "ename": "IndexError",
     "evalue": "list index out of range",
     "output_type": "error",
     "traceback": [
      "\u001b[0;31m---------------------------------------------------------------------------\u001b[0m",
      "\u001b[0;31mIndexError\u001b[0m                                Traceback (most recent call last)",
      "\u001b[0;32m<ipython-input-163-c0733122cfb2>\u001b[0m in \u001b[0;36m<module>\u001b[0;34m\u001b[0m\n\u001b[1;32m      7\u001b[0m \u001b[0;32mfor\u001b[0m \u001b[0mx\u001b[0m \u001b[0;32min\u001b[0m \u001b[0mrange\u001b[0m\u001b[0;34m(\u001b[0m\u001b[0mlen\u001b[0m\u001b[0;34m(\u001b[0m\u001b[0mtest_list_x\u001b[0m\u001b[0;34m)\u001b[0m\u001b[0;34m)\u001b[0m\u001b[0;34m:\u001b[0m\u001b[0;34m\u001b[0m\u001b[0;34m\u001b[0m\u001b[0m\n\u001b[1;32m      8\u001b[0m     \u001b[0;32mfor\u001b[0m \u001b[0mj\u001b[0m \u001b[0;32min\u001b[0m \u001b[0mrange\u001b[0m\u001b[0;34m(\u001b[0m\u001b[0mlen\u001b[0m\u001b[0;34m(\u001b[0m\u001b[0mtest_list_x\u001b[0m\u001b[0;34m)\u001b[0m\u001b[0;34m)\u001b[0m\u001b[0;34m:\u001b[0m\u001b[0;34m\u001b[0m\u001b[0;34m\u001b[0m\u001b[0m\n\u001b[0;32m----> 9\u001b[0;31m         \u001b[0my_val\u001b[0m \u001b[0;34m=\u001b[0m \u001b[0mtest_list_y\u001b[0m\u001b[0;34m[\u001b[0m\u001b[0mj\u001b[0m\u001b[0;34m]\u001b[0m\u001b[0;34m\u001b[0m\u001b[0;34m\u001b[0m\u001b[0m\n\u001b[0m\u001b[1;32m     10\u001b[0m         \u001b[0mx_val\u001b[0m \u001b[0;34m=\u001b[0m \u001b[0mtest_list_x\u001b[0m\u001b[0;34m[\u001b[0m\u001b[0mx\u001b[0m\u001b[0;34m]\u001b[0m\u001b[0;34m\u001b[0m\u001b[0;34m\u001b[0m\u001b[0m\n\u001b[1;32m     11\u001b[0m         \u001b[0mprint\u001b[0m\u001b[0;34m(\u001b[0m\u001b[0mx_val\u001b[0m\u001b[0;34m)\u001b[0m\u001b[0;34m\u001b[0m\u001b[0;34m\u001b[0m\u001b[0m\n",
      "\u001b[0;31mIndexError\u001b[0m: list index out of range"
     ]
    }
   ],
   "source": [
    "x_range = (-5, 20)\n",
    "y_range = (5, -20)\n",
    "\n",
    "test_list_x = list(range(x_range[0], x_range[1]))\n",
    "test_list_y = list(range(y_range[0], y_range[1]))\n",
    "\n",
    "for x in range(len(test_list_x)):\n",
    "    for j in range(len(test_list_y)):\n",
    "        y_val = test_list_y[j]\n",
    "        x_val = test_list_x[x]\n",
    "        print(x_val)"
   ]
  },
  {
   "cell_type": "code",
   "execution_count": 162,
   "metadata": {},
   "outputs": [
    {
     "data": {
      "text/plain": [
       "[]"
      ]
     },
     "execution_count": 162,
     "metadata": {},
     "output_type": "execute_result"
    }
   ],
   "source": [
    "x_test = []\n",
    "y_test = []\n",
    "eq_val = []\n",
    "\n",
    "for x in range(len(test_list_x)):\n",
    "    x_val = test_list_x[x]\n",
    "    for j in range(len(test_list_y)):\n",
    "        y_val = test_list_y[j]\n",
    "        x_test.append(x_val)\n",
    "        y_test.append(j)\n",
    "        \n",
    "x_test"
   ]
  },
  {
   "cell_type": "code",
   "execution_count": 147,
   "metadata": {},
   "outputs": [
    {
     "data": {
      "image/png": "[encoded data removed]",
      "text/plain": [
       "<Figure size 432x288 with 1 Axes>"
      ]
     },
     "metadata": {
      "needs_background": "light"
     },
     "output_type": "display_data"
    },
    {
     "ename": "IndexError",
     "evalue": "list index out of range",
     "output_type": "error",
     "traceback": [
      "\u001b[0;31m---------------------------------------------------------------------------\u001b[0m",
      "\u001b[0;31mIndexError\u001b[0m                                Traceback (most recent call last)",
      "\u001b[0;32m<ipython-input-147-3de446a6deb6>\u001b[0m in \u001b[0;36m<module>\u001b[0;34m\u001b[0m\n\u001b[1;32m     63\u001b[0m \u001b[0mplt\u001b[0m\u001b[0;34m.\u001b[0m\u001b[0mshow\u001b[0m\u001b[0;34m(\u001b[0m\u001b[0;34m)\u001b[0m\u001b[0;34m\u001b[0m\u001b[0;34m\u001b[0m\u001b[0m\n\u001b[1;32m     64\u001b[0m \u001b[0;34m\u001b[0m\u001b[0m\n\u001b[0;32m---> 65\u001b[0;31m \u001b[0mx_test\u001b[0m\u001b[0;34m[\u001b[0m\u001b[0;36m0\u001b[0m\u001b[0;34m]\u001b[0m\u001b[0;34m\u001b[0m\u001b[0;34m\u001b[0m\u001b[0m\n\u001b[0m",
      "\u001b[0;31mIndexError\u001b[0m: list index out of range"
     ]
    }
   ],
   "source": [
    "start = (0, 0)\n",
    "end = (10, -10)\n",
    "#test = (1, 7)\n",
    "x_range = (-5, 20)\n",
    "y_range = (5, -20)\n",
    "\n",
    "test_list_x = list(range(x_range[0], x_range[1]))\n",
    "test_list_y = list(range(y_range[0], y_range[1]))\n",
    "\n",
    "midpoint = ((start[0] + end[0]) / 2, (start[1] + end[1]) / 2)\n",
    "max_distance_increase = 1.1\n",
    "\n",
    "#change in x and y for the stop and start coords\n",
    "delta_x = end[0] - start[0]\n",
    "delta_y = end[1] - start[1]\n",
    "\n",
    "#distance between start and stop\n",
    "d = np.sqrt((delta_x)**2 + (delta_y)**2)\n",
    "\n",
    "major_axis = d\n",
    "minor_axis = d * np.sqrt(max_distance_increase**2 - 1)\n",
    "angle_radians = np.arctan(delta_y / delta_x)\n",
    "angle_degrees = angle_radians * 180 / np.pi\n",
    "\n",
    "cosa = np.cos(angle_radians)\n",
    "sina = np.sin(angle_radians)\n",
    "\n",
    "x_test = []\n",
    "y_test = []\n",
    "eq_val = []\n",
    "\n",
    "for x in range(len(test_list_x)):\n",
    "    x_val = test_list_x[x]\n",
    "    for j in range(len(test_list_y)):\n",
    "        y_val = test_list_y[j]\n",
    "        x_test.append(x)\n",
    "        y_test.append(j)\n",
    "        x_diff = x_val - midpoint[0]\n",
    "        y_diff = y_val - midpoint[1]\n",
    "        \n",
    "        component_1 = (((cosa * x_diff) + (sina * y_diff))/(major_axis/2))**2\n",
    "        \n",
    "        component_2 = (((sina * x_diff) - (cosa * y_diff))/(minor_axis/2))**2\n",
    "        \n",
    "        #component_1 = ((((x_val - 6) * np.cos(angle_radians)) + ((y_val - 6) * np.sin(angle_radians)))/ (major_axis/2))**2\n",
    "        #component_2 = ((((x_val - 6) * np.sin(angle_radians)) - ((y_val - 6) * np.cos(angle_radians))) / (minor_axis/2))**2\n",
    "        \n",
    "        eq_value = component_1 + component_2\n",
    "        \n",
    "        if eq_value <=1:\n",
    "            eq_val.append('1')\n",
    "        else:\n",
    "            eq_val.append('0')\n",
    "        \n",
    "            \n",
    "mapped = [int(x) for x in eq_val]\n",
    "\n",
    "ellipse = Ellipse(xy = midpoint, width = major_axis, height = minor_axis, angle = angle_degrees, alpha = .8)\n",
    "plt.gca().add_patch(ellipse)\n",
    "plt.axis('scaled')\n",
    "plt.scatter(x_test, y_test, marker = 'o', c = mapped)\n",
    "plt.xlim(x_range[0], x_range[1])\n",
    "plt.ylim(y_range[0], y_range[1])\n",
    "plt.show()\n",
    "\n",
    "x_test[0]"
   ]
  },
  {
   "cell_type": "code",
   "execution_count": 81,
   "metadata": {},
   "outputs": [
    {
     "data": {
      "text/plain": [
       "0"
      ]
     },
     "execution_count": 81,
     "metadata": {},
     "output_type": "execute_result"
    }
   ],
   "source": [
    "len(y_test)"
   ]
  },
  {
   "cell_type": "code",
   "execution_count": 135,
   "metadata": {},
   "outputs": [
    {
     "data": {
      "image/png": "[encoded data removed]",
      "text/plain": [
       "<Figure size 432x288 with 1 Axes>"
      ]
     },
     "metadata": {
      "needs_background": "light"
     },
     "output_type": "display_data"
    },
    {
     "ename": "IndexError",
     "evalue": "list index out of range",
     "output_type": "error",
     "traceback": [
      "\u001b[0;31m---------------------------------------------------------------------------\u001b[0m",
      "\u001b[0;31mIndexError\u001b[0m                                Traceback (most recent call last)",
      "\u001b[0;32m<ipython-input-135-2469cc4a3eba>\u001b[0m in \u001b[0;36m<module>\u001b[0;34m\u001b[0m\n\u001b[1;32m     65\u001b[0m \u001b[0mplt\u001b[0m\u001b[0;34m.\u001b[0m\u001b[0mshow\u001b[0m\u001b[0;34m(\u001b[0m\u001b[0;34m)\u001b[0m\u001b[0;34m\u001b[0m\u001b[0;34m\u001b[0m\u001b[0m\n\u001b[1;32m     66\u001b[0m \u001b[0;34m\u001b[0m\u001b[0m\n\u001b[0;32m---> 67\u001b[0;31m \u001b[0mx_test\u001b[0m\u001b[0;34m[\u001b[0m\u001b[0;36m0\u001b[0m\u001b[0;34m]\u001b[0m\u001b[0;34m\u001b[0m\u001b[0;34m\u001b[0m\u001b[0m\n\u001b[0m",
      "\u001b[0;31mIndexError\u001b[0m: list index out of range"
     ]
    }
   ],
   "source": [
    "# normalize to midpoint\n",
    "start = (0, 0)\n",
    "end = (10, -10)\n",
    "#test = (1, 7)\n",
    "\n",
    "test_list_x = list(range(-15, 40))\n",
    "test_list_y = list(range(-15, 40))\n",
    "\n",
    "midpoint = ((start[0] + end[0]) / 2, (start[1] + end[1]) / 2)\n",
    "max_distance_increase = 1.1\n",
    "\n",
    "#change in x and y for the stop and start coords\n",
    "delta_x = end[0] - start[0]\n",
    "delta_y = end[1] - start[1]\n",
    "\n",
    "#distance between start and stop\n",
    "d = np.sqrt((delta_x)**2 + (delta_y)**2)\n",
    "\n",
    "major_axis = d\n",
    "minor_axis = d * np.sqrt(max_distance_increase**2 - 1)\n",
    "angle_radians = np.arctan(delta_y / delta_x)\n",
    "angle_degrees = angle_radians * 180 / np.pi\n",
    "\n",
    "x_test = []\n",
    "y_test = []\n",
    "eq_val = []\n",
    "\n",
    "x_new = [x - midpoint[0] for x in test_list_x]\n",
    "y_new = [y - midpoint[1] for y in test_list_y]\n",
    "\n",
    "for x in range(len(x_new)):\n",
    "    x_val = x_new[x]\n",
    "    for j in range(len(y_test)):\n",
    "        y_val = y_test[j]\n",
    "        \n",
    "        x_test.append(x)\n",
    "        y_test.append(j)\n",
    "        \n",
    "        component_1 = ((((x_val - 6) * np.cos(angle_radians)) + ((y_val - 6) * np.sin(angle_radians)))/ (major_axis/2))**2\n",
    "        component_2 = ((((x_val - 6) * np.sin(angle_radians)) - ((y_val - 6) * np.cos(angle_radians))) / (minor_axis/2))**2\n",
    "        #n = (5, 5)\n",
    "        #component_1 = ((((x_val + n[0]) * np.cos(angle_radians)) + ((y_val + n[1]) * np.sin(angle_radians)))/ (major_axis/2))**2\n",
    "        #omponent_2 = ((((x_val + n[0]) * np.sin(angle_radians)) - ((y_val + n[1]) * np.cos(angle_radians))) / (minor_axis/2))**2\n",
    "        \n",
    "        #n = midpoint\n",
    "        #component_1 = ((((-n[0] - x_val) * np.cos(angle_radians)) + ((-n[1] - y_val) * np.sin(angle_radians)))/ (major_axis/2))**2\n",
    "        #component_2 = ((((-n[0] - x_val) * np.sin(angle_radians)) - ((-n[1] - y_val) * np.cos(angle_radians))) / (minor_axis/2))**2\n",
    "        \n",
    "        eq_value = component_1 + component_2\n",
    "        \n",
    "        if eq_value <=1:\n",
    "            eq_val.append('1')\n",
    "        else:\n",
    "            eq_val.append('0')\n",
    "        \n",
    "            \n",
    "mapped = [int(x) for x in eq_val]\n",
    "\n",
    "ellipse = Ellipse(xy = midpoint, width = major_axis, height = minor_axis, angle = angle_degrees, alpha = .8)\n",
    "plt.gca().add_patch(ellipse)\n",
    "plt.axis('scaled')\n",
    "plt.scatter(x_test, y_test, marker = 'o', c = mapped)\n",
    "plt.xlim(-10, 20)\n",
    "plt.ylim(-10, 20)\n",
    "plt.show()\n",
    "\n",
    "x_test[0]"
   ]
  },
  {
   "cell_type": "code",
   "execution_count": 136,
   "metadata": {},
   "outputs": [
    {
     "data": {
      "image/png": "[encoded data removed]",
      "text/plain": [
       "<Figure size 432x288 with 1 Axes>"
      ]
     },
     "metadata": {
      "needs_background": "light"
     },
     "output_type": "display_data"
    },
    {
     "data": {
      "text/plain": [
       "0"
      ]
     },
     "execution_count": 136,
     "metadata": {},
     "output_type": "execute_result"
    }
   ],
   "source": [
    "start = (0, 0)\n",
    "end = (10, -10)\n",
    "#test = (1, 7)\n",
    "\n",
    "test_list_x = list(range(-15, 40))\n",
    "test_list_y = list(range(-15, 40))\n",
    "\n",
    "midpoint = ((start[0] + end[0]) / 2, (start[1] + end[1]) / 2)\n",
    "max_distance_increase = 1.1\n",
    "\n",
    "#change in x and y for the stop and start coords\n",
    "delta_x = end[0] - start[0]\n",
    "delta_y = end[1] - start[1]\n",
    "\n",
    "#distance between start and stop\n",
    "d = np.sqrt((delta_x)**2 + (delta_y)**2)\n",
    "\n",
    "major_axis = d\n",
    "minor_axis = d * np.sqrt(max_distance_increase**2 - 1)\n",
    "angle_radians = np.arctan(delta_y / delta_x)\n",
    "angle_degrees = angle_radians * 180 / np.pi\n",
    "\n",
    "x_test = []\n",
    "y_test = []\n",
    "eq_val = []\n",
    "\n",
    "for x in range(len(test_list_x)):\n",
    "    x_val = test_list_x[x]\n",
    "    for j in range(len(test_list_y)):\n",
    "        y_val = test_list_y[j]\n",
    "        \n",
    "        x_test.append(x)\n",
    "        y_test.append(j)\n",
    "        \n",
    "        #component_1 = ((((x_val - 6) * np.cos(angle_radians)) + ((y_val - 6) * np.sin(angle_radians)))/ (major_axis/2))**2\n",
    "        #component_2 = ((((x_val - 6) * np.sin(angle_radians)) - ((y_val - 6) * np.cos(angle_radians))) / (minor_axis/2))**2\n",
    "        #n = (5, 5)\n",
    "        #component_1 = ((((x_val + n[0]) * np.cos(angle_radians)) + ((y_val + n[1]) * np.sin(angle_radians)))/ (major_axis/2))**2\n",
    "        #omponent_2 = ((((x_val + n[0]) * np.sin(angle_radians)) - ((y_val + n[1]) * np.cos(angle_radians))) / (minor_axis/2))**2\n",
    "        \n",
    "        n = midpoint\n",
    "        #component_1 = ((((-n[0] - x_val) * np.cos(angle_radians)) + ((-n[1] - y_val) * np.sin(angle_radians)))/ (major_axis/2))**2\n",
    "        #component_2 = ((((-n[0] - x_val) * np.sin(angle_radians)) - ((-n[1] - y_val) * np.cos(angle_radians))) / (minor_axis/2))**2\n",
    "        \n",
    "        component_1 = ((((-n[0] - x_val) * np.cos(angle_radians)) + ((-n[1] - y_val) * np.sin(angle_radians)))/ (major_axis/2))**2\n",
    "        component_2 = ((((-n[0] - x_val) * np.sin(angle_radians)) - ((-n[1] - y_val) * np.cos(angle_radians))) / (minor_axis/2))**2\n",
    "        \n",
    "        eq_value = component_1 + component_2\n",
    "        \n",
    "        if eq_value <=1:\n",
    "            eq_val.append('1')\n",
    "        else:\n",
    "            eq_val.append('0')\n",
    "        \n",
    "            \n",
    "mapped = [int(x) for x in eq_val]\n",
    "\n",
    "ellipse = Ellipse(xy = midpoint, width = major_axis, height = minor_axis, angle = angle_degrees, alpha = .8)\n",
    "plt.gca().add_patch(ellipse)\n",
    "plt.axis('scaled')\n",
    "plt.scatter(x_test, y_test, marker = 'o', c = mapped)\n",
    "plt.xlim(-10, 20)\n",
    "plt.ylim(-10, 20)\n",
    "plt.show()\n",
    "\n",
    "x_test[0]"
   ]
  },
  {
   "cell_type": "code",
   "execution_count": null,
   "metadata": {},
   "outputs": [],
   "source": [
    "#component 1:\n",
    "component_1 = (((np.cos(angle_radians) * (test[0] - midpoint[0])) + (np.sin(angle_radians) * (test[1] - midpoint[1])))/ minor_axis)**2\n",
    "\n",
    "#component 3:\n",
    "component_3 = (((np.sin(angle_radians) * (test[0] - midpoint[0])) - (np.cos(angle_radians) * (test[1] - midpoint[1]))) / major_axis)**2\n",
    "\n",
    "ellipse_eq = component_1 + component_2\n",
    "midpoint\n",
    "ellipse_eq\n",
    "\n",
    "ellipse = Ellipse(xy = midpoint, width = major_axis, height = minor_axis, angle = angle_degrees, alpha = .1)\n",
    "plt.gca().add_patch(ellipse)\n",
    "plt.axis('scaled')\n",
    "plt.scatter([start[0], end[0], midpoint[0], test[0]], [start[1], end[1], midpoint[1], test[1]], marker = 'o')\n",
    "#plt.scatter(df_ones['x'], df_ones['y'], marker = \"^\", c = df_ones['ordinal_cat'])\n",
    "plt.show()\n",
    "ellipse_eq\n",
    "print(minor_axis, np.sqrt(50))\n",
    "ellipse_eq"
   ]
  },
  {
   "cell_type": "code",
   "execution_count": 68,
   "metadata": {},
   "outputs": [
    {
     "data": {
      "image/png": "[encoded data removed]",
      "text/plain": [
       "<Figure size 432x288 with 1 Axes>"
      ]
     },
     "metadata": {
      "needs_background": "light"
     },
     "output_type": "display_data"
    },
    {
     "data": {
      "text/plain": [
       "0.2804761904761903"
      ]
     },
     "execution_count": 68,
     "metadata": {},
     "output_type": "execute_result"
    }
   ],
   "source": [
    "# shift all points to where the origin is the midpoint to determine if the test points are range\n",
    "start = (1, 1)\n",
    "end = (11, 11)\n",
    "test = (1, 7)\n",
    "midpoint = ((start[0] + end[0]) / 2, (start[1] + end[1]) / 2)\n",
    "\n",
    "#here's the shift\n",
    "x_original = [start[0], end[0], midpoint[0], test[0]]\n",
    "y_original = [start[1], end[1], midpoint[1], test[1]]\n",
    "\n",
    "x_new = [x - midpoint[0] for x in x_original]\n",
    "y_new = [y - midpoint[1] for y in y_original]\n",
    "\n",
    "d = np.sqrt((10)**2 + (10)**2)\n",
    "max_distance_increase = 1.1\n",
    "\n",
    "major_axis = d\n",
    "minor_axis = d * np.sqrt(max_distance_increase**2 - 1)\n",
    "angle_radians = np.arctan(10 / 10)\n",
    "angle_degrees = angle_radians * 180 / np.pi\n",
    "\n",
    "#component 1:\n",
    "component_1 = (((np.cos(angle_radians) * (x_new[3] - x_new[2])) + (np.sin(angle_radians) * (y_new[3] - y_new[2])))/ minor_axis)**2\n",
    "\n",
    "#component 3:\n",
    "component_3 = (((np.sin(angle_radians) * (x_new[3] - x_new[2])) - (np.cos(angle_radians) * (y_new[3] - y_new[2]))) / major_axis)**2\n",
    "\n",
    "ellipse_eq = component_1 + component_2\n",
    "midpoint\n",
    "ellipse_eq\n",
    "\n",
    "ellipse = Ellipse(xy = midpoint, width = major_axis, height = minor_axis, angle = angle_degrees, alpha = .1)\n",
    "plt.gca().add_patch(ellipse)\n",
    "plt.axis('scaled')\n",
    "plt.scatter([start[0], end[0], midpoint[0], test[0]], [start[1], end[1], midpoint[1], test[1]], marker = 'o')\n",
    "#plt.scatter(df_ones['x'], df_ones['y'], marker = \"^\", c = df_ones['ordinal_cat'])\n",
    "plt.show()\n",
    "ellipse_eq\n",
    "#print(minor_axis, np.sqrt(50))\n",
    "\n",
    "x_new\n",
    "ellipse_eq"
   ]
  },
  {
   "cell_type": "code",
   "execution_count": 69,
   "metadata": {},
   "outputs": [
    {
     "data": {
      "image/png": "[encoded data removed]",
      "text/plain": [
       "<Figure size 432x288 with 1 Axes>"
      ]
     },
     "metadata": {
      "needs_background": "light"
     },
     "output_type": "display_data"
    },
    {
     "name": "stdout",
     "output_type": "stream",
     "text": [
      "6.480740698407864 7.0710678118654755\n"
     ]
    },
    {
     "data": {
      "text/plain": [
       "0.2804761904761903"
      ]
     },
     "execution_count": 69,
     "metadata": {},
     "output_type": "execute_result"
    }
   ],
   "source": [
    "start = (1, 1)\n",
    "end = (11, 11)\n",
    "test = (1, 7)\n",
    "midpoint = ((start[0] + end[0]) / 2, (start[1] + end[1]) / 2)\n",
    "d = np.sqrt((10)**2 + (10)**2)\n",
    "max_distance_increase = 1.1\n",
    "\n",
    "major_axis = d\n",
    "minor_axis = d * np.sqrt(max_distance_increase**2 - 1)\n",
    "angle_radians = np.arctan(10 / 10)\n",
    "angle_degrees = angle_radians * 180 / np.pi\n",
    "\n",
    "#component 1:\n",
    "component_1 = (((np.cos(angle_radians) * (test[0] - midpoint[0])) + (np.sin(angle_radians) * (test[1] - midpoint[1])))/ minor_axis)**2\n",
    "\n",
    "#component 3:\n",
    "component_3 = (((np.sin(angle_radians) * (test[0] - midpoint[0])) - (np.cos(angle_radians) * (test[1] - midpoint[1]))) / major_axis)**2\n",
    "\n",
    "ellipse_eq = component_1 + component_2\n",
    "midpoint\n",
    "ellipse_eq\n",
    "\n",
    "ellipse = Ellipse(xy = midpoint, width = major_axis, height = minor_axis, angle = angle_degrees, alpha = .1)\n",
    "plt.gca().add_patch(ellipse)\n",
    "plt.axis('scaled')\n",
    "plt.scatter([start[0], end[0], midpoint[0], test[0]], [start[1], end[1], midpoint[1], test[1]], marker = 'o')\n",
    "#plt.scatter(df_ones['x'], df_ones['y'], marker = \"^\", c = df_ones['ordinal_cat'])\n",
    "plt.show()\n",
    "ellipse_eq\n",
    "print(minor_axis, np.sqrt(50))\n",
    "ellipse_eq"
   ]
  },
  {
   "cell_type": "code",
   "execution_count": 24,
   "metadata": {},
   "outputs": [],
   "source": [
    "def in_ellipse(start, end, target, max_distance_increase):\n",
    "    \n",
    "    x_target = target[0]\n",
    "    y_target = target[1]\n",
    "    \n",
    "    # midpoint on the line connecting the start and stop\n",
    "    x_midpoint = (start[0] + end[0]) / 2\n",
    "    y_midpoint = (start[1] + end[1]) / 2\n",
    "    midpoint = (x_midpoint, y_midpoint)\n",
    "    \n",
    "    #change in x and y for the stop and start coords\n",
    "    delta_x = end[0] - start[0]\n",
    "    delta_y = end[1] - start[1]\n",
    "\n",
    "    #distance between start and stop\n",
    "    d = np.sqrt((delta_x)**2 + (delta_y)**2)\n",
    "    \n",
    "    #major and minor axis based on distance between two points and the max distance increase\n",
    "    major_axis = d\n",
    "    minor_axis = d * np.sqrt(max_distance_increase**2 - 1)\n",
    "\n",
    "    #for the ellipse, we need the angle of the line (the line connecting start and stop points) and the x axis\n",
    "    angle_radians = np.arctan(delta_y / delta_x)\n",
    "    angle_degrees = angle_radians * 180 / np.pi\n",
    "    \n",
    "    #now for the ellipse equation:\n",
    "    #component 1:\n",
    "    component_1 = ((np.cos(angle_radians) * (x_target - x_midpoint)) + (np.sin(angle_radians) * (y_target - y_midpoint)))**2 / (minor_axis ** 2)\n",
    "    #component 2:\n",
    "    component_2 = ((np.sin(angle_radians) * (x_target - x_midpoint)) - (np.cos(angle_radians) * (y_target - y_midpoint)))**2 / (major_axis ** 2)\n",
    "    \n",
    "    ellipse_eq = component_1 + component_2\n",
    "    \n",
    "    if ellipse_eq <= 1:\n",
    "        return True\n",
    "    else:\n",
    "        return False"
   ]
  },
  {
   "cell_type": "code",
   "execution_count": 34,
   "metadata": {},
   "outputs": [
    {
     "data": {
      "text/plain": [
       "0.7853981633974483"
      ]
     },
     "execution_count": 34,
     "metadata": {},
     "output_type": "execute_result"
    }
   ],
   "source": [
    "np.arctan(10 / 10)"
   ]
  },
  {
   "cell_type": "code",
   "execution_count": 35,
   "metadata": {},
   "outputs": [
    {
     "data": {
      "text/plain": [
       "1.0"
      ]
     },
     "execution_count": 35,
     "metadata": {},
     "output_type": "execute_result"
    }
   ],
   "source": [
    "np.round(np.cos(np.arctan(10 / 10)))"
   ]
  },
  {
   "cell_type": "code",
   "execution_count": 33,
   "metadata": {},
   "outputs": [
    {
     "data": {
      "text/plain": [
       "1.0"
      ]
     },
     "execution_count": 33,
     "metadata": {},
     "output_type": "execute_result"
    }
   ],
   "source": [
    "np.round(np.cos(45 * np.pi / 180))"
   ]
  },
  {
   "cell_type": "code",
   "execution_count": 25,
   "metadata": {},
   "outputs": [
    {
     "data": {
      "text/plain": [
       "True"
      ]
     },
     "execution_count": 25,
     "metadata": {},
     "output_type": "execute_result"
    }
   ],
   "source": [
    "# example to test ellipse\n",
    "start_point = (1, 1)\n",
    "end_point = (5, 5)\n",
    "target_point = (1, 5)\n",
    "m = 1.1\n",
    "\n",
    "in_ellipse(start = start_point, end = end_point, target = target_point, max_distance_increase = m)"
   ]
  },
  {
   "cell_type": "code",
   "execution_count": 4,
   "metadata": {},
   "outputs": [],
   "source": [
    "# If it's in the ellipse, how long is your journey?\n",
    "def trip_length(start, end, target):\n",
    "    # create x and y designations\n",
    "    x1 = start[0]\n",
    "    y1 = start[1]\n",
    "    x2 = end[0]\n",
    "    y2 = end[1]\n",
    "    x_target = target[0]\n",
    "    y_target = target[1]\n",
    "    \n",
    "    # distance from start to target\n",
    "    start_target = np.sqrt((x1 - x_target)**2 + (y1 - y_target)**2)\n",
    "    \n",
    "    #distance from target to end\n",
    "    target_end = np.sqrt((x2 - x_target)**2 + (y2 - y_target)**2)\n",
    "    \n",
    "    return start_target + target_end"
   ]
  },
  {
   "cell_type": "code",
   "execution_count": 5,
   "metadata": {},
   "outputs": [],
   "source": [
    "# What's the ratio of your new journey vs if you hadn't stopped at all?\n",
    "def trip_ratio(start, end, target):\n",
    "    # distance without stop\n",
    "    d = np.sqrt((start[0] - end[0])**2 + (start[1] - end[1])**2)\n",
    "    \n",
    "    #distance with stop\n",
    "    new_journey = trip_length(start, end, target)\n",
    "    \n",
    "    return new_journey / d"
   ]
  },
  {
   "cell_type": "code",
   "execution_count": 6,
   "metadata": {},
   "outputs": [],
   "source": [
    "def places_in_range_df(start, stop, max_distance_increase, coordinate_df):\n",
    "    \"\"\"\n",
    "    Given start coordinates, end coordinates, how far you're willing to go out of your way, and the dataframe of all gas stations\n",
    "    \n",
    "    \n",
    "    determine which gas stations are in the desired range, and visualize this based on:\n",
    "    - shape (binary: in range or not)\n",
    "    - color (categorical: how 'hot' for covid)\n",
    "    \"\"\"\n",
    "    \n",
    "    # only keep x and y coordinate columns, and category of covid heat\n",
    "    df = coordinate_df[['x', 'y', 'ordinal_cat']]\n",
    "    \n",
    "    # make these columns into lists\n",
    "    x_list = df['x'].tolist()\n",
    "    y_list = df['y'].tolist()\n",
    "    \n",
    "    # create list of coordinates as tuples\n",
    "    coordinate_list = []\n",
    "    for x in range(len(x_list)):\n",
    "        a, b = x_list[x], y_list[x]\n",
    "        coordinate_list.append((a, b))\n",
    "    \n",
    "    #create empty list that will be filled 'yes' if in range, and 'no' if not in range\n",
    "    in_range = []\n",
    "    #create empty list that will be filled with the trip ratio for the coordinates that are in range and NaN for not in range\n",
    "    trip_ratios = []\n",
    "    #create empty list that will be filled with the trip length for the coordinates that are in range and NaN for not in range\n",
    "    trip_lengths = []\n",
    "    \n",
    "    #loop through coordinate list\n",
    "    for x in coordinate_list:\n",
    "        # for each row / coordiante, determine if it's in range\n",
    "        if in_ellipse(start = start, end = stop, target = x, max_distance_increase = max_distance_increase) == True:\n",
    "            in_range.append('yes')\n",
    "            trip_ratios.append(trip_ratio(start = start, end = stop, target = x))\n",
    "            trip_lengths.append(trip_length(start = start, end = stop, target = x))\n",
    "        else:\n",
    "            in_range.append('no')\n",
    "            trip_ratios.append(None)\n",
    "            trip_lengths.append(None)\n",
    "        \n",
    "    df['in_range'] = in_range\n",
    "    df['trip_ratios'] = trip_ratios\n",
    "    df['trip_lengths'] = trip_lengths\n",
    "    return df"
   ]
  },
  {
   "cell_type": "code",
   "execution_count": 10,
   "metadata": {},
   "outputs": [],
   "source": [
    "def full_viz(start, stop, max_distance_increase, coordinate_df):\n",
    "    # for visualizing the line connecting start and stop points\n",
    "    (x, y) = start_end_line(start, stop)\n",
    "    plt.plot(x, y, '-r')\n",
    "    \n",
    "    # midpoint on the line connecting the start and stop\n",
    "    x_midpoint = (start[0] + stop[0]) / 2\n",
    "    y_midpoint = (start[1] + stop[1]) / 2\n",
    "    midpoint = (x_midpoint, y_midpoint)\n",
    "    \n",
    "    #change in x and y for the stop and start coords\n",
    "    delta_x = stop[0] - start[0]\n",
    "    delta_y = stop[1] - start[1]\n",
    "\n",
    "    #distance between start and stop\n",
    "    d = np.sqrt((delta_x)**2 + (delta_y)**2)\n",
    "    \n",
    "    #major and minor axis based on distance between two points and the max distance increase\n",
    "    major_axis = d\n",
    "    minor_axis = d * np.sqrt(max_distance_increase**2 - 1)\n",
    "\n",
    "    #for plotting the ellipse, we need the angle of the line (the line connecting start and stop points) and the x axis\n",
    "    line_angle = np.degrees(np.arctan(delta_y / delta_x))\n",
    "\n",
    "    # Now for the ellipse plot\n",
    "    # https://nickcharlton.net/posts/drawing-animating-shapes-matplotlib.html\n",
    "    ellipse = Ellipse(xy = midpoint, width = major_axis, height = minor_axis, angle = line_angle, alpha = .8)\n",
    "    plt.gca().add_patch(ellipse)\n",
    "\n",
    "    plt.axis('scaled')\n",
    "    \n",
    "    #Now for visualizing which points are in the ellipse\n",
    "    df = places_in_range_df(start = start, stop = stop, max_distance_increase = max_distance_increase, coordinate_df = coordinate_df)\n",
    "    #map the in_range column to be numeric\n",
    "    df['in_range_numeric'] = df['in_range'].map({'yes': 1, 'no': 0})\n",
    "    \n",
    "    df_zero = df.loc[df['in_range_numeric'] == 0]\n",
    "    df_ones = df.loc[df['in_range_numeric'] == 1]\n",
    "    \n",
    "    plt.xlim(-124, -114)\n",
    "    plt.ylim(33, 42)\n",
    "    plt.scatter(df_zero['x'], df_zero['y'], marker = 'o', c = df_zero['ordinal_cat'])\n",
    "    plt.scatter(df_ones['x'], df_ones['y'], marker = \"^\", c = df_ones['ordinal_cat'])\n",
    "    \n",
    "    plt.show()"
   ]
  },
  {
   "cell_type": "code",
   "execution_count": 11,
   "metadata": {},
   "outputs": [],
   "source": [
    "gas_df_a = pd.read_csv('./data/gas_stations_with_cat.csv')\n",
    "gas_df_b = gas_df_a.loc[gas_df_a['x'] != gas_df_a['x'].max()]"
   ]
  },
  {
   "cell_type": "code",
   "execution_count": 12,
   "metadata": {},
   "outputs": [
    {
     "name": "stderr",
     "output_type": "stream",
     "text": [
      "<ipython-input-6-aa51ed7de47b>:43: SettingWithCopyWarning: \n",
      "A value is trying to be set on a copy of a slice from a DataFrame.\n",
      "Try using .loc[row_indexer,col_indexer] = value instead\n",
      "\n",
      "See the caveats in the documentation: https://pandas.pydata.org/pandas-docs/stable/user_guide/indexing.html#returning-a-view-versus-a-copy\n",
      "  df['in_range'] = in_range\n"
     ]
    },
    {
     "data": {
      "image/png": "[encoded data removed]",
      "text/plain": [
       "<Figure size 432x288 with 1 Axes>"
      ]
     },
     "metadata": {
      "needs_background": "light"
     },
     "output_type": "display_data"
    }
   ],
   "source": [
    "start_point = (-122.4783, 37.8199)\n",
    "end_point = (-120.0324, 39.0968)\n",
    "\n",
    "full_viz(start = start_point, stop = end_point, max_distance_increase = 1.15, coordinate_df = gas_df_b)"
   ]
  },
  {
   "cell_type": "code",
   "execution_count": null,
   "metadata": {},
   "outputs": [],
   "source": []
  }
 ],
 "metadata": {
  "kernelspec": {
   "display_name": "Python 3",
   "language": "python",
   "name": "python3"
  },
  "language_info": {
   "codemirror_mode": {
    "name": "ipython",
    "version": 3
   },
   "file_extension": ".py",
   "mimetype": "text/x-python",
   "name": "python",
   "nbconvert_exporter": "python",
   "pygments_lexer": "ipython3",
   "version": "3.8.3"
  }
 },
 "nbformat": 4,
 "nbformat_minor": 4
}
