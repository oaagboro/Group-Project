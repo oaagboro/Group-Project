{
 "cells": [
  {
   "cell_type": "markdown",
   "metadata": {},
   "source": [
    "# Created master dataframes: (all in draft_data)\n",
    "- master_df.csv\n",
    "- master_df_take2.csv\n",
    "- master_df.csv\n",
    "\n",
    "\n",
    "This is for when Arnold and I thought that we couldn't use separate dataframes in Folium. But it turns out, we can!"
   ]
  },
  {
   "cell_type": "code",
   "execution_count": 1,
   "metadata": {},
   "outputs": [],
   "source": [
    "import numpy as np\n",
    "import pandas as pd\n",
    "import matplotlib.pyplot as plt\n"
   ]
  },
  {
   "cell_type": "markdown",
   "metadata": {},
   "source": [
    "### Send to Shiff"
   ]
  },
  {
   "cell_type": "code",
   "execution_count": 2,
   "metadata": {},
   "outputs": [
    {
     "data": {
      "text/html": [
       "<div>\n",
       "<style scoped>\n",
       "    .dataframe tbody tr th:only-of-type {\n",
       "        vertical-align: middle;\n",
       "    }\n",
       "\n",
       "    .dataframe tbody tr th {\n",
       "        vertical-align: top;\n",
       "    }\n",
       "\n",
       "    .dataframe thead th {\n",
       "        text-align: right;\n",
       "    }\n",
       "</style>\n",
       "<table border=\"1\" class=\"dataframe\">\n",
       "  <thead>\n",
       "    <tr style=\"text-align: right;\">\n",
       "      <th></th>\n",
       "      <th>name</th>\n",
       "      <th>x</th>\n",
       "      <th>y</th>\n",
       "      <th>county</th>\n",
       "      <th>ordinal_cat</th>\n",
       "      <th>COVID-19 danger</th>\n",
       "    </tr>\n",
       "  </thead>\n",
       "  <tbody>\n",
       "    <tr>\n",
       "      <th>0</th>\n",
       "      <td>Circle K &amp; Minimart</td>\n",
       "      <td>-117.190777</td>\n",
       "      <td>34.057365</td>\n",
       "      <td>San Bernardino</td>\n",
       "      <td>1</td>\n",
       "      <td>Low Risk</td>\n",
       "    </tr>\n",
       "    <tr>\n",
       "      <th>1</th>\n",
       "      <td>Unknown Name</td>\n",
       "      <td>-117.225609</td>\n",
       "      <td>34.048575</td>\n",
       "      <td>San Bernardino</td>\n",
       "      <td>3</td>\n",
       "      <td>Medium Risk</td>\n",
       "    </tr>\n",
       "    <tr>\n",
       "      <th>2</th>\n",
       "      <td>Unknown Name</td>\n",
       "      <td>-117.156299</td>\n",
       "      <td>34.041388</td>\n",
       "      <td>San Bernardino</td>\n",
       "      <td>1</td>\n",
       "      <td>Low Risk</td>\n",
       "    </tr>\n",
       "    <tr>\n",
       "      <th>3</th>\n",
       "      <td>Arco</td>\n",
       "      <td>-122.420268</td>\n",
       "      <td>37.768468</td>\n",
       "      <td>San Francisco</td>\n",
       "      <td>2</td>\n",
       "      <td>Mild Risk</td>\n",
       "    </tr>\n",
       "    <tr>\n",
       "      <th>4</th>\n",
       "      <td>Valley Oil</td>\n",
       "      <td>-122.070127</td>\n",
       "      <td>37.381165</td>\n",
       "      <td>Santa Clara</td>\n",
       "      <td>3</td>\n",
       "      <td>Medium Risk</td>\n",
       "    </tr>\n",
       "  </tbody>\n",
       "</table>\n",
       "</div>"
      ],
      "text/plain": [
       "                  name           x          y          county  ordinal_cat  \\\n",
       "0  Circle K & Minimart -117.190777  34.057365  San Bernardino            1   \n",
       "1         Unknown Name -117.225609  34.048575  San Bernardino            3   \n",
       "2         Unknown Name -117.156299  34.041388  San Bernardino            1   \n",
       "3                 Arco -122.420268  37.768468   San Francisco            2   \n",
       "4           Valley Oil -122.070127  37.381165     Santa Clara            3   \n",
       "\n",
       "  COVID-19 danger  \n",
       "0        Low Risk  \n",
       "1     Medium Risk  \n",
       "2        Low Risk  \n",
       "3       Mild Risk  \n",
       "4     Medium Risk  "
      ]
     },
     "execution_count": 2,
     "metadata": {},
     "output_type": "execute_result"
    }
   ],
   "source": [
    "gas_current = pd.read_csv('./data/gas_stations_covid_danger.csv')\n",
    "gas_current.head()"
   ]
  },
  {
   "cell_type": "code",
   "execution_count": 3,
   "metadata": {},
   "outputs": [],
   "source": [
    "gas_final = gas_current[['name', 'county', 'x', 'y']]"
   ]
  },
  {
   "cell_type": "code",
   "execution_count": 4,
   "metadata": {},
   "outputs": [
    {
     "data": {
      "text/html": [
       "<div>\n",
       "<style scoped>\n",
       "    .dataframe tbody tr th:only-of-type {\n",
       "        vertical-align: middle;\n",
       "    }\n",
       "\n",
       "    .dataframe tbody tr th {\n",
       "        vertical-align: top;\n",
       "    }\n",
       "\n",
       "    .dataframe thead th {\n",
       "        text-align: right;\n",
       "    }\n",
       "</style>\n",
       "<table border=\"1\" class=\"dataframe\">\n",
       "  <thead>\n",
       "    <tr style=\"text-align: right;\">\n",
       "      <th></th>\n",
       "      <th>name</th>\n",
       "      <th>county</th>\n",
       "      <th>x</th>\n",
       "      <th>y</th>\n",
       "    </tr>\n",
       "  </thead>\n",
       "  <tbody>\n",
       "    <tr>\n",
       "      <th>0</th>\n",
       "      <td>Circle K &amp; Minimart</td>\n",
       "      <td>San Bernardino</td>\n",
       "      <td>-117.190777</td>\n",
       "      <td>34.057365</td>\n",
       "    </tr>\n",
       "    <tr>\n",
       "      <th>1</th>\n",
       "      <td>Unknown Name</td>\n",
       "      <td>San Bernardino</td>\n",
       "      <td>-117.225609</td>\n",
       "      <td>34.048575</td>\n",
       "    </tr>\n",
       "    <tr>\n",
       "      <th>2</th>\n",
       "      <td>Unknown Name</td>\n",
       "      <td>San Bernardino</td>\n",
       "      <td>-117.156299</td>\n",
       "      <td>34.041388</td>\n",
       "    </tr>\n",
       "    <tr>\n",
       "      <th>3</th>\n",
       "      <td>Arco</td>\n",
       "      <td>San Francisco</td>\n",
       "      <td>-122.420268</td>\n",
       "      <td>37.768468</td>\n",
       "    </tr>\n",
       "    <tr>\n",
       "      <th>4</th>\n",
       "      <td>Valley Oil</td>\n",
       "      <td>Santa Clara</td>\n",
       "      <td>-122.070127</td>\n",
       "      <td>37.381165</td>\n",
       "    </tr>\n",
       "  </tbody>\n",
       "</table>\n",
       "</div>"
      ],
      "text/plain": [
       "                  name          county           x          y\n",
       "0  Circle K & Minimart  San Bernardino -117.190777  34.057365\n",
       "1         Unknown Name  San Bernardino -117.225609  34.048575\n",
       "2         Unknown Name  San Bernardino -117.156299  34.041388\n",
       "3                 Arco   San Francisco -122.420268  37.768468\n",
       "4           Valley Oil     Santa Clara -122.070127  37.381165"
      ]
     },
     "execution_count": 4,
     "metadata": {},
     "output_type": "execute_result"
    }
   ],
   "source": [
    "gas_final.head()"
   ]
  },
  {
   "cell_type": "code",
   "execution_count": 5,
   "metadata": {},
   "outputs": [],
   "source": [
    "gas_final.to_csv('./data/gas_for_shiff_preds.csv')"
   ]
  },
  {
   "cell_type": "markdown",
   "metadata": {},
   "source": [
    "# Clean Covid"
   ]
  },
  {
   "cell_type": "code",
   "execution_count": 6,
   "metadata": {},
   "outputs": [
    {
     "data": {
      "text/html": [
       "<div>\n",
       "<style scoped>\n",
       "    .dataframe tbody tr th:only-of-type {\n",
       "        vertical-align: middle;\n",
       "    }\n",
       "\n",
       "    .dataframe tbody tr th {\n",
       "        vertical-align: top;\n",
       "    }\n",
       "\n",
       "    .dataframe thead th {\n",
       "        text-align: right;\n",
       "    }\n",
       "</style>\n",
       "<table border=\"1\" class=\"dataframe\">\n",
       "  <thead>\n",
       "    <tr style=\"text-align: right;\">\n",
       "      <th></th>\n",
       "      <th>date</th>\n",
       "      <th>county</th>\n",
       "      <th>fips</th>\n",
       "      <th>place</th>\n",
       "      <th>confirmed_cases</th>\n",
       "      <th>note</th>\n",
       "      <th>x</th>\n",
       "      <th>y</th>\n",
       "      <th>log_cases</th>\n",
       "      <th>category</th>\n",
       "      <th>ordinal_cat</th>\n",
       "    </tr>\n",
       "  </thead>\n",
       "  <tbody>\n",
       "    <tr>\n",
       "      <th>0</th>\n",
       "      <td>2020-10-23</td>\n",
       "      <td>Sonoma</td>\n",
       "      <td>97.0</td>\n",
       "      <td>Bodega</td>\n",
       "      <td>1</td>\n",
       "      <td>10 or fewer</td>\n",
       "      <td>-122.973889</td>\n",
       "      <td>38.345278</td>\n",
       "      <td>0.0</td>\n",
       "      <td>0</td>\n",
       "      <td>0</td>\n",
       "    </tr>\n",
       "  </tbody>\n",
       "</table>\n",
       "</div>"
      ],
      "text/plain": [
       "         date  county  fips   place  confirmed_cases         note           x  \\\n",
       "0  2020-10-23  Sonoma  97.0  Bodega                1  10 or fewer -122.973889   \n",
       "\n",
       "           y  log_cases  category  ordinal_cat  \n",
       "0  38.345278        0.0         0            0  "
      ]
     },
     "execution_count": 6,
     "metadata": {},
     "output_type": "execute_result"
    }
   ],
   "source": [
    "df_covid = pd.read_csv('./data/clean_covid_data.csv')\n",
    "df_covid.head(1)"
   ]
  },
  {
   "cell_type": "code",
   "execution_count": 7,
   "metadata": {},
   "outputs": [
    {
     "data": {
      "text/html": [
       "<div>\n",
       "<style scoped>\n",
       "    .dataframe tbody tr th:only-of-type {\n",
       "        vertical-align: middle;\n",
       "    }\n",
       "\n",
       "    .dataframe tbody tr th {\n",
       "        vertical-align: top;\n",
       "    }\n",
       "\n",
       "    .dataframe thead th {\n",
       "        text-align: right;\n",
       "    }\n",
       "</style>\n",
       "<table border=\"1\" class=\"dataframe\">\n",
       "  <thead>\n",
       "    <tr style=\"text-align: right;\">\n",
       "      <th></th>\n",
       "      <th>Unnamed: 0</th>\n",
       "      <th>name</th>\n",
       "      <th>x</th>\n",
       "      <th>y</th>\n",
       "      <th>radius</th>\n",
       "      <th>acres_burned</th>\n",
       "      <th>status</th>\n",
       "    </tr>\n",
       "  </thead>\n",
       "  <tbody>\n",
       "    <tr>\n",
       "      <th>0</th>\n",
       "      <td>1270</td>\n",
       "      <td>Far Fire</td>\n",
       "      <td>-121.35014</td>\n",
       "      <td>39.06066</td>\n",
       "      <td>3.637586</td>\n",
       "      <td>38</td>\n",
       "      <td>contained</td>\n",
       "    </tr>\n",
       "  </tbody>\n",
       "</table>\n",
       "</div>"
      ],
      "text/plain": [
       "   Unnamed: 0      name          x         y    radius  acres_burned  \\\n",
       "0        1270  Far Fire -121.35014  39.06066  3.637586            38   \n",
       "\n",
       "      status  \n",
       "0  contained  "
      ]
     },
     "execution_count": 7,
     "metadata": {},
     "output_type": "execute_result"
    }
   ],
   "source": [
    "df_fire = pd.read_csv('./data/fire_data_clean_withacres.csv')\n",
    "df_fire.head(1)"
   ]
  },
  {
   "cell_type": "code",
   "execution_count": 8,
   "metadata": {},
   "outputs": [],
   "source": [
    "covid_keep = df_covid[['x', 'y', 'log_cases', 'confirmed_cases']]\n",
    "covid_keep = covid_keep.rename(columns = {'x':'longitude_covid', 'y':'latitude_covid', 'log_cases':'radius_covid', 'confirmed_cases': 'cases_covid'})"
   ]
  },
  {
   "cell_type": "code",
   "execution_count": 9,
   "metadata": {},
   "outputs": [
    {
     "name": "stdout",
     "output_type": "stream",
     "text": [
      "<class 'pandas.core.frame.DataFrame'>\n",
      "RangeIndex: 1205 entries, 0 to 1204\n",
      "Data columns (total 4 columns):\n",
      " #   Column           Non-Null Count  Dtype  \n",
      "---  ------           --------------  -----  \n",
      " 0   longitude_covid  1205 non-null   float64\n",
      " 1   latitude_covid   1205 non-null   float64\n",
      " 2   radius_covid     1205 non-null   float64\n",
      " 3   cases_covid      1205 non-null   int64  \n",
      "dtypes: float64(3), int64(1)\n",
      "memory usage: 37.8 KB\n"
     ]
    }
   ],
   "source": [
    "covid_keep.info()"
   ]
  },
  {
   "cell_type": "markdown",
   "metadata": {},
   "source": [
    "# Clean Fire"
   ]
  },
  {
   "cell_type": "code",
   "execution_count": 10,
   "metadata": {},
   "outputs": [
    {
     "data": {
      "text/html": [
       "<div>\n",
       "<style scoped>\n",
       "    .dataframe tbody tr th:only-of-type {\n",
       "        vertical-align: middle;\n",
       "    }\n",
       "\n",
       "    .dataframe tbody tr th {\n",
       "        vertical-align: top;\n",
       "    }\n",
       "\n",
       "    .dataframe thead th {\n",
       "        text-align: right;\n",
       "    }\n",
       "</style>\n",
       "<table border=\"1\" class=\"dataframe\">\n",
       "  <thead>\n",
       "    <tr style=\"text-align: right;\">\n",
       "      <th></th>\n",
       "      <th>x</th>\n",
       "      <th>y</th>\n",
       "      <th>acres_burned</th>\n",
       "      <th>status</th>\n",
       "    </tr>\n",
       "  </thead>\n",
       "  <tbody>\n",
       "    <tr>\n",
       "      <th>0</th>\n",
       "      <td>-121.35014</td>\n",
       "      <td>39.06066</td>\n",
       "      <td>38</td>\n",
       "      <td>contained</td>\n",
       "    </tr>\n",
       "  </tbody>\n",
       "</table>\n",
       "</div>"
      ],
      "text/plain": [
       "           x         y  acres_burned     status\n",
       "0 -121.35014  39.06066            38  contained"
      ]
     },
     "execution_count": 10,
     "metadata": {},
     "output_type": "execute_result"
    }
   ],
   "source": [
    "fire_keep = df_fire[['x', 'y', 'acres_burned', 'status']]\n",
    "fire_keep.head(1)"
   ]
  },
  {
   "cell_type": "code",
   "execution_count": 11,
   "metadata": {},
   "outputs": [],
   "source": [
    "acres = fire_keep['acres_burned'].tolist()"
   ]
  },
  {
   "cell_type": "code",
   "execution_count": 12,
   "metadata": {},
   "outputs": [],
   "source": [
    "sq_meters = [x * 4046 for x in acres]\n",
    "radius_meters = [np.sqrt(x / np.pi) for x in sq_meters]"
   ]
  },
  {
   "cell_type": "code",
   "execution_count": 13,
   "metadata": {},
   "outputs": [],
   "source": [
    "sq_feet = [x * 43560 for x in acres]"
   ]
  },
  {
   "cell_type": "code",
   "execution_count": 14,
   "metadata": {},
   "outputs": [],
   "source": [
    "radius_feet = [np.sqrt(x / np.pi) for x in sq_feet]"
   ]
  },
  {
   "cell_type": "code",
   "execution_count": 15,
   "metadata": {},
   "outputs": [],
   "source": [
    "# one degree of latitude = 364,000 feet\n",
    "# one degree of longitude = 288,200 feet\n",
    "\n",
    "# just take the average of these to get approximate radius\n",
    "avg_conversion = (364000 + 288200) / 2\n",
    "radius_degrees = [x / avg_conversion for x in radius_feet]"
   ]
  },
  {
   "cell_type": "code",
   "execution_count": 16,
   "metadata": {},
   "outputs": [
    {
     "data": {
      "text/plain": [
       "[0.002225922291280859, 0.005640441685356162, 0.0019777838568287467]"
      ]
     },
     "execution_count": 16,
     "metadata": {},
     "output_type": "execute_result"
    }
   ],
   "source": [
    "radius_degrees[:3]"
   ]
  },
  {
   "cell_type": "code",
   "execution_count": 17,
   "metadata": {},
   "outputs": [
    {
     "name": "stderr",
     "output_type": "stream",
     "text": [
      "<ipython-input-17-ab692a787747>:1: SettingWithCopyWarning: \n",
      "A value is trying to be set on a copy of a slice from a DataFrame.\n",
      "Try using .loc[row_indexer,col_indexer] = value instead\n",
      "\n",
      "See the caveats in the documentation: https://pandas.pydata.org/pandas-docs/stable/user_guide/indexing.html#returning-a-view-versus-a-copy\n",
      "  fire_keep['radius_meters'] = radius_meters\n"
     ]
    },
    {
     "data": {
      "text/html": [
       "<div>\n",
       "<style scoped>\n",
       "    .dataframe tbody tr th:only-of-type {\n",
       "        vertical-align: middle;\n",
       "    }\n",
       "\n",
       "    .dataframe tbody tr th {\n",
       "        vertical-align: top;\n",
       "    }\n",
       "\n",
       "    .dataframe thead th {\n",
       "        text-align: right;\n",
       "    }\n",
       "</style>\n",
       "<table border=\"1\" class=\"dataframe\">\n",
       "  <thead>\n",
       "    <tr style=\"text-align: right;\">\n",
       "      <th></th>\n",
       "      <th>x</th>\n",
       "      <th>y</th>\n",
       "      <th>acres_burned</th>\n",
       "      <th>status</th>\n",
       "      <th>radius_meters</th>\n",
       "    </tr>\n",
       "  </thead>\n",
       "  <tbody>\n",
       "    <tr>\n",
       "      <th>0</th>\n",
       "      <td>-121.35014</td>\n",
       "      <td>39.06066</td>\n",
       "      <td>38</td>\n",
       "      <td>contained</td>\n",
       "      <td>221.222757</td>\n",
       "    </tr>\n",
       "  </tbody>\n",
       "</table>\n",
       "</div>"
      ],
      "text/plain": [
       "           x         y  acres_burned     status  radius_meters\n",
       "0 -121.35014  39.06066            38  contained     221.222757"
      ]
     },
     "execution_count": 17,
     "metadata": {},
     "output_type": "execute_result"
    }
   ],
   "source": [
    "fire_keep['radius_meters'] = radius_meters\n",
    "fire_keep.head(1)"
   ]
  },
  {
   "cell_type": "code",
   "execution_count": 18,
   "metadata": {},
   "outputs": [
    {
     "name": "stderr",
     "output_type": "stream",
     "text": [
      "<ipython-input-18-6d18beb77f2f>:1: SettingWithCopyWarning: \n",
      "A value is trying to be set on a copy of a slice from a DataFrame.\n",
      "Try using .loc[row_indexer,col_indexer] = value instead\n",
      "\n",
      "See the caveats in the documentation: https://pandas.pydata.org/pandas-docs/stable/user_guide/indexing.html#returning-a-view-versus-a-copy\n",
      "  fire_keep['radius_acres'] = fire_keep.apply(lambda row: np.sqrt(row['acres_burned'] / np.pi), axis = 1)\n"
     ]
    },
    {
     "data": {
      "text/html": [
       "<div>\n",
       "<style scoped>\n",
       "    .dataframe tbody tr th:only-of-type {\n",
       "        vertical-align: middle;\n",
       "    }\n",
       "\n",
       "    .dataframe tbody tr th {\n",
       "        vertical-align: top;\n",
       "    }\n",
       "\n",
       "    .dataframe thead th {\n",
       "        text-align: right;\n",
       "    }\n",
       "</style>\n",
       "<table border=\"1\" class=\"dataframe\">\n",
       "  <thead>\n",
       "    <tr style=\"text-align: right;\">\n",
       "      <th></th>\n",
       "      <th>x</th>\n",
       "      <th>y</th>\n",
       "      <th>acres_burned</th>\n",
       "      <th>status</th>\n",
       "      <th>radius_meters</th>\n",
       "      <th>radius_acres</th>\n",
       "    </tr>\n",
       "  </thead>\n",
       "  <tbody>\n",
       "    <tr>\n",
       "      <th>0</th>\n",
       "      <td>-121.35014</td>\n",
       "      <td>39.06066</td>\n",
       "      <td>38</td>\n",
       "      <td>contained</td>\n",
       "      <td>221.222757</td>\n",
       "      <td>3.477898</td>\n",
       "    </tr>\n",
       "  </tbody>\n",
       "</table>\n",
       "</div>"
      ],
      "text/plain": [
       "           x         y  acres_burned     status  radius_meters  radius_acres\n",
       "0 -121.35014  39.06066            38  contained     221.222757      3.477898"
      ]
     },
     "execution_count": 18,
     "metadata": {},
     "output_type": "execute_result"
    }
   ],
   "source": [
    "fire_keep['radius_acres'] = fire_keep.apply(lambda row: np.sqrt(row['acres_burned'] / np.pi), axis = 1)\n",
    "fire_keep.head(1)"
   ]
  },
  {
   "cell_type": "code",
   "execution_count": 19,
   "metadata": {},
   "outputs": [
    {
     "data": {
      "text/html": [
       "<div>\n",
       "<style scoped>\n",
       "    .dataframe tbody tr th:only-of-type {\n",
       "        vertical-align: middle;\n",
       "    }\n",
       "\n",
       "    .dataframe tbody tr th {\n",
       "        vertical-align: top;\n",
       "    }\n",
       "\n",
       "    .dataframe thead th {\n",
       "        text-align: right;\n",
       "    }\n",
       "</style>\n",
       "<table border=\"1\" class=\"dataframe\">\n",
       "  <thead>\n",
       "    <tr style=\"text-align: right;\">\n",
       "      <th></th>\n",
       "      <th>x</th>\n",
       "      <th>y</th>\n",
       "      <th>acres_burned</th>\n",
       "      <th>status</th>\n",
       "      <th>radius_meters</th>\n",
       "      <th>radius_acres</th>\n",
       "      <th>radius_degrees</th>\n",
       "    </tr>\n",
       "  </thead>\n",
       "  <tbody>\n",
       "    <tr>\n",
       "      <th>0</th>\n",
       "      <td>-121.35014</td>\n",
       "      <td>39.06066</td>\n",
       "      <td>38</td>\n",
       "      <td>contained</td>\n",
       "      <td>221.222757</td>\n",
       "      <td>3.477898</td>\n",
       "      <td>0.002226</td>\n",
       "    </tr>\n",
       "  </tbody>\n",
       "</table>\n",
       "</div>"
      ],
      "text/plain": [
       "           x         y  acres_burned     status  radius_meters  radius_acres  \\\n",
       "0 -121.35014  39.06066            38  contained     221.222757      3.477898   \n",
       "\n",
       "   radius_degrees  \n",
       "0        0.002226  "
      ]
     },
     "execution_count": 19,
     "metadata": {},
     "output_type": "execute_result"
    }
   ],
   "source": [
    "fire_keep['radius_degrees'] = radius_degrees\n",
    "fire_keep.head(1)"
   ]
  },
  {
   "cell_type": "code",
   "execution_count": 20,
   "metadata": {},
   "outputs": [],
   "source": [
    "fire_keep = fire_keep[['x', 'y', 'status', 'radius_acres', 'radius_degrees', 'radius_meters']]"
   ]
  },
  {
   "cell_type": "code",
   "execution_count": null,
   "metadata": {},
   "outputs": [],
   "source": []
  },
  {
   "cell_type": "code",
   "execution_count": null,
   "metadata": {},
   "outputs": [],
   "source": []
  },
  {
   "cell_type": "code",
   "execution_count": 21,
   "metadata": {},
   "outputs": [
    {
     "data": {
      "text/html": [
       "<div>\n",
       "<style scoped>\n",
       "    .dataframe tbody tr th:only-of-type {\n",
       "        vertical-align: middle;\n",
       "    }\n",
       "\n",
       "    .dataframe tbody tr th {\n",
       "        vertical-align: top;\n",
       "    }\n",
       "\n",
       "    .dataframe thead th {\n",
       "        text-align: right;\n",
       "    }\n",
       "</style>\n",
       "<table border=\"1\" class=\"dataframe\">\n",
       "  <thead>\n",
       "    <tr style=\"text-align: right;\">\n",
       "      <th></th>\n",
       "      <th>longitude_fire</th>\n",
       "      <th>latitude_fire</th>\n",
       "      <th>status_fire</th>\n",
       "      <th>radius_acres_fire</th>\n",
       "      <th>radius_degrees_fire</th>\n",
       "      <th>radius_meters_fire</th>\n",
       "    </tr>\n",
       "  </thead>\n",
       "  <tbody>\n",
       "    <tr>\n",
       "      <th>0</th>\n",
       "      <td>-121.35014</td>\n",
       "      <td>39.06066</td>\n",
       "      <td>contained</td>\n",
       "      <td>3.477898</td>\n",
       "      <td>0.002226</td>\n",
       "      <td>221.222757</td>\n",
       "    </tr>\n",
       "  </tbody>\n",
       "</table>\n",
       "</div>"
      ],
      "text/plain": [
       "   longitude_fire  latitude_fire status_fire  radius_acres_fire  \\\n",
       "0      -121.35014       39.06066   contained           3.477898   \n",
       "\n",
       "   radius_degrees_fire  radius_meters_fire  \n",
       "0             0.002226          221.222757  "
      ]
     },
     "execution_count": 21,
     "metadata": {},
     "output_type": "execute_result"
    }
   ],
   "source": [
    "fire_keep = fire_keep.rename(columns = {'x':'longitude_fire', 'y':'latitude_fire', 'radius_acres':'radius_acres_fire', 'status': 'status_fire', 'radius_degrees': 'radius_degrees_fire', 'radius_meters': 'radius_meters_fire'})\n",
    "fire_keep.head(1)"
   ]
  },
  {
   "cell_type": "markdown",
   "metadata": {},
   "source": [
    "# Clean Gas"
   ]
  },
  {
   "cell_type": "code",
   "execution_count": 22,
   "metadata": {},
   "outputs": [
    {
     "data": {
      "text/plain": [
       "array([3, 2, 0, 1])"
      ]
     },
     "execution_count": 22,
     "metadata": {},
     "output_type": "execute_result"
    }
   ],
   "source": [
    "gas_df = pd.read_csv('./data/from_shiff')\n",
    "gas_df.head(1)\n",
    "gas_df['0'].unique()"
   ]
  },
  {
   "cell_type": "code",
   "execution_count": 23,
   "metadata": {},
   "outputs": [
    {
     "data": {
      "text/html": [
       "<div>\n",
       "<style scoped>\n",
       "    .dataframe tbody tr th:only-of-type {\n",
       "        vertical-align: middle;\n",
       "    }\n",
       "\n",
       "    .dataframe tbody tr th {\n",
       "        vertical-align: top;\n",
       "    }\n",
       "\n",
       "    .dataframe thead th {\n",
       "        text-align: right;\n",
       "    }\n",
       "</style>\n",
       "<table border=\"1\" class=\"dataframe\">\n",
       "  <thead>\n",
       "    <tr style=\"text-align: right;\">\n",
       "      <th></th>\n",
       "      <th>name</th>\n",
       "      <th>x</th>\n",
       "      <th>y</th>\n",
       "      <th>0</th>\n",
       "    </tr>\n",
       "  </thead>\n",
       "  <tbody>\n",
       "    <tr>\n",
       "      <th>0</th>\n",
       "      <td>Circle K &amp; Minimart</td>\n",
       "      <td>-117.190777</td>\n",
       "      <td>34.057365</td>\n",
       "      <td>3</td>\n",
       "    </tr>\n",
       "    <tr>\n",
       "      <th>1</th>\n",
       "      <td>Unknown Name</td>\n",
       "      <td>-117.225609</td>\n",
       "      <td>34.048575</td>\n",
       "      <td>3</td>\n",
       "    </tr>\n",
       "    <tr>\n",
       "      <th>2</th>\n",
       "      <td>Unknown Name</td>\n",
       "      <td>-117.156299</td>\n",
       "      <td>34.041388</td>\n",
       "      <td>3</td>\n",
       "    </tr>\n",
       "    <tr>\n",
       "      <th>3</th>\n",
       "      <td>Arco</td>\n",
       "      <td>-122.420268</td>\n",
       "      <td>37.768468</td>\n",
       "      <td>2</td>\n",
       "    </tr>\n",
       "    <tr>\n",
       "      <th>4</th>\n",
       "      <td>Valley Oil</td>\n",
       "      <td>-122.070127</td>\n",
       "      <td>37.381165</td>\n",
       "      <td>3</td>\n",
       "    </tr>\n",
       "  </tbody>\n",
       "</table>\n",
       "</div>"
      ],
      "text/plain": [
       "                  name           x          y  0\n",
       "0  Circle K & Minimart -117.190777  34.057365  3\n",
       "1         Unknown Name -117.225609  34.048575  3\n",
       "2         Unknown Name -117.156299  34.041388  3\n",
       "3                 Arco -122.420268  37.768468  2\n",
       "4           Valley Oil -122.070127  37.381165  3"
      ]
     },
     "execution_count": 23,
     "metadata": {},
     "output_type": "execute_result"
    }
   ],
   "source": [
    "gas_keep = gas_df[['name', 'x', 'y', '0']]\n",
    "gas_keep.head()"
   ]
  },
  {
   "cell_type": "code",
   "execution_count": 24,
   "metadata": {},
   "outputs": [
    {
     "name": "stderr",
     "output_type": "stream",
     "text": [
      "<ipython-input-24-6af1cc09e1a9>:1: SettingWithCopyWarning: \n",
      "A value is trying to be set on a copy of a slice from a DataFrame.\n",
      "Try using .loc[row_indexer,col_indexer] = value instead\n",
      "\n",
      "See the caveats in the documentation: https://pandas.pydata.org/pandas-docs/stable/user_guide/indexing.html#returning-a-view-versus-a-copy\n",
      "  gas_keep['risk_level_gas'] = gas_keep['0'].map({0: 'Low Risk', 1: 'Medium Risk', 2: 'High Risk', 3: 'Very High Risk'})\n"
     ]
    },
    {
     "data": {
      "text/html": [
       "<div>\n",
       "<style scoped>\n",
       "    .dataframe tbody tr th:only-of-type {\n",
       "        vertical-align: middle;\n",
       "    }\n",
       "\n",
       "    .dataframe tbody tr th {\n",
       "        vertical-align: top;\n",
       "    }\n",
       "\n",
       "    .dataframe thead th {\n",
       "        text-align: right;\n",
       "    }\n",
       "</style>\n",
       "<table border=\"1\" class=\"dataframe\">\n",
       "  <thead>\n",
       "    <tr style=\"text-align: right;\">\n",
       "      <th></th>\n",
       "      <th>name</th>\n",
       "      <th>x</th>\n",
       "      <th>y</th>\n",
       "      <th>0</th>\n",
       "      <th>risk_level_gas</th>\n",
       "    </tr>\n",
       "  </thead>\n",
       "  <tbody>\n",
       "    <tr>\n",
       "      <th>0</th>\n",
       "      <td>Circle K &amp; Minimart</td>\n",
       "      <td>-117.190777</td>\n",
       "      <td>34.057365</td>\n",
       "      <td>3</td>\n",
       "      <td>Very High Risk</td>\n",
       "    </tr>\n",
       "  </tbody>\n",
       "</table>\n",
       "</div>"
      ],
      "text/plain": [
       "                  name           x          y  0  risk_level_gas\n",
       "0  Circle K & Minimart -117.190777  34.057365  3  Very High Risk"
      ]
     },
     "execution_count": 24,
     "metadata": {},
     "output_type": "execute_result"
    }
   ],
   "source": [
    "gas_keep['risk_level_gas'] = gas_keep['0'].map({0: 'Low Risk', 1: 'Medium Risk', 2: 'High Risk', 3: 'Very High Risk'})\n",
    "gas_keep.head(1)"
   ]
  },
  {
   "cell_type": "code",
   "execution_count": 25,
   "metadata": {},
   "outputs": [
    {
     "data": {
      "text/html": [
       "<div>\n",
       "<style scoped>\n",
       "    .dataframe tbody tr th:only-of-type {\n",
       "        vertical-align: middle;\n",
       "    }\n",
       "\n",
       "    .dataframe tbody tr th {\n",
       "        vertical-align: top;\n",
       "    }\n",
       "\n",
       "    .dataframe thead th {\n",
       "        text-align: right;\n",
       "    }\n",
       "</style>\n",
       "<table border=\"1\" class=\"dataframe\">\n",
       "  <thead>\n",
       "    <tr style=\"text-align: right;\">\n",
       "      <th></th>\n",
       "      <th>name</th>\n",
       "      <th>x</th>\n",
       "      <th>y</th>\n",
       "      <th>risk_level_gas</th>\n",
       "    </tr>\n",
       "  </thead>\n",
       "  <tbody>\n",
       "    <tr>\n",
       "      <th>0</th>\n",
       "      <td>Circle K &amp; Minimart</td>\n",
       "      <td>-117.190777</td>\n",
       "      <td>34.057365</td>\n",
       "      <td>Very High Risk</td>\n",
       "    </tr>\n",
       "  </tbody>\n",
       "</table>\n",
       "</div>"
      ],
      "text/plain": [
       "                  name           x          y  risk_level_gas\n",
       "0  Circle K & Minimart -117.190777  34.057365  Very High Risk"
      ]
     },
     "execution_count": 25,
     "metadata": {},
     "output_type": "execute_result"
    }
   ],
   "source": [
    "gas_keep = gas_keep[['name', 'x', 'y', 'risk_level_gas']]\n",
    "gas_keep.head(1)"
   ]
  },
  {
   "cell_type": "code",
   "execution_count": 26,
   "metadata": {},
   "outputs": [],
   "source": [
    "gas_keep = gas_keep.rename(columns = {'name': 'gas_name', 'x':'longitude_gas', 'y':'latitude_gas', 'risk_level_gas': 'risk_level_gas'})"
   ]
  },
  {
   "cell_type": "code",
   "execution_count": 27,
   "metadata": {},
   "outputs": [
    {
     "data": {
      "text/html": [
       "<div>\n",
       "<style scoped>\n",
       "    .dataframe tbody tr th:only-of-type {\n",
       "        vertical-align: middle;\n",
       "    }\n",
       "\n",
       "    .dataframe tbody tr th {\n",
       "        vertical-align: top;\n",
       "    }\n",
       "\n",
       "    .dataframe thead th {\n",
       "        text-align: right;\n",
       "    }\n",
       "</style>\n",
       "<table border=\"1\" class=\"dataframe\">\n",
       "  <thead>\n",
       "    <tr style=\"text-align: right;\">\n",
       "      <th></th>\n",
       "      <th>gas_name</th>\n",
       "      <th>longitude_gas</th>\n",
       "      <th>latitude_gas</th>\n",
       "      <th>risk_level_gas</th>\n",
       "    </tr>\n",
       "  </thead>\n",
       "  <tbody>\n",
       "    <tr>\n",
       "      <th>0</th>\n",
       "      <td>Circle K &amp; Minimart</td>\n",
       "      <td>-117.190777</td>\n",
       "      <td>34.057365</td>\n",
       "      <td>Very High Risk</td>\n",
       "    </tr>\n",
       "  </tbody>\n",
       "</table>\n",
       "</div>"
      ],
      "text/plain": [
       "              gas_name  longitude_gas  latitude_gas  risk_level_gas\n",
       "0  Circle K & Minimart    -117.190777     34.057365  Very High Risk"
      ]
     },
     "execution_count": 27,
     "metadata": {},
     "output_type": "execute_result"
    }
   ],
   "source": [
    "gas_keep.head(1)"
   ]
  },
  {
   "cell_type": "code",
   "execution_count": 28,
   "metadata": {},
   "outputs": [
    {
     "data": {
      "text/plain": [
       "<matplotlib.collections.PathCollection at 0x7f9bb6b9d850>"
      ]
     },
     "execution_count": 28,
     "metadata": {},
     "output_type": "execute_result"
    },
    {
     "data": {
      "image/png": "[encoded data removed]",
      "text/plain": [
       "<Figure size 432x288 with 1 Axes>"
      ]
     },
     "metadata": {
      "needs_background": "light"
     },
     "output_type": "display_data"
    }
   ],
   "source": [
    "plt.scatter(x = gas_keep['longitude_gas'], y = gas_keep['latitude_gas'])"
   ]
  },
  {
   "cell_type": "code",
   "execution_count": 29,
   "metadata": {},
   "outputs": [],
   "source": [
    "# remove outlier\n",
    "gas_keep = gas_keep.loc[gas_keep['longitude_gas'] != gas_keep['longitude_gas'].max()]"
   ]
  },
  {
   "cell_type": "code",
   "execution_count": 30,
   "metadata": {},
   "outputs": [
    {
     "data": {
      "text/plain": [
       "<matplotlib.collections.PathCollection at 0x7f9bb7e32b50>"
      ]
     },
     "execution_count": 30,
     "metadata": {},
     "output_type": "execute_result"
    },
    {
     "data": {
      "image/png": "[encoded data removed]",
      "text/plain": [
       "<Figure size 432x288 with 1 Axes>"
      ]
     },
     "metadata": {
      "needs_background": "light"
     },
     "output_type": "display_data"
    }
   ],
   "source": [
    "plt.scatter(x = gas_keep['longitude_gas'], y = gas_keep['latitude_gas'])"
   ]
  },
  {
   "cell_type": "markdown",
   "metadata": {},
   "source": [
    "# put them together"
   ]
  },
  {
   "cell_type": "code",
   "execution_count": 31,
   "metadata": {},
   "outputs": [
    {
     "name": "stdout",
     "output_type": "stream",
     "text": [
      "<class 'pandas.core.frame.DataFrame'>\n",
      "RangeIndex: 1205 entries, 0 to 1204\n",
      "Data columns (total 4 columns):\n",
      " #   Column           Non-Null Count  Dtype  \n",
      "---  ------           --------------  -----  \n",
      " 0   longitude_covid  1205 non-null   float64\n",
      " 1   latitude_covid   1205 non-null   float64\n",
      " 2   radius_covid     1205 non-null   float64\n",
      " 3   cases_covid      1205 non-null   int64  \n",
      "dtypes: float64(3), int64(1)\n",
      "memory usage: 37.8 KB\n",
      "<class 'pandas.core.frame.DataFrame'>\n",
      "RangeIndex: 93 entries, 0 to 92\n",
      "Data columns (total 6 columns):\n",
      " #   Column               Non-Null Count  Dtype  \n",
      "---  ------               --------------  -----  \n",
      " 0   longitude_fire       93 non-null     float64\n",
      " 1   latitude_fire        93 non-null     float64\n",
      " 2   status_fire          93 non-null     object \n",
      " 3   radius_acres_fire    93 non-null     float64\n",
      " 4   radius_degrees_fire  93 non-null     float64\n",
      " 5   radius_meters_fire   93 non-null     float64\n",
      "dtypes: float64(5), object(1)\n",
      "memory usage: 4.5+ KB\n"
     ]
    }
   ],
   "source": [
    "covid_keep.info()\n",
    "fire_keep.info()"
   ]
  },
  {
   "cell_type": "code",
   "execution_count": 32,
   "metadata": {},
   "outputs": [
    {
     "data": {
      "text/plain": [
       "2926"
      ]
     },
     "execution_count": 32,
     "metadata": {},
     "output_type": "execute_result"
    }
   ],
   "source": [
    "covid_len = len(covid_keep.index)\n",
    "fire_len = len(fire_keep.index)\n",
    "gas_len = len(gas_keep.index)\n",
    "gas_len"
   ]
  },
  {
   "cell_type": "code",
   "execution_count": 33,
   "metadata": {},
   "outputs": [],
   "source": [
    "covid_diff = gas_len - covid_len\n",
    "fire_diff = gas_len - fire_len\n",
    "\n",
    "covid_nan_list = [np.nan]*covid_diff\n",
    "fire_nan_list = [np.nan]*fire_diff"
   ]
  },
  {
   "cell_type": "code",
   "execution_count": 34,
   "metadata": {},
   "outputs": [
    {
     "data": {
      "text/plain": [
       "2833"
      ]
     },
     "execution_count": 34,
     "metadata": {},
     "output_type": "execute_result"
    }
   ],
   "source": [
    "len(fire_nan_list)"
   ]
  },
  {
   "cell_type": "code",
   "execution_count": 35,
   "metadata": {},
   "outputs": [
    {
     "data": {
      "text/html": [
       "<div>\n",
       "<style scoped>\n",
       "    .dataframe tbody tr th:only-of-type {\n",
       "        vertical-align: middle;\n",
       "    }\n",
       "\n",
       "    .dataframe tbody tr th {\n",
       "        vertical-align: top;\n",
       "    }\n",
       "\n",
       "    .dataframe thead th {\n",
       "        text-align: right;\n",
       "    }\n",
       "</style>\n",
       "<table border=\"1\" class=\"dataframe\">\n",
       "  <thead>\n",
       "    <tr style=\"text-align: right;\">\n",
       "      <th></th>\n",
       "      <th>longitude_fire</th>\n",
       "      <th>latitude_fire</th>\n",
       "      <th>status_fire</th>\n",
       "      <th>radius_acres_fire</th>\n",
       "      <th>radius_degrees_fire</th>\n",
       "      <th>radius_meters_fire</th>\n",
       "    </tr>\n",
       "  </thead>\n",
       "  <tbody>\n",
       "    <tr>\n",
       "      <th>0</th>\n",
       "      <td>-121.35014</td>\n",
       "      <td>39.06066</td>\n",
       "      <td>contained</td>\n",
       "      <td>3.477898</td>\n",
       "      <td>0.002226</td>\n",
       "      <td>221.222757</td>\n",
       "    </tr>\n",
       "  </tbody>\n",
       "</table>\n",
       "</div>"
      ],
      "text/plain": [
       "   longitude_fire  latitude_fire status_fire  radius_acres_fire  \\\n",
       "0      -121.35014       39.06066   contained           3.477898   \n",
       "\n",
       "   radius_degrees_fire  radius_meters_fire  \n",
       "0             0.002226          221.222757  "
      ]
     },
     "execution_count": 35,
     "metadata": {},
     "output_type": "execute_result"
    }
   ],
   "source": [
    "fire_keep.head(1)"
   ]
  },
  {
   "cell_type": "code",
   "execution_count": 36,
   "metadata": {},
   "outputs": [
    {
     "data": {
      "text/plain": [
       "2926"
      ]
     },
     "execution_count": 36,
     "metadata": {},
     "output_type": "execute_result"
    }
   ],
   "source": [
    "fire_df_list1 = fire_keep['longitude_fire'].tolist()\n",
    "fire_df_col1 = fire_df_list1 + fire_nan_list\n",
    "\n",
    "fire_df_list2 = fire_keep['latitude_fire'].tolist()\n",
    "fire_df_col2 = fire_df_list2 + fire_nan_list\n",
    "\n",
    "fire_df_list3 = fire_keep['radius_acres_fire'].tolist()\n",
    "fire_df_col3 = fire_df_list3 + fire_nan_list\n",
    "\n",
    "fire_df_list4 = fire_keep['radius_degrees_fire'].tolist()\n",
    "fire_df_col4 = fire_df_list4 + fire_nan_list\n",
    "\n",
    "fire_df_list5 = fire_keep['radius_meters_fire'].tolist()\n",
    "fire_df_col5 = fire_df_list5 + fire_nan_list\n",
    "\n",
    "fire_df_list6 = fire_keep['status_fire'].tolist()\n",
    "fire_df_col6 = fire_df_list6 + fire_nan_list\n",
    "\n",
    "len(fire_df_col4)"
   ]
  },
  {
   "cell_type": "code",
   "execution_count": 37,
   "metadata": {},
   "outputs": [
    {
     "name": "stdout",
     "output_type": "stream",
     "text": [
      "<class 'pandas.core.frame.DataFrame'>\n",
      "RangeIndex: 2926 entries, 0 to 2925\n",
      "Data columns (total 6 columns):\n",
      " #   Column               Non-Null Count  Dtype  \n",
      "---  ------               --------------  -----  \n",
      " 0   longitude_fire       93 non-null     float64\n",
      " 1   latitude_fire        93 non-null     float64\n",
      " 2   radius_acres_fire    93 non-null     float64\n",
      " 3   radius_degrees_fire  93 non-null     float64\n",
      " 4   radius_meters_fire   93 non-null     float64\n",
      " 5   status_fire          93 non-null     object \n",
      "dtypes: float64(5), object(1)\n",
      "memory usage: 137.3+ KB\n"
     ]
    }
   ],
   "source": [
    "fire_df_real_dict = {'longitude_fire':fire_df_col1,'latitude_fire':fire_df_col2, 'radius_acres_fire': fire_df_col3, 'radius_degrees_fire': fire_df_col4,'radius_meters_fire': fire_df_col5, 'status_fire':fire_df_col6}\n",
    "fire_df_real = pd.DataFrame(fire_df_real_dict)\n",
    "fire_df_real.info()"
   ]
  },
  {
   "cell_type": "code",
   "execution_count": 38,
   "metadata": {},
   "outputs": [
    {
     "data": {
      "text/plain": [
       "2926"
      ]
     },
     "execution_count": 38,
     "metadata": {},
     "output_type": "execute_result"
    }
   ],
   "source": [
    "covid_df_list1 = covid_keep['longitude_covid'].tolist()\n",
    "covid_df_col1 = covid_df_list1 + covid_nan_list\n",
    "\n",
    "covid_df_list2 = covid_keep['latitude_covid'].tolist()\n",
    "covid_df_col2 = covid_df_list2 + covid_nan_list\n",
    "\n",
    "covid_df_list3 = covid_keep['radius_covid'].tolist()\n",
    "covid_df_col3 = covid_df_list3 + covid_nan_list\n",
    "\n",
    "covid_df_list4 = covid_keep['cases_covid'].tolist()\n",
    "covid_df_col4 = covid_df_list4 + covid_nan_list\n",
    "\n",
    "len(covid_df_col3)"
   ]
  },
  {
   "cell_type": "code",
   "execution_count": 39,
   "metadata": {},
   "outputs": [
    {
     "data": {
      "text/html": [
       "<div>\n",
       "<style scoped>\n",
       "    .dataframe tbody tr th:only-of-type {\n",
       "        vertical-align: middle;\n",
       "    }\n",
       "\n",
       "    .dataframe tbody tr th {\n",
       "        vertical-align: top;\n",
       "    }\n",
       "\n",
       "    .dataframe thead th {\n",
       "        text-align: right;\n",
       "    }\n",
       "</style>\n",
       "<table border=\"1\" class=\"dataframe\">\n",
       "  <thead>\n",
       "    <tr style=\"text-align: right;\">\n",
       "      <th></th>\n",
       "      <th>longitude_covid</th>\n",
       "      <th>latitude_covid</th>\n",
       "      <th>radius_covid</th>\n",
       "      <th>cases_covid</th>\n",
       "    </tr>\n",
       "  </thead>\n",
       "  <tbody>\n",
       "    <tr>\n",
       "      <th>0</th>\n",
       "      <td>-122.973889</td>\n",
       "      <td>38.345278</td>\n",
       "      <td>0.0</td>\n",
       "      <td>1.0</td>\n",
       "    </tr>\n",
       "    <tr>\n",
       "      <th>1</th>\n",
       "      <td>-120.885787</td>\n",
       "      <td>40.081003</td>\n",
       "      <td>0.0</td>\n",
       "      <td>1.0</td>\n",
       "    </tr>\n",
       "    <tr>\n",
       "      <th>2</th>\n",
       "      <td>-121.940086</td>\n",
       "      <td>39.809273</td>\n",
       "      <td>0.0</td>\n",
       "      <td>1.0</td>\n",
       "    </tr>\n",
       "    <tr>\n",
       "      <th>3</th>\n",
       "      <td>-116.231396</td>\n",
       "      <td>33.831128</td>\n",
       "      <td>0.0</td>\n",
       "      <td>1.0</td>\n",
       "    </tr>\n",
       "    <tr>\n",
       "      <th>4</th>\n",
       "      <td>-122.857675</td>\n",
       "      <td>38.101176</td>\n",
       "      <td>0.0</td>\n",
       "      <td>1.0</td>\n",
       "    </tr>\n",
       "  </tbody>\n",
       "</table>\n",
       "</div>"
      ],
      "text/plain": [
       "   longitude_covid  latitude_covid  radius_covid  cases_covid\n",
       "0      -122.973889       38.345278           0.0          1.0\n",
       "1      -120.885787       40.081003           0.0          1.0\n",
       "2      -121.940086       39.809273           0.0          1.0\n",
       "3      -116.231396       33.831128           0.0          1.0\n",
       "4      -122.857675       38.101176           0.0          1.0"
      ]
     },
     "execution_count": 39,
     "metadata": {},
     "output_type": "execute_result"
    }
   ],
   "source": [
    "covid_df_real_dict = {'longitude_covid':covid_df_col1,'latitude_covid':covid_df_col2, 'radius_covid': covid_df_col3, 'cases_covid': covid_df_col4}\n",
    "covid_df_real = pd.DataFrame(covid_df_real_dict)\n",
    "covid_df_real.head()"
   ]
  },
  {
   "cell_type": "code",
   "execution_count": 40,
   "metadata": {},
   "outputs": [
    {
     "name": "stdout",
     "output_type": "stream",
     "text": [
      "<class 'pandas.core.frame.DataFrame'>\n",
      "Int64Index: 2926 entries, 0 to 2926\n",
      "Data columns (total 4 columns):\n",
      " #   Column          Non-Null Count  Dtype  \n",
      "---  ------          --------------  -----  \n",
      " 0   gas_name        2926 non-null   object \n",
      " 1   longitude_gas   2926 non-null   float64\n",
      " 2   latitude_gas    2926 non-null   float64\n",
      " 3   risk_level_gas  2926 non-null   object \n",
      "dtypes: float64(2), object(2)\n",
      "memory usage: 114.3+ KB\n"
     ]
    }
   ],
   "source": [
    "gas_keep.info()"
   ]
  },
  {
   "cell_type": "code",
   "execution_count": 41,
   "metadata": {},
   "outputs": [
    {
     "name": "stdout",
     "output_type": "stream",
     "text": [
      "<class 'pandas.core.frame.DataFrame'>\n",
      "Int64Index: 2926 entries, 0 to 2926\n",
      "Data columns (total 4 columns):\n",
      " #   Column          Non-Null Count  Dtype  \n",
      "---  ------          --------------  -----  \n",
      " 0   gas_name        2926 non-null   object \n",
      " 1   longitude_gas   2926 non-null   float64\n",
      " 2   latitude_gas    2926 non-null   float64\n",
      " 3   risk_level_gas  2926 non-null   object \n",
      "dtypes: float64(2), object(2)\n",
      "memory usage: 114.3+ KB\n"
     ]
    }
   ],
   "source": [
    "gas_df_real = gas_keep\n",
    "gas_df_real.info()"
   ]
  },
  {
   "cell_type": "code",
   "execution_count": 42,
   "metadata": {},
   "outputs": [
    {
     "data": {
      "text/plain": [
       "2922    Very High Risk\n",
       "2923    Very High Risk\n",
       "2924    Very High Risk\n",
       "2925    Very High Risk\n",
       "2926          Low Risk\n",
       "Name: risk_level_gas, dtype: object"
      ]
     },
     "execution_count": 42,
     "metadata": {},
     "output_type": "execute_result"
    }
   ],
   "source": [
    "gas_df_real['risk_level_gas'].tail()"
   ]
  },
  {
   "cell_type": "markdown",
   "metadata": {},
   "source": [
    "# Merge everything together"
   ]
  },
  {
   "cell_type": "code",
   "execution_count": 43,
   "metadata": {},
   "outputs": [
    {
     "data": {
      "text/html": [
       "<div>\n",
       "<style scoped>\n",
       "    .dataframe tbody tr th:only-of-type {\n",
       "        vertical-align: middle;\n",
       "    }\n",
       "\n",
       "    .dataframe tbody tr th {\n",
       "        vertical-align: top;\n",
       "    }\n",
       "\n",
       "    .dataframe thead th {\n",
       "        text-align: right;\n",
       "    }\n",
       "</style>\n",
       "<table border=\"1\" class=\"dataframe\">\n",
       "  <thead>\n",
       "    <tr style=\"text-align: right;\">\n",
       "      <th></th>\n",
       "      <th>longitude_fire</th>\n",
       "      <th>latitude_fire</th>\n",
       "      <th>radius_acres_fire</th>\n",
       "      <th>radius_degrees_fire</th>\n",
       "      <th>radius_meters_fire</th>\n",
       "      <th>status_fire</th>\n",
       "    </tr>\n",
       "  </thead>\n",
       "  <tbody>\n",
       "    <tr>\n",
       "      <th>0</th>\n",
       "      <td>-121.350140</td>\n",
       "      <td>39.060660</td>\n",
       "      <td>3.477898</td>\n",
       "      <td>0.002226</td>\n",
       "      <td>221.222757</td>\n",
       "      <td>contained</td>\n",
       "    </tr>\n",
       "    <tr>\n",
       "      <th>1</th>\n",
       "      <td>-120.296551</td>\n",
       "      <td>37.524378</td>\n",
       "      <td>8.812923</td>\n",
       "      <td>0.005640</td>\n",
       "      <td>560.573955</td>\n",
       "      <td>contained</td>\n",
       "    </tr>\n",
       "    <tr>\n",
       "      <th>2</th>\n",
       "      <td>-122.435492</td>\n",
       "      <td>40.463936</td>\n",
       "      <td>3.090194</td>\n",
       "      <td>0.001978</td>\n",
       "      <td>196.561578</td>\n",
       "      <td>contained</td>\n",
       "    </tr>\n",
       "    <tr>\n",
       "      <th>3</th>\n",
       "      <td>-121.468074</td>\n",
       "      <td>37.962557</td>\n",
       "      <td>5.352372</td>\n",
       "      <td>0.003426</td>\n",
       "      <td>340.454640</td>\n",
       "      <td>contained</td>\n",
       "    </tr>\n",
       "    <tr>\n",
       "      <th>4</th>\n",
       "      <td>-120.027731</td>\n",
       "      <td>37.241427</td>\n",
       "      <td>6.886812</td>\n",
       "      <td>0.004408</td>\n",
       "      <td>438.057517</td>\n",
       "      <td>contained</td>\n",
       "    </tr>\n",
       "  </tbody>\n",
       "</table>\n",
       "</div>"
      ],
      "text/plain": [
       "   longitude_fire  latitude_fire  radius_acres_fire  radius_degrees_fire  \\\n",
       "0     -121.350140      39.060660           3.477898             0.002226   \n",
       "1     -120.296551      37.524378           8.812923             0.005640   \n",
       "2     -122.435492      40.463936           3.090194             0.001978   \n",
       "3     -121.468074      37.962557           5.352372             0.003426   \n",
       "4     -120.027731      37.241427           6.886812             0.004408   \n",
       "\n",
       "   radius_meters_fire status_fire  \n",
       "0          221.222757   contained  \n",
       "1          560.573955   contained  \n",
       "2          196.561578   contained  \n",
       "3          340.454640   contained  \n",
       "4          438.057517   contained  "
      ]
     },
     "execution_count": 43,
     "metadata": {},
     "output_type": "execute_result"
    }
   ],
   "source": [
    "fire_df_real.head()"
   ]
  },
  {
   "cell_type": "code",
   "execution_count": 44,
   "metadata": {},
   "outputs": [
    {
     "data": {
      "text/html": [
       "<div>\n",
       "<style scoped>\n",
       "    .dataframe tbody tr th:only-of-type {\n",
       "        vertical-align: middle;\n",
       "    }\n",
       "\n",
       "    .dataframe tbody tr th {\n",
       "        vertical-align: top;\n",
       "    }\n",
       "\n",
       "    .dataframe thead th {\n",
       "        text-align: right;\n",
       "    }\n",
       "</style>\n",
       "<table border=\"1\" class=\"dataframe\">\n",
       "  <thead>\n",
       "    <tr style=\"text-align: right;\">\n",
       "      <th></th>\n",
       "      <th>longitude_covid</th>\n",
       "      <th>latitude_covid</th>\n",
       "      <th>radius_covid</th>\n",
       "      <th>cases_covid</th>\n",
       "      <th>longitude_fire</th>\n",
       "      <th>latitude_fire</th>\n",
       "      <th>radius_acres_fire</th>\n",
       "      <th>radius_degrees_fire</th>\n",
       "      <th>radius_meters_fire</th>\n",
       "      <th>status_fire</th>\n",
       "    </tr>\n",
       "  </thead>\n",
       "  <tbody>\n",
       "    <tr>\n",
       "      <th>0</th>\n",
       "      <td>-122.973889</td>\n",
       "      <td>38.345278</td>\n",
       "      <td>0.0</td>\n",
       "      <td>1.0</td>\n",
       "      <td>-121.350140</td>\n",
       "      <td>39.060660</td>\n",
       "      <td>3.477898</td>\n",
       "      <td>0.002226</td>\n",
       "      <td>221.222757</td>\n",
       "      <td>contained</td>\n",
       "    </tr>\n",
       "    <tr>\n",
       "      <th>1</th>\n",
       "      <td>-120.885787</td>\n",
       "      <td>40.081003</td>\n",
       "      <td>0.0</td>\n",
       "      <td>1.0</td>\n",
       "      <td>-120.296551</td>\n",
       "      <td>37.524378</td>\n",
       "      <td>8.812923</td>\n",
       "      <td>0.005640</td>\n",
       "      <td>560.573955</td>\n",
       "      <td>contained</td>\n",
       "    </tr>\n",
       "    <tr>\n",
       "      <th>2</th>\n",
       "      <td>-121.940086</td>\n",
       "      <td>39.809273</td>\n",
       "      <td>0.0</td>\n",
       "      <td>1.0</td>\n",
       "      <td>-122.435492</td>\n",
       "      <td>40.463936</td>\n",
       "      <td>3.090194</td>\n",
       "      <td>0.001978</td>\n",
       "      <td>196.561578</td>\n",
       "      <td>contained</td>\n",
       "    </tr>\n",
       "    <tr>\n",
       "      <th>3</th>\n",
       "      <td>-116.231396</td>\n",
       "      <td>33.831128</td>\n",
       "      <td>0.0</td>\n",
       "      <td>1.0</td>\n",
       "      <td>-121.468074</td>\n",
       "      <td>37.962557</td>\n",
       "      <td>5.352372</td>\n",
       "      <td>0.003426</td>\n",
       "      <td>340.454640</td>\n",
       "      <td>contained</td>\n",
       "    </tr>\n",
       "    <tr>\n",
       "      <th>4</th>\n",
       "      <td>-122.857675</td>\n",
       "      <td>38.101176</td>\n",
       "      <td>0.0</td>\n",
       "      <td>1.0</td>\n",
       "      <td>-120.027731</td>\n",
       "      <td>37.241427</td>\n",
       "      <td>6.886812</td>\n",
       "      <td>0.004408</td>\n",
       "      <td>438.057517</td>\n",
       "      <td>contained</td>\n",
       "    </tr>\n",
       "  </tbody>\n",
       "</table>\n",
       "</div>"
      ],
      "text/plain": [
       "   longitude_covid  latitude_covid  radius_covid  cases_covid  longitude_fire  \\\n",
       "0      -122.973889       38.345278           0.0          1.0     -121.350140   \n",
       "1      -120.885787       40.081003           0.0          1.0     -120.296551   \n",
       "2      -121.940086       39.809273           0.0          1.0     -122.435492   \n",
       "3      -116.231396       33.831128           0.0          1.0     -121.468074   \n",
       "4      -122.857675       38.101176           0.0          1.0     -120.027731   \n",
       "\n",
       "   latitude_fire  radius_acres_fire  radius_degrees_fire  radius_meters_fire  \\\n",
       "0      39.060660           3.477898             0.002226          221.222757   \n",
       "1      37.524378           8.812923             0.005640          560.573955   \n",
       "2      40.463936           3.090194             0.001978          196.561578   \n",
       "3      37.962557           5.352372             0.003426          340.454640   \n",
       "4      37.241427           6.886812             0.004408          438.057517   \n",
       "\n",
       "  status_fire  \n",
       "0   contained  \n",
       "1   contained  \n",
       "2   contained  \n",
       "3   contained  \n",
       "4   contained  "
      ]
     },
     "execution_count": 44,
     "metadata": {},
     "output_type": "execute_result"
    }
   ],
   "source": [
    "df_covid_fire = covid_df_real.join(fire_df_real, how='outer')\n",
    "df_covid_fire.head()"
   ]
  },
  {
   "cell_type": "code",
   "execution_count": 45,
   "metadata": {},
   "outputs": [
    {
     "data": {
      "text/html": [
       "<div>\n",
       "<style scoped>\n",
       "    .dataframe tbody tr th:only-of-type {\n",
       "        vertical-align: middle;\n",
       "    }\n",
       "\n",
       "    .dataframe tbody tr th {\n",
       "        vertical-align: top;\n",
       "    }\n",
       "\n",
       "    .dataframe thead th {\n",
       "        text-align: right;\n",
       "    }\n",
       "</style>\n",
       "<table border=\"1\" class=\"dataframe\">\n",
       "  <thead>\n",
       "    <tr style=\"text-align: right;\">\n",
       "      <th></th>\n",
       "      <th>longitude_covid</th>\n",
       "      <th>latitude_covid</th>\n",
       "      <th>radius_covid</th>\n",
       "      <th>cases_covid</th>\n",
       "      <th>longitude_fire</th>\n",
       "      <th>latitude_fire</th>\n",
       "      <th>radius_acres_fire</th>\n",
       "      <th>radius_degrees_fire</th>\n",
       "      <th>radius_meters_fire</th>\n",
       "      <th>status_fire</th>\n",
       "      <th>gas_name</th>\n",
       "      <th>longitude_gas</th>\n",
       "      <th>latitude_gas</th>\n",
       "      <th>risk_level_gas</th>\n",
       "    </tr>\n",
       "  </thead>\n",
       "  <tbody>\n",
       "    <tr>\n",
       "      <th>0</th>\n",
       "      <td>-122.973889</td>\n",
       "      <td>38.345278</td>\n",
       "      <td>0.0</td>\n",
       "      <td>1.0</td>\n",
       "      <td>-121.350140</td>\n",
       "      <td>39.060660</td>\n",
       "      <td>3.477898</td>\n",
       "      <td>0.002226</td>\n",
       "      <td>221.222757</td>\n",
       "      <td>contained</td>\n",
       "      <td>Circle K &amp; Minimart</td>\n",
       "      <td>-117.190777</td>\n",
       "      <td>34.057365</td>\n",
       "      <td>Very High Risk</td>\n",
       "    </tr>\n",
       "    <tr>\n",
       "      <th>1</th>\n",
       "      <td>-120.885787</td>\n",
       "      <td>40.081003</td>\n",
       "      <td>0.0</td>\n",
       "      <td>1.0</td>\n",
       "      <td>-120.296551</td>\n",
       "      <td>37.524378</td>\n",
       "      <td>8.812923</td>\n",
       "      <td>0.005640</td>\n",
       "      <td>560.573955</td>\n",
       "      <td>contained</td>\n",
       "      <td>Unknown Name</td>\n",
       "      <td>-117.225609</td>\n",
       "      <td>34.048575</td>\n",
       "      <td>Very High Risk</td>\n",
       "    </tr>\n",
       "    <tr>\n",
       "      <th>2</th>\n",
       "      <td>-121.940086</td>\n",
       "      <td>39.809273</td>\n",
       "      <td>0.0</td>\n",
       "      <td>1.0</td>\n",
       "      <td>-122.435492</td>\n",
       "      <td>40.463936</td>\n",
       "      <td>3.090194</td>\n",
       "      <td>0.001978</td>\n",
       "      <td>196.561578</td>\n",
       "      <td>contained</td>\n",
       "      <td>Unknown Name</td>\n",
       "      <td>-117.156299</td>\n",
       "      <td>34.041388</td>\n",
       "      <td>Very High Risk</td>\n",
       "    </tr>\n",
       "    <tr>\n",
       "      <th>3</th>\n",
       "      <td>-116.231396</td>\n",
       "      <td>33.831128</td>\n",
       "      <td>0.0</td>\n",
       "      <td>1.0</td>\n",
       "      <td>-121.468074</td>\n",
       "      <td>37.962557</td>\n",
       "      <td>5.352372</td>\n",
       "      <td>0.003426</td>\n",
       "      <td>340.454640</td>\n",
       "      <td>contained</td>\n",
       "      <td>Arco</td>\n",
       "      <td>-122.420268</td>\n",
       "      <td>37.768468</td>\n",
       "      <td>High Risk</td>\n",
       "    </tr>\n",
       "    <tr>\n",
       "      <th>4</th>\n",
       "      <td>-122.857675</td>\n",
       "      <td>38.101176</td>\n",
       "      <td>0.0</td>\n",
       "      <td>1.0</td>\n",
       "      <td>-120.027731</td>\n",
       "      <td>37.241427</td>\n",
       "      <td>6.886812</td>\n",
       "      <td>0.004408</td>\n",
       "      <td>438.057517</td>\n",
       "      <td>contained</td>\n",
       "      <td>Valley Oil</td>\n",
       "      <td>-122.070127</td>\n",
       "      <td>37.381165</td>\n",
       "      <td>Very High Risk</td>\n",
       "    </tr>\n",
       "  </tbody>\n",
       "</table>\n",
       "</div>"
      ],
      "text/plain": [
       "   longitude_covid  latitude_covid  radius_covid  cases_covid  longitude_fire  \\\n",
       "0      -122.973889       38.345278           0.0          1.0     -121.350140   \n",
       "1      -120.885787       40.081003           0.0          1.0     -120.296551   \n",
       "2      -121.940086       39.809273           0.0          1.0     -122.435492   \n",
       "3      -116.231396       33.831128           0.0          1.0     -121.468074   \n",
       "4      -122.857675       38.101176           0.0          1.0     -120.027731   \n",
       "\n",
       "   latitude_fire  radius_acres_fire  radius_degrees_fire  radius_meters_fire  \\\n",
       "0      39.060660           3.477898             0.002226          221.222757   \n",
       "1      37.524378           8.812923             0.005640          560.573955   \n",
       "2      40.463936           3.090194             0.001978          196.561578   \n",
       "3      37.962557           5.352372             0.003426          340.454640   \n",
       "4      37.241427           6.886812             0.004408          438.057517   \n",
       "\n",
       "  status_fire             gas_name  longitude_gas  latitude_gas  \\\n",
       "0   contained  Circle K & Minimart    -117.190777     34.057365   \n",
       "1   contained         Unknown Name    -117.225609     34.048575   \n",
       "2   contained         Unknown Name    -117.156299     34.041388   \n",
       "3   contained                 Arco    -122.420268     37.768468   \n",
       "4   contained           Valley Oil    -122.070127     37.381165   \n",
       "\n",
       "   risk_level_gas  \n",
       "0  Very High Risk  \n",
       "1  Very High Risk  \n",
       "2  Very High Risk  \n",
       "3       High Risk  \n",
       "4  Very High Risk  "
      ]
     },
     "execution_count": 45,
     "metadata": {},
     "output_type": "execute_result"
    }
   ],
   "source": [
    "df_final = df_covid_fire.join(gas_df_real, how = 'outer')\n",
    "df_final.head()"
   ]
  },
  {
   "cell_type": "code",
   "execution_count": 46,
   "metadata": {},
   "outputs": [],
   "source": [
    "df_final.to_csv('./data/master_df_take3.csv', index = False)"
   ]
  },
  {
   "cell_type": "code",
   "execution_count": null,
   "metadata": {},
   "outputs": [],
   "source": []
  },
  {
   "cell_type": "code",
   "execution_count": null,
   "metadata": {},
   "outputs": [],
   "source": []
  },
  {
   "cell_type": "code",
   "execution_count": null,
   "metadata": {},
   "outputs": [],
   "source": []
  },
  {
   "cell_type": "code",
   "execution_count": 37,
   "metadata": {},
   "outputs": [
    {
     "name": "stdout",
     "output_type": "stream",
     "text": [
      "<class 'pandas.core.frame.DataFrame'>\n",
      "RangeIndex: 2927 entries, 0 to 2926\n",
      "Data columns (total 3 columns):\n",
      " #   Column           Non-Null Count  Dtype  \n",
      "---  ------           --------------  -----  \n",
      " 0   longitude_covid  1205 non-null   float64\n",
      " 1   latitude_covid   1205 non-null   float64\n",
      " 2   radius_covid     1205 non-null   float64\n",
      "dtypes: float64(3)\n",
      "memory usage: 68.7 KB\n"
     ]
    }
   ],
   "source": [
    "covid_df_real.info()"
   ]
  },
  {
   "cell_type": "code",
   "execution_count": 38,
   "metadata": {},
   "outputs": [
    {
     "name": "stdout",
     "output_type": "stream",
     "text": [
      "<class 'pandas.core.frame.DataFrame'>\n",
      "RangeIndex: 2927 entries, 0 to 2926\n",
      "Data columns (total 4 columns):\n",
      " #   Column          Non-Null Count  Dtype  \n",
      "---  ------          --------------  -----  \n",
      " 0   longitude_fire  93 non-null     float64\n",
      " 1   latitude_fire   93 non-null     float64\n",
      " 2   radius_fire     93 non-null     float64\n",
      " 3   status_fire     93 non-null     object \n",
      "dtypes: float64(3), object(1)\n",
      "memory usage: 91.6+ KB\n"
     ]
    }
   ],
   "source": [
    "fire_df_real.info()"
   ]
  },
  {
   "cell_type": "code",
   "execution_count": 39,
   "metadata": {},
   "outputs": [
    {
     "name": "stdout",
     "output_type": "stream",
     "text": [
      "<class 'pandas.core.frame.DataFrame'>\n",
      "RangeIndex: 2927 entries, 0 to 2926\n",
      "Data columns (total 4 columns):\n",
      " #   Column          Non-Null Count  Dtype  \n",
      "---  ------          --------------  -----  \n",
      " 0   gas_name        2927 non-null   object \n",
      " 1   longitude_gas   2927 non-null   float64\n",
      " 2   latitude_gas    2927 non-null   float64\n",
      " 3   risk_level_gas  2927 non-null   object \n",
      "dtypes: float64(2), object(2)\n",
      "memory usage: 91.6+ KB\n"
     ]
    }
   ],
   "source": [
    "gas_df_real.info()"
   ]
  },
  {
   "cell_type": "code",
   "execution_count": 40,
   "metadata": {},
   "outputs": [
    {
     "data": {
      "text/html": [
       "<div>\n",
       "<style scoped>\n",
       "    .dataframe tbody tr th:only-of-type {\n",
       "        vertical-align: middle;\n",
       "    }\n",
       "\n",
       "    .dataframe tbody tr th {\n",
       "        vertical-align: top;\n",
       "    }\n",
       "\n",
       "    .dataframe thead th {\n",
       "        text-align: right;\n",
       "    }\n",
       "</style>\n",
       "<table border=\"1\" class=\"dataframe\">\n",
       "  <thead>\n",
       "    <tr style=\"text-align: right;\">\n",
       "      <th></th>\n",
       "      <th>longitude_covid</th>\n",
       "      <th>latitude_covid</th>\n",
       "      <th>radius_covid</th>\n",
       "      <th>longitude_fire</th>\n",
       "      <th>latitude_fire</th>\n",
       "      <th>radius_fire</th>\n",
       "      <th>status_fire</th>\n",
       "      <th>gas_name</th>\n",
       "      <th>longitude_gas</th>\n",
       "      <th>latitude_gas</th>\n",
       "      <th>risk_level_gas</th>\n",
       "    </tr>\n",
       "  </thead>\n",
       "  <tbody>\n",
       "    <tr>\n",
       "      <th>0</th>\n",
       "      <td>-122.973889</td>\n",
       "      <td>38.345278</td>\n",
       "      <td>0.0</td>\n",
       "      <td>-121.350140</td>\n",
       "      <td>39.060660</td>\n",
       "      <td>3.477898</td>\n",
       "      <td>contained</td>\n",
       "      <td>Circle K &amp; Minimart</td>\n",
       "      <td>-117.190777</td>\n",
       "      <td>34.057365</td>\n",
       "      <td>Very High Risk</td>\n",
       "    </tr>\n",
       "    <tr>\n",
       "      <th>1</th>\n",
       "      <td>-120.885787</td>\n",
       "      <td>40.081003</td>\n",
       "      <td>0.0</td>\n",
       "      <td>-120.296551</td>\n",
       "      <td>37.524378</td>\n",
       "      <td>8.812923</td>\n",
       "      <td>contained</td>\n",
       "      <td>Unknown Name</td>\n",
       "      <td>-117.225609</td>\n",
       "      <td>34.048575</td>\n",
       "      <td>Very High Risk</td>\n",
       "    </tr>\n",
       "    <tr>\n",
       "      <th>2</th>\n",
       "      <td>-121.940086</td>\n",
       "      <td>39.809273</td>\n",
       "      <td>0.0</td>\n",
       "      <td>-122.435492</td>\n",
       "      <td>40.463936</td>\n",
       "      <td>3.090194</td>\n",
       "      <td>contained</td>\n",
       "      <td>Unknown Name</td>\n",
       "      <td>-117.156299</td>\n",
       "      <td>34.041388</td>\n",
       "      <td>Very High Risk</td>\n",
       "    </tr>\n",
       "    <tr>\n",
       "      <th>3</th>\n",
       "      <td>-116.231396</td>\n",
       "      <td>33.831128</td>\n",
       "      <td>0.0</td>\n",
       "      <td>-121.468074</td>\n",
       "      <td>37.962557</td>\n",
       "      <td>5.352372</td>\n",
       "      <td>contained</td>\n",
       "      <td>Arco</td>\n",
       "      <td>-122.420268</td>\n",
       "      <td>37.768468</td>\n",
       "      <td>High Risk</td>\n",
       "    </tr>\n",
       "    <tr>\n",
       "      <th>4</th>\n",
       "      <td>-122.857675</td>\n",
       "      <td>38.101176</td>\n",
       "      <td>0.0</td>\n",
       "      <td>-120.027731</td>\n",
       "      <td>37.241427</td>\n",
       "      <td>6.886812</td>\n",
       "      <td>contained</td>\n",
       "      <td>Valley Oil</td>\n",
       "      <td>-122.070127</td>\n",
       "      <td>37.381165</td>\n",
       "      <td>Very High Risk</td>\n",
       "    </tr>\n",
       "    <tr>\n",
       "      <th>...</th>\n",
       "      <td>...</td>\n",
       "      <td>...</td>\n",
       "      <td>...</td>\n",
       "      <td>...</td>\n",
       "      <td>...</td>\n",
       "      <td>...</td>\n",
       "      <td>...</td>\n",
       "      <td>...</td>\n",
       "      <td>...</td>\n",
       "      <td>...</td>\n",
       "      <td>...</td>\n",
       "    </tr>\n",
       "    <tr>\n",
       "      <th>2922</th>\n",
       "      <td>NaN</td>\n",
       "      <td>NaN</td>\n",
       "      <td>NaN</td>\n",
       "      <td>NaN</td>\n",
       "      <td>NaN</td>\n",
       "      <td>NaN</td>\n",
       "      <td>NaN</td>\n",
       "      <td>Pilot</td>\n",
       "      <td>-117.087724</td>\n",
       "      <td>34.854655</td>\n",
       "      <td>Very High Risk</td>\n",
       "    </tr>\n",
       "    <tr>\n",
       "      <th>2923</th>\n",
       "      <td>NaN</td>\n",
       "      <td>NaN</td>\n",
       "      <td>NaN</td>\n",
       "      <td>NaN</td>\n",
       "      <td>NaN</td>\n",
       "      <td>NaN</td>\n",
       "      <td>NaN</td>\n",
       "      <td>Unknown Name</td>\n",
       "      <td>-117.850397</td>\n",
       "      <td>33.823337</td>\n",
       "      <td>Very High Risk</td>\n",
       "    </tr>\n",
       "    <tr>\n",
       "      <th>2924</th>\n",
       "      <td>NaN</td>\n",
       "      <td>NaN</td>\n",
       "      <td>NaN</td>\n",
       "      <td>NaN</td>\n",
       "      <td>NaN</td>\n",
       "      <td>NaN</td>\n",
       "      <td>NaN</td>\n",
       "      <td>Shell</td>\n",
       "      <td>-117.034808</td>\n",
       "      <td>32.594424</td>\n",
       "      <td>Very High Risk</td>\n",
       "    </tr>\n",
       "    <tr>\n",
       "      <th>2925</th>\n",
       "      <td>NaN</td>\n",
       "      <td>NaN</td>\n",
       "      <td>NaN</td>\n",
       "      <td>NaN</td>\n",
       "      <td>NaN</td>\n",
       "      <td>NaN</td>\n",
       "      <td>NaN</td>\n",
       "      <td>Mobil</td>\n",
       "      <td>-117.738206</td>\n",
       "      <td>33.861640</td>\n",
       "      <td>Very High Risk</td>\n",
       "    </tr>\n",
       "    <tr>\n",
       "      <th>2926</th>\n",
       "      <td>NaN</td>\n",
       "      <td>NaN</td>\n",
       "      <td>NaN</td>\n",
       "      <td>NaN</td>\n",
       "      <td>NaN</td>\n",
       "      <td>NaN</td>\n",
       "      <td>NaN</td>\n",
       "      <td>Sierra Super Stop</td>\n",
       "      <td>-121.103485</td>\n",
       "      <td>39.370161</td>\n",
       "      <td>Low Risk</td>\n",
       "    </tr>\n",
       "  </tbody>\n",
       "</table>\n",
       "<p>2927 rows × 11 columns</p>\n",
       "</div>"
      ],
      "text/plain": [
       "      longitude_covid  latitude_covid  radius_covid  longitude_fire  \\\n",
       "0         -122.973889       38.345278           0.0     -121.350140   \n",
       "1         -120.885787       40.081003           0.0     -120.296551   \n",
       "2         -121.940086       39.809273           0.0     -122.435492   \n",
       "3         -116.231396       33.831128           0.0     -121.468074   \n",
       "4         -122.857675       38.101176           0.0     -120.027731   \n",
       "...               ...             ...           ...             ...   \n",
       "2922              NaN             NaN           NaN             NaN   \n",
       "2923              NaN             NaN           NaN             NaN   \n",
       "2924              NaN             NaN           NaN             NaN   \n",
       "2925              NaN             NaN           NaN             NaN   \n",
       "2926              NaN             NaN           NaN             NaN   \n",
       "\n",
       "      latitude_fire  radius_fire status_fire             gas_name  \\\n",
       "0         39.060660     3.477898   contained  Circle K & Minimart   \n",
       "1         37.524378     8.812923   contained         Unknown Name   \n",
       "2         40.463936     3.090194   contained         Unknown Name   \n",
       "3         37.962557     5.352372   contained                 Arco   \n",
       "4         37.241427     6.886812   contained           Valley Oil   \n",
       "...             ...          ...         ...                  ...   \n",
       "2922            NaN          NaN         NaN                Pilot   \n",
       "2923            NaN          NaN         NaN         Unknown Name   \n",
       "2924            NaN          NaN         NaN                Shell   \n",
       "2925            NaN          NaN         NaN                Mobil   \n",
       "2926            NaN          NaN         NaN    Sierra Super Stop   \n",
       "\n",
       "      longitude_gas  latitude_gas  risk_level_gas  \n",
       "0       -117.190777     34.057365  Very High Risk  \n",
       "1       -117.225609     34.048575  Very High Risk  \n",
       "2       -117.156299     34.041388  Very High Risk  \n",
       "3       -122.420268     37.768468       High Risk  \n",
       "4       -122.070127     37.381165  Very High Risk  \n",
       "...             ...           ...             ...  \n",
       "2922    -117.087724     34.854655  Very High Risk  \n",
       "2923    -117.850397     33.823337  Very High Risk  \n",
       "2924    -117.034808     32.594424  Very High Risk  \n",
       "2925    -117.738206     33.861640  Very High Risk  \n",
       "2926    -121.103485     39.370161        Low Risk  \n",
       "\n",
       "[2927 rows x 11 columns]"
      ]
     },
     "execution_count": 40,
     "metadata": {},
     "output_type": "execute_result"
    }
   ],
   "source": [
    "df_final"
   ]
  },
  {
   "cell_type": "code",
   "execution_count": null,
   "metadata": {},
   "outputs": [],
   "source": []
  }
 ],
 "metadata": {
  "kernelspec": {
   "display_name": "Python 3",
   "language": "python",
   "name": "python3"
  },
  "language_info": {
   "codemirror_mode": {
    "name": "ipython",
    "version": 3
   },
   "file_extension": ".py",
   "mimetype": "text/x-python",
   "name": "python",
   "nbconvert_exporter": "python",
   "pygments_lexer": "ipython3",
   "version": "3.8.3"
  }
 },
 "nbformat": 4,
 "nbformat_minor": 4
}
