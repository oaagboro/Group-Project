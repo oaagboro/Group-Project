{
 "cells": [
  {
   "cell_type": "markdown",
   "metadata": {},
   "source": [
    "# DO NOT USE\n",
    "I made this back when I thought I would be using squares to determine covid heat, not a random forest algorithm"
   ]
  },
  {
   "cell_type": "code",
   "execution_count": 1,
   "metadata": {},
   "outputs": [],
   "source": [
    "import numpy as np\n",
    "import matplotlib.pyplot as plt\n",
    "import pandas as pd"
   ]
  },
  {
   "cell_type": "code",
   "execution_count": 2,
   "metadata": {},
   "outputs": [],
   "source": [
    "df = pd.read_csv('latimes-place-totals.csv')"
   ]
  },
  {
   "cell_type": "code",
   "execution_count": 9,
   "metadata": {},
   "outputs": [
    {
     "data": {
      "text/html": [
       "<div>\n",
       "<style scoped>\n",
       "    .dataframe tbody tr th:only-of-type {\n",
       "        vertical-align: middle;\n",
       "    }\n",
       "\n",
       "    .dataframe tbody tr th {\n",
       "        vertical-align: top;\n",
       "    }\n",
       "\n",
       "    .dataframe thead th {\n",
       "        text-align: right;\n",
       "    }\n",
       "</style>\n",
       "<table border=\"1\" class=\"dataframe\">\n",
       "  <thead>\n",
       "    <tr style=\"text-align: right;\">\n",
       "      <th></th>\n",
       "      <th>date</th>\n",
       "      <th>county</th>\n",
       "      <th>fips</th>\n",
       "      <th>place</th>\n",
       "      <th>confirmed_cases</th>\n",
       "      <th>note</th>\n",
       "      <th>x</th>\n",
       "      <th>y</th>\n",
       "    </tr>\n",
       "  </thead>\n",
       "  <tbody>\n",
       "    <tr>\n",
       "      <th>0</th>\n",
       "      <td>2020-10-25</td>\n",
       "      <td>Alameda</td>\n",
       "      <td>1.0</td>\n",
       "      <td>Alameda</td>\n",
       "      <td>456</td>\n",
       "      <td>NaN</td>\n",
       "      <td>-122.274444</td>\n",
       "      <td>37.756111</td>\n",
       "    </tr>\n",
       "    <tr>\n",
       "      <th>1</th>\n",
       "      <td>2020-10-25</td>\n",
       "      <td>Alameda</td>\n",
       "      <td>1.0</td>\n",
       "      <td>Albany</td>\n",
       "      <td>63</td>\n",
       "      <td>NaN</td>\n",
       "      <td>-122.297778</td>\n",
       "      <td>37.886944</td>\n",
       "    </tr>\n",
       "    <tr>\n",
       "      <th>2</th>\n",
       "      <td>2020-10-25</td>\n",
       "      <td>Alameda</td>\n",
       "      <td>1.0</td>\n",
       "      <td>Berkeley</td>\n",
       "      <td>749</td>\n",
       "      <td>NaN</td>\n",
       "      <td>-122.272778</td>\n",
       "      <td>37.871667</td>\n",
       "    </tr>\n",
       "    <tr>\n",
       "      <th>3</th>\n",
       "      <td>2020-10-25</td>\n",
       "      <td>Alameda</td>\n",
       "      <td>1.0</td>\n",
       "      <td>Dublin</td>\n",
       "      <td>320</td>\n",
       "      <td>NaN</td>\n",
       "      <td>-121.935833</td>\n",
       "      <td>37.702222</td>\n",
       "    </tr>\n",
       "    <tr>\n",
       "      <th>4</th>\n",
       "      <td>2020-10-25</td>\n",
       "      <td>Alameda</td>\n",
       "      <td>1.0</td>\n",
       "      <td>Emeryville</td>\n",
       "      <td>102</td>\n",
       "      <td>NaN</td>\n",
       "      <td>-122.285278</td>\n",
       "      <td>37.831389</td>\n",
       "    </tr>\n",
       "  </tbody>\n",
       "</table>\n",
       "</div>"
      ],
      "text/plain": [
       "         date   county  fips       place  confirmed_cases note           x  \\\n",
       "0  2020-10-25  Alameda   1.0     Alameda              456  NaN -122.274444   \n",
       "1  2020-10-25  Alameda   1.0      Albany               63  NaN -122.297778   \n",
       "2  2020-10-25  Alameda   1.0    Berkeley              749  NaN -122.272778   \n",
       "3  2020-10-25  Alameda   1.0      Dublin              320  NaN -121.935833   \n",
       "4  2020-10-25  Alameda   1.0  Emeryville              102  NaN -122.285278   \n",
       "\n",
       "           y  \n",
       "0  37.756111  \n",
       "1  37.886944  \n",
       "2  37.871667  \n",
       "3  37.702222  \n",
       "4  37.831389  "
      ]
     },
     "execution_count": 9,
     "metadata": {},
     "output_type": "execute_result"
    }
   ],
   "source": [
    "df.head()"
   ]
  },
  {
   "cell_type": "code",
   "execution_count": 12,
   "metadata": {},
   "outputs": [
    {
     "data": {
      "text/plain": [
       "1245"
      ]
     },
     "execution_count": 12,
     "metadata": {},
     "output_type": "execute_result"
    }
   ],
   "source": [
    "df['place'].nunique()"
   ]
  },
  {
   "cell_type": "code",
   "execution_count": 15,
   "metadata": {
    "collapsed": true,
    "jupyter": {
     "outputs_hidden": true
    }
   },
   "outputs": [
    {
     "name": "stdout",
     "output_type": "stream",
     "text": [
      "<class 'pandas.core.frame.DataFrame'>\n",
      "RangeIndex: 167270 entries, 0 to 167269\n",
      "Data columns (total 8 columns):\n",
      " #   Column           Non-Null Count   Dtype  \n",
      "---  ------           --------------   -----  \n",
      " 0   date             167270 non-null  object \n",
      " 1   county           167270 non-null  object \n",
      " 2   fips             165673 non-null  float64\n",
      " 3   place            167270 non-null  object \n",
      " 4   confirmed_cases  167270 non-null  int64  \n",
      " 5   note             5176 non-null    object \n",
      " 6   x                164796 non-null  float64\n",
      " 7   y                164796 non-null  float64\n",
      "dtypes: float64(3), int64(1), object(4)\n",
      "memory usage: 10.2+ MB\n"
     ]
    }
   ],
   "source": [
    "df.info()"
   ]
  },
  {
   "cell_type": "code",
   "execution_count": 36,
   "metadata": {},
   "outputs": [
    {
     "data": {
      "text/plain": [
       "array(['Alameda', 'Albany', 'Berkeley', ..., 'Pico', 'San Ysidro',\n",
       "       'Santa Clarita and Stevenson Ranch'], dtype=object)"
      ]
     },
     "execution_count": 36,
     "metadata": {},
     "output_type": "execute_result"
    }
   ],
   "source": [
    "df.place.unique()"
   ]
  },
  {
   "cell_type": "code",
   "execution_count": 34,
   "metadata": {},
   "outputs": [],
   "source": [
    "#df_test = df.groupby(by = 'place')\n",
    "df_test = pd.DataFrame({'count' : df.groupby( ['place', 'date'] ).size()}).reset_index()"
   ]
  },
  {
   "cell_type": "code",
   "execution_count": 35,
   "metadata": {},
   "outputs": [
    {
     "data": {
      "text/html": [
       "<div>\n",
       "<style scoped>\n",
       "    .dataframe tbody tr th:only-of-type {\n",
       "        vertical-align: middle;\n",
       "    }\n",
       "\n",
       "    .dataframe tbody tr th {\n",
       "        vertical-align: top;\n",
       "    }\n",
       "\n",
       "    .dataframe thead th {\n",
       "        text-align: right;\n",
       "    }\n",
       "</style>\n",
       "<table border=\"1\" class=\"dataframe\">\n",
       "  <thead>\n",
       "    <tr style=\"text-align: right;\">\n",
       "      <th></th>\n",
       "      <th>place</th>\n",
       "      <th>date</th>\n",
       "      <th>count</th>\n",
       "    </tr>\n",
       "  </thead>\n",
       "  <tbody>\n",
       "    <tr>\n",
       "      <th>0</th>\n",
       "      <td>90755: Long Beach</td>\n",
       "      <td>2020-08-17</td>\n",
       "      <td>1</td>\n",
       "    </tr>\n",
       "    <tr>\n",
       "      <th>1</th>\n",
       "      <td>90802: Long Beach</td>\n",
       "      <td>2020-04-29</td>\n",
       "      <td>1</td>\n",
       "    </tr>\n",
       "    <tr>\n",
       "      <th>2</th>\n",
       "      <td>90802: Long Beach</td>\n",
       "      <td>2020-04-30</td>\n",
       "      <td>1</td>\n",
       "    </tr>\n",
       "    <tr>\n",
       "      <th>3</th>\n",
       "      <td>90802: Long Beach</td>\n",
       "      <td>2020-05-01</td>\n",
       "      <td>1</td>\n",
       "    </tr>\n",
       "    <tr>\n",
       "      <th>4</th>\n",
       "      <td>90802: Long Beach</td>\n",
       "      <td>2020-05-02</td>\n",
       "      <td>1</td>\n",
       "    </tr>\n",
       "  </tbody>\n",
       "</table>\n",
       "</div>"
      ],
      "text/plain": [
       "               place        date  count\n",
       "0  90755: Long Beach  2020-08-17      1\n",
       "1  90802: Long Beach  2020-04-29      1\n",
       "2  90802: Long Beach  2020-04-30      1\n",
       "3  90802: Long Beach  2020-05-01      1\n",
       "4  90802: Long Beach  2020-05-02      1"
      ]
     },
     "execution_count": 35,
     "metadata": {},
     "output_type": "execute_result"
    }
   ],
   "source": [
    "df_test.head()"
   ]
  },
  {
   "cell_type": "code",
   "execution_count": null,
   "metadata": {},
   "outputs": [],
   "source": [
    "df_most_recent = df.loc[df['date'] == '2020-10-25']\n",
    "df_before_most_recent = "
   ]
  },
  {
   "cell_type": "code",
   "execution_count": 20,
   "metadata": {},
   "outputs": [
    {
     "name": "stdout",
     "output_type": "stream",
     "text": [
      "<class 'pandas.core.frame.DataFrame'>\n",
      "Int64Index: 683 entries, 0 to 682\n",
      "Data columns (total 8 columns):\n",
      " #   Column           Non-Null Count  Dtype  \n",
      "---  ------           --------------  -----  \n",
      " 0   date             683 non-null    object \n",
      " 1   county           683 non-null    object \n",
      " 2   fips             672 non-null    float64\n",
      " 3   place            683 non-null    object \n",
      " 4   confirmed_cases  683 non-null    int64  \n",
      " 5   note             1 non-null      object \n",
      " 6   x                677 non-null    float64\n",
      " 7   y                677 non-null    float64\n",
      "dtypes: float64(3), int64(1), object(4)\n",
      "memory usage: 48.0+ KB\n"
     ]
    }
   ],
   "source": [
    "df_recent = df.groupby(by = 'date')\n",
    "df_recent = df.loc[df['date'] == '2020-10-25']\n",
    "df.loc[df['a'] > 10, ['a','c']]"
   ]
  },
  {
   "cell_type": "code",
   "execution_count": 49,
   "metadata": {},
   "outputs": [
    {
     "data": {
      "text/plain": [
       "<matplotlib.collections.PathCollection at 0x7fd87e729f40>"
      ]
     },
     "execution_count": 49,
     "metadata": {},
     "output_type": "execute_result"
    },
    {
     "data": {
      "image/png": "[encoded data removed]",
      "text/plain": [
       "<Figure size 432x432 with 1 Axes>"
      ]
     },
     "metadata": {
      "needs_background": "light"
     },
     "output_type": "display_data"
    }
   ],
   "source": [
    "df_x_y = df[['x', 'y']][:40]\n",
    "plt.figure(figsize=(6, 6));\n",
    "plt.scatter(df_x_y['x'], df_x_y['y'])"
   ]
  },
  {
   "cell_type": "markdown",
   "metadata": {},
   "source": [
    "Dataframe 1 columns: Covid info\n",
    "- Index: (Lat1, Lon1, Lat2, Lon2)\n",
    "- Latitude 1 column\n",
    "- Longitude 1 column\n",
    "- Latitude 2 column\n",
    "- Longitude 2 column\n",
    "- number of cases in that area\n",
    "    - if there's a dot, count that\n",
    "    - if there isn't a dot, leave blank (NaN)\n",
    "- Covid 'heat'\n",
    "    - if the number of cases column is NOT blank, rate on scale from 1-10\n",
    "    - if the number of cases column is blank, take average of the 8 around it\n",
    "        - TARGET BLANK BOX: (Lat1, Lon1, Lat1 - .1, Lon1 + .1)\n",
    "        - top left (Lat1 + .1, Lon1 - .1, Lat1, Lon1)\n",
    "        - middle left (Lat1, Lon1 - .1, Lat1 - .1, Lon1)\n",
    "        - bottom left (Lat1 - .1, Lon1 - .1, Lat1 - .2, Lon1)\n",
    "        - bottom middle \n",
    "        - bottom right\n",
    "        - middle right\n",
    "        - top right\n",
    "        - top middle\n",
    "*\n",
    "PLOT AND SEE WHAT HAPPENS\n",
    "*\n",
    "\n",
    "\n",
    "Dataframe 2 columns: GS info\n",
    "- index: GS number (coordinates?)\n",
    "- coordinates (CANNOT BE INDEX)\n",
    "- Gas station (GS) names\n",
    "- GS latitude\n",
    "- GS Longitude\n",
    "- heat for this GS based on region\n",
    "    - From DF1, for DF1 index = DF2 coordinates, get DF1 heat column value\n",
    "*\n",
    "PLOT: scatter plot of all gas stations (x = longitude, y = latitude, hue = heat), compare with above\n",
    "*\n",
    "\n",
    "\n",
    "Dataframe 3: Error analysis\n",
    "- LOCATION INPUT: current coordinates, desired coordinates\n",
    "- RUSH INPUT: Are you in a rush?\n",
    "- \n",
    "- Only look at DF2 columns that are within this region\n",
    "- Find y = mx+b Line for these inputs\n",
    "\n",
    "\n",
    "Columns:\n",
    "- Index: GS number (from DF2)\n",
    "- Heat (from DF2)\n",
    "- Distance from point to Line (total Least squares)\n",
    "- Error metric:\n",
    "    - Weight the heat and distance columns:\n",
    "        - Do some sort of data science-y thing that determines the optimal weights\n",
    "        - Questions for weight optimization: \n",
    "            - How concerned are you about covid?\n",
    "                - Not concerned\n",
    "                - Mildly concerned\n",
    "                - Very concerned\n",
    "            - Are you in a rush?\n",
    "                - Yes!! I am rushing asap!!!\n",
    "                - Yes\n",
    "                - No\n",
    "        - Default to \"very concerned\" unless they are in a big rush (puts a higher weight on the heat of the gas station)\n",
    "        - If in a big rush, put higher weight (slightly) on the distance RMSE\n",
    "    - Overall goal: find the gas station which is the minimum of this error metric\n",
    "    \n",
    "    \n",
    "# DO KNN FOR GAS STATION CLASSIFICATION!!!\n"
   ]
  },
  {
   "cell_type": "code",
   "execution_count": 78,
   "metadata": {},
   "outputs": [
    {
     "data": {
      "text/plain": [
       "10.285912696499032"
      ]
     },
     "execution_count": 78,
     "metadata": {},
     "output_type": "execute_result"
    }
   ],
   "source": [
    "# Python program to find the distance between \n",
    "# a given point and a given line in 2 D. \n",
    "\n",
    "# from https://www.geeksforgeeks.org/perpendicular-distance-between-a-point-and-a-line-in-2-d/\n",
    "  \n",
    "import math \n",
    "  \n",
    "# Function to find distance given ax + by + c = 0\n",
    "# if we have the equation y = \n",
    "def shortest_distance(x, y, a, b, c):\n",
    "    d = abs((a * x + b * y + c)) / (math.sqrt(a * a + b * b)) \n",
    "    return d\n",
    "\n",
    "\n",
    "def get_a_b_c(x1, y1, x2, y2):\n",
    "    a = -(y2 - y1)\n",
    "    b = (x2 - x1)\n",
    "    c = (a * x1) + (b * y1)\n",
    "    return a, b, c\n",
    "\n",
    "a = get_a_b_c(2, -1, 3, -3)[0]\n",
    "b = get_a_b_c(2, -1, 3, -3)[1]\n",
    "c = get_a_b_c(2, -1, 3, -3)[2]\n",
    "\n",
    "x = 6\n",
    "y = 8\n",
    "shortest_distance(x, y, a, b, c)"
   ]
  },
  {
   "cell_type": "code",
   "execution_count": 139,
   "metadata": {},
   "outputs": [
    {
     "data": {
      "text/plain": [
       "Text(0.5, 1.0, 'Example')"
      ]
     },
     "execution_count": 139,
     "metadata": {},
     "output_type": "execute_result"
    },
    {
     "data": {
      "image/png": "[encoded data removed]",
      "text/plain": [
       "<Figure size 432x288 with 1 Axes>"
      ]
     },
     "metadata": {
      "needs_background": "light"
     },
     "output_type": "display_data"
    }
   ],
   "source": [
    "## Visualize what's above\n",
    "\n",
    "x1 = 2\n",
    "y1 = -1\n",
    "x2 = 3\n",
    "y2 = -3\n",
    "\n",
    "def line_eq(x1, y1, x2, y2):\n",
    "    slope = (y1 - y2) / (x1 - x2)\n",
    "    b = y1 - (slope * x1)\n",
    "    return (slope, b)\n",
    "    \n",
    "    \n",
    "x_graph = np.linspace(x1, x2)\n",
    "y_graph = (line_eq(x1, y1, x2, y2)[0] * x_graph) + line_eq(x1, y1, x2, y2)[1]\n",
    "\n",
    "plt.plot(x_graph, y_graph, '-r')\n",
    "plt.title('Example')"
   ]
  },
  {
   "cell_type": "code",
   "execution_count": 96,
   "metadata": {},
   "outputs": [],
   "source": [
    "from sympy.solvers import solve, linsolve\n",
    "from sympy import symbols"
   ]
  },
  {
   "cell_type": "code",
   "execution_count": 143,
   "metadata": {},
   "outputs": [
    {
     "name": "stdout",
     "output_type": "stream",
     "text": [
      "slope:  -2.0\n",
      "b:  3.0\n",
      "slope_a:  0.5\n",
      "b_a:  1.4\n"
     ]
    }
   ],
   "source": [
    "# for red line above:\n",
    "x1 = 2\n",
    "y1 = -1\n",
    "x2 = 3\n",
    "y2 = -3\n",
    "slope = line_eq(x1, y1, x2, y2)[0] \n",
    "b = line_eq(x1, y1, x2, y2)[1]\n",
    "\n",
    "#given a point with coordinates (x_a, y_a), find equation of perpendicular line\n",
    "x_a = 2.2\n",
    "y_a = 2.5\n",
    "# the slope will be the negative inverse of the line it's perpendicular to\n",
    "slope_a = -1/slope\n",
    "# find b by plugging in the coordinates of our point\n",
    "b_a = y_a - (slope_a * x_a)\n",
    "\n",
    "print('slope: ', slope)\n",
    "print('b: ', b)\n",
    "print('slope_a: ', slope_a)\n",
    "print('b_a: ', b_a)\n"
   ]
  },
  {
   "cell_type": "code",
   "execution_count": 157,
   "metadata": {},
   "outputs": [
    {
     "name": "stdout",
     "output_type": "stream",
     "text": [
      "(0.64, 1.72)\n"
     ]
    }
   ],
   "source": [
    "# Brute force to find point of intersection (poi) between these lines\n",
    "x_poi = (b_a - b) / (slope - slope_a)\n",
    "y_poi = (slope * x_poi) + b\n",
    "print((x_poi, y_poi))"
   ]
  },
  {
   "cell_type": "code",
   "execution_count": 161,
   "metadata": {},
   "outputs": [
    {
     "name": "stdout",
     "output_type": "stream",
     "text": [
      "(2, 3)\n",
      "(0.64, 2.2)\n"
     ]
    }
   ],
   "source": [
    "print((x1, x2))\n",
    "print((x_poi, x_a))"
   ]
  },
  {
   "cell_type": "code",
   "execution_count": 173,
   "metadata": {},
   "outputs": [
    {
     "data": {
      "image/png": "[encoded data removed]",
      "text/plain": [
       "<Figure size 720x720 with 1 Axes>"
      ]
     },
     "metadata": {
      "needs_background": "light"
     },
     "output_type": "display_data"
    }
   ],
   "source": [
    "x_z = np.linspace(0, 2)\n",
    "y_z = (slope * x_z) + b\n",
    "\n",
    "\n",
    "x_z2 = np.linspace(x_poi, x_a)\n",
    "y_z2 = (slope_a * x_z2) + b_a\n",
    "\n",
    "\n",
    "fig = plt.figure(figsize = (10,10))\n",
    "ax1 = fig.add_subplot(111)\n",
    "\n",
    "ax1.scatter(x_z, y_z, s=10, c='b', marker=\"s\", label='first')\n",
    "ax1.scatter(x_z2, y_z2, s=10, c='r', marker=\"o\", label='second')\n",
    "plt.legend(loc='upper left');\n",
    "plt.xlim(-5, 5)\n",
    "plt.ylim(-5, 5)\n",
    "plt.show()"
   ]
  },
  {
   "cell_type": "code",
   "execution_count": 149,
   "metadata": {},
   "outputs": [
    {
     "data": {
      "text/plain": [
       "Text(0.5, 1.0, 'Example')"
      ]
     },
     "execution_count": 149,
     "metadata": {},
     "output_type": "execute_result"
    },
    {
     "data": {
      "image/png": "[encoded data removed]",
      "text/plain": [
       "<Figure size 432x288 with 1 Axes>"
      ]
     },
     "metadata": {
      "needs_background": "light"
     },
     "output_type": "display_data"
    }
   ],
   "source": [
    "x_graph = np.linspace(x_a, x_poi)\n",
    "y_graph = (slope_a * x_graph) + b_a\n",
    "\n",
    "plt.plot(x_graph, y_graph, '-r')\n",
    "plt.title('Example')"
   ]
  },
  {
   "cell_type": "code",
   "execution_count": 145,
   "metadata": {},
   "outputs": [
    {
     "data": {
      "text/plain": [
       "Text(0.5, 1.0, 'Example')"
      ]
     },
     "execution_count": 145,
     "metadata": {},
     "output_type": "execute_result"
    },
    {
     "data": {
      "image/png": "[encoded data removed]",
      "text/plain": [
       "<Figure size 432x288 with 1 Axes>"
      ]
     },
     "metadata": {
      "needs_background": "light"
     },
     "output_type": "display_data"
    }
   ],
   "source": [
    "x_graph_2 = np.linspace(x1, x2)\n",
    "y_graph_2 = (line_eq(x_a, y_a, x_b, y_b)[0] * x_graph_2) + line_eq(x_a, y_a, x_b, y_b)[1]\n",
    "plt.plot(x_graph, y_graph, '-r')\n",
    "plt.title('Example')"
   ]
  },
  {
   "cell_type": "code",
   "execution_count": 150,
   "metadata": {},
   "outputs": [
    {
     "data": {
      "image/png": "[encoded data removed]",
      "text/plain": [
       "<Figure size 432x288 with 1 Axes>"
      ]
     },
     "metadata": {
      "needs_background": "light"
     },
     "output_type": "display_data"
    }
   ],
   "source": [
    "x_graph = np.linspace(x1, x2)\n",
    "y_graph = (line_eq(x1, y1, x2, y2)[0] * x_graph) + line_eq(x1, y1, x2, y2)[1]\n",
    "\n",
    "x_graph_2 = np.linspace(x_a, x_poi)\n",
    "y_graph_2 = (slope_a * x_graph) + b_a\n",
    "\n",
    "#x_graph_2 = np.linspace(x1, x2)\n",
    "#y_graph_2 = (line_eq(x_a, y_a, x_b, y_b)[0] * x_graph_2) + line_eq(x_a, y_a, x_b, y_b)[1]\n",
    "\n",
    "\n",
    "fig = plt.figure()\n",
    "ax1 = fig.add_subplot(111)\n",
    "\n",
    "ax1.scatter(x_graph, y_graph, s=10, c='b', marker=\"s\", label='first')\n",
    "ax1.scatter(x_graph_2, y_graph_2, s=10, c='r', marker=\"o\", label='second')\n",
    "plt.legend(loc='upper left');\n",
    "plt.show()"
   ]
  },
  {
   "cell_type": "code",
   "execution_count": 75,
   "metadata": {},
   "outputs": [
    {
     "data": {
      "text/plain": [
       "-2.0"
      ]
     },
     "execution_count": 75,
     "metadata": {},
     "output_type": "execute_result"
    }
   ],
   "source": [
    "line_eq(x1, y1, x2, y2)[0]"
   ]
  },
  {
   "cell_type": "code",
   "execution_count": 70,
   "metadata": {},
   "outputs": [
    {
     "data": {
      "text/html": [
       "<div>\n",
       "<style scoped>\n",
       "    .dataframe tbody tr th:only-of-type {\n",
       "        vertical-align: middle;\n",
       "    }\n",
       "\n",
       "    .dataframe tbody tr th {\n",
       "        vertical-align: top;\n",
       "    }\n",
       "\n",
       "    .dataframe thead th {\n",
       "        text-align: right;\n",
       "    }\n",
       "</style>\n",
       "<table border=\"1\" class=\"dataframe\">\n",
       "  <thead>\n",
       "    <tr style=\"text-align: right;\">\n",
       "      <th></th>\n",
       "      <th>date</th>\n",
       "      <th>county</th>\n",
       "      <th>fips</th>\n",
       "      <th>place</th>\n",
       "      <th>confirmed_cases</th>\n",
       "      <th>note</th>\n",
       "      <th>x</th>\n",
       "      <th>y</th>\n",
       "    </tr>\n",
       "  </thead>\n",
       "  <tbody>\n",
       "    <tr>\n",
       "      <th>0</th>\n",
       "      <td>2020-10-25</td>\n",
       "      <td>Alameda</td>\n",
       "      <td>1.0</td>\n",
       "      <td>Alameda</td>\n",
       "      <td>456</td>\n",
       "      <td>NaN</td>\n",
       "      <td>-122.274444</td>\n",
       "      <td>37.756111</td>\n",
       "    </tr>\n",
       "    <tr>\n",
       "      <th>1</th>\n",
       "      <td>2020-10-25</td>\n",
       "      <td>Alameda</td>\n",
       "      <td>1.0</td>\n",
       "      <td>Albany</td>\n",
       "      <td>63</td>\n",
       "      <td>NaN</td>\n",
       "      <td>-122.297778</td>\n",
       "      <td>37.886944</td>\n",
       "    </tr>\n",
       "    <tr>\n",
       "      <th>2</th>\n",
       "      <td>2020-10-25</td>\n",
       "      <td>Alameda</td>\n",
       "      <td>1.0</td>\n",
       "      <td>Berkeley</td>\n",
       "      <td>749</td>\n",
       "      <td>NaN</td>\n",
       "      <td>-122.272778</td>\n",
       "      <td>37.871667</td>\n",
       "    </tr>\n",
       "    <tr>\n",
       "      <th>3</th>\n",
       "      <td>2020-10-25</td>\n",
       "      <td>Alameda</td>\n",
       "      <td>1.0</td>\n",
       "      <td>Dublin</td>\n",
       "      <td>320</td>\n",
       "      <td>NaN</td>\n",
       "      <td>-121.935833</td>\n",
       "      <td>37.702222</td>\n",
       "    </tr>\n",
       "    <tr>\n",
       "      <th>4</th>\n",
       "      <td>2020-10-25</td>\n",
       "      <td>Alameda</td>\n",
       "      <td>1.0</td>\n",
       "      <td>Emeryville</td>\n",
       "      <td>102</td>\n",
       "      <td>NaN</td>\n",
       "      <td>-122.285278</td>\n",
       "      <td>37.831389</td>\n",
       "    </tr>\n",
       "  </tbody>\n",
       "</table>\n",
       "</div>"
      ],
      "text/plain": [
       "         date   county  fips       place  confirmed_cases note           x  \\\n",
       "0  2020-10-25  Alameda   1.0     Alameda              456  NaN -122.274444   \n",
       "1  2020-10-25  Alameda   1.0      Albany               63  NaN -122.297778   \n",
       "2  2020-10-25  Alameda   1.0    Berkeley              749  NaN -122.272778   \n",
       "3  2020-10-25  Alameda   1.0      Dublin              320  NaN -121.935833   \n",
       "4  2020-10-25  Alameda   1.0  Emeryville              102  NaN -122.285278   \n",
       "\n",
       "           y  \n",
       "0  37.756111  \n",
       "1  37.886944  \n",
       "2  37.871667  \n",
       "3  37.702222  \n",
       "4  37.831389  "
      ]
     },
     "execution_count": 70,
     "metadata": {},
     "output_type": "execute_result"
    }
   ],
   "source": [
    "df.head()"
   ]
  },
  {
   "cell_type": "code",
   "execution_count": null,
   "metadata": {},
   "outputs": [],
   "source": []
  },
  {
   "cell_type": "code",
   "execution_count": null,
   "metadata": {},
   "outputs": [],
   "source": []
  },
  {
   "cell_type": "code",
   "execution_count": null,
   "metadata": {},
   "outputs": [],
   "source": []
  },
  {
   "cell_type": "code",
   "execution_count": null,
   "metadata": {},
   "outputs": [],
   "source": []
  },
  {
   "cell_type": "code",
   "execution_count": null,
   "metadata": {},
   "outputs": [],
   "source": []
  },
  {
   "cell_type": "code",
   "execution_count": null,
   "metadata": {},
   "outputs": [],
   "source": [
    "#find the point at which these two equations intersect: use sympy\n",
    "\n",
    "x, y, z = symbols('x, y, z')\n",
    "#linsolve([slope*x + y + z - 1, x + y + 2*z - 3 ], (x, y, z))\n",
    "coords = linsolve([y - (slope*x + b), y - (slope_a*x + b_a)], (x, y))\n",
    "\n",
    "x_b = float(coords.args[0][0])\n",
    "y_b = float(coords.args[0][1])\n",
    "\n",
    "print(x_b, y_b)"
   ]
  }
 ],
 "metadata": {
  "kernelspec": {
   "display_name": "Python 3",
   "language": "python",
   "name": "python3"
  },
  "language_info": {
   "codemirror_mode": {
    "name": "ipython",
    "version": 3
   },
   "file_extension": ".py",
   "mimetype": "text/x-python",
   "name": "python",
   "nbconvert_exporter": "python",
   "pygments_lexer": "ipython3",
   "version": "3.8.3"
  }
 },
 "nbformat": 4,
 "nbformat_minor": 4
}
