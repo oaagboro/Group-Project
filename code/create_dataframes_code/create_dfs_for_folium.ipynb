{
 "cells": [
  {
   "cell_type": "markdown",
   "metadata": {},
   "source": [
    "# COVID-19 and Wildfire Folium Data\n",
    "\n",
    "Here, I demonstrate how I created: \n",
    "- covid_for_folium.csv\n",
    "- fire_for_folium.csv\n",
    "- fire_for_folium_contained.csv\n",
    "- fire_for_folium_ongoing.csv"
   ]
  },
  {
   "cell_type": "code",
   "execution_count": 1,
   "metadata": {},
   "outputs": [],
   "source": [
    "import pandas as pd\n",
    "import numpy as np\n",
    "import matplotlib.pyplot as plt"
   ]
  },
  {
   "cell_type": "markdown",
   "metadata": {},
   "source": [
    "# Clean Covid Data"
   ]
  },
  {
   "cell_type": "code",
   "execution_count": 2,
   "metadata": {},
   "outputs": [
    {
     "data": {
      "text/html": [
       "<div>\n",
       "<style scoped>\n",
       "    .dataframe tbody tr th:only-of-type {\n",
       "        vertical-align: middle;\n",
       "    }\n",
       "\n",
       "    .dataframe tbody tr th {\n",
       "        vertical-align: top;\n",
       "    }\n",
       "\n",
       "    .dataframe thead th {\n",
       "        text-align: right;\n",
       "    }\n",
       "</style>\n",
       "<table border=\"1\" class=\"dataframe\">\n",
       "  <thead>\n",
       "    <tr style=\"text-align: right;\">\n",
       "      <th></th>\n",
       "      <th>date</th>\n",
       "      <th>county</th>\n",
       "      <th>fips</th>\n",
       "      <th>place</th>\n",
       "      <th>confirmed_cases</th>\n",
       "      <th>note</th>\n",
       "      <th>x</th>\n",
       "      <th>y</th>\n",
       "      <th>log_cases</th>\n",
       "      <th>category</th>\n",
       "      <th>ordinal_cat</th>\n",
       "    </tr>\n",
       "  </thead>\n",
       "  <tbody>\n",
       "    <tr>\n",
       "      <th>0</th>\n",
       "      <td>2020-10-23</td>\n",
       "      <td>Sonoma</td>\n",
       "      <td>97.0</td>\n",
       "      <td>Bodega</td>\n",
       "      <td>1</td>\n",
       "      <td>10 or fewer</td>\n",
       "      <td>-122.973889</td>\n",
       "      <td>38.345278</td>\n",
       "      <td>0.0</td>\n",
       "      <td>0</td>\n",
       "      <td>0</td>\n",
       "    </tr>\n",
       "  </tbody>\n",
       "</table>\n",
       "</div>"
      ],
      "text/plain": [
       "         date  county  fips   place  confirmed_cases         note           x  \\\n",
       "0  2020-10-23  Sonoma  97.0  Bodega                1  10 or fewer -122.973889   \n",
       "\n",
       "           y  log_cases  category  ordinal_cat  \n",
       "0  38.345278        0.0         0            0  "
      ]
     },
     "execution_count": 2,
     "metadata": {},
     "output_type": "execute_result"
    }
   ],
   "source": [
    "covid_draft = pd.read_csv('./data/clean_covid_data.csv')\n",
    "#only keep relevant columns\n",
    "covid_keep = covid_draft[['x', 'y', 'confirmed_cases', 'county', 'ordinal_cat']]\n",
    "#rename (radius is assuming one person per square meter in folium)\n",
    "covid_keep = covid_keep.rename(columns = {'x': 'longitude', 'y': 'latitude', 'confirmed_cases': 'radius', 'ordinal_cat': 'risk_category'})\n",
    "covid_draft.head(1)"
   ]
  },
  {
   "cell_type": "code",
   "execution_count": 3,
   "metadata": {},
   "outputs": [],
   "source": [
    "covid_keep.to_csv('./data/folium/covid_for_folium.csv', index = False)"
   ]
  },
  {
   "cell_type": "markdown",
   "metadata": {},
   "source": [
    "# Clean Fire Data"
   ]
  },
  {
   "cell_type": "code",
   "execution_count": 4,
   "metadata": {},
   "outputs": [
    {
     "data": {
      "text/html": [
       "<div>\n",
       "<style scoped>\n",
       "    .dataframe tbody tr th:only-of-type {\n",
       "        vertical-align: middle;\n",
       "    }\n",
       "\n",
       "    .dataframe tbody tr th {\n",
       "        vertical-align: top;\n",
       "    }\n",
       "\n",
       "    .dataframe thead th {\n",
       "        text-align: right;\n",
       "    }\n",
       "</style>\n",
       "<table border=\"1\" class=\"dataframe\">\n",
       "  <thead>\n",
       "    <tr style=\"text-align: right;\">\n",
       "      <th></th>\n",
       "      <th>name</th>\n",
       "      <th>x</th>\n",
       "      <th>y</th>\n",
       "      <th>acres_burned</th>\n",
       "      <th>status</th>\n",
       "    </tr>\n",
       "  </thead>\n",
       "  <tbody>\n",
       "    <tr>\n",
       "      <th>0</th>\n",
       "      <td>Far Fire</td>\n",
       "      <td>-121.35014</td>\n",
       "      <td>39.06066</td>\n",
       "      <td>38</td>\n",
       "      <td>contained</td>\n",
       "    </tr>\n",
       "  </tbody>\n",
       "</table>\n",
       "</div>"
      ],
      "text/plain": [
       "       name          x         y  acres_burned     status\n",
       "0  Far Fire -121.35014  39.06066            38  contained"
      ]
     },
     "execution_count": 4,
     "metadata": {},
     "output_type": "execute_result"
    }
   ],
   "source": [
    "fire_draft = pd.read_csv('./data/fire_data_clean_withacres.csv')\n",
    "fire_keep = fire_draft[['name', 'x', 'y', 'acres_burned', 'status']]\n",
    "fire_keep.head(1)"
   ]
  },
  {
   "cell_type": "code",
   "execution_count": 5,
   "metadata": {},
   "outputs": [
    {
     "name": "stderr",
     "output_type": "stream",
     "text": [
      "<ipython-input-5-389722e1ec22>:2: SettingWithCopyWarning: \n",
      "A value is trying to be set on a copy of a slice from a DataFrame.\n",
      "Try using .loc[row_indexer,col_indexer] = value instead\n",
      "\n",
      "See the caveats in the documentation: https://pandas.pydata.org/pandas-docs/stable/user_guide/indexing.html#returning-a-view-versus-a-copy\n",
      "  fire_keep['sq_meters'] = [x * 4046.86 for x in fire_keep['acres_burned'].tolist()]\n"
     ]
    },
    {
     "data": {
      "text/html": [
       "<div>\n",
       "<style scoped>\n",
       "    .dataframe tbody tr th:only-of-type {\n",
       "        vertical-align: middle;\n",
       "    }\n",
       "\n",
       "    .dataframe tbody tr th {\n",
       "        vertical-align: top;\n",
       "    }\n",
       "\n",
       "    .dataframe thead th {\n",
       "        text-align: right;\n",
       "    }\n",
       "</style>\n",
       "<table border=\"1\" class=\"dataframe\">\n",
       "  <thead>\n",
       "    <tr style=\"text-align: right;\">\n",
       "      <th></th>\n",
       "      <th>name_fire</th>\n",
       "      <th>longitude</th>\n",
       "      <th>latitude</th>\n",
       "      <th>radius</th>\n",
       "      <th>status</th>\n",
       "    </tr>\n",
       "  </thead>\n",
       "  <tbody>\n",
       "    <tr>\n",
       "      <th>0</th>\n",
       "      <td>Far Fire</td>\n",
       "      <td>-121.35014</td>\n",
       "      <td>39.06066</td>\n",
       "      <td>221.246267</td>\n",
       "      <td>contained</td>\n",
       "    </tr>\n",
       "  </tbody>\n",
       "</table>\n",
       "</div>"
      ],
      "text/plain": [
       "  name_fire  longitude  latitude      radius     status\n",
       "0  Far Fire -121.35014  39.06066  221.246267  contained"
      ]
     },
     "execution_count": 5,
     "metadata": {},
     "output_type": "execute_result"
    }
   ],
   "source": [
    "#from Google: 1 acre = 4046.86 meters\n",
    "fire_keep['sq_meters'] = [x * 4046.86 for x in fire_keep['acres_burned'].tolist()]\n",
    "#calculate radius from area of square feet\n",
    "fire_keep['radius'] = [np.sqrt(x / np.pi) for x in fire_keep['sq_meters'].tolist()]\n",
    "#only keep relevant columns\n",
    "fire_keep = fire_keep[['name', 'x', 'y', 'radius', 'status']]\n",
    "#rename to follow folium plotting syntax\n",
    "fire_keep = fire_keep.rename(columns = {'name': 'name_fire', 'x': 'longitude', 'y': 'latitude'})\n",
    "fire_keep.head(1)"
   ]
  },
  {
   "cell_type": "code",
   "execution_count": 6,
   "metadata": {},
   "outputs": [],
   "source": [
    "fire_keep.to_csv('./data/folium/fire_for_folium.csv', index = False)"
   ]
  },
  {
   "cell_type": "markdown",
   "metadata": {},
   "source": [
    "# Contained vs Ongoing Fire data"
   ]
  },
  {
   "cell_type": "code",
   "execution_count": 7,
   "metadata": {},
   "outputs": [],
   "source": [
    "fire_contained = fire_keep[fire_keep['status'] == 'contained']\n",
    "fire_ongoing = fire_keep[fire_keep['status'] == 'ongoing']"
   ]
  },
  {
   "cell_type": "code",
   "execution_count": 8,
   "metadata": {},
   "outputs": [],
   "source": [
    "fire_contained.to_csv('./data/folium/fire_for_folium_contained.csv', index = False)\n",
    "fire_ongoing.to_csv('./data/folium/fire_for_folium_ongoing.csv', index = False)"
   ]
  },
  {
   "cell_type": "code",
   "execution_count": null,
   "metadata": {},
   "outputs": [],
   "source": []
  }
 ],
 "metadata": {
  "kernelspec": {
   "display_name": "Python 3",
   "language": "python",
   "name": "python3"
  },
  "language_info": {
   "codemirror_mode": {
    "name": "ipython",
    "version": 3
   },
   "file_extension": ".py",
   "mimetype": "text/x-python",
   "name": "python",
   "nbconvert_exporter": "python",
   "pygments_lexer": "ipython3",
   "version": "3.8.3"
  }
 },
 "nbformat": 4,
 "nbformat_minor": 4
}
